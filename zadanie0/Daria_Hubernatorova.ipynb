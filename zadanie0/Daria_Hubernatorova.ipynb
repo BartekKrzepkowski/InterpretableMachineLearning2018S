{
  "cells": [
    {
      "metadata": {
        "_uuid": "8f2839f25d086af736a60e9eeb907d3b93b6e0e5",
        "_cell_guid": "b1076dfc-b9ad-4769-8c92-a6c4dae69d19",
        "trusted": true
      },
      "cell_type": "code",
      "source": "import numpy as np\nimport pandas as pd\nfrom xgboost import XGBClassifier\nfrom sklearn.model_selection import train_test_split\nfrom sklearn.metrics import accuracy_score\nfrom sklearn.metrics import roc_auc_score\n\nimport os\nprint(os.listdir(\"../input\"))",
      "execution_count": 2,
      "outputs": [
        {
          "output_type": "stream",
          "text": "['train.csv', 'gender_submission.csv', 'test.csv']\n",
          "name": "stdout"
        }
      ]
    },
    {
      "metadata": {
        "_uuid": "6e0324498ee7c66be2ffaa8f1c6c43533b412e04"
      },
      "cell_type": "markdown",
      "source": "# Data"
    },
    {
      "metadata": {
        "_cell_guid": "79c7e3d0-c299-4dcb-8224-4455121ee9b0",
        "_uuid": "d629ff2d2480ee46fbb7e2d37f6b5fab8052498a",
        "trusted": true
      },
      "cell_type": "code",
      "source": "train = pd.read_csv(\"../input/train.csv\")\ntest = pd.read_csv(\"../input/test.csv\")",
      "execution_count": 4,
      "outputs": []
    },
    {
      "metadata": {
        "trusted": true,
        "_uuid": "06bd653e14cfdc80f1f812519f242350ad2d3652"
      },
      "cell_type": "code",
      "source": "train.head()",
      "execution_count": 5,
      "outputs": [
        {
          "output_type": "execute_result",
          "execution_count": 5,
          "data": {
            "text/plain": "   PassengerId  Survived  Pclass    ...        Fare Cabin  Embarked\n0            1         0       3    ...      7.2500   NaN         S\n1            2         1       1    ...     71.2833   C85         C\n2            3         1       3    ...      7.9250   NaN         S\n3            4         1       1    ...     53.1000  C123         S\n4            5         0       3    ...      8.0500   NaN         S\n\n[5 rows x 12 columns]",
            "text/html": "<div>\n<style scoped>\n    .dataframe tbody tr th:only-of-type {\n        vertical-align: middle;\n    }\n\n    .dataframe tbody tr th {\n        vertical-align: top;\n    }\n\n    .dataframe thead th {\n        text-align: right;\n    }\n</style>\n<table border=\"1\" class=\"dataframe\">\n  <thead>\n    <tr style=\"text-align: right;\">\n      <th></th>\n      <th>PassengerId</th>\n      <th>Survived</th>\n      <th>Pclass</th>\n      <th>Name</th>\n      <th>Sex</th>\n      <th>Age</th>\n      <th>SibSp</th>\n      <th>Parch</th>\n      <th>Ticket</th>\n      <th>Fare</th>\n      <th>Cabin</th>\n      <th>Embarked</th>\n    </tr>\n  </thead>\n  <tbody>\n    <tr>\n      <th>0</th>\n      <td>1</td>\n      <td>0</td>\n      <td>3</td>\n      <td>Braund, Mr. Owen Harris</td>\n      <td>male</td>\n      <td>22.0</td>\n      <td>1</td>\n      <td>0</td>\n      <td>A/5 21171</td>\n      <td>7.2500</td>\n      <td>NaN</td>\n      <td>S</td>\n    </tr>\n    <tr>\n      <th>1</th>\n      <td>2</td>\n      <td>1</td>\n      <td>1</td>\n      <td>Cumings, Mrs. John Bradley (Florence Briggs Th...</td>\n      <td>female</td>\n      <td>38.0</td>\n      <td>1</td>\n      <td>0</td>\n      <td>PC 17599</td>\n      <td>71.2833</td>\n      <td>C85</td>\n      <td>C</td>\n    </tr>\n    <tr>\n      <th>2</th>\n      <td>3</td>\n      <td>1</td>\n      <td>3</td>\n      <td>Heikkinen, Miss. Laina</td>\n      <td>female</td>\n      <td>26.0</td>\n      <td>0</td>\n      <td>0</td>\n      <td>STON/O2. 3101282</td>\n      <td>7.9250</td>\n      <td>NaN</td>\n      <td>S</td>\n    </tr>\n    <tr>\n      <th>3</th>\n      <td>4</td>\n      <td>1</td>\n      <td>1</td>\n      <td>Futrelle, Mrs. Jacques Heath (Lily May Peel)</td>\n      <td>female</td>\n      <td>35.0</td>\n      <td>1</td>\n      <td>0</td>\n      <td>113803</td>\n      <td>53.1000</td>\n      <td>C123</td>\n      <td>S</td>\n    </tr>\n    <tr>\n      <th>4</th>\n      <td>5</td>\n      <td>0</td>\n      <td>3</td>\n      <td>Allen, Mr. William Henry</td>\n      <td>male</td>\n      <td>35.0</td>\n      <td>0</td>\n      <td>0</td>\n      <td>373450</td>\n      <td>8.0500</td>\n      <td>NaN</td>\n      <td>S</td>\n    </tr>\n  </tbody>\n</table>\n</div>"
          },
          "metadata": {}
        }
      ]
    },
    {
      "metadata": {
        "trusted": true,
        "_uuid": "fc2506604c60b6228e4fb02274f9dca6da4e321f"
      },
      "cell_type": "code",
      "source": "Y = train['Survived']\nX = train[train.columns.difference(['Name', 'PassengerId', 'Cabin', 'Ticket', 'Survived', 'Embarked'])]\nX = pd.get_dummies(X)\nprint(X.head())",
      "execution_count": 28,
      "outputs": [
        {
          "output_type": "stream",
          "text": "    Age     Fare  Parch  Pclass  SibSp  Sex_female  Sex_male\n0  22.0   7.2500      0       3      1           0         1\n1  38.0  71.2833      0       1      1           1         0\n2  26.0   7.9250      0       3      0           1         0\n3  35.0  53.1000      0       1      1           1         0\n4  35.0   8.0500      0       3      0           0         1\n",
          "name": "stdout"
        }
      ]
    },
    {
      "metadata": {
        "_uuid": "9738ddc6e3956d0de621eef2f251e03c461d8a67"
      },
      "cell_type": "markdown",
      "source": "# Training"
    },
    {
      "metadata": {
        "_uuid": "9e3b05abbaa3dff19fd6ca75f4a7cf687d1c689c"
      },
      "cell_type": "markdown",
      "source": "Train on part of dataset to see accuracy"
    },
    {
      "metadata": {
        "trusted": true,
        "_uuid": "e364c19ac079d22290cf6a7e696ff7f7da8c89ab"
      },
      "cell_type": "code",
      "source": "X_train, X_test, y_train, y_test = train_test_split(X, Y, test_size=0.33, random_state=42)\nxgb = XGBClassifier()\nxgb.fit(X_train, y_train)\ny_pre = xgb.predict(X_test)\ny_pro = xgb.predict_proba(X_test)[:, 1]\nprint(roc_auc_score(y_test, y_pro))\nprint(accuracy_score(y_test, y_pre))",
      "execution_count": 29,
      "outputs": [
        {
          "output_type": "stream",
          "text": "0.8834285714285715\n0.8169491525423729\n",
          "name": "stdout"
        }
      ]
    },
    {
      "metadata": {
        "_uuid": "d5d04f0ae2ef493f74b44ac5103a958162c5bcf6"
      },
      "cell_type": "markdown",
      "source": "Train on whole train dataset"
    },
    {
      "metadata": {
        "trusted": true,
        "scrolled": true,
        "_uuid": "d14acceb5161b0c7a8533b124b9a4b73cac85ce0"
      },
      "cell_type": "code",
      "source": "xgb.fit(X, Y)",
      "execution_count": 30,
      "outputs": [
        {
          "output_type": "execute_result",
          "execution_count": 30,
          "data": {
            "text/plain": "XGBClassifier(base_score=0.5, booster='gbtree', colsample_bylevel=1,\n       colsample_bytree=1, gamma=0, learning_rate=0.1, max_delta_step=0,\n       max_depth=3, min_child_weight=1, missing=None, n_estimators=100,\n       n_jobs=1, nthread=None, objective='binary:logistic', random_state=0,\n       reg_alpha=0, reg_lambda=1, scale_pos_weight=1, seed=None,\n       silent=True, subsample=1)"
          },
          "metadata": {}
        }
      ]
    },
    {
      "metadata": {
        "_uuid": "c58896a7053a5155af32273f654ebd62fe19c471"
      },
      "cell_type": "markdown",
      "source": "# Prediction"
    },
    {
      "metadata": {
        "trusted": true,
        "scrolled": true,
        "_uuid": "b82b85b3a1da08e5c796a3d074a09d66d81b538b"
      },
      "cell_type": "code",
      "source": "data = [[2, 10, 1, 3, 3, 0, 1]]\ndf = pd.DataFrame(data, columns = ['Age', 'Fare', 'Parch', 'Pclass', 'SibSp', 'Sex_female', 'Sex_male'])\nxgb.predict_proba(df)[:, 1]",
      "execution_count": 31,
      "outputs": [
        {
          "output_type": "execute_result",
          "execution_count": 31,
          "data": {
            "text/plain": "array([0.07562129], dtype=float32)"
          },
          "metadata": {}
        }
      ]
    }
  ],
  "metadata": {
    "kernelspec": {
      "display_name": "Python 3",
      "language": "python",
      "name": "python3"
    },
    "language_info": {
      "name": "python",
      "version": "3.6.6",
      "mimetype": "text/x-python",
      "codemirror_mode": {
        "name": "ipython",
        "version": 3
      },
      "pygments_lexer": "ipython3",
      "nbconvert_exporter": "python",
      "file_extension": ".py"
    }
  },
  "nbformat": 4,
  "nbformat_minor": 1
}