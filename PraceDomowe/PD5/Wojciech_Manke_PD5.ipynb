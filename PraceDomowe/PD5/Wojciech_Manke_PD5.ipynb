{
 "cells": [
  {
   "cell_type": "code",
   "execution_count": 1,
   "metadata": {
    "collapsed": false,
    "deletable": true,
    "editable": true
   },
   "outputs": [],
   "source": [
    "import pandas as pd\n",
    "import numpy as np\n",
    "import matplotlib.pyplot as plt\n",
    "from xgboost import XGBClassifier\n",
    "from sklearn.svm import SVC\n",
    "from sklearn.model_selection import train_test_split\n",
    "from sklearn.metrics import accuracy_score\n",
    "np.warnings.filterwarnings('ignore')"
   ]
  },
  {
   "cell_type": "markdown",
   "metadata": {
    "deletable": true,
    "editable": true
   },
   "source": [
    "## Wczytywanie i inspekcja danych danych"
   ]
  },
  {
   "cell_type": "code",
   "execution_count": 2,
   "metadata": {
    "collapsed": true,
    "deletable": true,
    "editable": true
   },
   "outputs": [],
   "source": [
    "data = pd.read_stata('HCMST 2017 fresh sample for public sharing draft v1.1.dta')"
   ]
  },
  {
   "cell_type": "markdown",
   "metadata": {
    "deletable": true,
    "editable": true
   },
   "source": [
    "### Wybrane cechy\n",
    "\n",
    "#### Ilościowe:\n",
    "* w6_q21c_year - w którym roku po raz pierwszy zamieszkali ze sobą\n",
    "* year_fraction_met - rok poznania z uwzględnieniem miesiąca jako ułamka\n",
    "\n",
    "### Jakościowe:\n",
    "* hcm2017q24_btwn_I_neighbor - czy są sąsiadami\n",
    "* w6_otherdate_all - czy w zeszłym roku poznał(a) kogoś poza partnerem"
   ]
  },
  {
   "cell_type": "code",
   "execution_count": 3,
   "metadata": {
    "collapsed": true,
    "deletable": true,
    "editable": true
   },
   "outputs": [],
   "source": [
    "cat_features = ['hcm2017q24_btwn_I_neighbor', 'w6_otherdate_all']\n",
    "cont_features = ['w6_q21c_year', 'year_fraction_met']\n",
    "label = 'S1'"
   ]
  },
  {
   "cell_type": "markdown",
   "metadata": {
    "deletable": true,
    "editable": true
   },
   "source": [
    "## Transformowanie danych"
   ]
  },
  {
   "cell_type": "markdown",
   "metadata": {
    "deletable": true,
    "editable": true
   },
   "source": [
    "Podstawowe transformowanie danych:\n",
    "* zamiana wektora y na wektor 0/1 (0 - małżeństwo, 1 - brak małżeństwa)\n",
    "* zamiana cech kategorycznych na one hot encoding\n",
    "* usunięcie niedozwolonych przez XGBooost znaków z nazw cech\n",
    "\n",
    "Sprawdzamy też, czy po usunięciu NaN nie zostało za mało danych."
   ]
  },
  {
   "cell_type": "code",
   "execution_count": 4,
   "metadata": {
    "collapsed": false,
    "deletable": true,
    "editable": true
   },
   "outputs": [
    {
     "name": "stdout",
     "output_type": "stream",
     "text": [
      "Data left: 2566\n"
     ]
    }
   ],
   "source": [
    "data = data[cat_features+cont_features+[label]].dropna()\n",
    "print(\"Data left: \" + str(len(data)))\n",
    "X = data[cat_features+cont_features].copy()\n",
    "y = data[label].cat.codes"
   ]
  },
  {
   "cell_type": "code",
   "execution_count": 5,
   "metadata": {
    "collapsed": false,
    "deletable": true,
    "editable": true
   },
   "outputs": [],
   "source": [
    "# Convert continuous features to numerics\n",
    "for cont_feature in cont_features:\n",
    "    X[cont_feature] = pd.to_numeric(X[cont_feature])\n",
    "\n",
    "def convert_to_dummies(X):\n",
    "    with_dummies = pd.get_dummies(X)\n",
    "    for character in ['[', ']', '<']:\n",
    "        with_dummies.columns = with_dummies.columns.str.replace(character, '')\n",
    "    with_dummies = with_dummies[sorted(with_dummies.columns.to_list())]\n",
    "    return with_dummies\n",
    "\n",
    "with_dummies = convert_to_dummies(X)"
   ]
  },
  {
   "cell_type": "markdown",
   "metadata": {
    "deletable": true,
    "editable": true
   },
   "source": [
    "## Trening\n",
    "\n",
    "Do treningu używam klasyfikatora XGB z domyślnymi parametrami."
   ]
  },
  {
   "cell_type": "code",
   "execution_count": 6,
   "metadata": {
    "collapsed": false,
    "deletable": true,
    "editable": true
   },
   "outputs": [
    {
     "data": {
      "text/plain": [
       "XGBClassifier(base_score=0.5, booster='gbtree', colsample_bylevel=1,\n",
       "       colsample_bytree=1, gamma=0, learning_rate=0.1, max_delta_step=0,\n",
       "       max_depth=3, min_child_weight=1, missing=None, n_estimators=100,\n",
       "       n_jobs=1, nthread=None, objective='binary:logistic', random_state=0,\n",
       "       reg_alpha=0, reg_lambda=1, scale_pos_weight=1, seed=None,\n",
       "       silent=True, subsample=1)"
      ]
     },
     "execution_count": 6,
     "metadata": {},
     "output_type": "execute_result"
    }
   ],
   "source": [
    "# XGBoost model\n",
    "xgb_model = XGBClassifier()\n",
    "xgb_model.fit(with_dummies, y)"
   ]
  },
  {
   "cell_type": "code",
   "execution_count": 7,
   "metadata": {
    "collapsed": false,
    "deletable": true,
    "editable": true
   },
   "outputs": [
    {
     "data": {
      "text/plain": [
       "SVC(C=1.0, cache_size=200, class_weight=None, coef0=0.0,\n",
       "  decision_function_shape='ovr', degree=3, gamma='auto', kernel='rbf',\n",
       "  max_iter=-1, probability=True, random_state=None, shrinking=True,\n",
       "  tol=0.001, verbose=False)"
      ]
     },
     "execution_count": 7,
     "metadata": {},
     "output_type": "execute_result"
    }
   ],
   "source": [
    "# SVM model\n",
    "svm_model = SVC(probability = True)\n",
    "svm_model.fit(with_dummies, y)"
   ]
  },
  {
   "cell_type": "code",
   "execution_count": 8,
   "metadata": {
    "collapsed": false,
    "deletable": true,
    "editable": true
   },
   "outputs": [
    {
     "name": "stdout",
     "output_type": "stream",
     "text": [
      "Loss of XGB model: 0.18628215120810598\n",
      "Loss of SVM model: 0.19134840218238502\n"
     ]
    }
   ],
   "source": [
    "xgb_loss = 1.0-accuracy_score(xgb_model.predict(with_dummies), y)\n",
    "svm_loss = 1.0-accuracy_score(svm_model.predict(with_dummies), y)\n",
    "\n",
    "print(\"Loss of XGB model: \"+str(xgb_loss))\n",
    "print(\"Loss of SVM model: \"+str(svm_loss))"
   ]
  },
  {
   "cell_type": "markdown",
   "metadata": {
    "deletable": true,
    "editable": true
   },
   "source": [
    "## Ważność zmiennej"
   ]
  },
  {
   "cell_type": "code",
   "execution_count": 9,
   "metadata": {
    "collapsed": true,
    "deletable": true,
    "editable": true
   },
   "outputs": [],
   "source": [
    "def feature_loss(model, X, y, feature_name):\n",
    "    X[feature_name] = np.random.permutation(X[feature_name])\n",
    "    with_dummies = convert_to_dummies(X)\n",
    "    return 1.0-model.score(with_dummies, y)\n",
    "\n",
    "def get_feature_importance(model, X, y):\n",
    "    feature_importance = []\n",
    "\n",
    "    for feature_name in X.columns:\n",
    "        feature_importance.append((feature_loss(model, X.copy(), y, feature_name), feature_name))\n",
    "  \n",
    "    feature_importance.sort()\n",
    "    return feature_importance"
   ]
  },
  {
   "cell_type": "code",
   "execution_count": 26,
   "metadata": {
    "collapsed": false,
    "deletable": true,
    "editable": true
   },
   "outputs": [
    {
     "data": {
      "image/png": "[encoded data removed]",
      "text/plain": [
       "<Figure size 432x288 with 1 Axes>"
      ]
     },
     "metadata": {
      "needs_background": "light"
     },
     "output_type": "display_data"
    }
   ],
   "source": [
    "feature_importance_xgb = get_feature_importance(xgb_model, X.copy(), y)\n",
    "feature_importance_svm = get_feature_importance(svm_model, X.copy(), y)\n",
    "plt.barh([x[1]+\"_xgb\" for x in feature_importance_xgb], [x[0] for x in feature_importance_xgb], label=\"XGBoost\")\n",
    "plt.barh([x[1]+\"_svm\" for x in feature_importance_svm], [x[0] for x in feature_importance_svm], label=\"SVM\")\n",
    "plt.title(\"Feature importance\")\n",
    "plt.legend()\n",
    "plt.xlim(left=min(xgb_loss, svm_loss))\n",
    "plt.show()"
   ]
  },
  {
   "cell_type": "markdown",
   "metadata": {
    "deletable": true,
    "editable": true
   },
   "source": [
    "W modelu XGBoost cecha year_fraction_met jest wyraźnie istotniejsza niż w modelu SVM.\n",
    "\n",
    "Pozostałe cechy wykazują podobne zachowania w obu modelach."
   ]
  },
  {
   "cell_type": "markdown",
   "metadata": {
    "deletable": true,
    "editable": true
   },
   "source": [
    "### Wykres PDP dla cechy year_fraction_met"
   ]
  },
  {
   "cell_type": "code",
   "execution_count": 17,
   "metadata": {
    "collapsed": true,
    "deletable": true,
    "editable": true
   },
   "outputs": [],
   "source": [
    "N_POINTS = 100\n",
    "def get_pd_plot(model, X, feature_name, model_name):\n",
    "    xs = np.linspace(X[feature_name].min(), X[feature_name].max(), N_POINTS)\n",
    "    ys = []\n",
    "    for x in xs:\n",
    "        X[feature_name] = x\n",
    "        ys.append(model.predict_proba(X)[:, 0].mean())\n",
    "        \n",
    "    return (xs, ys)"
   ]
  },
  {
   "cell_type": "code",
   "execution_count": 18,
   "metadata": {
    "collapsed": false,
    "deletable": true,
    "editable": true
   },
   "outputs": [],
   "source": [
    "plot_xgb = get_pd_plot(xgb_model, with_dummies.copy(), 'year_fraction_met', 'XGBoost')\n",
    "plot_svm = get_pd_plot(svm_model, with_dummies.copy(), 'year_fraction_met', 'SVM')"
   ]
  },
  {
   "cell_type": "code",
   "execution_count": 24,
   "metadata": {
    "collapsed": false,
    "deletable": true,
    "editable": true
   },
   "outputs": [
    {
     "data": {
      "image/png": "[encoded data removed]",
      "text/plain": [
       "<Figure size 432x288 with 1 Axes>"
      ]
     },
     "metadata": {
      "needs_background": "light"
     },
     "output_type": "display_data"
    }
   ],
   "source": [
    "plt.plot(plot_xgb[0], plot_xgb[1], label=\"XGB\")\n",
    "plt.plot(plot_svm[0], plot_svm[1], label=\"SVM\")\n",
    "plt.legend()\n",
    "plt.title(\"Wykresy PDP dla modeli XGB i SVM\")\n",
    "plt.show()"
   ]
  },
  {
   "cell_type": "markdown",
   "metadata": {
    "deletable": true,
    "editable": true
   },
   "source": [
    "Krzywa wygenerowana dla SVM jest bardziej gładka niż ta wygenerowana dla XGBoosta. Wynika to najprawdopodobnij z faktu, że XGB jest modelem opartym na drzewach, a SVM jako domyślnego kernela używa RBF, które z natury są bardziej gładkie. <br />\n",
    "Dla krzywej XGBoosta widać ostry spadek dla lat < 1950. Wynika on z małej liczby przykładów (w tym przypadku SVM lepiej sobie z tym poradził):"
   ]
  },
  {
   "cell_type": "code",
   "execution_count": 16,
   "metadata": {
    "collapsed": false,
    "deletable": true,
    "editable": true
   },
   "outputs": [
    {
     "name": "stdout",
     "output_type": "stream",
     "text": [
      "Liczba par z year_fraction_met < 1950: 9\n"
     ]
    }
   ],
   "source": [
    "print(\"Liczba par z year_fraction_met < 1950: \" + str(len(X[X['year_fraction_met'] < 1950])))"
   ]
  },
  {
   "cell_type": "markdown",
   "metadata": {
    "deletable": true,
    "editable": true
   },
   "source": [
    "Dodatkowo widać na wykresie SVM nagły spadek pomiędzy latami 1980-1990. Spadek ten jest jednak % niewielki. <br /> <br />\n",
    "Z wykresów można wnioskować, że model XGB przywiązuje dużo większą wagę do tej cechy niż model SVM."
   ]
  }
 ],
 "metadata": {
  "kernelspec": {
   "display_name": "projectname",
   "language": "python",
   "name": "projectname"
  },
  "language_info": {
   "codemirror_mode": {
    "name": "ipython",
    "version": 3
   },
   "file_extension": ".py",
   "mimetype": "text/x-python",
   "name": "python",
   "nbconvert_exporter": "python",
   "pygments_lexer": "ipython3",
   "version": "3.5.2"
  }
 },
 "nbformat": 4,
 "nbformat_minor": 2
}
