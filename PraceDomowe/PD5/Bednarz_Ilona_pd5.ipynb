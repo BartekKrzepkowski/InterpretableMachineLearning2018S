{
 "cells": [
  {
   "cell_type": "markdown",
   "metadata": {},
   "source": [
    "# Praca domowa 5\n",
    "#### Ilona Bednarz"
   ]
  },
  {
   "cell_type": "markdown",
   "metadata": {},
   "source": [
    "## Odtworzenie modelu z PD1\n",
    "\n",
    "### Zmienna objaśniana:\n",
    "S1 - Are you married?\n",
    "\n",
    "### Wybrane zmienne objaśniające:\n",
    "\n",
    "#### numeryczne:\n",
    "\n",
    "* Q16: How many of your relatives do you see in person at least once a month?  - numeryczna\n",
    "\n",
    "* pphhsize: Household Size\n",
    "\n",
    "#### binarne:\n",
    "\n",
    "* hcm2017q24_church: met in or through church or religious organization\n",
    "\n",
    "* w6_otherdate_all: In past yr have you met anyone for dating romance or sex (not incl current partner)\n",
    "\n",
    "### Zbudowany model:\n",
    "RandomForest"
   ]
  },
  {
   "cell_type": "code",
   "execution_count": 2,
   "metadata": {},
   "outputs": [
    {
     "data": {
      "text/plain": [
       "RandomForestClassifier(bootstrap=True, class_weight=None, criterion='gini',\n",
       "            max_depth=4, max_features='auto', max_leaf_nodes=None,\n",
       "            min_impurity_decrease=0.0, min_impurity_split=None,\n",
       "            min_samples_leaf=1, min_samples_split=2,\n",
       "            min_weight_fraction_leaf=0.0, n_estimators=600, n_jobs=-1,\n",
       "            oob_score=False, random_state=123, verbose=0, warm_start=False)"
      ]
     },
     "execution_count": 2,
     "metadata": {},
     "output_type": "execute_result"
    }
   ],
   "source": [
    "import pandas as pd\n",
    "import numpy as np\n",
    "\n",
    "import matplotlib.pyplot as plt\n",
    "import matplotlib\n",
    "import seaborn as sns\n",
    "import waterfall_chart\n",
    "\n",
    "from IPython.display import display\n",
    "import warnings\n",
    "\n",
    "from sklearn.ensemble import RandomForestClassifier\n",
    "from sklearn import svm\n",
    "from sklearn.model_selection import cross_val_score\n",
    "from sklearn.metrics import roc_curve, auc\n",
    "\n",
    "warnings.filterwarnings('ignore')\n",
    "pd.options.display.max_columns = 300\n",
    "pd.options.display.max_rows = 400\n",
    "\n",
    "df = pd.read_stata('dane/HCMST_2017.dta')\n",
    "\n",
    "# wybor zmiennych\n",
    "X = df[['Q16', 'pphhsize', 'hcm2017q24_church', 'w6_otherdate_all']].copy()\n",
    "y = df['S1'].copy()\n",
    "\n",
    "# przygotowanie danych\n",
    "X['w6_otherdate_all'] = X['w6_otherdate_all'].replace('Refused', np.nan)\n",
    "y = y[np.sum(X.isna(), axis=1) == 0]\n",
    "X = X.dropna(axis=0).reset_index(drop=True)\n",
    "bin_columns = [\"hcm2017q24_church\", \"w6_otherdate_all\"]\n",
    "dummies = pd.get_dummies(X[bin_columns]).iloc[:, [1, 4]]\n",
    "dummies.columns = bin_columns\n",
    "X[bin_columns] = dummies\n",
    "y = pd.get_dummies(y).iloc[:, 0].reset_index(drop=True) # 1 == married\n",
    "\n",
    "# dopasowanie modelu\n",
    "rf = RandomForestClassifier(n_jobs=-1, n_estimators=600, random_state=123, max_depth=4)\n",
    "rf.fit(X, y)"
   ]
  },
  {
   "cell_type": "markdown",
   "metadata": {},
   "source": [
    "#### Utworzenie drugiego modelu o innej strukturze - model SVM"
   ]
  },
  {
   "cell_type": "code",
   "execution_count": 3,
   "metadata": {
    "scrolled": true
   },
   "outputs": [
    {
     "data": {
      "text/plain": [
       "SVC(C=2000, cache_size=200, class_weight=None, coef0=0.0,\n",
       "  decision_function_shape='ovr', degree=3, gamma=0.001, kernel='rbf',\n",
       "  max_iter=-1, probability=True, random_state=None, shrinking=True,\n",
       "  tol=0.001, verbose=False)"
      ]
     },
     "execution_count": 3,
     "metadata": {},
     "output_type": "execute_result"
    }
   ],
   "source": [
    "svm_mod = svm.SVC(kernel='rbf', gamma=0.001, C=2000, probability = True)\n",
    "svm_mod.fit(X, y)"
   ]
  },
  {
   "cell_type": "markdown",
   "metadata": {},
   "source": [
    "#### Porównanie jakości predykcji obu modeli"
   ]
  },
  {
   "cell_type": "code",
   "execution_count": 4,
   "metadata": {},
   "outputs": [
    {
     "name": "stdout",
     "output_type": "stream",
     "text": [
      "Random forest score AUC:  0.7002180146564475\n",
      "SVM score AUC:  0.6808955055802071\n"
     ]
    }
   ],
   "source": [
    "print('Random forest score AUC: ', np.mean(cross_val_score(rf, X, y, cv=10, scoring='roc_auc', n_jobs=-1)))\n",
    "print('SVM score AUC: ', np.mean(cross_val_score(svm_mod, X, y, cv=10, scoring='roc_auc', n_jobs=-1)))"
   ]
  },
  {
   "cell_type": "markdown",
   "metadata": {},
   "source": [
    "Modele mają zbliżone AUC pomimo różnej struktury."
   ]
  },
  {
   "cell_type": "markdown",
   "metadata": {},
   "source": [
    "#### Istotność zmiennych w modelach"
   ]
  },
  {
   "cell_type": "code",
   "execution_count": 6,
   "metadata": {
    "collapsed": true
   },
   "outputs": [],
   "source": [
    "def calc_auc(model, X, y):\n",
    "    preds = model.predict_proba(X)[:,1]\n",
    "    fpr, tpr, threshold = roc_curve(y, preds)\n",
    "    return auc(fpr, tpr)\n",
    "\n",
    "def feature_importances(model, X, y):\n",
    "    features = X.columns.tolist()\n",
    "    importances = dict.fromkeys(features)\n",
    "    L = calc_auc(model, X, y)\n",
    "    for feature in features:\n",
    "        X_perm = X.copy()\n",
    "        X_perm[feature] = np.random.permutation(X[feature].values)\n",
    "        L_perm = calc_auc(model, X_perm, y)\n",
    "        importances[feature] = (L-L_perm)/L\n",
    "    return importances"
   ]
  },
  {
   "cell_type": "markdown",
   "metadata": {},
   "source": [
    "Wartość oznaczająca istotność zmiennej została obliczona wg wzoru: (L-L_perm)/L, gdzie L oznacza AUC modelu na danych treningowych, natomiast L_perm oznacza AUC modelu po przepermutowaniu wybraej zmiennej."
   ]
  },
  {
   "cell_type": "code",
   "execution_count": 9,
   "metadata": {},
   "outputs": [
    {
     "name": "stdout",
     "output_type": "stream",
     "text": [
      "Istotność zmiennych Random Forest:  {'hcm2017q24_church': 0.02153166823011468, 'pphhsize': 0.1450115109634452, 'Q16': 0.05850830246925134, 'w6_otherdate_all': 0.06592689417014565}\n",
      "Istotność zmiennych SVM:  {'hcm2017q24_church': 0.015717785966469073, 'pphhsize': 0.10447687766480805, 'Q16': 0.034866301391005765, 'w6_otherdate_all': 0.08353799702891986}\n"
     ]
    }
   ],
   "source": [
    "imp_rf = feature_importances(rf, X, y)\n",
    "imp_svm = feature_importances(svm_mod, X, y)\n",
    "print('Istotność zmiennych Random Forest: ', imp_rf)\n",
    "print('Istotność zmiennych SVM: ', imp_svm)"
   ]
  },
  {
   "cell_type": "code",
   "execution_count": 13,
   "metadata": {},
   "outputs": [
    {
     "data": {
      "image/png": "[encoded data removed]",
      "text/plain": [
       "<Figure size 432x288 with 1 Axes>"
      ]
     },
     "metadata": {},
     "output_type": "display_data"
    }
   ],
   "source": [
    "# ilustracja wyników\n",
    "x = np.arange(len(imp_rf))\n",
    "ax = plt.subplot(111)\n",
    "ax.bar(x, imp_rf.values(), width=0.2, color='b', align='center')\n",
    "ax.bar(x-0.2, imp_svm.values(), width=0.2, color='g', align='center')\n",
    "ax.legend(('Random Forest','SVM'))\n",
    "plt.xticks(x, imp_rf.keys())\n",
    "plt.title(\"Istotność zmiennych\", fontsize=17)\n",
    "plt.show()"
   ]
  },
  {
   "cell_type": "markdown",
   "metadata": {
    "collapsed": true
   },
   "source": [
    "### Interpretacja wykresu\n",
    "Kolejność zmiennych pod względem istotności jest taka sama w obydwu modelach. Różnią się jednak wartości tej istotności. W obu modelach największy wpływ na bycie w związku małżeńskim ma zmienna pphhsize oznaczająca wielkość gospodarstwa domowego, lecz wartość wskaźnika istotności jest znacznie wyższa dla modelu Random Forest.\n",
    "\n",
    "Nie dziwi nas istotność tej zmiennej, gdyż wiemy, że osoby żyjące w małżeństwie prawie zawsze mieszkają razem, natomiast osoby samotne często mieszkają same."
   ]
  },
  {
   "cell_type": "markdown",
   "metadata": {},
   "source": [
    "### Wykresy PDP"
   ]
  },
  {
   "cell_type": "code",
   "execution_count": 32,
   "metadata": {
    "collapsed": true
   },
   "outputs": [],
   "source": [
    "def pdp_plot_data(var, X, mod):\n",
    "    values = np.arange(min(X[var]),max(X[var])+1)\n",
    "    cps = []\n",
    "    for obs in range(X.shape[0]):\n",
    "        print(obs, '/', X.shape[0])\n",
    "        row = X.iloc[obs,:].copy()\n",
    "        cp = []\n",
    "        for z in values:\n",
    "            row[var] = z\n",
    "            cp.append(mod.predict_proba([row])[0][1])\n",
    "        cps.append(cp)\n",
    "    cps_mean = np.mean(cps, axis=0)\n",
    "    return values, cps_mean\n",
    "\n",
    "def pdp_plot(values, cps_mean, var, mod_name):\n",
    "    sns.lineplot(x=values, y=cps_mean)\n",
    "    plt.xlabel(var)\n",
    "    plt.ylabel('Predicted probability')\n",
    "    plt.title('Partial Dependence Plot for ' + mod_name)\n",
    "    plt.show()"
   ]
  },
  {
   "cell_type": "code",
   "execution_count": 39,
   "metadata": {
    "scrolled": true
   },
   "outputs": [
    {
     "data": {
      "image/png": "[encoded data removed]",
      "text/plain": [
       "<Figure size 432x288 with 1 Axes>"
      ]
     },
     "metadata": {},
     "output_type": "display_data"
    }
   ],
   "source": [
    "values, cps_mean = pdp_plot_data('pphhsize', X, svm_mod)\n",
    "pdp_plot(values, cps_mean, 'pphhsize', 'SVM')"
   ]
  },
  {
   "cell_type": "code",
   "execution_count": 43,
   "metadata": {},
   "outputs": [
    {
     "data": {
      "image/png": "[encoded data removed]",
      "text/plain": [
       "<Figure size 432x288 with 1 Axes>"
      ]
     },
     "metadata": {},
     "output_type": "display_data"
    }
   ],
   "source": [
    "values, cps_mean = pdp_plot_data('pphhsize', X, rf)\n",
    "pdp_plot(values, cps_mean, 'pphhsize', 'Random Forest')"
   ]
  },
  {
   "cell_type": "markdown",
   "metadata": {},
   "source": [
    "### Wnioski\n",
    "\n",
    "Zmienna wybrana do narysowania profili: pphhsize.\n",
    "\n",
    "Widzimy, że dla wartości pphhsize=1, która oznacza, że osoba mieszka sama, na wykresie PDP prawdopodobieństwo posiadania małżonka jest znacznie niższe niż dla pozostałych wartości. Taka sytuacja ma miejsce zarówno w modelu SVM jak i Random Forest. Różnica jednak polega na tym, że dla modelu Random Forest obserwujemy gwałtowny skok pomiędzy 1 i 2, natomiast dla SVM przejście jest płynne. Wynika to oczywiście ze specyfiki modelu - SVM z jądrem radialnym (które zostało tu użyte) znajduje gładką powierzchnię rozdzielającą kategorie, zatem nie może nastąpić gwałtowny skok pomiędzy wartościami zmiennej ciągłej. Natomiast dla modeli opartych na drzewach typowe są zależości schodkowe.\n",
    "\n",
    "Można zauważyć też, że w przypadku SVM prawdopodobieństwo bycia w małżeństwie znacznie spada w okolicach wartości 8, co nie ma miejsca dla lasu losowego. Prawdopodobnie jest to efekt uboczny użycia w SVM jądra radialnego."
   ]
  }
 ],
 "metadata": {
  "kernelspec": {
   "display_name": "Python 3",
   "language": "python",
   "name": "python3"
  },
  "language_info": {
   "codemirror_mode": {
    "name": "ipython",
    "version": 3
   },
   "file_extension": ".py",
   "mimetype": "text/x-python",
   "name": "python",
   "nbconvert_exporter": "python",
   "pygments_lexer": "ipython3",
   "version": "3.5.2"
  }
 },
 "nbformat": 4,
 "nbformat_minor": 2
}
