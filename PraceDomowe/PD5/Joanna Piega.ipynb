{
 "cells": [
  {
   "cell_type": "markdown",
   "metadata": {},
   "source": [
    "## Joanna Piega \n",
    "# Praca domowa 5\n"
   ]
  },
  {
   "cell_type": "markdown",
   "metadata": {},
   "source": [
    "# Budowa modeli"
   ]
  },
  {
   "cell_type": "code",
   "execution_count": 2,
   "metadata": {},
   "outputs": [],
   "source": [
    "import pandas as pd\n",
    "import numpy as np\n",
    "import matplotlib.pyplot as plt\n",
    "import os\n",
    "import matplotlib\n",
    "matplotlib.style.use('ggplot')\n",
    "data = pd.read_stata(\"data.dta\")"
   ]
  },
  {
   "cell_type": "markdown",
   "metadata": {},
   "source": [
    "Zmienne, na podstawie których zostaną zbudowane modele to:\n",
    "    * q26 - odpowiada za informację czy partnerzy byli studentami jednej uczelni\n",
    "    * ppeducat - odpowiada za poziom wykształcenia\n",
    "    * q24_met_online - czy partnerzy poznali się online\n",
    "    * how_long_relationship - jak długo trwa związek\n",
    "    * age_difference - jaka jest różnica wieku między partnerami"
   ]
  },
  {
   "cell_type": "markdown",
   "metadata": {},
   "source": [
    "## Przekształcenie danych na dane numeryczne"
   ]
  },
  {
   "cell_type": "code",
   "execution_count": 3,
   "metadata": {},
   "outputs": [],
   "source": [
    "data = data[[\"s1\",\"age_difference\",\"q26\",\"ppeducat\",\"q24_met_online\",\"how_long_relationship\"]]\n",
    "data = data[data.isnull().sum(axis = 1) == 0]\n",
    "data.q24_met_online = pd.Categorical(data.q24_met_online).codes\n",
    "data.ppeducat = pd.Categorical(data.ppeducat).codes\n",
    "data.q26 = pd.Categorical(data.q26).codes\n",
    "data.s1 = pd.Categorical(data.s1).codes\n",
    "#data.q16 = pd.Categorical(data.q16).codes"
   ]
  },
  {
   "cell_type": "markdown",
   "metadata": {},
   "source": [
    "## Podział danych na zbiór treningowy i testowy"
   ]
  },
  {
   "cell_type": "code",
   "execution_count": 4,
   "metadata": {},
   "outputs": [],
   "source": [
    "from sklearn.model_selection import train_test_split\n",
    "X_train, X_test, Y_train, Y_test = train_test_split(data.iloc[:,1:6],data.s1, test_size = 0.10, random_state = 0)"
   ]
  },
  {
   "cell_type": "markdown",
   "metadata": {},
   "source": [
    "# Modele"
   ]
  },
  {
   "cell_type": "markdown",
   "metadata": {},
   "source": [
    "Stworzę dwa modele oparte na tych samych zmiennych - model XGBoost oraz model logistyczny."
   ]
  },
  {
   "cell_type": "markdown",
   "metadata": {},
   "source": [
    "## Stworzenie modelu predykcyjnego - XGBoost"
   ]
  },
  {
   "cell_type": "code",
   "execution_count": 5,
   "metadata": {},
   "outputs": [],
   "source": [
    "from xgboost import XGBClassifier\n",
    "model_XGB = XGBClassifier(max_depth=10)\n",
    "model_XGB.fit(X_train,Y_train)\n",
    "y_pred_XGB = model_XGB.predict(X_test)"
   ]
  },
  {
   "cell_type": "markdown",
   "metadata": {},
   "source": [
    "## Stworzenie modelu predykcyjnego - model logistyczny"
   ]
  },
  {
   "cell_type": "code",
   "execution_count": 6,
   "metadata": {},
   "outputs": [],
   "source": [
    "from sklearn.linear_model import LogisticRegression\n",
    "model_lin = LogisticRegression(random_state=0, solver='lbfgs', multi_class='multinomial')\n",
    "model_lin.fit(X_train,Y_train)\n",
    "y_pred_lin = model_lin.predict(X_test)"
   ]
  },
  {
   "cell_type": "markdown",
   "metadata": {},
   "source": [
    "## Ocena jakości zbudowanych modeli"
   ]
  },
  {
   "cell_type": "markdown",
   "metadata": {},
   "source": [
    "Accuracy w modelu XGB"
   ]
  },
  {
   "cell_type": "code",
   "execution_count": 7,
   "metadata": {},
   "outputs": [
    {
     "data": {
      "text/plain": [
       "72.0"
      ]
     },
     "execution_count": 7,
     "metadata": {},
     "output_type": "execute_result"
    }
   ],
   "source": [
    "from sklearn.metrics import accuracy_score\n",
    "round(accuracy_score(Y_test, [round(i) for i in y_pred_XGB]),2)*100"
   ]
  },
  {
   "cell_type": "markdown",
   "metadata": {},
   "source": [
    "Accuracy w modelu logistycznym"
   ]
  },
  {
   "cell_type": "code",
   "execution_count": 8,
   "metadata": {},
   "outputs": [
    {
     "data": {
      "text/plain": [
       "75.0"
      ]
     },
     "execution_count": 8,
     "metadata": {},
     "output_type": "execute_result"
    }
   ],
   "source": [
    "round(accuracy_score(Y_test, [round(i) for i in y_pred_lin]),2)*100"
   ]
  },
  {
   "cell_type": "code",
   "execution_count": 9,
   "metadata": {},
   "outputs": [],
   "source": [
    "variables = [\"age_difference\",\"q26\",\"ppeducat\",\"q24_met_online\",\"how_long_relationship\"]"
   ]
  },
  {
   "cell_type": "markdown",
   "metadata": {},
   "source": [
    "Funkcja do perturbacji - z uwagi, że mamy do czynienia ze zmiennymi ciągłymi i dyskretnymi - generuję perturbacje na dwa sposoby.\n",
    "Dla zmiennej ciągłej będą to spermutowane wartości zmiennej ciągłe z szumem o rozkładzie standardowym normalnym\n",
    "Dla zmiennej dyskretnej - jako że chcę trzymać najbardziej \"pesymistyczny\" przypadek - dla każdej z obserwacji losuję wartość zmiennej ze zbioru przyjmowanych wartości pomniejszonym o wartość danej obserwacji w oryginalnym zbiorze danych (tak żeby wartość zmiennej po perturbacji była różna od wartości w oryginalnym zbiorze)"
   ]
  },
  {
   "cell_type": "code",
   "execution_count": 40,
   "metadata": {},
   "outputs": [],
   "source": [
    "def pert(var, data):\n",
    "    data_pert=data.copy()\n",
    "    n = data.shape[0]\n",
    "    if len(pd.unique(data[var])) > 3:\n",
    "        data_pert[var] = [round(abs(i),1) for i in [(list(data[var][np.random.permutation(data[var].index)])[i]+np.transpose([np.random.normal(loc = 0, scale = np.std(data[var]), size = n)])[i])[0] for i in range(len(data[var]))]]\n",
    "    else:\n",
    "        data_pert[var] = [np.random.choice(list(set(np.unique(data[var]))-set([i])),1)[0] for i in data_pert[var]]\n",
    "    return data_pert"
   ]
  },
  {
   "cell_type": "code",
   "execution_count": 60,
   "metadata": {},
   "outputs": [],
   "source": [
    "acc_lin = list([round(accuracy_score(Y_test, [round(i) for i in y_pred_lin]),2)*100])\n",
    "acc_XGB = list([round(accuracy_score(Y_test, [round(i) for i in y_pred_XGB]),2)*100])\n",
    "for i in variables:\n",
    "    df = pert(i,X_test)\n",
    "    acc_lin.append(round(accuracy_score(Y_test, [round(i) for i in model_lin.predict(df)]),2)*100)\n",
    "    acc_XGB.append(round(accuracy_score(Y_test, [round(i) for i in model_XGB.predict(df)]),2)*100)\n",
    "acc_lin = [round(acc_lin[i]-acc_lin[0]) for i in range(1,len(acc_lin))]\n",
    "acc_XGB = [round(acc_XGB[i] - acc_XGB[0]) for i in range(1,len(acc_XGB))]\n"
   ]
  },
  {
   "cell_type": "code",
   "execution_count": 61,
   "metadata": {},
   "outputs": [],
   "source": [
    "def plot_loss(acc, title):\n",
    "    fig, ax = plt.subplots()   \n",
    "    width = 0.75 \n",
    "    ind = np.arange(len(acc)) \n",
    "    colours = [\"lightcoral\" if v<0 else \"lightgreen\" for v in acc[::-1]]\n",
    "    ax.barh(ind, acc[::-1], width, color=colours)\n",
    "    ax.set_yticks(ind+width/2)\n",
    "    ax.set_yticklabels(variables, minor=False)\n",
    "    plt.title(title)\n",
    "    plt.xlabel('loss of accuracy %')\n",
    "    plt.ylabel('variable')   \n",
    "    for i in range(len(acc)):\n",
    "        ax.text(2.95, i - .1, acc[::-1][i], color='darkblue', fontweight='bold')\n",
    "    plt.show()\n"
   ]
  },
  {
   "cell_type": "code",
   "execution_count": 62,
   "metadata": {},
   "outputs": [
    {
     "data": {
      "image/png": "[encoded data removed]",
      "text/plain": [
       "<Figure size 432x288 with 1 Axes>"
      ]
     },
     "metadata": {
      "needs_background": "light"
     },
     "output_type": "display_data"
    }
   ],
   "source": [
    "plot_loss(acc_lin, \"Model logistyczny\")"
   ]
  },
  {
   "cell_type": "code",
   "execution_count": 63,
   "metadata": {},
   "outputs": [
    {
     "data": {
      "image/png": "[encoded data removed]",
      "text/plain": [
       "<Figure size 432x288 with 1 Axes>"
      ]
     },
     "metadata": {
      "needs_background": "light"
     },
     "output_type": "display_data"
    }
   ],
   "source": [
    "plot_loss(acc_XGB, \"Model XGBoost\")"
   ]
  },
  {
   "cell_type": "markdown",
   "metadata": {},
   "source": [
    "## Wnioski po perturbacji"
   ]
  },
  {
   "cell_type": "markdown",
   "metadata": {},
   "source": [
    "Biorąc pod uwagę, że eksperyment z perturbacją wykonujemy tylko raz - nie mamy podstaw by sądzić, że zmienne how_long_relationship, pp_educat oraz q26 są zmiennymi w znaczący sposób wpływającymi na predykcję obu modeli. Być może należałoby wykonać perturbację większą liczbę razy i następnie uśrednić wyniki - jednak nie to było celem naszego doświadczenia. Na podstawie wykresów można wywnioskować, że w obu modelach istotną zmienną jest zmienna \"age_difference\", ponieważ po jej perturbacji znacznie spada jakość dopasowania obu modeli. Ciekawym zjawiskiem jest jednak fakt, że perturbacja zmiennej q24_met_online znacząco obniża jakość predykcji modelu logistycznego, a w przypadku modelu XGBoost - niewiele zmienia. Przyjrzymy się zatem tej zmiennej na wykresie PDP."
   ]
  },
  {
   "cell_type": "code",
   "execution_count": 77,
   "metadata": {},
   "outputs": [],
   "source": [
    "def PD(model1, model2, index, points, X):\n",
    "    Tab=X.copy()\n",
    "    prob=list()\n",
    "    for point in points:\n",
    "        Tab.iloc[:,index]=[point]*Tab.shape[0]\n",
    "        prob.append(pd.DataFrame(model1.predict_proba(Tab)).iloc[:,0].mean())\n",
    "    plt.plot(points, prob)\n",
    "    Tab=X.copy()\n",
    "    prob=list()\n",
    "    for point in points:\n",
    "        Tab.iloc[:,index]=[point]*Tab.shape[0]\n",
    "        prob.append(pd.DataFrame(model2.predict_proba(Tab)).iloc[:,0].mean())\n",
    "    plt.plot(points, prob)\n",
    "    plt.legend(('model logistyczny', 'XGBoost'))\n",
    "    plt.show()"
   ]
  },
  {
   "cell_type": "code",
   "execution_count": 78,
   "metadata": {},
   "outputs": [
    {
     "data": {
      "image/png": "[encoded data removed]",
      "text/plain": [
       "<Figure size 432x288 with 1 Axes>"
      ]
     },
     "metadata": {
      "needs_background": "light"
     },
     "output_type": "display_data"
    }
   ],
   "source": [
    "PD(model_lin, model_XGB,3,[0,1],X_test)\n"
   ]
  },
  {
   "cell_type": "markdown",
   "metadata": {},
   "source": [
    "Krzywe PDP dla zmiennej q24_met_online potwierdzają istotny wpływ na predykcję dla modelu logistycznego, zaś niewielki dla modelu XGBoost."
   ]
  }
 ],
 "metadata": {
  "kernelspec": {
   "display_name": "Python 3",
   "language": "python",
   "name": "python3"
  },
  "language_info": {
   "codemirror_mode": {
    "name": "ipython",
    "version": 3
   },
   "file_extension": ".py",
   "mimetype": "text/x-python",
   "name": "python",
   "nbconvert_exporter": "python",
   "pygments_lexer": "ipython3",
   "version": "3.7.1"
  }
 },
 "nbformat": 4,
 "nbformat_minor": 2
}
