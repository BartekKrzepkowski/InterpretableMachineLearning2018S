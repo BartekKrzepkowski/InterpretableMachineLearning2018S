{
 "cells": [
  {
   "cell_type": "code",
   "execution_count": 1,
   "metadata": {},
   "outputs": [
    {
     "name": "stderr",
     "output_type": "stream",
     "text": [
      "c:\\users\\mateusz\\desktop\\mimuw\\interpretableml\\imlteam5\\venv\\lib\\site-packages\\sklearn\\externals\\six.py:31: DeprecationWarning: The module is deprecated in version 0.21 and will be removed in version 0.23 since we've dropped support for Python 2.7. Please rely on the official version of six (https://pypi.org/project/six/).\n",
      "  \"(https://pypi.org/project/six/).\", DeprecationWarning)\n"
     ]
    }
   ],
   "source": [
    "import requests\n",
    "import io\n",
    "import zipfile\n",
    "\n",
    "import numpy as np\n",
    "import pandas as pd\n",
    "import pydotplus\n",
    "\n",
    "from sklearn.tree import DecisionTreeClassifier, export_graphviz\n",
    "from sklearn.preprocessing import LabelEncoder, OneHotEncoder\n",
    "from sklearn.ensemble import RandomForestClassifier\n",
    "from sklearn.svm import SVC\n",
    "from sklearn.metrics import accuracy_score\n",
    "from sklearn.externals.six import StringIO  \n",
    "\n",
    "import matplotlib.pyplot as plt\n",
    "import seaborn as sns\n",
    "import waterfall_chart\n",
    "from IPython.display import Image  "
   ]
  },
  {
   "cell_type": "markdown",
   "metadata": {},
   "source": [
    "# Na początku robimy to samo co w pracy domowej 1\n",
    "\n",
    "tylko tym razem w Pythonie..."
   ]
  },
  {
   "cell_type": "code",
   "execution_count": 2,
   "metadata": {},
   "outputs": [],
   "source": [
    "url = 'https://stacks.stanford.edu/file/druid:hg921sg6829/HCMST_2017_public_data_v1.1_stata.zip'\n",
    "response = requests.get(url)\n",
    "\n",
    "with zipfile.ZipFile(io.BytesIO(response.content)) as tmp_zip:\n",
    "    for zip_file in tmp_zip.infolist():\n",
    "        with tmp_zip.open(zip_file, 'r') as f:\n",
    "            stata_file = io.BytesIO(f.read())"
   ]
  },
  {
   "cell_type": "code",
   "execution_count": 3,
   "metadata": {},
   "outputs": [],
   "source": [
    "stata_file.seek(0)\n",
    "data = pd.read_stata(stata_file)"
   ]
  },
  {
   "cell_type": "markdown",
   "metadata": {},
   "source": [
    "# Obrabiamy dane jak poprzednio\n"
   ]
  },
  {
   "cell_type": "code",
   "execution_count": 4,
   "metadata": {},
   "outputs": [],
   "source": [
    "data = data[['S1', 'Q9', 'Q19', 'Q26', 'ppage']]"
   ]
  },
  {
   "cell_type": "code",
   "execution_count": 5,
   "metadata": {},
   "outputs": [],
   "source": [
    "for column in data.columns:\n",
    "    data = data[data[column] != 'Refused']\n",
    "    data[column].cat.remove_unused_categories()\n",
    "data = data.dropna()\n",
    "data[['Q9', 'ppage']] = data[['Q9', 'ppage']].apply(pd.to_numeric, axis=1)"
   ]
  },
  {
   "cell_type": "code",
   "execution_count": 6,
   "metadata": {},
   "outputs": [
    {
     "data": {
      "text/html": [
       "<div>\n",
       "<style scoped>\n",
       "    .dataframe tbody tr th:only-of-type {\n",
       "        vertical-align: middle;\n",
       "    }\n",
       "\n",
       "    .dataframe tbody tr th {\n",
       "        vertical-align: top;\n",
       "    }\n",
       "\n",
       "    .dataframe thead th {\n",
       "        text-align: right;\n",
       "    }\n",
       "</style>\n",
       "<table border=\"1\" class=\"dataframe\">\n",
       "  <thead>\n",
       "    <tr style=\"text-align: right;\">\n",
       "      <th></th>\n",
       "      <th>S1</th>\n",
       "      <th>Q9</th>\n",
       "      <th>Q19</th>\n",
       "      <th>Q26</th>\n",
       "      <th>ppage</th>\n",
       "    </tr>\n",
       "  </thead>\n",
       "  <tbody>\n",
       "    <tr>\n",
       "      <th>3028</th>\n",
       "      <td>Yes, I am Married</td>\n",
       "      <td>64.0</td>\n",
       "      <td>Yes</td>\n",
       "      <td>Did not attend same college or university</td>\n",
       "      <td>62.0</td>\n",
       "    </tr>\n",
       "    <tr>\n",
       "      <th>884</th>\n",
       "      <td>Yes, I am Married</td>\n",
       "      <td>42.0</td>\n",
       "      <td>Yes</td>\n",
       "      <td>Did not attend same college or university</td>\n",
       "      <td>51.0</td>\n",
       "    </tr>\n",
       "    <tr>\n",
       "      <th>3004</th>\n",
       "      <td>Yes, I am Married</td>\n",
       "      <td>64.0</td>\n",
       "      <td>Yes</td>\n",
       "      <td>Did not attend same college or university</td>\n",
       "      <td>56.0</td>\n",
       "    </tr>\n",
       "    <tr>\n",
       "      <th>2200</th>\n",
       "      <td>No, I am not Married</td>\n",
       "      <td>22.0</td>\n",
       "      <td>No</td>\n",
       "      <td>Did not attend same college or university</td>\n",
       "      <td>23.0</td>\n",
       "    </tr>\n",
       "    <tr>\n",
       "      <th>2522</th>\n",
       "      <td>No, I am not Married</td>\n",
       "      <td>51.0</td>\n",
       "      <td>Yes</td>\n",
       "      <td>Did not attend same college or university</td>\n",
       "      <td>53.0</td>\n",
       "    </tr>\n",
       "  </tbody>\n",
       "</table>\n",
       "</div>"
      ],
      "text/plain": [
       "                        S1    Q9  Q19  \\\n",
       "3028     Yes, I am Married  64.0  Yes   \n",
       "884      Yes, I am Married  42.0  Yes   \n",
       "3004     Yes, I am Married  64.0  Yes   \n",
       "2200  No, I am not Married  22.0   No   \n",
       "2522  No, I am not Married  51.0  Yes   \n",
       "\n",
       "                                            Q26  ppage  \n",
       "3028  Did not attend same college or university   62.0  \n",
       "884   Did not attend same college or university   51.0  \n",
       "3004  Did not attend same college or university   56.0  \n",
       "2200  Did not attend same college or university   23.0  \n",
       "2522  Did not attend same college or university   53.0  "
      ]
     },
     "execution_count": 6,
     "metadata": {},
     "output_type": "execute_result"
    }
   ],
   "source": [
    "data.sample(5)"
   ]
  },
  {
   "cell_type": "code",
   "execution_count": 7,
   "metadata": {},
   "outputs": [],
   "source": [
    "y = data['S1']\n",
    "x = data.drop('S1', axis=1)"
   ]
  },
  {
   "cell_type": "markdown",
   "metadata": {},
   "source": [
    "# Robimy modele"
   ]
  },
  {
   "cell_type": "markdown",
   "metadata": {},
   "source": [
    "## Las losowy"
   ]
  },
  {
   "cell_type": "code",
   "execution_count": 8,
   "metadata": {},
   "outputs": [],
   "source": [
    "le_y = LabelEncoder()\n",
    "y = le_y.fit_transform(y)\n",
    "\n",
    "le_q19 = LabelEncoder()\n",
    "x['Q19'] = le_q19.fit_transform(x['Q19'])\n",
    "\n",
    "le_q26 = LabelEncoder()\n",
    "x['Q26'] = le_q26.fit_transform(x['Q26'])"
   ]
  },
  {
   "cell_type": "code",
   "execution_count": 9,
   "metadata": {},
   "outputs": [
    {
     "name": "stderr",
     "output_type": "stream",
     "text": [
      "c:\\users\\mateusz\\desktop\\mimuw\\interpretableml\\imlteam5\\venv\\lib\\site-packages\\sklearn\\preprocessing\\_encoders.py:414: FutureWarning: The handling of integer data will change in version 0.22. Currently, the categories are determined based on the range [0, max(values)], while in the future they will be determined based on the unique values.\n",
      "If you want the future behaviour and silence this warning, you can specify \"categories='auto'\".\n",
      "In case you used a LabelEncoder before this OneHotEncoder to convert the categories to integers, then you can now use the OneHotEncoder directly.\n",
      "  warnings.warn(msg, FutureWarning)\n",
      "c:\\users\\mateusz\\desktop\\mimuw\\interpretableml\\imlteam5\\venv\\lib\\site-packages\\sklearn\\preprocessing\\_encoders.py:450: DeprecationWarning: The 'categorical_features' keyword is deprecated in version 0.20 and will be removed in 0.22. You can use the ColumnTransformer instead.\n",
      "  \"use the ColumnTransformer instead.\", DeprecationWarning)\n"
     ]
    }
   ],
   "source": [
    "ohe = OneHotEncoder(categorical_features=[1, 2], \n",
    "                    dtype=np.int64,\n",
    "                    sparse=False)\n",
    "x = pd.DataFrame(ohe.fit_transform(x.values))\n",
    "x.columns = ['Q19_0', 'Q19_1', 'Q26_0', 'Q26_1', 'Q9', 'ppage']"
   ]
  },
  {
   "cell_type": "code",
   "execution_count": 10,
   "metadata": {},
   "outputs": [
    {
     "data": {
      "text/html": [
       "<div>\n",
       "<style scoped>\n",
       "    .dataframe tbody tr th:only-of-type {\n",
       "        vertical-align: middle;\n",
       "    }\n",
       "\n",
       "    .dataframe tbody tr th {\n",
       "        vertical-align: top;\n",
       "    }\n",
       "\n",
       "    .dataframe thead th {\n",
       "        text-align: right;\n",
       "    }\n",
       "</style>\n",
       "<table border=\"1\" class=\"dataframe\">\n",
       "  <thead>\n",
       "    <tr style=\"text-align: right;\">\n",
       "      <th></th>\n",
       "      <th>Q19_1</th>\n",
       "      <th>Q26_1</th>\n",
       "      <th>Q9</th>\n",
       "      <th>ppage</th>\n",
       "    </tr>\n",
       "  </thead>\n",
       "  <tbody>\n",
       "    <tr>\n",
       "      <th>0</th>\n",
       "      <td>1</td>\n",
       "      <td>1</td>\n",
       "      <td>52</td>\n",
       "      <td>55</td>\n",
       "    </tr>\n",
       "    <tr>\n",
       "      <th>1</th>\n",
       "      <td>1</td>\n",
       "      <td>1</td>\n",
       "      <td>45</td>\n",
       "      <td>47</td>\n",
       "    </tr>\n",
       "    <tr>\n",
       "      <th>2</th>\n",
       "      <td>1</td>\n",
       "      <td>1</td>\n",
       "      <td>59</td>\n",
       "      <td>59</td>\n",
       "    </tr>\n",
       "    <tr>\n",
       "      <th>3</th>\n",
       "      <td>1</td>\n",
       "      <td>1</td>\n",
       "      <td>65</td>\n",
       "      <td>65</td>\n",
       "    </tr>\n",
       "    <tr>\n",
       "      <th>4</th>\n",
       "      <td>1</td>\n",
       "      <td>1</td>\n",
       "      <td>43</td>\n",
       "      <td>33</td>\n",
       "    </tr>\n",
       "  </tbody>\n",
       "</table>\n",
       "</div>"
      ],
      "text/plain": [
       "   Q19_1  Q26_1  Q9  ppage\n",
       "0      1      1  52     55\n",
       "1      1      1  45     47\n",
       "2      1      1  59     59\n",
       "3      1      1  65     65\n",
       "4      1      1  43     33"
      ]
     },
     "execution_count": 10,
     "metadata": {},
     "output_type": "execute_result"
    }
   ],
   "source": [
    "x.drop(['Q19_0', 'Q26_0'], axis=1, inplace=True)\n",
    "x.head()"
   ]
  },
  {
   "cell_type": "code",
   "execution_count": 11,
   "metadata": {},
   "outputs": [
    {
     "data": {
      "text/plain": [
       "0.8761844598862919"
      ]
     },
     "execution_count": 11,
     "metadata": {},
     "output_type": "execute_result"
    }
   ],
   "source": [
    "rfc = RandomForestClassifier(max_depth=4,\n",
    "                             n_estimators=30,\n",
    "                             max_features=None)\n",
    "rfc.fit(x, y)\n",
    "\n",
    "y_pred = rfc.predict(x)\n",
    "accuracy_score(y, y_pred)"
   ]
  },
  {
   "cell_type": "markdown",
   "metadata": {},
   "source": [
    "## SVM z jądrem gaussowskim"
   ]
  },
  {
   "cell_type": "code",
   "execution_count": 12,
   "metadata": {},
   "outputs": [
    {
     "name": "stderr",
     "output_type": "stream",
     "text": [
      "c:\\users\\mateusz\\desktop\\mimuw\\interpretableml\\imlteam5\\venv\\lib\\site-packages\\sklearn\\svm\\base.py:193: FutureWarning: The default value of gamma will change from 'auto' to 'scale' in version 0.22 to account better for unscaled features. Set gamma explicitly to 'auto' or 'scale' to avoid this warning.\n",
      "  \"avoid this warning.\", FutureWarning)\n"
     ]
    },
    {
     "data": {
      "text/plain": [
       "0.8755527479469362"
      ]
     },
     "execution_count": 12,
     "metadata": {},
     "output_type": "execute_result"
    }
   ],
   "source": [
    "svm = SVC(probability=True)\n",
    "\n",
    "svm.fit(x, y)\n",
    "\n",
    "y_pred = svm.predict(x)\n",
    "accuracy_score(y, y_pred)"
   ]
  },
  {
   "cell_type": "markdown",
   "metadata": {},
   "source": [
    "# Wyjaśniamy modele obliczając perturbation delta loss"
   ]
  },
  {
   "cell_type": "code",
   "execution_count": 13,
   "metadata": {},
   "outputs": [],
   "source": [
    "class PerturbationLossVisualizer(object):\n",
    "    def __init__(self, clf1, clf2, X, y):\n",
    "        self.clf1 = clf1\n",
    "        self.clf2 = clf2\n",
    "        self.X = X\n",
    "        self.y = y\n",
    "    \n",
    "    def _calculate_perturbation_losses(self, clf_no):\n",
    "        assert clf_no in (1, 2)\n",
    "        clf = self.clf1 if clf_no == 1 else self.clf2\n",
    "        y_pred = clf.predict(self.X)\n",
    "        accuracy_base = accuracy_score(self.y, y_pred)\n",
    "        permutational_losses = []\n",
    "\n",
    "        for column in self.X.columns:\n",
    "            # permute column values\n",
    "            tmp = self.X.copy()\n",
    "            col = tmp[column].values\n",
    "            np.random.shuffle(col)\n",
    "            tmp[column] = col\n",
    "            \n",
    "            # calculate accuracy on dataset with permutated variable\n",
    "            y_pred = clf.predict(tmp)\n",
    "            accuracy = accuracy_score(self.y, y_pred)\n",
    "            \n",
    "            # add delta to result\n",
    "            permutational_losses += [accuracy_base - accuracy]\n",
    "\n",
    "        return permutational_losses\n",
    "    \n",
    "    def draw_permutational_loss_importance_plot(self):\n",
    "        permutational_losses1 = self._calculate_perturbation_losses(1)\n",
    "        permutational_losses2 = self._calculate_perturbation_losses(2)\n",
    "        \n",
    "        # draw the importance plot\n",
    "        indices = np.argsort(np.array(permutational_losses1))[::-1]\n",
    "        bar_width = 0.25\n",
    "    \n",
    "    \n",
    "        plt.figure()\n",
    "        plt.title(\"Permutational loss feature importances\")\n",
    "        plt.bar(np.arange(self.X.shape[1]), \n",
    "                np.array(permutational_losses1)[indices],\n",
    "                color=\"b\", \n",
    "                width=bar_width,\n",
    "                label=\"clf1\",\n",
    "                align=\"center\")\n",
    "        plt.bar(np.arange(self.X.shape[1]) + bar_width, \n",
    "                np.array(permutational_losses2)[indices],\n",
    "                color=\"y\", \n",
    "                width=bar_width,\n",
    "                label=\"clf2\",\n",
    "                align=\"center\")\n",
    "        plt.xticks(range(self.X.shape[1]), list(np.array(self.X.columns)[indices]))\n",
    "        plt.xlim([-1, self.X.shape[1]])\n",
    "        plt.legend()\n",
    "        plt.show()   \n",
    "        \n",
    "        return"
   ]
  },
  {
   "cell_type": "code",
   "execution_count": 14,
   "metadata": {},
   "outputs": [
    {
     "data": {
      "image/png": "[encoded data removed]",
      "text/plain": [
       "<Figure size 432x288 with 1 Axes>"
      ]
     },
     "metadata": {
      "needs_background": "light"
     },
     "output_type": "display_data"
    }
   ],
   "source": [
    "plv_rfc = PerturbationLossVisualizer(rfc, svm, x, y)\n",
    "plv_rfc.draw_permutational_loss_importance_plot()"
   ]
  },
  {
   "cell_type": "markdown",
   "metadata": {},
   "source": [
    "Porównując obydwa wykresy widzimy, że poza niską wartością dla zmiennej Q26_1, pozostałe zmienne są traktowane przez model z różnymi priorytetami. Dla lasu losowego najważniejszą zmienną jest zmienna Q19_1, natomiast pozostałe zmienne odgrywają marginalną rolę. W przypadku maszyny wektorów wspierających istotne są zmienne Q9 i ppage, natomiast zmienna Q19_1 odgrywa drugorzędną rolę. \n",
    "\n",
    "W naszym przypadku zmienne Q9 i ppage są silnie skorelowane, zatem SVM korzysta z nich 'po równo', natomiast las losowy najprawdopodobniej umieszcza w korzeniu każdego drzewa decyzyjnego zmienną Q19_1, stąd jej zaburzenie istotnie wpływa na predykcje modelu."
   ]
  },
  {
   "cell_type": "markdown",
   "metadata": {},
   "source": [
    "# Zobaczmy co się dzieje dla najbardziej różnicującej zmiennej"
   ]
  },
  {
   "cell_type": "markdown",
   "metadata": {},
   "source": [
    "Jest to zmienna 'ppage'."
   ]
  },
  {
   "cell_type": "code",
   "execution_count": 15,
   "metadata": {},
   "outputs": [],
   "source": [
    "class CeterisParibusPlotter(object):\n",
    "    def __init__(self, clf, x):\n",
    "        self.clf = clf\n",
    "        self.x = x\n",
    "        \n",
    "    def draw_ceteris_paribus_plot(self, observation, column):\n",
    "        mini, maxi = int(min(self.x[column])), int(max(self.x[column]))\n",
    "        original_position = observation[column].loc[0]\n",
    "        print(original_position)\n",
    "        ranges = []\n",
    "        scores = []\n",
    "        i = 0\n",
    "        \n",
    "        # find scores for all hypotetical observations\n",
    "        for value in range(mini, maxi + 1):\n",
    "            observation[column] = value\n",
    "            score = self.clf.predict_proba(observation)[0, 1]\n",
    "            if value == original_position:\n",
    "                original_score = score\n",
    "                \n",
    "            scores.append(score)\n",
    "            ranges.append(i)\n",
    "            i += 1\n",
    "\n",
    "        # draw the plot\n",
    "        plt.figure(figsize=(10, 10))\n",
    "        ax = sns.lineplot(x=range(mini, maxi + 1),\n",
    "                          y=scores)\n",
    "        ax.set_title('Ceteris Paribus profile for variable {}'.format(column))\n",
    "        ax.set_ylabel(column)\n",
    "        \n",
    "        plt.scatter(x=[original_position], y=[original_score], marker='o', s=100)\n",
    "        plt.show()\n",
    "        \n",
    "        return"
   ]
  },
  {
   "cell_type": "code",
   "execution_count": 16,
   "metadata": {},
   "outputs": [],
   "source": [
    "class AccumulatedLocalEffectsPlotter(CeterisParibusPlotter):\n",
    "    def draw_accumulated_local_effects_plot(self, column, window_size=1):\n",
    "        mini, maxi = int(min(self.x[column])), int(max(self.x[column]))\n",
    "        ale = []\n",
    "        \n",
    "        # find ALE statistics\n",
    "        for value in range(mini, maxi + 1):\n",
    "            neighbours = self.x[(self.x[column] >= value - window_size) &\n",
    "                                (self.x[column] <= value + window_size)].copy()\n",
    "            \n",
    "            neighbours[column] = value - window_size\n",
    "            scores_lower = self.clf.predict_proba(neighbours)[:, 1]\n",
    "            \n",
    "            neighbours[column] = value + window_size\n",
    "            scores_upper = self.clf.predict_proba(neighbours)[:, 1]\n",
    "            \n",
    "            \n",
    "            ale.append((scores_upper - scores_lower).mean())\n",
    "            \n",
    "        ale = ale - np.array(ale).mean()\n",
    "\n",
    "        # draw the plot\n",
    "        plt.figure(figsize=(10, 10))\n",
    "        ax = sns.lineplot(x=range(mini, maxi + 1),\n",
    "                          y=ale)\n",
    "        ax.set_title('Accumulated Local Effects plot for variable {}'.format(column))\n",
    "        ax.set_ylabel(column)\n",
    "        \n",
    "        plt.show()\n",
    "        return"
   ]
  },
  {
   "cell_type": "code",
   "execution_count": 17,
   "metadata": {},
   "outputs": [
    {
     "data": {
      "image/png": "[encoded data removed]",
      "text/plain": [
       "<Figure size 720x720 with 1 Axes>"
      ]
     },
     "metadata": {
      "needs_background": "light"
     },
     "output_type": "display_data"
    }
   ],
   "source": [
    "alep_rfc = AccumulatedLocalEffectsPlotter(rfc, x)\n",
    "alep_rfc.draw_accumulated_local_effects_plot('ppage', 3)"
   ]
  },
  {
   "cell_type": "code",
   "execution_count": 18,
   "metadata": {},
   "outputs": [
    {
     "data": {
      "image/png": "[encoded data removed]",
      "text/plain": [
       "<Figure size 720x720 with 1 Axes>"
      ]
     },
     "metadata": {
      "needs_background": "light"
     },
     "output_type": "display_data"
    }
   ],
   "source": [
    "alep_svm = AccumulatedLocalEffectsPlotter(svm, x)\n",
    "alep_svm.draw_accumulated_local_effects_plot('ppage', 3)"
   ]
  },
  {
   "cell_type": "markdown",
   "metadata": {},
   "source": [
    "ALE ploty dla zmiennej 'ppage' dla obydwu modeli mają zbliżoną trajektorię. Wykres dla maszyny wektorów wspierających jest bardziej postrzępiony, co wynika z faktu, że las losowy przypisuje tej zmiennej małą wagę przy ostatecznej predykcji, natomiast SVM ma gładkie granice decyzyjne."
   ]
  },
  {
   "cell_type": "code",
   "execution_count": null,
   "metadata": {},
   "outputs": [],
   "source": []
  }
 ],
 "metadata": {
  "kernelspec": {
   "display_name": "Python 3",
   "language": "python",
   "name": "python3"
  },
  "language_info": {
   "codemirror_mode": {
    "name": "ipython",
    "version": 3
   },
   "file_extension": ".py",
   "mimetype": "text/x-python",
   "name": "python",
   "nbconvert_exporter": "python",
   "pygments_lexer": "ipython3",
   "version": "3.7.3"
  }
 },
 "nbformat": 4,
 "nbformat_minor": 2
}
