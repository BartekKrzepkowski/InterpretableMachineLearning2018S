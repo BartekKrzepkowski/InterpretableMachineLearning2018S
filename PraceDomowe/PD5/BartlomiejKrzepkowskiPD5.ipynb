{
 "cells": [
  {
   "cell_type": "code",
   "execution_count": 1,
   "metadata": {},
   "outputs": [],
   "source": [
    "import numpy as np\n",
    "import pandas as pd\n",
    "import matplotlib.pyplot as plt\n",
    "from scipy import stats"
   ]
  },
  {
   "cell_type": "code",
   "execution_count": 2,
   "metadata": {},
   "outputs": [],
   "source": [
    "from sklearn.model_selection import RandomizedSearchCV, train_test_split\n",
    "from sklearn.preprocessing import StandardScaler"
   ]
  },
  {
   "cell_type": "code",
   "execution_count": 38,
   "metadata": {},
   "outputs": [],
   "source": [
    "from sklearn.tree import DecisionTreeRegressor\n",
    "from xgboost import XGBClassifier, plot_importance\n",
    "import xgboost as xgb"
   ]
  },
  {
   "cell_type": "markdown",
   "metadata": {},
   "source": [
    "# Wczytanie danych"
   ]
  },
  {
   "cell_type": "code",
   "execution_count": 5,
   "metadata": {},
   "outputs": [],
   "source": [
    "DATA_PATH = \"Datasets/HCMST 2017 fresh sample for public sharing draft v1.1.dta\""
   ]
  },
  {
   "cell_type": "code",
   "execution_count": 6,
   "metadata": {},
   "outputs": [],
   "source": [
    "df = pd.read_stata(DATA_PATH)"
   ]
  },
  {
   "cell_type": "code",
   "execution_count": 7,
   "metadata": {},
   "outputs": [],
   "source": [
    "target = [\"S1\"]\n",
    "cat_feat = ['hcm2017q24_internet_other', 'PPT01']\n",
    "float_feat = ['Q16', 'age_when_met']\n",
    "feat = cat_feat + float_feat + target"
   ]
  },
  {
   "cell_type": "code",
   "execution_count": 70,
   "metadata": {},
   "outputs": [],
   "source": [
    "relevant_features = cat_feat + float_feat\n",
    "relevant_features = np.array(relevant_features)"
   ]
  },
  {
   "cell_type": "markdown",
   "metadata": {},
   "source": [
    "# Preprocessing"
   ]
  },
  {
   "cell_type": "code",
   "execution_count": 8,
   "metadata": {},
   "outputs": [],
   "source": [
    "df = df[feat]\n",
    "df = df.dropna()\n",
    "df[cat_feat] = df[cat_feat].apply(lambda x: x.cat.codes, axis=0)\n",
    "df[target] = (df[target] == \"Yes, I am Married\").astype(int)"
   ]
  },
  {
   "cell_type": "code",
   "execution_count": 9,
   "metadata": {},
   "outputs": [],
   "source": [
    "df_X = df[feat[:-1]]\n",
    "df_y = df[target]"
   ]
  },
  {
   "cell_type": "code",
   "execution_count": 10,
   "metadata": {},
   "outputs": [],
   "source": [
    "X = df_X.values\n",
    "y = df_y.values"
   ]
  },
  {
   "cell_type": "code",
   "execution_count": 65,
   "metadata": {},
   "outputs": [],
   "source": [
    "x_train, x_test, y_train, y_test = train_test_split(X, y, test_size=0.2)"
   ]
  },
  {
   "cell_type": "markdown",
   "metadata": {},
   "source": [
    "## Champion"
   ]
  },
  {
   "cell_type": "code",
   "execution_count": 39,
   "metadata": {},
   "outputs": [
    {
     "name": "stderr",
     "output_type": "stream",
     "text": [
      "/usr/local/lib/python3.6/dist-packages/sklearn/preprocessing/label.py:219: DataConversionWarning: A column-vector y was passed when a 1d array was expected. Please change the shape of y to (n_samples, ), for example using ravel().\n",
      "  y = column_or_1d(y, warn=True)\n",
      "/usr/local/lib/python3.6/dist-packages/sklearn/preprocessing/label.py:252: DataConversionWarning: A column-vector y was passed when a 1d array was expected. Please change the shape of y to (n_samples, ), for example using ravel().\n",
      "  y = column_or_1d(y, warn=True)\n"
     ]
    }
   ],
   "source": [
    "fix_params = {'objective': 'binary:logistic', \"seed\": 42, }\n",
    "param_dist = {\n",
    "    'n_estimators': stats.randint(150, 500),\n",
    "    'learning_rate': np.linspace(0.01,0.1, 10),\n",
    "    'subsample':[i/10.0 for i in range(6,10)],\n",
    "    'colsample_bytree':[i/10.0 for i in range(6,10)],\n",
    "    'max_depth': [3, 4, 5, 6, 7, 8, 9],\n",
    "    'colsample_bytree': stats.uniform(0.5, 0.45),\n",
    "    'min_child_weight':[1, 2, 4, 6, 8, 10, 12],\n",
    "    'gamma':[i/10.0 for i in range(0,5)]\n",
    "             }\n",
    "clf = RandomizedSearchCV(estimator=XGBClassifier(**fix_params), param_distributions = param_dist, n_iter = 25, scoring = 'auc', cv=5, n_jobs = -1)\n",
    "clf.fit(x_train, y_train)"
   ]
  },
  {
   "cell_type": "code",
   "execution_count": 40,
   "metadata": {},
   "outputs": [],
   "source": [
    "best_params = {**clf.best_params_, **fix_params}\n",
    "bb_clf_xgb = XGBClassifier(**best_params)\n",
    "bb_clf_xgb.fit(x_train, y_train)"
   ]
  },
  {
   "cell_type": "code",
   "execution_count": 59,
   "metadata": {},
   "outputs": [
    {
     "data": {
      "text/plain": [
       "0.6722551602986385"
      ]
     },
     "execution_count": 59,
     "metadata": {},
     "output_type": "execute_result"
    }
   ],
   "source": [
    "y_prob_xgb = bb_clf_xgb.predict_proba(x_test)[:,1]\n",
    "roc_auc_score(y_test, y_prob_xgb)"
   ]
  },
  {
   "cell_type": "markdown",
   "metadata": {},
   "source": [
    "## Challenger"
   ]
  },
  {
   "cell_type": "code",
   "execution_count": 51,
   "metadata": {},
   "outputs": [],
   "source": [
    "from sklearn.tree import DecisionTreeClassifier"
   ]
  },
  {
   "cell_type": "code",
   "execution_count": 52,
   "metadata": {},
   "outputs": [
    {
     "data": {
      "text/plain": [
       "LinearRegression(copy_X=True, fit_intercept=True, n_jobs=None,\n",
       "         normalize=False)"
      ]
     },
     "execution_count": 52,
     "metadata": {},
     "output_type": "execute_result"
    }
   ],
   "source": [
    "bb_clf_lr = LinearRegression()\n",
    "bb_clf_lr.fit(x_train, y_train)"
   ]
  },
  {
   "cell_type": "code",
   "execution_count": 60,
   "metadata": {},
   "outputs": [
    {
     "data": {
      "text/plain": [
       "0.6603645147123408"
      ]
     },
     "execution_count": 60,
     "metadata": {},
     "output_type": "execute_result"
    }
   ],
   "source": [
    "y_prob_lr = bb_clf_lr.predict(x_test)\n",
    "roc_auc_score(y_test, y_prob_lr)"
   ]
  },
  {
   "cell_type": "markdown",
   "metadata": {},
   "source": [
    "# Permutation Importance"
   ]
  },
  {
   "cell_type": "code",
   "execution_count": 86,
   "metadata": {},
   "outputs": [],
   "source": [
    "\n",
    "def perm(clf, x_test, y_test, is_lr=False, k=10):\n",
    "    importances = []\n",
    "    for j in range(X.shape[1]):\n",
    "        score = 0\n",
    "        x_t = x_test.copy()\n",
    "        for _ in range(k):\n",
    "            x_t[:, j] = np.random.permutation(x_t[:, j])\n",
    "            y_pred = clf.predict(x_t) if is_lr else clf.predict_proba(x_t)[:,1]\n",
    "            score += 1 - roc_auc_score(y_test, y_pred)\n",
    "        importances.append((j, score/k))\n",
    "    \n",
    "    return np.array(importances)\n",
    "\n",
    "\n",
    "def plot_importance_raw(chart, features):\n",
    "    chart = chart[chart[:,1].argsort()]\n",
    "    idx, importance = chart[:,0], chart[:,1]\n",
    "    plt.bar(features[idx.astype(int)], importance)\n",
    "\n",
    "    \n",
    "def display_perm_importance(clf, x_test, y_test, features, is_lr=False):\n",
    "    chart = perm(clf, x_test, y_test, is_lr)\n",
    "    plt.figure(figsize=(10,10))\n",
    "    plot_importance_raw(chart, features)"
   ]
  },
  {
   "cell_type": "code",
   "execution_count": 87,
   "metadata": {},
   "outputs": [
    {
     "data": {
      "image/png": "[encoded data removed]",
      "text/plain": [
       "<matplotlib.figure.Figure at 0x7f2d089a0a58>"
      ]
     },
     "metadata": {
      "needs_background": "light"
     },
     "output_type": "display_data"
    }
   ],
   "source": [
    "display_perm_importance(bb_clf_xgb, x_test, y_test, relevant_features, is_lr=False)"
   ]
  },
  {
   "cell_type": "code",
   "execution_count": 88,
   "metadata": {},
   "outputs": [
    {
     "data": {
      "image/png": "[encoded data removed]",
      "text/plain": [
       "<matplotlib.figure.Figure at 0x7f2d0878e0f0>"
      ]
     },
     "metadata": {
      "needs_background": "light"
     },
     "output_type": "display_data"
    }
   ],
   "source": [
    "display_perm_importance(bb_clf_lr, x_test, y_test, relevant_features, is_lr=True)"
   ]
  },
  {
   "cell_type": "markdown",
   "metadata": {},
   "source": [
    "# ALE- Plot"
   ]
  },
  {
   "cell_type": "code",
   "execution_count": 92,
   "metadata": {},
   "outputs": [],
   "source": [
    "def ale_plot(model, S, df, k=50, is_lr=False):\n",
    "    estimator = []\n",
    "    points = np.linspace(df[S].min(), df[S].max(), 20)\n",
    "    df_c = df.copy()\n",
    "    bound = df_c[S].quantile(np.linspace(0, 1, k+1)).values\n",
    "    df_c[\"which_interval\"] = df_c[S].apply(lambda x: (x <= bound[1:]).argmax())\n",
    "    df_c_grouped = df_c.groupby(by=\"which_interval\")\n",
    "    for x in points:\n",
    "        est = 0\n",
    "        for i, sub_df in df_c_grouped:\n",
    "            sub_df = sub_df.drop(columns=[\"which_interval\"])\n",
    "            df_c1 = sub_df.copy()\n",
    "            df_c2 = sub_df.copy()\n",
    "            df_c1[S] = bound[i]\n",
    "            df_c2[S] = bound[i+1]\n",
    "            res = model.predict(df_c2.values) - model.predict(df_c1.values) if is_lr else model.predict_proba(df_c2.values)[:,1] - model.predict_proba(df_c1.values)[:,1]\n",
    "            res = res.sum() / sub_df.shape[0]\n",
    "            est += res\n",
    "            if bound[i+1] >= x:\n",
    "                break\n",
    "                \n",
    "        estimator.append((x, est))\n",
    "    \n",
    "    estimator = np.array(estimator)\n",
    "    estimator[:, 1] -= estimator[:,1].mean()\n",
    "    plt.grid(linewidth=0.25)\n",
    "    plt.xlabel(\"feature: {}\".format(S))\n",
    "    plt.ylabel(\"marriage probability centralized\")\n",
    "    plt.plot(estimator[:, 0], estimator[:, 1])\n",
    "    \n",
    "        "
   ]
  },
  {
   "cell_type": "code",
   "execution_count": 96,
   "metadata": {},
   "outputs": [
    {
     "data": {
      "image/png": "[encoded data removed]",
      "text/plain": [
       "<matplotlib.figure.Figure at 0x7f2d0892e9e8>"
      ]
     },
     "metadata": {
      "needs_background": "light"
     },
     "output_type": "display_data"
    }
   ],
   "source": [
    "\n",
    "K = 50\n",
    "fig = plt.figure(figsize=(15, 6))\n",
    "plt.subplot(1, 2, 1)\n",
    "plt.title(\"xgb\")\n",
    "ale_plot(bb_clf_xgb, S=float_feat[1], df=df_X, k=K, is_lr=False)\n",
    "\n",
    "plt.subplot(1, 2, 2)\n",
    "plt.title(\"logistic reg\")\n",
    "ale_plot(bb_clf_lr, S=float_feat[1], df=df_X, k=K, is_lr=True)\n",
    "\n",
    "plt.show()"
   ]
  },
  {
   "cell_type": "markdown",
   "metadata": {},
   "source": [
    "# Wnioski"
   ]
  },
  {
   "cell_type": "markdown",
   "metadata": {},
   "source": [
    "Modele nie różnily się od siebie zbytnio, więc nawet cecha najbardziej je rozróżniająca, nie ukazuje za dużo różnic. Widzimy jedynie, iż estymator regresyjny, posiada gładszy przebieg"
   ]
  },
  {
   "cell_type": "code",
   "execution_count": null,
   "metadata": {},
   "outputs": [],
   "source": []
  }
 ],
 "metadata": {
  "kernelspec": {
   "display_name": "Python 3",
   "language": "python",
   "name": "python3"
  },
  "language_info": {
   "codemirror_mode": {
    "name": "ipython",
    "version": 3
   },
   "file_extension": ".py",
   "mimetype": "text/x-python",
   "name": "python",
   "nbconvert_exporter": "python",
   "pygments_lexer": "ipython3",
   "version": "3.6.7"
  }
 },
 "nbformat": 4,
 "nbformat_minor": 2
}
