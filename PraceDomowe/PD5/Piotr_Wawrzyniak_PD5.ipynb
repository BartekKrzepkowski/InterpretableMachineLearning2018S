{
 "cells": [
  {
   "cell_type": "code",
   "execution_count": 1,
   "metadata": {},
   "outputs": [],
   "source": [
    "%matplotlib inline"
   ]
  },
  {
   "cell_type": "code",
   "execution_count": 2,
   "metadata": {
    "ExecuteTime": {
     "end_time": "2019-03-05T22:19:42.074494Z",
     "start_time": "2019-03-05T22:19:38.532581Z"
    }
   },
   "outputs": [],
   "source": [
    "import numpy as np\n",
    "import pandas as pd\n",
    "import matplotlib.pyplot as plt\n",
    "import xgboost as xgb\n",
    "import waterfall_chart\n",
    "import random\n",
    "from sklearn.ensemble import RandomForestClassifier\n",
    "from sklearn.model_selection import cross_val_score, train_test_split\n",
    "from sklearn.svm import SVC\n",
    "from sklearn.metrics import accuracy_score\n",
    "from collections import defaultdict"
   ]
  },
  {
   "cell_type": "code",
   "execution_count": 3,
   "metadata": {
    "ExecuteTime": {
     "end_time": "2019-03-05T22:19:44.324701Z",
     "start_time": "2019-03-05T22:19:42.079480Z"
    }
   },
   "outputs": [],
   "source": [
    "df = pd.read_stata(\"HCMST 2017 fresh sample for public sharing draft v1.1.dta\")"
   ]
  },
  {
   "cell_type": "markdown",
   "metadata": {},
   "source": [
    "### Wybór zmiennych"
   ]
  },
  {
   "cell_type": "code",
   "execution_count": 4,
   "metadata": {},
   "outputs": [],
   "source": [
    "df['y'] = 1 - df['S1'].cat.codes"
   ]
  },
  {
   "cell_type": "markdown",
   "metadata": {},
   "source": [
    "1. Zmienne jakościowe  \n",
    "a) `Q25` - Did you and [Partner name] attend the same high school?  \n",
    "b) `ppmarit` -  Marital Status  \n",
    "\n",
    "2. Zmienne ilościowe  \n",
    "a) `ppincimp` - Household Income  \n",
    "b) `Q16` - How many of your relatives do you see in person at least once a month?\n",
    " Include parents, brothers and sisters, uncles, aunts, cousins,\n",
    " grandparents, or others.   "
   ]
  },
  {
   "cell_type": "code",
   "execution_count": 5,
   "metadata": {},
   "outputs": [],
   "source": [
    "columns = ['Q25', 'ppmarit', 'ppincimp', 'Q16', 'y']"
   ]
  },
  {
   "cell_type": "code",
   "execution_count": 6,
   "metadata": {
    "scrolled": true
   },
   "outputs": [],
   "source": [
    "df = df[columns].dropna()"
   ]
  },
  {
   "cell_type": "code",
   "execution_count": 7,
   "metadata": {},
   "outputs": [],
   "source": [
    "X = df[columns[:4]].copy()\n",
    "X.loc[:, columns[:3]] = X[columns[:3]].apply(lambda x: x.cat.codes, axis=0)\n",
    "y = df['y']"
   ]
  },
  {
   "cell_type": "markdown",
   "metadata": {},
   "source": [
    "### Model"
   ]
  },
  {
   "cell_type": "code",
   "execution_count": 8,
   "metadata": {},
   "outputs": [],
   "source": [
    "X_train, X_test, y_train, y_test = train_test_split(X, y, test_size=0.33, random_state=42)"
   ]
  },
  {
   "cell_type": "code",
   "execution_count": 9,
   "metadata": {},
   "outputs": [],
   "source": [
    "gbm = xgb.XGBClassifier(learning_rate =0.1, n_estimators=50, max_depth=8, objective='binary:logistic', seed=27)\n",
    "rf = RandomForestClassifier(n_estimators=100)\n",
    "svc = SVC(gamma='scale', probability=True, random_state=123)\n",
    "models = dict(zip([\"XGBoost\", \"RandomForest\", \"SupportVectorMachine\"], [gbm, rf, svc]))"
   ]
  },
  {
   "cell_type": "code",
   "execution_count": 10,
   "metadata": {},
   "outputs": [
    {
     "name": "stdout",
     "output_type": "stream",
     "text": [
      "[XGBoost] Cross validation score: 0.9471153470576985\n",
      "[RandomForest] Cross validation score: 0.938652832670235\n",
      "[SupportVectorMachine] Cross validation score: 0.9407667551353578\n"
     ]
    }
   ],
   "source": [
    "for name, model in models.items():\n",
    "    scores = cross_val_score(model, X, y, cv=5)\n",
    "    print(f\"[{name}] Cross validation score: {scores.mean()}\")"
   ]
  },
  {
   "cell_type": "code",
   "execution_count": 11,
   "metadata": {},
   "outputs": [],
   "source": [
    "for key in models.keys():\n",
    "    models[key] = models[key].fit(X, y)"
   ]
  },
  {
   "cell_type": "markdown",
   "metadata": {},
   "source": [
    "## Feature importance"
   ]
  },
  {
   "cell_type": "code",
   "execution_count": 12,
   "metadata": {},
   "outputs": [],
   "source": [
    "def permutation_loss_decrease(model, X, y):\n",
    "    accuracy_results = defaultdict(list)\n",
    "    base_accuracy = accuracy_score(y, model.predict(X))\n",
    "    for i in range(100):\n",
    "        for column in X.columns:\n",
    "            X_trasformed = X.copy()\n",
    "            X_trasformed[column] = np.random.permutation(X_trasformed[column].values)\n",
    "            accuracy = accuracy_score(y, model.predict(X_trasformed))\n",
    "            accuracy_results[column].append(base_accuracy - accuracy)\n",
    "    return dict([(key, np.mean(values)) for key, values in accuracy_results.items()])"
   ]
  },
  {
   "cell_type": "code",
   "execution_count": 13,
   "metadata": {},
   "outputs": [
    {
     "name": "stdout",
     "output_type": "stream",
     "text": [
      "[XGBoost] Feature importance: {'Q25': 0.0015867418899858632, 'ppmarit': 0.36467207334273616, 'ppincimp': 0.010098730606487964, 'Q16': 0.008053596614950599}\n",
      "[RandomForest] Feature importance: {'Q25': 0.009629760225669914, 'ppmarit': 0.3712552891396333, 'ppincimp': 0.028938645980253867, 'Q16': 0.028444992947813805}\n",
      "[SupportVectorMachine] Feature importance: {'Q25': 0.0, 'ppmarit': 0.34363540197461206, 'ppincimp': 0.0003561354019745866, 'Q16': 0.00035613540197458436}\n"
     ]
    }
   ],
   "source": [
    "results = defaultdict(list)\n",
    "for name, model in models.items():\n",
    "    scores = permutation_loss_decrease(model, X, y)\n",
    "    print(f\"[{name}] Feature importance: {scores}\")\n",
    "    results[name].append(scores)"
   ]
  },
  {
   "cell_type": "code",
   "execution_count": 18,
   "metadata": {},
   "outputs": [
    {
     "data": {
      "image/png": "[encoded data removed]",
      "text/plain": [
       "<Figure size 864x504 with 1 Axes>"
      ]
     },
     "metadata": {},
     "output_type": "display_data"
    }
   ],
   "source": [
    "index = np.arange(4)\n",
    "bar_width = 0.2\n",
    "\n",
    "fig, ax = plt.subplots()\n",
    "fig.set_figheight(7)\n",
    "fig.set_figwidth(12)\n",
    "\n",
    "for idx, (key, column_values) in enumerate(results.items()):\n",
    "    ax_bar = ax.bar(index+idx*bar_width, column_values[0].values(), bar_width, label=key)\n",
    "\n",
    "ax.set_xlabel('Column')\n",
    "ax.set_ylabel('Importance')\n",
    "ax.set_title('Feature importance')\n",
    "ax.set_xticks(index + 1 * bar_width)\n",
    "ax.set_xticklabels(X.columns)\n",
    "ax.legend()\n",
    "\n",
    "plt.show()"
   ]
  },
  {
   "cell_type": "markdown",
   "metadata": {},
   "source": [
    "Najbardziej różniącującą zmienną jest `ppincimp` (Household Income). W przypadku lasu losowego zmiana tej wartości powoduje duże pogorszenie wyników. XGBoost (najlepszy z predyktorów) notuje delikatnie gorsze wyniki a SVM wydaje się zupełnie nie korzystać z tej cechy."
   ]
  },
  {
   "cell_type": "markdown",
   "metadata": {},
   "source": [
    "## ALE plot (ppincimp)"
   ]
  },
  {
   "cell_type": "code",
   "execution_count": 19,
   "metadata": {},
   "outputs": [],
   "source": [
    "def ale_plot(model, model_name, X, y, splits, variable):\n",
    "    diffs = [0]\n",
    "    for i in range(1, len(splits)):\n",
    "        X[variable] = X[variable].astype('float')\n",
    "        points = X[(X[variable] >= splits[i - 1]) & (X[variable] <= splits[i])]\n",
    "        forward_points = points.copy()\n",
    "        forward_points[variable] = splits[i]\n",
    "        backward_points = points.copy()\n",
    "        backward_points[variable] = splits[i - 1]\n",
    "        difference = np.mean(model.predict_proba(forward_points)[::, 1] - model.predict_proba(backward_points)[::, 1])\n",
    "        diffs.append(difference)\n",
    "    ale_values = np.cumsum(diffs)\n",
    "    plt.plot(splits, ale_values, label=model_name)"
   ]
  },
  {
   "cell_type": "code",
   "execution_count": 20,
   "metadata": {},
   "outputs": [],
   "source": [
    "splits = sorted(X[\"ppincimp\"].unique())"
   ]
  },
  {
   "cell_type": "code",
   "execution_count": 21,
   "metadata": {},
   "outputs": [
    {
     "data": {
      "text/plain": [
       "<matplotlib.legend.Legend at 0x29b31c130f0>"
      ]
     },
     "execution_count": 21,
     "metadata": {},
     "output_type": "execute_result"
    },
    {
     "data": {
      "image/png": "[encoded data removed]",
      "text/plain": [
       "<Figure size 432x288 with 1 Axes>"
      ]
     },
     "metadata": {},
     "output_type": "display_data"
    }
   ],
   "source": [
    "for name, model in models.items():\n",
    "    ale_plot(model, name, X, y, splits, \"ppincimp\")\n",
    "plt.legend([name for name, model in models.items()])"
   ]
  },
  {
   "cell_type": "markdown",
   "metadata": {},
   "source": [
    "Wyniki są dość zaskakujące ze względu na przeciwne kierunki średniego wpływu przywidywania dla modeli XGBoost i lasu losowego do przewidywań support vector machine.  \n",
    "\n",
    "\n",
    "Dodatkowo zmiana przewidywań dla SVM wydaje się dosyć istotna podczas analizy wykresu ALE, a zupełnie inne wnioski daje analiza ważności zmiennej za pomocą techniki spadeku funkcji loss po perturbacjach.  \n",
    "\n",
    "Może to być związane z generowaniem nienaturalnych przypadków w przypadku pierwszej metody. Nienaturalne rekordy mogą powstawać ze względu na wysoką korelację między zmiennymi `ppmarit` i `ppincimp`"
   ]
  },
  {
   "cell_type": "code",
   "execution_count": 23,
   "metadata": {},
   "outputs": [
    {
     "data": {
      "text/html": [
       "<div>\n",
       "<style scoped>\n",
       "    .dataframe tbody tr th:only-of-type {\n",
       "        vertical-align: middle;\n",
       "    }\n",
       "\n",
       "    .dataframe tbody tr th {\n",
       "        vertical-align: top;\n",
       "    }\n",
       "\n",
       "    .dataframe thead th {\n",
       "        text-align: right;\n",
       "    }\n",
       "</style>\n",
       "<table border=\"1\" class=\"dataframe\">\n",
       "  <thead>\n",
       "    <tr style=\"text-align: right;\">\n",
       "      <th></th>\n",
       "      <th>Q25</th>\n",
       "      <th>ppmarit</th>\n",
       "      <th>ppincimp</th>\n",
       "      <th>Q16</th>\n",
       "    </tr>\n",
       "  </thead>\n",
       "  <tbody>\n",
       "    <tr>\n",
       "      <th>Q25</th>\n",
       "      <td>1.000000</td>\n",
       "      <td>0.020233</td>\n",
       "      <td>0.055684</td>\n",
       "      <td>-0.092281</td>\n",
       "    </tr>\n",
       "    <tr>\n",
       "      <th>ppmarit</th>\n",
       "      <td>0.020233</td>\n",
       "      <td>1.000000</td>\n",
       "      <td>-0.273098</td>\n",
       "      <td>0.033319</td>\n",
       "    </tr>\n",
       "    <tr>\n",
       "      <th>ppincimp</th>\n",
       "      <td>0.055684</td>\n",
       "      <td>-0.273098</td>\n",
       "      <td>1.000000</td>\n",
       "      <td>-0.070839</td>\n",
       "    </tr>\n",
       "    <tr>\n",
       "      <th>Q16</th>\n",
       "      <td>-0.092281</td>\n",
       "      <td>0.033319</td>\n",
       "      <td>-0.070839</td>\n",
       "      <td>1.000000</td>\n",
       "    </tr>\n",
       "  </tbody>\n",
       "</table>\n",
       "</div>"
      ],
      "text/plain": [
       "               Q25   ppmarit  ppincimp       Q16\n",
       "Q25       1.000000  0.020233  0.055684 -0.092281\n",
       "ppmarit   0.020233  1.000000 -0.273098  0.033319\n",
       "ppincimp  0.055684 -0.273098  1.000000 -0.070839\n",
       "Q16      -0.092281  0.033319 -0.070839  1.000000"
      ]
     },
     "execution_count": 23,
     "metadata": {},
     "output_type": "execute_result"
    }
   ],
   "source": [
    "X.corr()"
   ]
  }
 ],
 "metadata": {
  "kernelspec": {
   "display_name": "Python 3",
   "language": "python",
   "name": "python3"
  },
  "language_info": {
   "codemirror_mode": {
    "name": "ipython",
    "version": 3
   },
   "file_extension": ".py",
   "mimetype": "text/x-python",
   "name": "python",
   "nbconvert_exporter": "python",
   "pygments_lexer": "ipython3",
   "version": "3.6.4"
  },
  "toc": {
   "base_numbering": 1,
   "nav_menu": {},
   "number_sections": true,
   "sideBar": true,
   "skip_h1_title": false,
   "title_cell": "Table of Contents",
   "title_sidebar": "Contents",
   "toc_cell": false,
   "toc_position": {},
   "toc_section_display": true,
   "toc_window_display": true
  }
 },
 "nbformat": 4,
 "nbformat_minor": 2
}
