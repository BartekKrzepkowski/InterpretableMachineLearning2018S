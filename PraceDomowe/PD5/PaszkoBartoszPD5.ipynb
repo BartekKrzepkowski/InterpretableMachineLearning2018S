{
 "cells": [
  {
   "cell_type": "code",
   "execution_count": 1,
   "metadata": {},
   "outputs": [],
   "source": [
    "%matplotlib inline"
   ]
  },
  {
   "cell_type": "code",
   "execution_count": 2,
   "metadata": {},
   "outputs": [],
   "source": [
    "import pandas as pd\n",
    "import numpy as np\n",
    "import xgboost as xgb\n",
    "import matplotlib.pyplot as plt\n",
    "\n",
    "import itertools\n",
    "\n",
    "from sklearn.linear_model import LogisticRegression\n",
    "from sklearn.svm import SVC\n",
    "from sklearn.ensemble import RandomForestClassifier\n",
    "from sklearn.model_selection import train_test_split\n",
    "from sklearn.metrics import accuracy_score\n",
    "\n",
    "from collections import defaultdict"
   ]
  },
  {
   "cell_type": "code",
   "execution_count": 3,
   "metadata": {},
   "outputs": [],
   "source": [
    "pd.options.mode.chained_assignment = None"
   ]
  },
  {
   "cell_type": "markdown",
   "metadata": {},
   "source": [
    "## Przegląd danych"
   ]
  },
  {
   "cell_type": "code",
   "execution_count": 4,
   "metadata": {},
   "outputs": [
    {
     "data": {
      "text/html": [
       "<div>\n",
       "<style scoped>\n",
       "    .dataframe tbody tr th:only-of-type {\n",
       "        vertical-align: middle;\n",
       "    }\n",
       "\n",
       "    .dataframe tbody tr th {\n",
       "        vertical-align: top;\n",
       "    }\n",
       "\n",
       "    .dataframe thead th {\n",
       "        text-align: right;\n",
       "    }\n",
       "</style>\n",
       "<table border=\"1\" class=\"dataframe\">\n",
       "  <thead>\n",
       "    <tr style=\"text-align: right;\">\n",
       "      <th></th>\n",
       "      <th>CaseID</th>\n",
       "      <th>CASEID_NEW</th>\n",
       "      <th>qflag</th>\n",
       "      <th>weight1</th>\n",
       "      <th>weight1_freqwt</th>\n",
       "      <th>weight2</th>\n",
       "      <th>weight1a</th>\n",
       "      <th>weight1a_freqwt</th>\n",
       "      <th>weight_combo</th>\n",
       "      <th>weight_combo_freqwt</th>\n",
       "      <th>...</th>\n",
       "      <th>hcm2017q24_met_through_family</th>\n",
       "      <th>hcm2017q24_met_through_friend</th>\n",
       "      <th>hcm2017q24_met_through_as_nghbrs</th>\n",
       "      <th>hcm2017q24_met_as_through_cowork</th>\n",
       "      <th>w6_subject_race</th>\n",
       "      <th>interracial_5cat</th>\n",
       "      <th>partner_mother_yrsed</th>\n",
       "      <th>subject_mother_yrsed</th>\n",
       "      <th>partner_yrsed</th>\n",
       "      <th>subject_yrsed</th>\n",
       "    </tr>\n",
       "  </thead>\n",
       "  <tbody>\n",
       "    <tr>\n",
       "      <th>0</th>\n",
       "      <td>2</td>\n",
       "      <td>2014039</td>\n",
       "      <td>Qualified</td>\n",
       "      <td>NaN</td>\n",
       "      <td>NaN</td>\n",
       "      <td>0.8945</td>\n",
       "      <td>NaN</td>\n",
       "      <td>NaN</td>\n",
       "      <td>0.277188</td>\n",
       "      <td>19240.0</td>\n",
       "      <td>...</td>\n",
       "      <td>no</td>\n",
       "      <td>no</td>\n",
       "      <td>no</td>\n",
       "      <td>no</td>\n",
       "      <td>White</td>\n",
       "      <td>no</td>\n",
       "      <td>12.0</td>\n",
       "      <td>14.0</td>\n",
       "      <td>12.0</td>\n",
       "      <td>14.0</td>\n",
       "    </tr>\n",
       "    <tr>\n",
       "      <th>1</th>\n",
       "      <td>3</td>\n",
       "      <td>2019003</td>\n",
       "      <td>Qualified</td>\n",
       "      <td>0.9078</td>\n",
       "      <td>71115.0</td>\n",
       "      <td>NaN</td>\n",
       "      <td>0.9026</td>\n",
       "      <td>70707.0</td>\n",
       "      <td>1.020621</td>\n",
       "      <td>70841.0</td>\n",
       "      <td>...</td>\n",
       "      <td>no</td>\n",
       "      <td>no</td>\n",
       "      <td>no</td>\n",
       "      <td>yes</td>\n",
       "      <td>White</td>\n",
       "      <td>no</td>\n",
       "      <td>12.0</td>\n",
       "      <td>16.0</td>\n",
       "      <td>17.0</td>\n",
       "      <td>17.0</td>\n",
       "    </tr>\n",
       "    <tr>\n",
       "      <th>2</th>\n",
       "      <td>5</td>\n",
       "      <td>2145527</td>\n",
       "      <td>Qualified</td>\n",
       "      <td>0.7205</td>\n",
       "      <td>56442.0</td>\n",
       "      <td>NaN</td>\n",
       "      <td>0.7164</td>\n",
       "      <td>56121.0</td>\n",
       "      <td>0.810074</td>\n",
       "      <td>56227.0</td>\n",
       "      <td>...</td>\n",
       "      <td>no</td>\n",
       "      <td>no</td>\n",
       "      <td>no</td>\n",
       "      <td>no</td>\n",
       "      <td>White</td>\n",
       "      <td>no</td>\n",
       "      <td>9.0</td>\n",
       "      <td>7.5</td>\n",
       "      <td>14.0</td>\n",
       "      <td>17.0</td>\n",
       "    </tr>\n",
       "    <tr>\n",
       "      <th>3</th>\n",
       "      <td>6</td>\n",
       "      <td>2648857</td>\n",
       "      <td>Qualified</td>\n",
       "      <td>1.2597</td>\n",
       "      <td>98682.0</td>\n",
       "      <td>1.3507</td>\n",
       "      <td>1.2524</td>\n",
       "      <td>98110.0</td>\n",
       "      <td>0.418556</td>\n",
       "      <td>29052.0</td>\n",
       "      <td>...</td>\n",
       "      <td>no</td>\n",
       "      <td>no</td>\n",
       "      <td>no</td>\n",
       "      <td>no</td>\n",
       "      <td>White</td>\n",
       "      <td>no</td>\n",
       "      <td>16.0</td>\n",
       "      <td>12.0</td>\n",
       "      <td>12.0</td>\n",
       "      <td>12.0</td>\n",
       "    </tr>\n",
       "    <tr>\n",
       "      <th>4</th>\n",
       "      <td>7</td>\n",
       "      <td>2623465</td>\n",
       "      <td>Qualified</td>\n",
       "      <td>0.8686</td>\n",
       "      <td>68044.0</td>\n",
       "      <td>NaN</td>\n",
       "      <td>0.8636</td>\n",
       "      <td>67652.0</td>\n",
       "      <td>0.976522</td>\n",
       "      <td>67781.0</td>\n",
       "      <td>...</td>\n",
       "      <td>no</td>\n",
       "      <td>no</td>\n",
       "      <td>yes</td>\n",
       "      <td>no</td>\n",
       "      <td>White</td>\n",
       "      <td>no</td>\n",
       "      <td>14.0</td>\n",
       "      <td>17.0</td>\n",
       "      <td>16.0</td>\n",
       "      <td>16.0</td>\n",
       "    </tr>\n",
       "  </tbody>\n",
       "</table>\n",
       "<p>5 rows × 285 columns</p>\n",
       "</div>"
      ],
      "text/plain": [
       "   CaseID  CASEID_NEW      qflag  weight1  weight1_freqwt  weight2  weight1a  \\\n",
       "0       2     2014039  Qualified      NaN             NaN   0.8945       NaN   \n",
       "1       3     2019003  Qualified   0.9078         71115.0      NaN    0.9026   \n",
       "2       5     2145527  Qualified   0.7205         56442.0      NaN    0.7164   \n",
       "3       6     2648857  Qualified   1.2597         98682.0   1.3507    1.2524   \n",
       "4       7     2623465  Qualified   0.8686         68044.0      NaN    0.8636   \n",
       "\n",
       "   weight1a_freqwt  weight_combo  weight_combo_freqwt  ...  \\\n",
       "0              NaN      0.277188              19240.0  ...   \n",
       "1          70707.0      1.020621              70841.0  ...   \n",
       "2          56121.0      0.810074              56227.0  ...   \n",
       "3          98110.0      0.418556              29052.0  ...   \n",
       "4          67652.0      0.976522              67781.0  ...   \n",
       "\n",
       "   hcm2017q24_met_through_family hcm2017q24_met_through_friend  \\\n",
       "0                             no                            no   \n",
       "1                             no                            no   \n",
       "2                             no                            no   \n",
       "3                             no                            no   \n",
       "4                             no                            no   \n",
       "\n",
       "  hcm2017q24_met_through_as_nghbrs hcm2017q24_met_as_through_cowork  \\\n",
       "0                               no                               no   \n",
       "1                               no                              yes   \n",
       "2                               no                               no   \n",
       "3                               no                               no   \n",
       "4                              yes                               no   \n",
       "\n",
       "  w6_subject_race interracial_5cat partner_mother_yrsed subject_mother_yrsed  \\\n",
       "0           White               no                 12.0                 14.0   \n",
       "1           White               no                 12.0                 16.0   \n",
       "2           White               no                  9.0                  7.5   \n",
       "3           White               no                 16.0                 12.0   \n",
       "4           White               no                 14.0                 17.0   \n",
       "\n",
       "  partner_yrsed subject_yrsed  \n",
       "0          12.0          14.0  \n",
       "1          17.0          17.0  \n",
       "2          14.0          17.0  \n",
       "3          12.0          12.0  \n",
       "4          16.0          16.0  \n",
       "\n",
       "[5 rows x 285 columns]"
      ]
     },
     "execution_count": 4,
     "metadata": {},
     "output_type": "execute_result"
    }
   ],
   "source": [
    "seed = 20\n",
    "\n",
    "df = pd.read_stata('../data/HCMST 2017 fresh sample for public sharing draft v1.1.dta')\n",
    "df.head()"
   ]
  },
  {
   "cell_type": "markdown",
   "metadata": {},
   "source": [
    "### Wybrane zmienne\n",
    "\n",
    "* Numeryczne\n",
    "    * age_when_met \n",
    "    * time_from_met_to_rel\n",
    "<br><br>\n",
    "* Kategoryczne\n",
    "    * ppagecat\n",
    "    * ppincimp"
   ]
  },
  {
   "cell_type": "code",
   "execution_count": 5,
   "metadata": {},
   "outputs": [],
   "source": [
    "num_feature1 = 'age_when_met'  # age when met in years,\n",
    "num_feature2 = 'time_from_met_to_rel'  # Time from meeting to relationship\n",
    "cat_feature1 = 'ppagecat'  # Age - 7 Categories\n",
    "cat_feature2 = 'ppincimp'  # Household Income \n",
    "label = 'S1'  # Are you married?"
   ]
  },
  {
   "cell_type": "markdown",
   "metadata": {},
   "source": [
    "#### Zakodowanie danych kategorycznych"
   ]
  },
  {
   "cell_type": "code",
   "execution_count": 6,
   "metadata": {},
   "outputs": [],
   "source": [
    "incomes = [\n",
    "    'Less than $5,000',\n",
    "    '$5,000 to $7,499',\n",
    "    '$7,500 to $9,999',\n",
    "    '$10,000 to $12,499', \n",
    "    '$12,500 to $14,999',\n",
    "    '$15,000 to $19,999',\n",
    "    '$20,000 to $24,999',\n",
    "    '$25,000 to $29,999',\n",
    "    '$30,000 to $34,999',\n",
    "    '$35,000 to $39,999',\n",
    "    '$40,000 to $49,999',\n",
    "    '$50,000 to $59,999',\n",
    "    '$60,000 to $74,999',\n",
    "    '$75,000 to $84,999',\n",
    "    '$85,000 to $99,999',\n",
    "    '$100,000 to $124,999', \n",
    "    '$125,000 to $149,999', \n",
    "    '$150,000 to $174,999', \n",
    "    '$175,000 to $199,999', \n",
    "    '$200,000 to $249,999', \n",
    "    '$250,000 or more',      \n",
    "]\n",
    "\n",
    "ages = [\n",
    "    '18-24', \n",
    "    '25-34', \n",
    "    '35-44', \n",
    "    '45-54', \n",
    "    '55-64', \n",
    "    '65-74', \n",
    "    '75+'\n",
    "]\n",
    "\n",
    "income_encoder = {inc: i for i, inc in enumerate(incomes)}\n",
    "age_encoder = {age: i for i, age in enumerate(ages)}"
   ]
  },
  {
   "cell_type": "code",
   "execution_count": 7,
   "metadata": {},
   "outputs": [
    {
     "data": {
      "text/html": [
       "<div>\n",
       "<style scoped>\n",
       "    .dataframe tbody tr th:only-of-type {\n",
       "        vertical-align: middle;\n",
       "    }\n",
       "\n",
       "    .dataframe tbody tr th {\n",
       "        vertical-align: top;\n",
       "    }\n",
       "\n",
       "    .dataframe thead th {\n",
       "        text-align: right;\n",
       "    }\n",
       "</style>\n",
       "<table border=\"1\" class=\"dataframe\">\n",
       "  <thead>\n",
       "    <tr style=\"text-align: right;\">\n",
       "      <th></th>\n",
       "      <th>age_when_met</th>\n",
       "      <th>time_from_met_to_rel</th>\n",
       "      <th>ppagecat</th>\n",
       "      <th>ppincimp</th>\n",
       "      <th>S1</th>\n",
       "    </tr>\n",
       "  </thead>\n",
       "  <tbody>\n",
       "    <tr>\n",
       "      <th>0</th>\n",
       "      <td>30.0</td>\n",
       "      <td>0.000000</td>\n",
       "      <td>1</td>\n",
       "      <td>10</td>\n",
       "      <td>0</td>\n",
       "    </tr>\n",
       "    <tr>\n",
       "      <th>1</th>\n",
       "      <td>21.0</td>\n",
       "      <td>12.250000</td>\n",
       "      <td>4</td>\n",
       "      <td>17</td>\n",
       "      <td>1</td>\n",
       "    </tr>\n",
       "    <tr>\n",
       "      <th>2</th>\n",
       "      <td>36.0</td>\n",
       "      <td>0.416748</td>\n",
       "      <td>3</td>\n",
       "      <td>19</td>\n",
       "      <td>1</td>\n",
       "    </tr>\n",
       "    <tr>\n",
       "      <th>3</th>\n",
       "      <td>23.0</td>\n",
       "      <td>1.083252</td>\n",
       "      <td>1</td>\n",
       "      <td>10</td>\n",
       "      <td>0</td>\n",
       "    </tr>\n",
       "    <tr>\n",
       "      <th>4</th>\n",
       "      <td>25.0</td>\n",
       "      <td>0.083252</td>\n",
       "      <td>4</td>\n",
       "      <td>18</td>\n",
       "      <td>1</td>\n",
       "    </tr>\n",
       "  </tbody>\n",
       "</table>\n",
       "</div>"
      ],
      "text/plain": [
       "   age_when_met  time_from_met_to_rel  ppagecat  ppincimp S1\n",
       "0          30.0              0.000000         1        10  0\n",
       "1          21.0             12.250000         4        17  1\n",
       "2          36.0              0.416748         3        19  1\n",
       "3          23.0              1.083252         1        10  0\n",
       "4          25.0              0.083252         4        18  1"
      ]
     },
     "execution_count": 7,
     "metadata": {},
     "output_type": "execute_result"
    }
   ],
   "source": [
    "df = df[[num_feature1, num_feature2, cat_feature1, cat_feature2, label]]\n",
    "df = df.dropna()\n",
    "\n",
    "df[cat_feature1] = df[cat_feature1].apply(lambda x: age_encoder[x]).astype(np.int)\n",
    "df[cat_feature2] = df[cat_feature2].apply(lambda x: income_encoder[x]).astype(np.int) \n",
    "df[label] = df[label].apply(lambda x: 1 if x == 'Yes, I am Married' else 0)\n",
    "df.head()"
   ]
  },
  {
   "cell_type": "markdown",
   "metadata": {},
   "source": [
    "#### Podział na zbiory - treningowy i testowy"
   ]
  },
  {
   "cell_type": "code",
   "execution_count": 8,
   "metadata": {},
   "outputs": [],
   "source": [
    "X = df.drop(label, axis=1)\n",
    "y = df[label]\n",
    "train_X, test_X, train_y, test_y = train_test_split(X, y, random_state=seed)"
   ]
  },
  {
   "cell_type": "markdown",
   "metadata": {},
   "source": [
    "## Trening i walidacja modelu"
   ]
  },
  {
   "cell_type": "code",
   "execution_count": 9,
   "metadata": {},
   "outputs": [],
   "source": [
    "models = {\n",
    "    'xgboost': xgb.sklearn.XGBClassifier(learning_rate=0.01, n_estimators=300, reg_lambda=9, n_jobs=-1, random_state=seed),\n",
    "    'svm': SVC(gamma='scale', probability=True, random_state=seed),\n",
    "    'logistic regression': LogisticRegression(solver='lbfgs', random_state=seed),\n",
    "    'random forest': RandomForestClassifier(n_estimators=100, n_jobs=-1, random_state=seed),\n",
    "}\n",
    "\n",
    "for _, model in models.items():\n",
    "    model.fit(train_X, train_y)"
   ]
  },
  {
   "cell_type": "code",
   "execution_count": 10,
   "metadata": {},
   "outputs": [
    {
     "name": "stdout",
     "output_type": "stream",
     "text": [
      "Accuracy: 77.82% - xgboost\n",
      "Accuracy: 77.70% - svm\n",
      "Accuracy: 77.45% - logistic regression\n",
      "Accuracy: 74.75% - random forest\n"
     ]
    }
   ],
   "source": [
    "for name, model in models.items():\n",
    "    pred_y = model.predict(test_X)\n",
    "    score = accuracy_score(pred_y, test_y)\n",
    "    print(f'Accuracy: {(score*100):.2f}% - {name}')"
   ]
  },
  {
   "cell_type": "markdown",
   "metadata": {},
   "source": [
    "### Wpływ zmiennych na działanie modeli"
   ]
  },
  {
   "cell_type": "code",
   "execution_count": 11,
   "metadata": {},
   "outputs": [],
   "source": [
    "def feature_importance(model, x, y):\n",
    "    accs = defaultdict(list)\n",
    "    original_acc = accuracy_score(y, model.predict(x))\n",
    "    for i in range(100):\n",
    "        for col in x.columns:\n",
    "            tmp_x = x.copy()\n",
    "            tmp_x[col] = np.random.permutation(tmp_x[col].values)\n",
    "            pred_y = model.predict(tmp_x)\n",
    "            feature_acc = accuracy_score(y, pred_y)\n",
    "            accs[col].append(original_acc - feature_acc)\n",
    "    for k in accs:\n",
    "        accs[k] = np.mean(accs[k])\n",
    "    return accs"
   ]
  },
  {
   "cell_type": "code",
   "execution_count": 12,
   "metadata": {},
   "outputs": [],
   "source": [
    "importances = {}\n",
    "\n",
    "for name, model in models.items():\n",
    "    custom_imp = feature_importance(model, test_X, test_y)\n",
    "    importances[name] = custom_imp"
   ]
  },
  {
   "cell_type": "code",
   "execution_count": 13,
   "metadata": {},
   "outputs": [
    {
     "data": {
      "image/png": "[encoded data removed]",
      "text/plain": [
       "<Figure size 720x432 with 1 Axes>"
      ]
     },
     "metadata": {
      "needs_background": "light"
     },
     "output_type": "display_data"
    }
   ],
   "source": [
    "bar_width = 0.2\n",
    "plt.figure(figsize=(10,6))\n",
    "for i, (name, model_importances) in enumerate(importances.items()):\n",
    "    plt.bar(np.arange(len(model_importances))+i*bar_width, model_importances.values(), bar_width, label=name)\n",
    "\n",
    "plt.xticks(np.array(range(len(custom_imp)))+bar_width*len(importances)/2-1/8, custom_imp.keys())\n",
    "plt.title('Feature importances')\n",
    "plt.legend()\n",
    "plt.show()"
   ]
  },
  {
   "cell_type": "markdown",
   "metadata": {},
   "source": [
    "### Porównanie ALEplots dla wybranej zmiennej"
   ]
  },
  {
   "cell_type": "code",
   "execution_count": 14,
   "metadata": {},
   "outputs": [],
   "source": [
    "def calculate_ALE(model, df, feature, n_points):\n",
    "    f_min, f_max = df[feature].min(), df[feature].max() \n",
    "    f_idx = df.columns.get_loc(feature)\n",
    "    grid_values = np.linspace(f_min, f_max, n_points)\n",
    "    accumulated_effects = [0]\n",
    "     \n",
    "    for i in range(n_points-1):\n",
    "        val_a, val_b = grid_values[i], grid_values[i+1]\n",
    "        samples = df.loc[(df[feature] >= val_a) & (df[feature] < val_b), :]\n",
    "        samples[feature] = val_a\n",
    "        if len(samples) == 0:\n",
    "            accumulated_effects.append(accumulated_effects[-1])\n",
    "        else:\n",
    "            preds_a = model.predict_proba(samples)[:, 1]\n",
    "            samples.loc[:, feature] = val_b\n",
    "            preds_b = model.predict_proba(samples)[:, 1]\n",
    "            local_effect = np.mean(preds_b - preds_a)\n",
    "            acc_loc_effect = accumulated_effects[-1] + local_effect\n",
    "            accumulated_effects.append(acc_loc_effect)\n",
    "    \n",
    "    return grid_values, accumulated_effects\n",
    "\n",
    "\n",
    "def compare_ALE(models, x, feature, n_points):\n",
    "    fig = plt.figure(figsize=(15, 8))\n",
    "    for name, model in models.items():\n",
    "        ale_vals = calculate_ALE(model, x, feature, n_points)\n",
    "        plt.plot(ale_vals[0], ale_vals[1], label=name)\n",
    "\n",
    "    plt.title(f'ALE plot for feature {feature}')\n",
    "    plt.legend()\n",
    "    plt.show()"
   ]
  },
  {
   "cell_type": "code",
   "execution_count": 15,
   "metadata": {},
   "outputs": [
    {
     "data": {
      "image/png": "[encoded data removed]",
      "text/plain": [
       "<Figure size 1080x576 with 1 Axes>"
      ]
     },
     "metadata": {
      "needs_background": "light"
     },
     "output_type": "display_data"
    }
   ],
   "source": [
    "chosen_models = ['random forest', 'xgboost', 'svm', 'logistic regression']\n",
    "to_compare = {name: models[name] for name in chosen_models}\n",
    "\n",
    "compare_ALE(to_compare, train_X, 'ppincimp', 21)"
   ]
  },
  {
   "cell_type": "markdown",
   "metadata": {},
   "source": [
    "### Wnioski\n",
    "\n",
    "Z pierwszego wykresu porównującego ważność zmiennych widać, że mają one porównywalny wpływ na wybrane modele. Największe różnice występują przy zmiennej **ppincimp**, która ma mniejszy wpływ na modele oparte na drzewach (xgboost, random forest).\n",
    "\n",
    "Po narysowaniu wykresów ALE dla wszystkich modeli, można ozauważyć, że te 2 modele zachowują się bardzo podobnie, jednak xgboost wykazuje mniejszą zmienność co może być przyczyną zastosowania silniejszej regularyzacji. Pozostałe modele wykazują podobny trend wzrostowy. Dla regresji logistycznej wykres jest liniowy co jest spowodowane naturą tego klasyfikatora. Widać także, że SVM cechuje się dużo mniejszą zmiennością i płynnym wykresem w porównaniu z modelami drzewiastymi.  "
   ]
  },
  {
   "cell_type": "code",
   "execution_count": null,
   "metadata": {},
   "outputs": [],
   "source": []
  }
 ],
 "metadata": {
  "kernelspec": {
   "display_name": "Python 3",
   "language": "python",
   "name": "python3"
  },
  "language_info": {
   "codemirror_mode": {
    "name": "ipython",
    "version": 3
   },
   "file_extension": ".py",
   "mimetype": "text/x-python",
   "name": "python",
   "nbconvert_exporter": "python",
   "pygments_lexer": "ipython3",
   "version": "3.7.3"
  }
 },
 "nbformat": 4,
 "nbformat_minor": 2
}
