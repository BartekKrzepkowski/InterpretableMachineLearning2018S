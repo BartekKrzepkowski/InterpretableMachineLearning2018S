{
 "cells": [
  {
   "cell_type": "code",
   "execution_count": 235,
   "metadata": {},
   "outputs": [],
   "source": [
    "%matplotlib inline\n",
    "\n",
    "import pandas as pd\n",
    "import numpy as np\n",
    "from sklearn.model_selection import train_test_split, RandomizedSearchCV, GridSearchCV\n",
    "from sklearn.ensemble import RandomForestClassifier\n",
    "import matplotlib.pyplot as plt"
   ]
  },
  {
   "cell_type": "code",
   "execution_count": 236,
   "metadata": {},
   "outputs": [],
   "source": [
    "df = pd.read_stata('../../../HCMST 2017 fresh sample for public sharing draft v1.1.dta')"
   ]
  },
  {
   "cell_type": "code",
   "execution_count": 237,
   "metadata": {},
   "outputs": [
    {
     "data": {
      "text/html": [
       "<div>\n",
       "<style>\n",
       "    .dataframe thead tr:only-child th {\n",
       "        text-align: right;\n",
       "    }\n",
       "\n",
       "    .dataframe thead th {\n",
       "        text-align: left;\n",
       "    }\n",
       "\n",
       "    .dataframe tbody tr th {\n",
       "        vertical-align: top;\n",
       "    }\n",
       "</style>\n",
       "<table border=\"1\" class=\"dataframe\">\n",
       "  <thead>\n",
       "    <tr style=\"text-align: right;\">\n",
       "      <th></th>\n",
       "      <th>time_from_met_to_rel</th>\n",
       "      <th>time_from_rel_to_cohab</th>\n",
       "      <th>Q25</th>\n",
       "      <th>Q12</th>\n",
       "      <th>S1</th>\n",
       "    </tr>\n",
       "  </thead>\n",
       "  <tbody>\n",
       "    <tr>\n",
       "      <th>0</th>\n",
       "      <td>0.000000</td>\n",
       "      <td>NaN</td>\n",
       "      <td>NaN</td>\n",
       "      <td>NaN</td>\n",
       "      <td>No, I am not Married</td>\n",
       "    </tr>\n",
       "    <tr>\n",
       "      <th>1</th>\n",
       "      <td>12.250000</td>\n",
       "      <td>0.500000</td>\n",
       "      <td>Different High School</td>\n",
       "      <td>Leans Republican</td>\n",
       "      <td>Yes, I am Married</td>\n",
       "    </tr>\n",
       "    <tr>\n",
       "      <th>2</th>\n",
       "      <td>0.416748</td>\n",
       "      <td>0.083252</td>\n",
       "      <td>Different High School</td>\n",
       "      <td>Leans Democrat</td>\n",
       "      <td>Yes, I am Married</td>\n",
       "    </tr>\n",
       "    <tr>\n",
       "      <th>3</th>\n",
       "      <td>1.083252</td>\n",
       "      <td>NaN</td>\n",
       "      <td>NaN</td>\n",
       "      <td>NaN</td>\n",
       "      <td>No, I am not Married</td>\n",
       "    </tr>\n",
       "    <tr>\n",
       "      <th>4</th>\n",
       "      <td>0.083252</td>\n",
       "      <td>0.833374</td>\n",
       "      <td>Different High School</td>\n",
       "      <td>Strong Democrat</td>\n",
       "      <td>Yes, I am Married</td>\n",
       "    </tr>\n",
       "  </tbody>\n",
       "</table>\n",
       "</div>"
      ],
      "text/plain": [
       "   time_from_met_to_rel  time_from_rel_to_cohab                    Q25  \\\n",
       "0              0.000000                     NaN                    NaN   \n",
       "1             12.250000                0.500000  Different High School   \n",
       "2              0.416748                0.083252  Different High School   \n",
       "3              1.083252                     NaN                    NaN   \n",
       "4              0.083252                0.833374  Different High School   \n",
       "\n",
       "                Q12                    S1  \n",
       "0               NaN  No, I am not Married  \n",
       "1  Leans Republican     Yes, I am Married  \n",
       "2    Leans Democrat     Yes, I am Married  \n",
       "3               NaN  No, I am not Married  \n",
       "4   Strong Democrat     Yes, I am Married  "
      ]
     },
     "execution_count": 237,
     "metadata": {},
     "output_type": "execute_result"
    }
   ],
   "source": [
    "chosen_cols = [\n",
    "    'time_from_met_to_rel',  # numeryczna - czas (w latach), który upłynął od poznania do wejścia w związek\n",
    "    'time_from_rel_to_cohab', # numeryczna - czas (w latach), który upłynął od wejścia w związek do zamieszkania razem\n",
    "    'Q25',  # jakościowa - czy uczęszczałeś z partnerem do tej samej szkoły średniej\n",
    "    'Q12', # jakościowa - jak partner opisuje swoje poglądy polityczne\n",
    "    'S1',  # output\n",
    "]\n",
    "\n",
    "df[chosen_cols].head()"
   ]
  },
  {
   "cell_type": "code",
   "execution_count": 238,
   "metadata": {},
   "outputs": [
    {
     "name": "stdout",
     "output_type": "stream",
     "text": [
      "time_from_met_to_rel      3263\n",
      "time_from_rel_to_cohab    2578\n",
      "Q25                       2856\n",
      "Q12                       2856\n",
      "S1                        3510\n",
      "dtype: int64\n",
      "==============================\n",
      "before drop: 3510\n",
      "after drop: 2354\n"
     ]
    },
    {
     "data": {
      "text/html": [
       "<div>\n",
       "<style>\n",
       "    .dataframe thead tr:only-child th {\n",
       "        text-align: right;\n",
       "    }\n",
       "\n",
       "    .dataframe thead th {\n",
       "        text-align: left;\n",
       "    }\n",
       "\n",
       "    .dataframe tbody tr th {\n",
       "        vertical-align: top;\n",
       "    }\n",
       "</style>\n",
       "<table border=\"1\" class=\"dataframe\">\n",
       "  <thead>\n",
       "    <tr style=\"text-align: right;\">\n",
       "      <th></th>\n",
       "      <th>time_from_met_to_rel</th>\n",
       "      <th>time_from_rel_to_cohab</th>\n",
       "      <th>Q25</th>\n",
       "      <th>Q12</th>\n",
       "      <th>S1</th>\n",
       "    </tr>\n",
       "  </thead>\n",
       "  <tbody>\n",
       "    <tr>\n",
       "      <th>1</th>\n",
       "      <td>12.250000</td>\n",
       "      <td>0.500000</td>\n",
       "      <td>Different High School</td>\n",
       "      <td>Leans Republican</td>\n",
       "      <td>1.0</td>\n",
       "    </tr>\n",
       "    <tr>\n",
       "      <th>2</th>\n",
       "      <td>0.416748</td>\n",
       "      <td>0.083252</td>\n",
       "      <td>Different High School</td>\n",
       "      <td>Leans Democrat</td>\n",
       "      <td>1.0</td>\n",
       "    </tr>\n",
       "    <tr>\n",
       "      <th>4</th>\n",
       "      <td>0.083252</td>\n",
       "      <td>0.833374</td>\n",
       "      <td>Different High School</td>\n",
       "      <td>Strong Democrat</td>\n",
       "      <td>1.0</td>\n",
       "    </tr>\n",
       "    <tr>\n",
       "      <th>5</th>\n",
       "      <td>0.500000</td>\n",
       "      <td>0.000000</td>\n",
       "      <td>Different High School</td>\n",
       "      <td>Undecided/Independent/Other</td>\n",
       "      <td>1.0</td>\n",
       "    </tr>\n",
       "    <tr>\n",
       "      <th>6</th>\n",
       "      <td>0.250000</td>\n",
       "      <td>2.583374</td>\n",
       "      <td>Different High School</td>\n",
       "      <td>Leans Republican</td>\n",
       "      <td>1.0</td>\n",
       "    </tr>\n",
       "  </tbody>\n",
       "</table>\n",
       "</div>"
      ],
      "text/plain": [
       "   time_from_met_to_rel  time_from_rel_to_cohab                    Q25  \\\n",
       "1             12.250000                0.500000  Different High School   \n",
       "2              0.416748                0.083252  Different High School   \n",
       "4              0.083252                0.833374  Different High School   \n",
       "5              0.500000                0.000000  Different High School   \n",
       "6              0.250000                2.583374  Different High School   \n",
       "\n",
       "                           Q12   S1  \n",
       "1             Leans Republican  1.0  \n",
       "2               Leans Democrat  1.0  \n",
       "4              Strong Democrat  1.0  \n",
       "5  Undecided/Independent/Other  1.0  \n",
       "6             Leans Republican  1.0  "
      ]
     },
     "execution_count": 238,
     "metadata": {},
     "output_type": "execute_result"
    }
   ],
   "source": [
    "# kilka parametrów danych\n",
    "print(df[chosen_cols].count())  # liczba niepustych wartości w każdej kolumnie \n",
    "print('=' * 30)\n",
    "print('before drop:', len(df[chosen_cols]))\n",
    "print('after drop:', len(df[chosen_cols].dropna()))  # liczba wierszy przed i po usunięciu niekompletnych wierszy\n",
    "\n",
    "cleaner_df = df[chosen_cols].dropna()\n",
    "cleaner_df['S1'] = cleaner_df['S1'].apply(lambda x: 1 if x == 'Yes, I am Married' else 0)\n",
    "cleaner_df['S1'] = cleaner_df['S1'].astype('float')  # przekształcenie kolumny wynikowej do postaci 0/1\n",
    "final_df = cleaner_df\n",
    "final_df.head()"
   ]
  },
  {
   "cell_type": "code",
   "execution_count": 239,
   "metadata": {},
   "outputs": [],
   "source": [
    "X = final_df.loc[:, final_df.columns != 'S1']\n",
    "y = final_df.loc[:, 'S1']\n",
    "\n",
    "X_train = pd.get_dummies(X).sort_index(axis=1)\n",
    "y_train = y"
   ]
  },
  {
   "cell_type": "code",
   "execution_count": 240,
   "metadata": {},
   "outputs": [],
   "source": [
    "from sklearn.base import TransformerMixin\n",
    "from sklearn.pipeline import Pipeline\n",
    "\n",
    "\n",
    "columns_dict = {\n",
    "    'time_from_met_to_rel': ['numeric', None],\n",
    "    'time_from_rel_to_cohab': ['numeric', None],\n",
    "    'Q25': ['categorical', ['Different High School', 'Same High School', 'Refused']],\n",
    "    'Q12': ['categorical', ['Leans Republican', 'Leans Democrat', 'Strong Democrat',\n",
    "                            'Undecided/Independent/Other', 'Not Strong Democrat', \n",
    "                            'Strong Republican', 'Not Strong Republican', 'Refused']]\n",
    "}\n",
    "\n",
    "class GetDummies(TransformerMixin):\n",
    "    \n",
    "    def __init__(self, columns):\n",
    "        self.num_columns = [col for col in columns if columns[col][0] == 'numeric']\n",
    "        self.cat_columns = [[col, columns[col][1]] for col in columns if columns[col][0] == 'categorical']\n",
    "        self.col_names = self.num_columns + [f\"{col}_{cat}\" for col, categories in self.cat_columns \n",
    "                                                            for cat in categories]\n",
    "\n",
    "    def fit(self, X, y=None, **kwargs):\n",
    "        return self\n",
    "\n",
    "    def transform(self, X, y=None, **kwargs):\n",
    "        X_trans = X[self.num_columns]\n",
    "        for col_name, categories in self.cat_columns:\n",
    "            for cat in categories:\n",
    "                X_trans.insert(len(X_trans.columns), f\"{col_name}_{cat}\", np.where(X[col_name] == cat, 1, 0))\n",
    "                \n",
    "        return X_trans"
   ]
  },
  {
   "cell_type": "code",
   "execution_count": 241,
   "metadata": {},
   "outputs": [
    {
     "data": {
      "text/plain": [
       "0.8449447748513169"
      ]
     },
     "execution_count": 241,
     "metadata": {},
     "output_type": "execute_result"
    }
   ],
   "source": [
    "from sklearn.metrics import accuracy_score\n",
    "\n",
    "forest_pipeline = Pipeline([('get_dummies', GetDummies(columns_dict))])\n",
    "\n",
    "X_forest = forest_pipeline.fit_transform(X)\n",
    "y_forest = y\n",
    "\n",
    "forest = RandomForestClassifier(**\n",
    "                                {'max_depth': 9,\n",
    "                                 'max_features': 3,\n",
    "                                 'min_samples_split': 2,\n",
    "                                 'n_estimators': 500\n",
    "                                },\n",
    "                                n_jobs=-1)\n",
    "\n",
    "forest.fit(X_forest, y_forest)\n",
    "accuracy_score(y_forest, forest.predict(X_forest))"
   ]
  },
  {
   "cell_type": "code",
   "execution_count": 260,
   "metadata": {},
   "outputs": [
    {
     "data": {
      "text/plain": [
       "0.8300764655904843"
      ]
     },
     "execution_count": 260,
     "metadata": {},
     "output_type": "execute_result"
    }
   ],
   "source": [
    "from sklearn.linear_model import LogisticRegression\n",
    "from sklearn.preprocessing import PolynomialFeatures\n",
    "\n",
    "\n",
    "log_reg_pipeline = Pipeline([\n",
    "    ('get_dummies', GetDummies(columns_dict)),\n",
    "    ('polynomial_fetures', PolynomialFeatures(2)),\n",
    "])\n",
    "\n",
    "X_log_reg = log_reg_pipeline.fit_transform(X, y)\n",
    "y_log_reg = y\n",
    "\n",
    "log_reg = LogisticRegression()\n",
    "\n",
    "log_reg.fit(X_log_reg, y_log_reg)\n",
    "accuracy_score(y_log_reg, log_reg.predict(X_log_reg))"
   ]
  },
  {
   "cell_type": "code",
   "execution_count": 261,
   "metadata": {},
   "outputs": [],
   "source": [
    "def shuffle(X, col):\n",
    "    X_shuffled = X.copy()\n",
    "    X_shuffled[col] = np.random.permutation(X[col].values)\n",
    "    return X_shuffled"
   ]
  },
  {
   "cell_type": "code",
   "execution_count": 270,
   "metadata": {},
   "outputs": [],
   "source": [
    "forest_base = accuracy_score(y_forest, forest.predict(X_forest))\n",
    "log_red_base = accuracy_score(y_log_reg, log_reg.predict(X_log_reg))\n",
    "\n",
    "forest_changes_acc = {}\n",
    "log_reg_changes_acc = {}\n",
    "\n",
    "for col in X.columns:\n",
    "    X_shuffle = shuffle(X, col)\n",
    "    Xf_shuff = forest_pipeline.fit_transform(X_shuffle)\n",
    "    Xl_shuff = log_reg_pipeline.fit_transform(X_shuffle)\n",
    "    forest_changes_acc[col] = (forest_base - accuracy_score(y_forest, forest.predict(Xf_shuff))) * 100\n",
    "    log_reg_changes_acc[col] = (log_red_base - accuracy_score(y_log_reg, log_reg.predict(Xl_shuff))) * 100"
   ]
  },
  {
   "cell_type": "code",
   "execution_count": 271,
   "metadata": {},
   "outputs": [
    {
     "data": {
      "image/png": "[encoded data removed]",
      "text/plain": [
       "<matplotlib.figure.Figure at 0x11a6237b8>"
      ]
     },
     "metadata": {},
     "output_type": "display_data"
    }
   ],
   "source": [
    "import matplotlib.pyplot as plt\n",
    "\n",
    "plt.barh(np.arange(0, len(forest_changes_acc)) + 0.15, list(forest_changes_acc.values()), height=0.3, color='b', align='center')\n",
    "plt.barh(np.arange(len(log_reg_changes_acc)) - 0.15, list(log_reg_changes_acc.values()), height=0.3, color='g', align='center')\n",
    "plt.yticks(range(len(forest_changes_acc)), forest_changes_acc.keys())\n",
    "plt.ylim(-1, 4.5)\n",
    "plt.title('Accuracy differences in % after shuffle')\n",
    "plt.legend(['Random Forest', 'Logistic Regression with Poly Features'], loc='best')\n",
    "plt.show()"
   ]
  },
  {
   "cell_type": "markdown",
   "metadata": {},
   "source": [
    "Jak widzimy model regresji logistycznej jest znacznie mniej zależny od perturbacji w danych i trudno wskazać zmienną, która ma na niego duży wpływ. W obu wypadkach accuracy jest bardzo bliskie częstości odpowiedzi '1' w danych (82.88%), więc można podejrzewać, że oba modele niemal zawsze dają odpowiedź '1'. Tym niemniej accuracy lasu losowego jest ok. 1.7 pkt. procentowe wyższe niż średnia i widać, że przy pomieszaniu zmiennej 'time_from_rel_to_cohab' model traci tę przewagę. Podobnie accuracy regresji logistycznej jest wyżesz od średniej o ok. 0.2 pp i przy pomieszaniu obu zmiennych numerycznych ta przewaga jest tracona. Podsumowując wydaje się, że regresja logistyczna nie jest bardzo związana z żadną zmienną (i nie jest dobrym modelem), z kolei las losowy również nie ma zbyt dobrego wyniku, ale najważaniejsza dla niego zmienna to 'time_from_rel_to_cohab', gdyż ona w pełni odpowiada za przewagę nad odpowiedzą najczęstszą."
   ]
  },
  {
   "cell_type": "code",
   "execution_count": 264,
   "metadata": {},
   "outputs": [],
   "source": [
    "def ALE_plot(model, data, column, pipeline, num_of_intervals):\n",
    "    # funkcja zwracjąca współrzedne do wykresu ALE_plot wybranej zmiennej dla zadanej liczby przedziałów\n",
    "    intervals_df = pd.qcut(data[column], num_of_intervals, duplicates='drop')\n",
    "    \n",
    "    data_left = data.copy()\n",
    "    data_left.loc[:, column] = intervals_df.apply(lambda x: x.left)\n",
    "    \n",
    "    data_right = data.copy()\n",
    "    data_right.loc[:, column] = intervals_df.apply(lambda x: x.right)\n",
    "    \n",
    "    data_left = pipeline.fit_transform(data_left)\n",
    "    data_right = pipeline.fit_transform(data_right)\n",
    "    \n",
    "    left_preds = model.predict_proba(data_left)[:, 1]\n",
    "    right_preds = model.predict_proba(data_right)[:, 1]\n",
    "    \n",
    "    intervals_df.index = range(len(intervals_df))\n",
    "    intervals_df = pd.concat([intervals_df, pd.Series(right_preds - left_preds, name='proba_diff')], axis=1)\n",
    "    intervals = [(i.right, intervals_df.loc[intervals_df[column] == i, 'proba_diff'].mean())\n",
    "                 for i in sorted(intervals_df[column].unique())]\n",
    "    cumsum = 0\n",
    "    intervals_with_cs = [(0, 0, 0)]\n",
    "    for i in intervals:\n",
    "        cumsum += i[1]\n",
    "        intervals_with_cs.append(i + (cumsum,))\n",
    "    x, y = [i[0] for i in intervals_with_cs], [i[2] for i in intervals_with_cs]\n",
    "    y = list(np.array(y) - np.array(y).mean())\n",
    "    return x, y"
   ]
  },
  {
   "cell_type": "code",
   "execution_count": 265,
   "metadata": {},
   "outputs": [],
   "source": [
    "forest_ale_x, forest_ale_y = ALE_plot(forest, X, 'time_from_rel_to_cohab', forest_pipeline, 200)\n",
    "log_reg_ale_x, log_reg_ale_y = ALE_plot(log_reg, X, 'time_from_rel_to_cohab', log_reg_pipeline, 200)"
   ]
  },
  {
   "cell_type": "code",
   "execution_count": 266,
   "metadata": {},
   "outputs": [
    {
     "data": {
      "text/plain": [
       "<matplotlib.legend.Legend at 0x11a069320>"
      ]
     },
     "execution_count": 266,
     "metadata": {},
     "output_type": "execute_result"
    },
    {
     "data": {
      "image/png": "[encoded data removed]",
      "text/plain": [
       "<matplotlib.figure.Figure at 0x11a040dd8>"
      ]
     },
     "metadata": {},
     "output_type": "display_data"
    }
   ],
   "source": [
    "plt.plot(forest_ale_x, forest_ale_y)\n",
    "plt.plot(log_reg_ale_x, log_reg_ale_y)\n",
    "\n",
    "plt.title(\"ALE_plot time_from_rel_to_cohab\")\n",
    "plt.legend(['Random Forest', 'Logistic Regression with Poly Features'], loc='best')"
   ]
  },
  {
   "cell_type": "code",
   "execution_count": 273,
   "metadata": {},
   "outputs": [
    {
     "data": {
      "text/plain": [
       "<matplotlib.legend.Legend at 0x11b7135c0>"
      ]
     },
     "execution_count": 273,
     "metadata": {},
     "output_type": "execute_result"
    },
    {
     "data": {
      "image/png": "[encoded data removed]",
      "text/plain": [
       "<matplotlib.figure.Figure at 0x11a60fb38>"
      ]
     },
     "metadata": {},
     "output_type": "display_data"
    }
   ],
   "source": [
    "# ten sam wykres z pominięciem dwóch ostatnich punktów dla zmiejszenia skali na osiach i zwiększenia czytelności\n",
    "plt.plot(forest_ale_x[:-2], forest_ale_y[:-2])\n",
    "plt.plot(log_reg_ale_x[:-2], log_reg_ale_y[:-2])\n",
    "\n",
    "plt.title(\"ALE_plot time_from_rel_to_cohab\")\n",
    "plt.legend(['Random Forest', 'Logistic Regression with Poly Features'], loc='best')"
   ]
  },
  {
   "cell_type": "markdown",
   "metadata": {},
   "source": [
    "Jak widzimy regresja logistyczna (oparta na zmiennych wielomianowych stopnia 2) pokazuje kwadratową zależność zmiany odpowiedzi od zmiany (liniowej) parametru 'time_from_rel_to_cohab', co jest w pełni zgodne z charakterstyką modelu liniowego. patrząc konkretne wartości liczbowe na osi y widzimy również, że ten parametr w bardzo niewielkim stopniu wpływa na zmianę odpowiedzi modelu. Większy wpływ ta zmienna ma na model lasu losowego. Dodatkowo ALE plot nie jest płaski niemal na całej długości, więc nawet niewielka zmiana może zaburzyć odpowiedź modelu."
   ]
  },
  {
   "cell_type": "code",
   "execution_count": null,
   "metadata": {},
   "outputs": [],
   "source": []
  }
 ],
 "metadata": {
  "kernelspec": {
   "display_name": "Python 3",
   "language": "python",
   "name": "python3"
  },
  "language_info": {
   "codemirror_mode": {
    "name": "ipython",
    "version": 3
   },
   "file_extension": ".py",
   "mimetype": "text/x-python",
   "name": "python",
   "nbconvert_exporter": "python",
   "pygments_lexer": "ipython3",
   "version": "3.6.2"
  }
 },
 "nbformat": 4,
 "nbformat_minor": 2
}
