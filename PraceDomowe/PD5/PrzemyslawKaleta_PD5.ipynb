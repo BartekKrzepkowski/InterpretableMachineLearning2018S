{
 "cells": [
  {
   "cell_type": "markdown",
   "metadata": {},
   "source": [
    "# Przemysław Kaleta\n",
    "Data: https://data.stanford.edu/hcmst2017"
   ]
  },
  {
   "cell_type": "code",
   "execution_count": 1,
   "metadata": {},
   "outputs": [],
   "source": [
    "import pandas as pd\n",
    "import numpy as np\n",
    "import random\n",
    "import matplotlib.pyplot as plt\n",
    "\n",
    "from sklearn import preprocessing\n",
    "from sklearn.model_selection import train_test_split\n",
    "from sklearn.metrics import f1_score\n",
    "from sklearn.metrics import accuracy_score\n",
    "\n",
    "from sklearn.linear_model import LogisticRegression\n",
    "from sklearn.neural_network import MLPClassifier\n",
    "from sklearn.svm import SVC\n",
    "import xgboost as xgb\n",
    "\n",
    "from collections import defaultdict"
   ]
  },
  {
   "cell_type": "code",
   "execution_count": 2,
   "metadata": {},
   "outputs": [],
   "source": [
    "data = pd.read_stata(\"hcmts.dta\")"
   ]
  },
  {
   "cell_type": "markdown",
   "metadata": {},
   "source": [
    "Explanations of variable names taken from:\n",
    "\n",
    "https://stacks.stanford.edu/file/druid:vt073cc9067/HCMST_2017_fresh_Codeboodk_v1.1a.pdf\n",
    "\n",
    "* Yes/no questions:\n",
    "    * **Q5** Is [Partner name] the same sex as you? \n",
    "    * **Q25_2** Did you and [Partner name] attend the same high school?\n",
    "    * **Q10** Highest level of schooling of partner\n",
    "    * **hcm2017q24_met_online** Met online\n",
    "    \n",
    "* Quantitative questions:\n",
    "    * **w6_q9** partner age in 2017\n",
    "    * **w6_q24_length** length of q24 how met answer in characters"
   ]
  },
  {
   "cell_type": "code",
   "execution_count": 3,
   "metadata": {},
   "outputs": [],
   "source": [
    "binary_variables = [\"Q5\", \"Q25_2\", \"Q26_2\",  \"hcm2017q24_met_online\"]\n",
    "continuous_variables = [\"w6_q9\", \"w6_q24_length\"]\n",
    "predicted_variables = [\"S1\"]\n",
    "variables = binary_variables + continuous_variables + predicted_variables\n",
    "mydata = data.loc[data.S1.notna(), variables]"
   ]
  },
  {
   "cell_type": "markdown",
   "metadata": {},
   "source": [
    "## Model"
   ]
  },
  {
   "cell_type": "code",
   "execution_count": 4,
   "metadata": {},
   "outputs": [],
   "source": [
    "\n",
    "\n",
    "# Dictionary with keys as columns of categorical variables \n",
    "# and values as functions which for a given code tell us what category it is\n",
    "name_from_code = defaultdict(lambda: lambda x: x)\n",
    "\n",
    "# usage: name_from_code[\"column_name\"](code)\n",
    "# If column name is not in binary variables name_from_code[\"column_name\"] is an identity function.\n",
    "\n",
    "for column_name in binary_variables + predicted_variables:\n",
    "    \n",
    "    column = mydata[column_name].values\n",
    "    \n",
    "    def _name_from_code(x, col=column):\n",
    "        return col.from_codes([x], col.categories)[0]\n",
    "    \n",
    "    name_from_code[column_name] = _name_from_code\n",
    "    \n",
    "    mydata[column_name] = column.codes\n",
    "    \n"
   ]
  },
  {
   "cell_type": "code",
   "execution_count": 5,
   "metadata": {},
   "outputs": [
    {
     "name": "stdout",
     "output_type": "stream",
     "text": [
      "Positive/negative percentages in population: 0.405982905982906 / 0.594017094017094\n",
      "Accuracy 0.8076923076923077\n",
      "F1 score: 0.7283702213279677\n"
     ]
    }
   ],
   "source": [
    "X, y = mydata.drop(\"S1\", axis=1), mydata[\"S1\"]\n",
    "X_train, X_test, y_train, y_test = train_test_split(X, y, test_size=0.2, random_state=42)\n",
    "\n",
    "xgb_model = xgb.XGBClassifier(objective ='binary:logistic', colsample_bytree = 0.3, learning_rate = 0.35,\n",
    "                max_depth = 5, alpha = 0, n_estimators = 100)\n",
    "xgb_model.fit(X_train, y_train)\n",
    "\n",
    "y_pred = xgb_model.predict(X_test)\n",
    "y_pred_train = xgb_model.predict(X_train)\n",
    "\n",
    "def test_classifier(y_true, y_pred):\n",
    "    n = len(y_true)\n",
    "    print(f\"Positive/negative percentages in population: {sum(y_true) / n} / {sum(y_true == 0) / n}\")\n",
    "    print(f\"Accuracy {sum(y_true == y_pred) / n}\")\n",
    "    print(f\"F1 score: {f1_score(y_true, y_pred)}\")\n",
    "    \n",
    "test_classifier(y_test, y_pred)\n",
    "\n",
    "colnames = X_train.columns\n",
    "names_explained_list = [\"same_sex\", \"high_school\", \"university\", \"met_online\", \"partner_age\", \"w6_q24_length\"]\n",
    "names_explained = {colname: colname_explained for colname, colname_explained in zip(colnames, names_explained_list)}"
   ]
  },
  {
   "cell_type": "code",
   "execution_count": 6,
   "metadata": {},
   "outputs": [],
   "source": [
    "# Filling unknown values with means\n",
    "means = X_train.apply(lambda x: x.mean(), axis=0)\n",
    "X_train = X_train.fillna(dict(means))\n",
    "X_test = X_test.fillna(dict(means))\n",
    "mydata = mydata.fillna(dict(means))"
   ]
  },
  {
   "cell_type": "code",
   "execution_count": 7,
   "metadata": {},
   "outputs": [
    {
     "name": "stdout",
     "output_type": "stream",
     "text": [
      "Positive/negative percentages in population: 0.405982905982906 / 0.594017094017094\n",
      "Accuracy 0.7749287749287749\n",
      "F1 score: 0.6594827586206897\n"
     ]
    }
   ],
   "source": [
    "logreg_model = LogisticRegression(solver=\"liblinear\")\n",
    "logreg_model.fit(X_train, y_train)\n",
    "y_pred = logreg_model.predict(X_test)\n",
    "test_classifier(y_test, y_pred)"
   ]
  },
  {
   "cell_type": "markdown",
   "metadata": {},
   "source": [
    "# Feature Importance\n",
    "Zbadamy jak cechy są ważne w obydwu modelach (xgboost i model logistyczny). Modele te mają różną strukture, dlatego żeby je porównac obliczymy scory niezależne od konkretnego modelu. Może to być na przykład zwykła skuteczność na zbiorze testowym, lub też F1."
   ]
  },
  {
   "cell_type": "code",
   "execution_count": 8,
   "metadata": {},
   "outputs": [
    {
     "data": {
      "text/plain": [
       "{'Q5': 1.0147058823529411,\n",
       " 'Q25_2': 1.1596638655462184,\n",
       " 'Q26_2': 1.016574585635359,\n",
       " 'hcm2017q24_met_online': 1.016574585635359,\n",
       " 'w6_q9': 1.067698259187621,\n",
       " 'w6_q24_length': 1.0203327171903882}"
      ]
     },
     "execution_count": 8,
     "metadata": {},
     "output_type": "execute_result"
    }
   ],
   "source": [
    "def feature_importance(X: pd.DataFrame, y, model, score_measure=None):\n",
    "    \"\"\"For a given model and data returns a dictionary with importance of each feature\n",
    "    score: a measure of goodness of fit, e.g accuracy_score or f1_score\"\"\"\n",
    "    score_measure = score_measure or accuracy_score\n",
    "    \n",
    "    scores = dict()\n",
    "    base_score = score_measure(model.predict(X), y)\n",
    "    for column in X.columns:\n",
    "        random_shuffle = np.random.permutation(X[column].values)\n",
    "        X_new = X.copy()\n",
    "        X_new[column] = random_shuffle\n",
    "        # Base score should be higher because the data is unchanged\n",
    "        scores[column] = base_score / score_measure(model.predict(X_new), y)\n",
    "    return scores\n",
    "\n",
    "xgb_feature_importance = feature_importance(X_test, y_test, xgb_model)\n",
    "xgb_feature_importance"
   ]
  },
  {
   "cell_type": "code",
   "execution_count": 9,
   "metadata": {},
   "outputs": [
    {
     "data": {
      "text/plain": [
       "{'Q5': 1.001841620626151,\n",
       " 'Q25_2': 1.2307692307692306,\n",
       " 'Q26_2': 1.0,\n",
       " 'hcm2017q24_met_online': 0.9872958257713249,\n",
       " 'w6_q9': 1.1193415637860082,\n",
       " 'w6_q24_length': 1.0055452865064696}"
      ]
     },
     "execution_count": 9,
     "metadata": {},
     "output_type": "execute_result"
    }
   ],
   "source": [
    "logreg_feature_importance = feature_importance(X_test, y_test, logreg_model)\n",
    "logreg_feature_importance"
   ]
  },
  {
   "cell_type": "code",
   "execution_count": 43,
   "metadata": {},
   "outputs": [],
   "source": [
    "def plot_importance_ugly(feature_imporances):\n",
    "        plt.bar([names_explained[name] for name in feature_imporances.keys()], feature_imporances.values())\n",
    "        plt.xticks(rotation=50)\n",
    "        plt.show()"
   ]
  },
  {
   "cell_type": "code",
   "execution_count": 44,
   "metadata": {},
   "outputs": [],
   "source": [
    "def plot_importance(feature_importances1, feature_importances2, model_name1=\"xgboost\", model_name2=\"logistic regression\"):\n",
    "\n",
    "        names = [names_explained[name] for name in feature_importances1.keys()]\n",
    "        \n",
    "        N = len(names)\n",
    "\n",
    "        fig, ax = plt.subplots()\n",
    "\n",
    "        ind = np.arange(N)    # the x locations for the groups\n",
    "        width = 0.35         # the width of the bars\n",
    "        p1 = ax.bar(ind, feature_importances1.values(), width, color='r', bottom=0)\n",
    "\n",
    "\n",
    "        p2 = ax.bar(ind + width, feature_importances2.values(), width,\n",
    "                    color='y', bottom=0)\n",
    "\n",
    "        ax.set_title('Scores by group and gender')\n",
    "        ax.set_xticks(ind + width / 2)\n",
    "        ax.set_xticklabels(names)\n",
    "        plt.xticks(rotation=50)\n",
    "\n",
    "        ax.legend((p1[0], p2[0]), (model_name1, model_name2), loc=\"lower left\")\n",
    "        ax.autoscale_view()\n",
    "\n",
    "        plt.show()"
   ]
  },
  {
   "cell_type": "code",
   "execution_count": 45,
   "metadata": {},
   "outputs": [
    {
     "data": {
      "image/png": "[encoded data removed]",
      "text/plain": [
       "<Figure size 432x288 with 1 Axes>"
      ]
     },
     "metadata": {
      "needs_background": "light"
     },
     "output_type": "display_data"
    }
   ],
   "source": [
    "plot_importance(xgb_feature_importance, logreg_feature_importance)"
   ]
  },
  {
   "cell_type": "markdown",
   "metadata": {},
   "source": [
    "Nie widzimy praktycznie żadnej różnicy w ocenie ważności danej cechy. Wyraźnie ważniejsza jest zmienna mówiąca o chodzeniu do tej samej szkoły średniej, co jest trochę niezrozumiałe, bo większość zmiennych była nieznana dla tej cechy (trochę ważniejsza wydaje się dla modelu regresji logistycznej). Istotna w obu modelach jest tez zmienna mówiąca o wieku partnera. Trochę dziwne jest dla mnie że sa one równie istotne w obu modelach , bo zgodnie z obserwacjami z poprzednich prac zależność od zmiennej wieku była nieliniowa: najpierw rosła, ale od pewnego wieku malała."
   ]
  },
  {
   "cell_type": "markdown",
   "metadata": {},
   "source": [
    "# Partial Dependency Plots"
   ]
  },
  {
   "cell_type": "code",
   "execution_count": 12,
   "metadata": {},
   "outputs": [],
   "source": [
    "def partial_dependency_plot(data, model, colname, k=10):\n",
    "    \"\"\"Plots average Ceteris Paribus profile for sample population (k observations) from data\"\"\"\n",
    "    \n",
    "    def get_proba(person, colname, colvalue):\n",
    "        new_person = pd.DataFrame([person.values], columns=data.columns[:-1])\n",
    "        if colname not in X_train.columns:\n",
    "            raise Exception(\"Wrong column name\")\n",
    "        new_person[colname] = colvalue\n",
    "        return model.predict_proba(new_person)[0][0]\n",
    "    \n",
    "\n",
    "    min_value = np.quantile(data[colname].dropna(), 0.01, interpolation=\"higher\")\n",
    "    max_value = np.quantile(data[colname].dropna(), 0.99, interpolation=\"lower\")\n",
    "    values = np.linspace(min_value, max_value, 100)\n",
    "    \n",
    "    probas_list = [[get_proba(person, colname, value) for value in values] \n",
    "                   for _, person in data.drop(\"S1\", axis=1).sample(k).iterrows()]\n",
    "    mean_probas = [np.mean(values) for values in zip(*probas_list)]\n",
    "    \n",
    "    plt.plot(values, mean_probas)\n",
    "    plt.title(\"Partial dependency plot\")\n",
    "    plt.xlabel(colname)\n",
    "    plt.ylabel(\"Marriage probability\")\n",
    "    plt.show()"
   ]
  },
  {
   "cell_type": "code",
   "execution_count": 13,
   "metadata": {},
   "outputs": [
    {
     "data": {
      "image/png": "[encoded data removed]",
      "text/plain": [
       "<Figure size 432x288 with 1 Axes>"
      ]
     },
     "metadata": {
      "needs_background": "light"
     },
     "output_type": "display_data"
    }
   ],
   "source": [
    "partial_dependency_plot(mydata, xgb_model, \"w6_q9\")"
   ]
  },
  {
   "cell_type": "code",
   "execution_count": 125,
   "metadata": {},
   "outputs": [
    {
     "data": {
      "image/png": "[encoded data removed]",
      "text/plain": [
       "<Figure size 432x288 with 1 Axes>"
      ]
     },
     "metadata": {
      "needs_background": "light"
     },
     "output_type": "display_data"
    }
   ],
   "source": [
    "partial_dependency_plot(mydata, logreg_model, \"w6_q9\")"
   ]
  },
  {
   "cell_type": "markdown",
   "metadata": {},
   "source": [
    "W obu modelach zależność jest ogólnie rosnąca, natomiast dużo widoczniej widać to dla modelu logistycznego. To, że poszczególne krzywe Ceteris Paribus w modelu są monotoniczne nie jest niczym dziwnym, i wynika wprost z definicji modelu, który estymuje prawdopodobieństwo bezpośrednio na podstawie kombinacji liniowej współczynników. Nie widać więc tych zaburzeń, co w modelu xgboost, który ma większa wariancję i być może za bardzo dopasowuje się do danych, które zresztą nie są najlepsze i zawierają duzo wartości brakujących. Widzimy tu zaletę prostszych modeli, które dużo łatwiej interpretować."
   ]
  }
 ],
 "metadata": {
  "kernelspec": {
   "display_name": "Python 3",
   "language": "python",
   "name": "python3"
  },
  "language_info": {
   "codemirror_mode": {
    "name": "ipython",
    "version": 3
   },
   "file_extension": ".py",
   "mimetype": "text/x-python",
   "name": "python",
   "nbconvert_exporter": "python",
   "pygments_lexer": "ipython3",
   "version": "3.7.1"
  }
 },
 "nbformat": 4,
 "nbformat_minor": 2
}
