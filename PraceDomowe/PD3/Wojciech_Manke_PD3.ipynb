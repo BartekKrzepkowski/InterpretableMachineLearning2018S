{
 "cells": [
  {
   "cell_type": "code",
   "execution_count": 2,
   "metadata": {
    "collapsed": false,
    "deletable": true,
    "editable": true
   },
   "outputs": [],
   "source": [
    "import pandas as pd\n",
    "import numpy as np\n",
    "import matplotlib.pyplot as plt\n",
    "from xgboost import XGBClassifier\n",
    "from sklearn.model_selection import train_test_split\n",
    "from sklearn.metrics import accuracy_score"
   ]
  },
  {
   "cell_type": "markdown",
   "metadata": {
    "deletable": true,
    "editable": true
   },
   "source": [
    "## Wczytywanie i inspekcja danych danych"
   ]
  },
  {
   "cell_type": "code",
   "execution_count": 3,
   "metadata": {
    "collapsed": true,
    "deletable": true,
    "editable": true
   },
   "outputs": [],
   "source": [
    "data = pd.read_stata('HCMST 2017 fresh sample for public sharing draft v1.1.dta')"
   ]
  },
  {
   "cell_type": "markdown",
   "metadata": {
    "deletable": true,
    "editable": true
   },
   "source": [
    "### Wybrane cechy\n",
    "\n",
    "#### Ilościowe:\n",
    "* w6_q21c_year - w którym roku po raz pierwszy zamieszkali ze sobą\n",
    "* year_fraction_met - rok poznania z uwzględnieniem miesiąca jako ułamka\n",
    "\n",
    "### Jakościowe:\n",
    "* hcm2017q24_btwn_I_neighbor - czy są sąsiadami\n",
    "* w6_otherdate_all - czy w zeszłym roku poznał(a) kogoś poza partnerem"
   ]
  },
  {
   "cell_type": "code",
   "execution_count": 23,
   "metadata": {
    "collapsed": true,
    "deletable": true,
    "editable": true
   },
   "outputs": [],
   "source": [
    "cat_features = ['hcm2017q24_btwn_I_neighbor', 'w6_otherdate_all']\n",
    "cont_features = ['w6_q21c_year', 'year_fraction_met']\n",
    "label = 'S1'"
   ]
  },
  {
   "cell_type": "markdown",
   "metadata": {
    "deletable": true,
    "editable": true
   },
   "source": [
    "## Transformowanie danych"
   ]
  },
  {
   "cell_type": "markdown",
   "metadata": {
    "deletable": true,
    "editable": true
   },
   "source": [
    "Podstawowe transformowanie danych:\n",
    "* zamiana wektora y na wektor 0/1 (0 - małżeństwo, 1 - brak małżeństwa)\n",
    "* zamiana cech kategorycznych na one hot encoding\n",
    "* usunięcie niedozwolonych przez XGBooost znaków z nazw cech\n",
    "\n",
    "Sprawdzamy też, czy po usunięciu NaN nie zostało za mało danych."
   ]
  },
  {
   "cell_type": "code",
   "execution_count": 24,
   "metadata": {
    "collapsed": false,
    "deletable": true,
    "editable": true
   },
   "outputs": [
    {
     "name": "stdout",
     "output_type": "stream",
     "text": [
      "Data left: 2566\n"
     ]
    }
   ],
   "source": [
    "data = data[cat_features+cont_features+[label]].dropna()\n",
    "print(\"Data left: \" + str(len(data)))\n",
    "X = data[cat_features+cont_features].copy()\n",
    "y = data[label].cat.codes"
   ]
  },
  {
   "cell_type": "code",
   "execution_count": 28,
   "metadata": {
    "collapsed": false,
    "deletable": true,
    "editable": true
   },
   "outputs": [],
   "source": [
    "# Convert continuous features to numerics\n",
    "for cont_feature in cont_features:\n",
    "    X[cont_feature] = pd.to_numeric(X[cont_feature])\n",
    "# One hot encoding\n",
    "X = pd.get_dummies(X)\n",
    "# Delete unwanted characters\n",
    "for character in ['[', ']', '<']:\n",
    "    X.columns = X.columns.str.replace(character, '')"
   ]
  },
  {
   "cell_type": "markdown",
   "metadata": {
    "deletable": true,
    "editable": true
   },
   "source": [
    "## Trening\n",
    "\n",
    "Do treningu używam klasyfikatora XGB z domyślnymi parametrami."
   ]
  },
  {
   "cell_type": "code",
   "execution_count": 29,
   "metadata": {
    "collapsed": false,
    "deletable": true,
    "editable": true
   },
   "outputs": [],
   "source": [
    "X_train, X_test, y_train, y_test = train_test_split(X, y)"
   ]
  },
  {
   "cell_type": "code",
   "execution_count": 30,
   "metadata": {
    "collapsed": false,
    "deletable": true,
    "editable": true
   },
   "outputs": [
    {
     "data": {
      "text/plain": [
       "XGBClassifier(base_score=0.5, booster='gbtree', colsample_bylevel=1,\n",
       "       colsample_bytree=1, gamma=0, learning_rate=0.1, max_delta_step=0,\n",
       "       max_depth=3, min_child_weight=1, missing=None, n_estimators=100,\n",
       "       n_jobs=1, nthread=None, objective='binary:logistic', random_state=0,\n",
       "       reg_alpha=0, reg_lambda=1, scale_pos_weight=1, seed=None,\n",
       "       silent=True, subsample=1)"
      ]
     },
     "execution_count": 30,
     "metadata": {},
     "output_type": "execute_result"
    }
   ],
   "source": [
    "model = XGBClassifier()\n",
    "model.fit(X_train, y_train)"
   ]
  },
  {
   "cell_type": "code",
   "execution_count": 31,
   "metadata": {
    "collapsed": false,
    "deletable": true,
    "editable": true
   },
   "outputs": [
    {
     "name": "stdout",
     "output_type": "stream",
     "text": [
      "Accuracy: 0.794392523364486\n"
     ]
    }
   ],
   "source": [
    "print(\"Accuracy: \"+str(accuracy_score(model.predict(X_test), y_test)))"
   ]
  },
  {
   "cell_type": "markdown",
   "metadata": {},
   "source": [
    "## Zmiana w średniej odpowiedzi modelu"
   ]
  },
  {
   "cell_type": "code",
   "execution_count": 126,
   "metadata": {
    "collapsed": true
   },
   "outputs": [],
   "source": [
    "def get_averages(model, X, features_order, obs):\n",
    "    averages = []\n",
    "    averages.append(model.predict_proba(X)[:, 1].mean())\n",
    "    \n",
    "    column_names = X.columns.values\n",
    "    \n",
    "    for feature_name in features_order:\n",
    "        names_with_prefix = [column_name for column_name in column_names if column_name.startswith(feature_name)]\n",
    "        for name_with_prefix in names_with_prefix:\n",
    "            X[name_with_prefix] = obs[name_with_prefix]\n",
    "        averages.append(model.predict_proba(X)[:, 1].mean())\n",
    "    \n",
    "    return averages"
   ]
  },
  {
   "cell_type": "code",
   "execution_count": 149,
   "metadata": {
    "collapsed": true
   },
   "outputs": [],
   "source": [
    "def draw_diagram(model, X, features_order, obs):\n",
    "    averages = get_averages(model, X, features_order, obs)\n",
    "    print(\"Średnie po ustaleniu kolejnych zmiennych: \" + str(averages))\n",
    "    plot_data = pd.DataFrame(data = averages, index = ['średnia odp.'] + features_order)[0]\n",
    "    bottom = plot_data.shift(1).fillna(0)\n",
    "    plot_data = plot_data-plot_data.shift(1).fillna(0)\n",
    "    colors = ['r' if x < 0 else 'g' for x in plot_data]\n",
    "    colors[0] = 'b' # blue for avg. response\n",
    "    plot = plot_data.plot(kind='bar', stacked = True, bottom = bottom,\n",
    "                          legend = None, title = \"Zmiana w średniej odpowiedzi modelu\", color = colors)\n",
    "    plot.plot()"
   ]
  },
  {
   "cell_type": "code",
   "execution_count": 150,
   "metadata": {
    "collapsed": false
   },
   "outputs": [
    {
     "name": "stdout",
     "output_type": "stream",
     "text": [
      "Wyjaśniam obserwację: \n",
      "w6_q21c_year         1996.000\n",
      "year_fraction_met    1983.375\n",
      "Name: 1, dtype: float64\n"
     ]
    }
   ],
   "source": [
    "print(\"Wyjaśniam obserwację: \")\n",
    "print(X.loc[1][['w6_q21c_year', 'year_fraction_met']])"
   ]
  },
  {
   "cell_type": "code",
   "execution_count": 151,
   "metadata": {
    "collapsed": false
   },
   "outputs": [
    {
     "name": "stdout",
     "output_type": "stream",
     "text": [
      "Średnie po ustaleniu kolejnych zmiennych: [0.24039772, 0.21477179, 0.12759852, 0.12759852, 0.12147345]\n"
     ]
    },
    {
     "data": {
      "image/png": "[encoded data removed]",
      "text/plain": [
       "<Figure size 432x288 with 1 Axes>"
      ]
     },
     "metadata": {
      "needs_background": "light"
     },
     "output_type": "display_data"
    }
   ],
   "source": [
    "draw_diagram(model, X.copy(), ['w6_q21c_year', 'year_fraction_met', 'hcm2017q24_btwn_I_neighbor', 'w6_otherdate_all'], X.loc[1])"
   ]
  },
  {
   "cell_type": "code",
   "execution_count": 152,
   "metadata": {
    "collapsed": false
   },
   "outputs": [
    {
     "name": "stdout",
     "output_type": "stream",
     "text": [
      "Średnie po ustaleniu kolejnych zmiennych: [0.24039772, 0.24306569, 0.12759852, 0.12759852, 0.12147345]\n"
     ]
    },
    {
     "data": {
      "image/png": "[encoded data removed]",
      "text/plain": [
       "<Figure size 432x288 with 1 Axes>"
      ]
     },
     "metadata": {
      "needs_background": "light"
     },
     "output_type": "display_data"
    }
   ],
   "source": [
    "draw_diagram(model, X.copy(), ['year_fraction_met', 'w6_q21c_year', 'hcm2017q24_btwn_I_neighbor', 'w6_otherdate_all'], X.loc[1])"
   ]
  },
  {
   "cell_type": "markdown",
   "metadata": {},
   "source": [
    "### Opis\n",
    "\n",
    "W obu wyjaśnieniach zmienna oznaczająca rok pierwszego zamieszkania ze sobą ma duży wpływ na wynik.\n",
    "\n",
    "W pierwszym wyjaśnieniu zmienna oznaczająca rok poznania ma duży ujemny wpływ na wynik, a w drugim wpływ ten jest praktycznie zerowy. Oznacza to, że  rok poznania (1983) ma znaczenie dopiero jeśli znamy rok pierwszego zamieszkania ze sobą (1996).\n",
    "\n",
    "Praktycznie zerowy wpływ zmiennej 'hcm2017q24_btwn_I_neighbor' wynika najprawdopodobniej z tego, że tylko dla 2 obserwacji jest ona niezerowa."
   ]
  },
  {
   "cell_type": "code",
   "execution_count": 153,
   "metadata": {
    "collapsed": false
   },
   "outputs": [
    {
     "data": {
      "text/plain": [
       "2"
      ]
     },
     "execution_count": 153,
     "metadata": {},
     "output_type": "execute_result"
    }
   ],
   "source": [
    "X.hcm2017q24_btwn_I_neighbor_yes.sum()"
   ]
  }
 ],
 "metadata": {
  "kernelspec": {
   "display_name": "projectname",
   "language": "python",
   "name": "projectname"
  },
  "language_info": {
   "codemirror_mode": {
    "name": "ipython",
    "version": 3
   },
   "file_extension": ".py",
   "mimetype": "text/x-python",
   "name": "python",
   "nbconvert_exporter": "python",
   "pygments_lexer": "ipython3",
   "version": "3.5.2"
  }
 },
 "nbformat": 4,
 "nbformat_minor": 2
}
