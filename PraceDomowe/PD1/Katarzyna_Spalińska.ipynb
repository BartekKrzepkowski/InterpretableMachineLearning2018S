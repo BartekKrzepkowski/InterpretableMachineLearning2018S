{
 "cells": [
  {
   "cell_type": "markdown",
   "metadata": {},
   "source": [
    "# Wyjaśnialne uczenie maszynowe - praca domowa 1"
   ]
  },
  {
   "cell_type": "markdown",
   "metadata": {},
   "source": [
    "Przygotowanie modelu przewidującego, czy dana osoba jest zamężna"
   ]
  },
  {
   "cell_type": "markdown",
   "metadata": {},
   "source": [
    "# 1. Import danych"
   ]
  },
  {
   "cell_type": "code",
   "execution_count": 270,
   "metadata": {},
   "outputs": [],
   "source": [
    "import pandas as pd\n",
    "import numpy as np\n",
    "\n",
    "data = pd.read_stata(\"/home/kasia/Pobrane/HCMST_ver_3.04.dta\")"
   ]
  },
  {
   "cell_type": "code",
   "execution_count": 271,
   "metadata": {
    "scrolled": true
   },
   "outputs": [
    {
     "data": {
      "text/html": [
       "<div>\n",
       "<style scoped>\n",
       "    .dataframe tbody tr th:only-of-type {\n",
       "        vertical-align: middle;\n",
       "    }\n",
       "\n",
       "    .dataframe tbody tr th {\n",
       "        vertical-align: top;\n",
       "    }\n",
       "\n",
       "    .dataframe thead th {\n",
       "        text-align: right;\n",
       "    }\n",
       "</style>\n",
       "<table border=\"1\" class=\"dataframe\">\n",
       "  <thead>\n",
       "    <tr style=\"text-align: right;\">\n",
       "      <th></th>\n",
       "      <th>caseid_new</th>\n",
       "      <th>weight1</th>\n",
       "      <th>weight2</th>\n",
       "      <th>ppage</th>\n",
       "      <th>ppagecat</th>\n",
       "      <th>ppagect4</th>\n",
       "      <th>ppeduc</th>\n",
       "      <th>ppeducat</th>\n",
       "      <th>ppethm</th>\n",
       "      <th>ppgender</th>\n",
       "      <th>...</th>\n",
       "      <th>w3_mbtiming_year</th>\n",
       "      <th>w3_mbtiming_month</th>\n",
       "      <th>w3_q5</th>\n",
       "      <th>w3_q6</th>\n",
       "      <th>w3_q7</th>\n",
       "      <th>w3_q8</th>\n",
       "      <th>w3_q9</th>\n",
       "      <th>w3_q10</th>\n",
       "      <th>w3_nonmbtiming_year</th>\n",
       "      <th>w3_nonmbtiming_month</th>\n",
       "    </tr>\n",
       "  </thead>\n",
       "  <tbody>\n",
       "    <tr>\n",
       "      <th>0</th>\n",
       "      <td>22526</td>\n",
       "      <td>4265</td>\n",
       "      <td>4265.0</td>\n",
       "      <td>52</td>\n",
       "      <td>45-54</td>\n",
       "      <td>45-59</td>\n",
       "      <td>bachelors degree</td>\n",
       "      <td>bachelor's degree or higher</td>\n",
       "      <td>hispanic</td>\n",
       "      <td>female</td>\n",
       "      <td>...</td>\n",
       "      <td>NaN</td>\n",
       "      <td>NaN</td>\n",
       "      <td>yes</td>\n",
       "      <td>yes</td>\n",
       "      <td>no, did not marry [xNameP]</td>\n",
       "      <td>No, we have not gotten a domestic partnership ...</td>\n",
       "      <td>NaN</td>\n",
       "      <td>NaN</td>\n",
       "      <td>NaN</td>\n",
       "      <td>NaN</td>\n",
       "    </tr>\n",
       "    <tr>\n",
       "      <th>1</th>\n",
       "      <td>23286</td>\n",
       "      <td>16485</td>\n",
       "      <td>16485.0</td>\n",
       "      <td>28</td>\n",
       "      <td>25-34</td>\n",
       "      <td>18-29</td>\n",
       "      <td>masters degree</td>\n",
       "      <td>bachelor's degree or higher</td>\n",
       "      <td>white, non-hispanic</td>\n",
       "      <td>female</td>\n",
       "      <td>...</td>\n",
       "      <td>NaN</td>\n",
       "      <td>NaN</td>\n",
       "      <td>NaN</td>\n",
       "      <td>NaN</td>\n",
       "      <td>NaN</td>\n",
       "      <td>NaN</td>\n",
       "      <td>NaN</td>\n",
       "      <td>NaN</td>\n",
       "      <td>NaN</td>\n",
       "      <td>NaN</td>\n",
       "    </tr>\n",
       "    <tr>\n",
       "      <th>2</th>\n",
       "      <td>25495</td>\n",
       "      <td>52464</td>\n",
       "      <td>NaN</td>\n",
       "      <td>49</td>\n",
       "      <td>45-54</td>\n",
       "      <td>45-59</td>\n",
       "      <td>high school graduate - high school diploma or ...</td>\n",
       "      <td>high school</td>\n",
       "      <td>black, non-hispanic</td>\n",
       "      <td>female</td>\n",
       "      <td>...</td>\n",
       "      <td>NaN</td>\n",
       "      <td>NaN</td>\n",
       "      <td>NaN</td>\n",
       "      <td>NaN</td>\n",
       "      <td>NaN</td>\n",
       "      <td>NaN</td>\n",
       "      <td>NaN</td>\n",
       "      <td>NaN</td>\n",
       "      <td>NaN</td>\n",
       "      <td>NaN</td>\n",
       "    </tr>\n",
       "  </tbody>\n",
       "</table>\n",
       "<p>3 rows × 387 columns</p>\n",
       "</div>"
      ],
      "text/plain": [
       "   caseid_new  weight1  weight2 ppage ppagecat ppagect4  \\\n",
       "0       22526     4265   4265.0    52    45-54    45-59   \n",
       "1       23286    16485  16485.0    28    25-34    18-29   \n",
       "2       25495    52464      NaN    49    45-54    45-59   \n",
       "\n",
       "                                              ppeduc  \\\n",
       "0                                   bachelors degree   \n",
       "1                                     masters degree   \n",
       "2  high school graduate - high school diploma or ...   \n",
       "\n",
       "                      ppeducat               ppethm ppgender  ...  \\\n",
       "0  bachelor's degree or higher             hispanic   female  ...   \n",
       "1  bachelor's degree or higher  white, non-hispanic   female  ...   \n",
       "2                  high school  black, non-hispanic   female  ...   \n",
       "\n",
       "  w3_mbtiming_year  w3_mbtiming_month w3_q5 w3_q6                       w3_q7  \\\n",
       "0              NaN                NaN   yes   yes  no, did not marry [xNameP]   \n",
       "1              NaN                NaN   NaN   NaN                         NaN   \n",
       "2              NaN                NaN   NaN   NaN                         NaN   \n",
       "\n",
       "                                               w3_q8 w3_q9 w3_q10  \\\n",
       "0  No, we have not gotten a domestic partnership ...   NaN    NaN   \n",
       "1                                                NaN   NaN    NaN   \n",
       "2                                                NaN   NaN    NaN   \n",
       "\n",
       "  w3_nonmbtiming_year w3_nonmbtiming_month  \n",
       "0                 NaN                  NaN  \n",
       "1                 NaN                  NaN  \n",
       "2                 NaN                  NaN  \n",
       "\n",
       "[3 rows x 387 columns]"
      ]
     },
     "execution_count": 271,
     "metadata": {},
     "output_type": "execute_result"
    }
   ],
   "source": [
    "data.head(3)"
   ]
  },
  {
   "cell_type": "markdown",
   "metadata": {},
   "source": [
    "# 2. Wybranie cech"
   ]
  },
  {
   "cell_type": "code",
   "execution_count": 248,
   "metadata": {},
   "outputs": [
    {
     "data": {
      "text/plain": [
       "count          3009\n",
       "unique            6\n",
       "top       excellent\n",
       "freq           1771\n",
       "Name: q34, dtype: object"
      ]
     },
     "execution_count": 248,
     "metadata": {},
     "output_type": "execute_result"
    }
   ],
   "source": [
    "# Ocena jakości związku \n",
    "num1 = \"q34\"\n",
    "data[num1].describe()"
   ]
  },
  {
   "cell_type": "code",
   "execution_count": 249,
   "metadata": {},
   "outputs": [
    {
     "data": {
      "text/plain": [
       "count                                                  4002\n",
       "unique                                                   14\n",
       "top       high school graduate - high school diploma or ...\n",
       "freq                                                    987\n",
       "Name: ppeduc, dtype: object"
      ]
     },
     "execution_count": 249,
     "metadata": {},
     "output_type": "execute_result"
    }
   ],
   "source": [
    "# Edukacja (najwyższy zdobyty dyplom)\n",
    "num2 = \"ppeduc\"\n",
    "data[num2].describe()"
   ]
  },
  {
   "cell_type": "code",
   "execution_count": 250,
   "metadata": {},
   "outputs": [
    {
     "data": {
      "text/plain": [
       "count                      3009\n",
       "unique                        3\n",
       "top       different high school\n",
       "freq                       2581\n",
       "Name: q25, dtype: object"
      ]
     },
     "execution_count": 250,
     "metadata": {},
     "output_type": "execute_result"
    }
   ],
   "source": [
    "# Czy chodziliście do tej samej szkoły?\n",
    "cat1 = \"q25\"\n",
    "data[cat1].describe()"
   ]
  },
  {
   "cell_type": "code",
   "execution_count": 251,
   "metadata": {},
   "outputs": [
    {
     "data": {
      "text/plain": [
       "count         3010\n",
       "unique           6\n",
       "top       democrat\n",
       "freq          1276\n",
       "Name: q12, dtype: object"
      ]
     },
     "execution_count": 251,
     "metadata": {},
     "output_type": "execute_result"
    }
   ],
   "source": [
    "# Polityczne preferencje partnera\n",
    "cat2 = \"q12\"\n",
    "data[cat2].describe()"
   ]
  },
  {
   "cell_type": "code",
   "execution_count": 252,
   "metadata": {},
   "outputs": [
    {
     "data": {
      "text/plain": [
       "count                     4002\n",
       "unique                       2\n",
       "top       no, i am not married\n",
       "freq                      2071\n",
       "Name: s1, dtype: object"
      ]
     },
     "execution_count": 252,
     "metadata": {},
     "output_type": "execute_result"
    }
   ],
   "source": [
    "# Czy jesteście małżeństwem?\n",
    "label = \"s1\"\n",
    "data[label].describe()"
   ]
  },
  {
   "cell_type": "code",
   "execution_count": 253,
   "metadata": {},
   "outputs": [
    {
     "data": {
      "text/html": [
       "<div>\n",
       "<style scoped>\n",
       "    .dataframe tbody tr th:only-of-type {\n",
       "        vertical-align: middle;\n",
       "    }\n",
       "\n",
       "    .dataframe tbody tr th {\n",
       "        vertical-align: top;\n",
       "    }\n",
       "\n",
       "    .dataframe thead th {\n",
       "        text-align: right;\n",
       "    }\n",
       "</style>\n",
       "<table border=\"1\" class=\"dataframe\">\n",
       "  <thead>\n",
       "    <tr style=\"text-align: right;\">\n",
       "      <th></th>\n",
       "      <th>rel_quality</th>\n",
       "      <th>education</th>\n",
       "      <th>same_school</th>\n",
       "      <th>partner_politics</th>\n",
       "      <th>s1</th>\n",
       "    </tr>\n",
       "  </thead>\n",
       "  <tbody>\n",
       "    <tr>\n",
       "      <th>0</th>\n",
       "      <td>good</td>\n",
       "      <td>bachelors degree</td>\n",
       "      <td>different high school</td>\n",
       "      <td>democrat</td>\n",
       "      <td>no, i am not married</td>\n",
       "    </tr>\n",
       "    <tr>\n",
       "      <th>1</th>\n",
       "      <td>good</td>\n",
       "      <td>masters degree</td>\n",
       "      <td>different high school</td>\n",
       "      <td>democrat</td>\n",
       "      <td>yes, i am married</td>\n",
       "    </tr>\n",
       "    <tr>\n",
       "      <th>3</th>\n",
       "      <td>good</td>\n",
       "      <td>associate degree</td>\n",
       "      <td>different high school</td>\n",
       "      <td>democrat</td>\n",
       "      <td>no, i am not married</td>\n",
       "    </tr>\n",
       "    <tr>\n",
       "      <th>6</th>\n",
       "      <td>good</td>\n",
       "      <td>bachelors degree</td>\n",
       "      <td>different high school</td>\n",
       "      <td>democrat</td>\n",
       "      <td>no, i am not married</td>\n",
       "    </tr>\n",
       "    <tr>\n",
       "      <th>7</th>\n",
       "      <td>good</td>\n",
       "      <td>masters degree</td>\n",
       "      <td>different high school</td>\n",
       "      <td>democrat</td>\n",
       "      <td>yes, i am married</td>\n",
       "    </tr>\n",
       "  </tbody>\n",
       "</table>\n",
       "</div>"
      ],
      "text/plain": [
       "  rel_quality         education            same_school partner_politics  \\\n",
       "0        good  bachelors degree  different high school         democrat   \n",
       "1        good    masters degree  different high school         democrat   \n",
       "3        good  associate degree  different high school         democrat   \n",
       "6        good  bachelors degree  different high school         democrat   \n",
       "7        good    masters degree  different high school         democrat   \n",
       "\n",
       "                     s1  \n",
       "0  no, i am not married  \n",
       "1     yes, i am married  \n",
       "3  no, i am not married  \n",
       "6  no, i am not married  \n",
       "7     yes, i am married  "
      ]
     },
     "execution_count": 253,
     "metadata": {},
     "output_type": "execute_result"
    }
   ],
   "source": [
    "data = data[[num1,num2,cat1,cat2,label]].dropna()\n",
    "data.rename(columns={'q34':'rel_quality','ppeduc':'education','q25':'same_school','q12':'partner_politics'}, inplace=True)\n",
    "data.head()"
   ]
  },
  {
   "cell_type": "markdown",
   "metadata": {
    "scrolled": true
   },
   "source": [
    "# 3. Preprocessing"
   ]
  },
  {
   "cell_type": "code",
   "execution_count": 254,
   "metadata": {},
   "outputs": [],
   "source": [
    "from sklearn import preprocessing\n",
    "    \n",
    "le = preprocessing.LabelEncoder()\n",
    "\n",
    "for column_name in data.columns:\n",
    "    if column_name == \"rel_quality\":\n",
    "        data[column_name] = data[column_name].map({\n",
    "            'refused':-1, \n",
    "            'excellent':5, \n",
    "            \"good\":4, \n",
    "            \"fair\":3, \n",
    "            \"poor\":2, \n",
    "            \"very poor\":1\n",
    "        })\n",
    "    \n",
    "    if column_name == \"education\":\n",
    "        data[column_name] = data[column_name].map({\n",
    "            'no formal education':1, \n",
    "            '1st, 2nd, 3rd, or 4th grade':2, \n",
    "            '5th or 6th grade':3,\n",
    "            '7th or 8th grade':4,\n",
    "            '9th grade':5,\n",
    "            '10th grade':6,        \n",
    "            '11th grade':7, \n",
    "            '12th grade no diploma':8,\n",
    "            'high school graduate - high school diploma or the equivalent (ged)':9,\n",
    "            'some college, no degree':10,\n",
    "            'bachelors degree':11,\n",
    "            'masters degree':12,\n",
    "            'associate degree':13,\n",
    "            'professional or doctorate degree':14, \n",
    "        })\n",
    "    \n",
    "    if column_name != 'rel_quality' and column_name != 'education' and hasattr(pd.Series(data[column_name], dtype='category'), 'cat'):\n",
    "        data[column_name] = le.fit_transform(data[column_name].astype(str))\n",
    "    else:\n",
    "        pass\n",
    "\n",
    "   "
   ]
  },
  {
   "cell_type": "code",
   "execution_count": 255,
   "metadata": {
    "scrolled": true
   },
   "outputs": [
    {
     "data": {
      "text/html": [
       "<div>\n",
       "<style scoped>\n",
       "    .dataframe tbody tr th:only-of-type {\n",
       "        vertical-align: middle;\n",
       "    }\n",
       "\n",
       "    .dataframe tbody tr th {\n",
       "        vertical-align: top;\n",
       "    }\n",
       "\n",
       "    .dataframe thead th {\n",
       "        text-align: right;\n",
       "    }\n",
       "</style>\n",
       "<table border=\"1\" class=\"dataframe\">\n",
       "  <thead>\n",
       "    <tr style=\"text-align: right;\">\n",
       "      <th></th>\n",
       "      <th>rel_quality</th>\n",
       "      <th>education</th>\n",
       "      <th>same_school</th>\n",
       "      <th>partner_politics</th>\n",
       "      <th>s1</th>\n",
       "    </tr>\n",
       "  </thead>\n",
       "  <tbody>\n",
       "    <tr>\n",
       "      <th>0</th>\n",
       "      <td>4</td>\n",
       "      <td>11</td>\n",
       "      <td>0</td>\n",
       "      <td>1</td>\n",
       "      <td>0</td>\n",
       "    </tr>\n",
       "    <tr>\n",
       "      <th>1</th>\n",
       "      <td>4</td>\n",
       "      <td>12</td>\n",
       "      <td>0</td>\n",
       "      <td>1</td>\n",
       "      <td>1</td>\n",
       "    </tr>\n",
       "    <tr>\n",
       "      <th>3</th>\n",
       "      <td>4</td>\n",
       "      <td>13</td>\n",
       "      <td>0</td>\n",
       "      <td>1</td>\n",
       "      <td>0</td>\n",
       "    </tr>\n",
       "    <tr>\n",
       "      <th>6</th>\n",
       "      <td>4</td>\n",
       "      <td>11</td>\n",
       "      <td>0</td>\n",
       "      <td>1</td>\n",
       "      <td>0</td>\n",
       "    </tr>\n",
       "    <tr>\n",
       "      <th>7</th>\n",
       "      <td>4</td>\n",
       "      <td>12</td>\n",
       "      <td>0</td>\n",
       "      <td>1</td>\n",
       "      <td>1</td>\n",
       "    </tr>\n",
       "  </tbody>\n",
       "</table>\n",
       "</div>"
      ],
      "text/plain": [
       "   rel_quality  education  same_school  partner_politics  s1\n",
       "0            4         11            0                 1   0\n",
       "1            4         12            0                 1   1\n",
       "3            4         13            0                 1   0\n",
       "6            4         11            0                 1   0\n",
       "7            4         12            0                 1   1"
      ]
     },
     "execution_count": 255,
     "metadata": {},
     "output_type": "execute_result"
    }
   ],
   "source": [
    "data.head()"
   ]
  },
  {
   "cell_type": "markdown",
   "metadata": {},
   "source": [
    "# 4. Podział zbioru danych na treningowy i testowy"
   ]
  },
  {
   "cell_type": "code",
   "execution_count": 256,
   "metadata": {},
   "outputs": [],
   "source": [
    "y = data.loc[:,'s1']"
   ]
  },
  {
   "cell_type": "code",
   "execution_count": 257,
   "metadata": {},
   "outputs": [],
   "source": [
    "X = data.loc[:, data.columns != 's1']"
   ]
  },
  {
   "cell_type": "code",
   "execution_count": 258,
   "metadata": {},
   "outputs": [],
   "source": [
    "from sklearn.model_selection import train_test_split\n",
    "\n",
    "X_train, X_test, y_train, y_test = train_test_split(X, y, test_size=0.33, random_state=42)"
   ]
  },
  {
   "cell_type": "code",
   "execution_count": 259,
   "metadata": {},
   "outputs": [
    {
     "data": {
      "text/plain": [
       "((2016, 4), (993, 4), (2016,), (993,))"
      ]
     },
     "execution_count": 259,
     "metadata": {},
     "output_type": "execute_result"
    }
   ],
   "source": [
    "X_train.shape, X_test.shape, y_train.shape, y_test.shape"
   ]
  },
  {
   "cell_type": "markdown",
   "metadata": {},
   "source": [
    "# 5. Przygotowanie modelu"
   ]
  },
  {
   "cell_type": "code",
   "execution_count": 260,
   "metadata": {},
   "outputs": [
    {
     "name": "stdout",
     "output_type": "stream",
     "text": [
      "Model accuracy score: 0.6465256797583081\n"
     ]
    }
   ],
   "source": [
    "from sklearn import svm\n",
    "from sklearn.metrics import accuracy_score\n",
    "\n",
    "model = svm.SVC(gamma='scale', probability=True)\n",
    "\n",
    "y_pred = model.fit(X_train,y_train).predict(X_test)\n",
    "acc = accuracy_score(y_test,y_pred)\n",
    "print(\"Model accuracy score: \" + str(acc))"
   ]
  },
  {
   "cell_type": "markdown",
   "metadata": {},
   "source": [
    "# 6. Wykres Ceteris Paribus"
   ]
  },
  {
   "cell_type": "markdown",
   "metadata": {},
   "source": [
    "# Wybranie próbki:"
   ]
  },
  {
   "cell_type": "code",
   "execution_count": 261,
   "metadata": {},
   "outputs": [
    {
     "name": "stdout",
     "output_type": "stream",
     "text": [
      "      rel_quality  education  same_school  partner_politics\n",
      "3771            5         10            0                 3\n"
     ]
    },
    {
     "data": {
      "text/plain": [
       "array([[ 5, 10,  0,  3]])"
      ]
     },
     "execution_count": 261,
     "metadata": {},
     "output_type": "execute_result"
    }
   ],
   "source": [
    "sample = X_test.sample(1)\n",
    "print(sample)\n",
    "sample.values"
   ]
  },
  {
   "cell_type": "code",
   "execution_count": 272,
   "metadata": {
    "scrolled": true
   },
   "outputs": [
    {
     "data": {
      "text/html": [
       "<div>\n",
       "<style scoped>\n",
       "    .dataframe tbody tr th:only-of-type {\n",
       "        vertical-align: middle;\n",
       "    }\n",
       "\n",
       "    .dataframe tbody tr th {\n",
       "        vertical-align: top;\n",
       "    }\n",
       "\n",
       "    .dataframe thead th {\n",
       "        text-align: right;\n",
       "    }\n",
       "</style>\n",
       "<table border=\"1\" class=\"dataframe\">\n",
       "  <thead>\n",
       "    <tr style=\"text-align: right;\">\n",
       "      <th></th>\n",
       "      <th>rel_quality</th>\n",
       "      <th>education</th>\n",
       "      <th>same_school</th>\n",
       "      <th>partner_politics</th>\n",
       "    </tr>\n",
       "  </thead>\n",
       "  <tbody>\n",
       "    <tr>\n",
       "      <th>2098</th>\n",
       "      <td>5</td>\n",
       "      <td>10</td>\n",
       "      <td>0</td>\n",
       "      <td>3</td>\n",
       "    </tr>\n",
       "    <tr>\n",
       "      <th>3631</th>\n",
       "      <td>5</td>\n",
       "      <td>10</td>\n",
       "      <td>0</td>\n",
       "      <td>3</td>\n",
       "    </tr>\n",
       "    <tr>\n",
       "      <th>1528</th>\n",
       "      <td>5</td>\n",
       "      <td>10</td>\n",
       "      <td>0</td>\n",
       "      <td>3</td>\n",
       "    </tr>\n",
       "    <tr>\n",
       "      <th>1129</th>\n",
       "      <td>5</td>\n",
       "      <td>10</td>\n",
       "      <td>0</td>\n",
       "      <td>3</td>\n",
       "    </tr>\n",
       "    <tr>\n",
       "      <th>1109</th>\n",
       "      <td>5</td>\n",
       "      <td>10</td>\n",
       "      <td>0</td>\n",
       "      <td>3</td>\n",
       "    </tr>\n",
       "  </tbody>\n",
       "</table>\n",
       "</div>"
      ],
      "text/plain": [
       "      rel_quality  education  same_school  partner_politics\n",
       "2098            5         10            0                 3\n",
       "3631            5         10            0                 3\n",
       "1528            5         10            0                 3\n",
       "1129            5         10            0                 3\n",
       "1109            5         10            0                 3"
      ]
     },
     "execution_count": 272,
     "metadata": {},
     "output_type": "execute_result"
    }
   ],
   "source": [
    "X_temp = X_train.copy()\n",
    "X_temp.loc[:,'same_school'] = int(sample['same_school'])\n",
    "X_temp.loc[:,'partner_politics'] = int(sample['partner_politics'])\n",
    "X_temp.loc[:,'rel_quality'] = int(sample['rel_quality'])\n",
    "X_temp.loc[:,'education'] = int(sample['education'])\n",
    "\n",
    "X_temp.head()"
   ]
  },
  {
   "cell_type": "markdown",
   "metadata": {},
   "source": [
    "# Wykresy dla wybranych cech numerycznych"
   ]
  },
  {
   "cell_type": "code",
   "execution_count": 264,
   "metadata": {},
   "outputs": [],
   "source": [
    "import matplotlib.pyplot as plt\n",
    "\n",
    "def ceteris_paribus_plot(subject,num_feature,n):\n",
    "    X_temp_1 = X_temp.copy().head(n)\n",
    "    \n",
    "    f_min, f_max = data[num_feature].min(), data[num_feature].max()\n",
    "    start, stop = (f_min, f_max)\n",
    "    num_feature_values = np.linspace(start, stop, n, dtype=int)\n",
    "    \n",
    "    X_temp_1[num_feature] = num_feature_values\n",
    "    \n",
    "    y_pred = model.predict_proba(X_temp_1)[:, 1]\n",
    "    \n",
    "    plt.plot(num_feature_values, y_pred)\n",
    "    plt.xlabel(subject)\n",
    "    plt.ylabel(\"Prawdopodobieństwo bycia małżeństwem\")"
   ]
  },
  {
   "cell_type": "code",
   "execution_count": 267,
   "metadata": {},
   "outputs": [
    {
     "data": {
      "image/png": "[encoded data removed]",
      "text/plain": [
       "<Figure size 432x288 with 1 Axes>"
      ]
     },
     "metadata": {
      "needs_background": "light"
     },
     "output_type": "display_data"
    }
   ],
   "source": [
    "ceteris_paribus_plot(\"Ocena jakości związku\",'rel_quality',500)"
   ]
  },
  {
   "cell_type": "code",
   "execution_count": 268,
   "metadata": {},
   "outputs": [
    {
     "data": {
      "image/png": "[encoded data removed]",
      "text/plain": [
       "<Figure size 432x288 with 1 Axes>"
      ]
     },
     "metadata": {
      "needs_background": "light"
     },
     "output_type": "display_data"
    }
   ],
   "source": [
    "ceteris_paribus_plot(\"Edukacja - najwyższy zdobyty dyplom\",'education',500)"
   ]
  },
  {
   "cell_type": "code",
   "execution_count": null,
   "metadata": {},
   "outputs": [],
   "source": []
  }
 ],
 "metadata": {
  "kernelspec": {
   "display_name": "Python 3",
   "language": "python",
   "name": "python3"
  },
  "language_info": {
   "codemirror_mode": {
    "name": "ipython",
    "version": 3
   },
   "file_extension": ".py",
   "mimetype": "text/x-python",
   "name": "python",
   "nbconvert_exporter": "python",
   "pygments_lexer": "ipython3",
   "version": "3.7.1"
  }
 },
 "nbformat": 4,
 "nbformat_minor": 2
}
