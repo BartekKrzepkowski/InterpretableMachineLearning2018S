{
 "cells": [
  {
   "cell_type": "code",
   "execution_count": 2,
   "metadata": {
    "ExecuteTime": {
     "end_time": "2019-03-05T22:19:42.074494Z",
     "start_time": "2019-03-05T22:19:38.532581Z"
    }
   },
   "outputs": [],
   "source": [
    "import numpy as np\n",
    "import pandas as pd\n",
    "import matplotlib.pyplot as plt"
   ]
  },
  {
   "cell_type": "markdown",
   "metadata": {},
   "source": [
    "## Wczytanie danych"
   ]
  },
  {
   "cell_type": "code",
   "execution_count": 3,
   "metadata": {
    "ExecuteTime": {
     "end_time": "2019-03-05T22:19:44.324701Z",
     "start_time": "2019-03-05T22:19:42.079480Z"
    }
   },
   "outputs": [],
   "source": [
    "df = pd.read_stata(\"HCMST 2017 fresh sample for public sharing draft v1.1.dta\")"
   ]
  },
  {
   "cell_type": "markdown",
   "metadata": {},
   "source": [
    "## Przygotwanie zmiennych"
   ]
  },
  {
   "cell_type": "markdown",
   "metadata": {},
   "source": [
    "Najpierw konwertujemy odpowiedź `S1` na zmienną binarną, gdzie 1 odpowiada informacji `Yes, I am Married`"
   ]
  },
  {
   "cell_type": "code",
   "execution_count": 4,
   "metadata": {
    "ExecuteTime": {
     "end_time": "2019-03-05T22:19:44.354789Z",
     "start_time": "2019-03-05T22:19:44.324701Z"
    }
   },
   "outputs": [],
   "source": [
    "df['y'] = 1 - df['S1'].cat.codes\n",
    "y = df['y']"
   ]
  },
  {
   "cell_type": "markdown",
   "metadata": {},
   "source": [
    "### Wybrane zmienne"
   ]
  },
  {
   "cell_type": "markdown",
   "metadata": {},
   "source": [
    "Do modelu wybrałem następujące zmienne  \n",
    "1) kategoryczne:  \n",
    "  a) `Q23` - Between you and [Partner name], who earned more income in 2016,  \n",
    "  b) `Q28` - Did your parents know [Partner name]’s parents before you met [Partner name]?,  \n",
    "2) uporządkowane:  \n",
    "  a) `ppp20072` - Q27: How often do you attend religious services?,  \n",
    "  b) `w6_how_many` - How many Different people besides [Partner name] have you met for dating, or rom   "
   ]
  },
  {
   "cell_type": "markdown",
   "metadata": {},
   "source": [
    "Wszystkie zmienne są zakodowane przez kategorię, które odkoduję."
   ]
  },
  {
   "cell_type": "code",
   "execution_count": 39,
   "metadata": {
    "ExecuteTime": {
     "end_time": "2019-03-05T22:22:58.527397Z",
     "start_time": "2019-03-05T22:22:58.516433Z"
    }
   },
   "outputs": [],
   "source": [
    "X = df[['Q23', 'Q28', 'ppp20072', 'w6_how_many']].apply(lambda x: x.cat.codes, axis=0)"
   ]
  },
  {
   "cell_type": "code",
   "execution_count": 40,
   "metadata": {
    "ExecuteTime": {
     "end_time": "2019-03-05T22:22:58.717676Z",
     "start_time": "2019-03-05T22:22:58.702527Z"
    }
   },
   "outputs": [
    {
     "data": {
      "text/plain": [
       "Q23            0.186325\n",
       "Q28            0.186325\n",
       "ppp20072       0.033048\n",
       "w6_how_many    0.935897\n",
       "dtype: float64"
      ]
     },
     "execution_count": 40,
     "metadata": {},
     "output_type": "execute_result"
    }
   ],
   "source": [
    "X.apply(lambda x: x==-1).mean()"
   ]
  },
  {
   "cell_type": "markdown",
   "metadata": {},
   "source": [
    "Pandas wszystkie Nany koduje jako kategorię -1, jednak ze względu na ich duży udział w zbiorze, zwłaszcza w zmiennej `w6_how_many` wyrzucę je ze zbioru danych."
   ]
  },
  {
   "cell_type": "code",
   "execution_count": 41,
   "metadata": {
    "ExecuteTime": {
     "end_time": "2019-03-05T22:22:59.152887Z",
     "start_time": "2019-03-05T22:22:59.143688Z"
    }
   },
   "outputs": [],
   "source": [
    "y = df.loc[X.min(axis=1) >= 0, 'y']"
   ]
  },
  {
   "cell_type": "code",
   "execution_count": 42,
   "metadata": {
    "ExecuteTime": {
     "end_time": "2019-03-05T22:22:59.453855Z",
     "start_time": "2019-03-05T22:22:59.444446Z"
    }
   },
   "outputs": [],
   "source": [
    "X = X.loc[X.min(axis=1) >= 0]"
   ]
  },
  {
   "cell_type": "code",
   "execution_count": 43,
   "metadata": {
    "ExecuteTime": {
     "end_time": "2019-03-05T22:22:59.893649Z",
     "start_time": "2019-03-05T22:22:59.885997Z"
    }
   },
   "outputs": [
    {
     "data": {
      "text/plain": [
       "(225, 4)"
      ]
     },
     "execution_count": 43,
     "metadata": {},
     "output_type": "execute_result"
    }
   ],
   "source": [
    "X.shape"
   ]
  },
  {
   "cell_type": "markdown",
   "metadata": {},
   "source": [
    "Zostało nam 225 obserwacji co oznacza, że nie ma sensu uczyć modelu o dużej pojemności. Z tego powodu wybrałem las losowy o 25 drzewach i maksymalnej głębokości 3."
   ]
  },
  {
   "cell_type": "markdown",
   "metadata": {},
   "source": [
    "Stworzymy dodatkowo słowniki do zmiennych kategorycznych by łatwiej odwikłać potem kategorię."
   ]
  },
  {
   "cell_type": "code",
   "execution_count": 86,
   "metadata": {
    "ExecuteTime": {
     "end_time": "2019-03-05T22:28:07.989422Z",
     "start_time": "2019-03-05T22:28:07.984267Z"
    }
   },
   "outputs": [],
   "source": [
    "d_ppp20072 = dict(enumerate(df['ppp20072'].cat.categories))\n",
    "d_w6_how_many = dict(enumerate([cat.split(\".\")[0] for cat in df['w6_how_many'].cat.categories]))"
   ]
  },
  {
   "cell_type": "code",
   "execution_count": 88,
   "metadata": {
    "ExecuteTime": {
     "end_time": "2019-03-05T22:28:10.494945Z",
     "start_time": "2019-03-05T22:28:10.492153Z"
    }
   },
   "outputs": [],
   "source": [
    "d = {\n",
    "    'ppp20072': d_ppp20072,\n",
    "    'w6_how_many': d_w6_how_many\n",
    "}"
   ]
  },
  {
   "cell_type": "markdown",
   "metadata": {},
   "source": [
    "## Budowa modelu"
   ]
  },
  {
   "cell_type": "code",
   "execution_count": 89,
   "metadata": {
    "ExecuteTime": {
     "end_time": "2019-03-05T22:28:11.039389Z",
     "start_time": "2019-03-05T22:28:11.036550Z"
    }
   },
   "outputs": [],
   "source": [
    "from sklearn.ensemble import RandomForestClassifier"
   ]
  },
  {
   "cell_type": "code",
   "execution_count": 90,
   "metadata": {
    "ExecuteTime": {
     "end_time": "2019-03-05T22:28:11.230946Z",
     "start_time": "2019-03-05T22:28:11.226259Z"
    }
   },
   "outputs": [],
   "source": [
    "rf = RandomForestClassifier(n_estimators=25, max_depth=4)"
   ]
  },
  {
   "cell_type": "code",
   "execution_count": 91,
   "metadata": {
    "ExecuteTime": {
     "end_time": "2019-03-05T22:28:11.460199Z",
     "start_time": "2019-03-05T22:28:11.424483Z"
    }
   },
   "outputs": [
    {
     "data": {
      "text/plain": [
       "RandomForestClassifier(bootstrap=True, class_weight=None, criterion='gini',\n",
       "            max_depth=4, max_features='auto', max_leaf_nodes=None,\n",
       "            min_impurity_decrease=0.0, min_impurity_split=None,\n",
       "            min_samples_leaf=1, min_samples_split=2,\n",
       "            min_weight_fraction_leaf=0.0, n_estimators=25, n_jobs=None,\n",
       "            oob_score=False, random_state=None, verbose=0,\n",
       "            warm_start=False)"
      ]
     },
     "execution_count": 91,
     "metadata": {},
     "output_type": "execute_result"
    }
   ],
   "source": [
    "rf.fit(X, y)"
   ]
  },
  {
   "cell_type": "markdown",
   "metadata": {},
   "source": [
    "## Ceterus Paribus"
   ]
  },
  {
   "cell_type": "markdown",
   "metadata": {
    "ExecuteTime": {
     "end_time": "2019-03-05T18:27:37.001125Z",
     "start_time": "2019-03-05T18:27:36.994799Z"
    }
   },
   "source": [
    "Ponieważ korzystam tylko z zmiennych uporządkowanych funkcja `ceterus_paribus` będzie poprostu przyjmowała wszystkie wartości możliwe dla danej zmiennej."
   ]
  },
  {
   "cell_type": "code",
   "execution_count": 92,
   "metadata": {
    "ExecuteTime": {
     "end_time": "2019-03-05T22:28:12.054752Z",
     "start_time": "2019-03-05T22:28:12.043842Z"
    }
   },
   "outputs": [],
   "source": [
    "def ceterus_paribus(df, obs, model, variable):\n",
    "    unique_values = sorted(list(df[variable].unique()))\n",
    "    preds = []\n",
    "    for value in unique_values:\n",
    "        X_temp = df.iloc[obs, :]\n",
    "        X_temp[variable] = value\n",
    "        preds.append(rf.predict_proba(X_temp.values.reshape(1,-1))[0, 1])\n",
    "    unique_values = list(map(lambda x: d[variable][x], unique_values))\n",
    "    plt.plot(unique_values, preds)\n",
    "    #return preds, unique_values"
   ]
  },
  {
   "cell_type": "markdown",
   "metadata": {},
   "source": [
    "Będziemy analizować obserwację 150 czyli:"
   ]
  },
  {
   "cell_type": "code",
   "execution_count": 112,
   "metadata": {
    "ExecuteTime": {
     "end_time": "2019-03-05T22:34:34.718902Z",
     "start_time": "2019-03-05T22:34:34.674749Z"
    }
   },
   "outputs": [
    {
     "data": {
      "text/plain": [
       "Q23                                                I earned more\n",
       "Q28                                                           No\n",
       "ppp20072                                                   Never\n",
       "w6_how_many    One person. I met only one person besides [Par...\n",
       "Name: 2512, dtype: object"
      ]
     },
     "execution_count": 112,
     "metadata": {},
     "output_type": "execute_result"
    }
   ],
   "source": [
    "df.dropna(subset=X.columns).iloc[150].loc[X.columns]"
   ]
  },
  {
   "cell_type": "markdown",
   "metadata": {},
   "source": [
    "Osobę ktora:  \n",
    "1) zarabiała więcej od partnera,   \n",
    "2) jej rodzice nie znali rodziców partnera przed poznaniem,  \n",
    "3) Nigdy nie bierze udziału w obrzędach religijnych,  \n",
    "4) Przed spotkaniem swojego partnera spoktykała się tylko z 1 inną osobą."
   ]
  },
  {
   "cell_type": "code",
   "execution_count": 107,
   "metadata": {
    "ExecuteTime": {
     "end_time": "2019-03-05T22:32:54.672207Z",
     "start_time": "2019-03-05T22:32:54.316567Z"
    }
   },
   "outputs": [
    {
     "data": {
      "image/png": "[encoded data removed]",
      "text/plain": [
       "<Figure size 1080x720 with 1 Axes>"
      ]
     },
     "metadata": {
      "needs_background": "light"
     },
     "output_type": "display_data"
    }
   ],
   "source": [
    "plt.figure(figsize=(15,10))\n",
    "ceterus_paribus(X, 150, rf, \"ppp20072\")"
   ]
  },
  {
   "cell_type": "markdown",
   "metadata": {},
   "source": [
    "Widać że w powyższym przypadku obserwacji numer 150, największe p-stwo że osoba jest zameżna jest przy uczęszczaniu w obrzędach religijnych raz w tygodniu. Dla osób, które robią to rzadziej to p-stwo znacząco spada."
   ]
  },
  {
   "cell_type": "code",
   "execution_count": 108,
   "metadata": {
    "ExecuteTime": {
     "end_time": "2019-03-05T22:32:58.253299Z",
     "start_time": "2019-03-05T22:32:57.904080Z"
    }
   },
   "outputs": [
    {
     "data": {
      "image/png": "[encoded data removed]",
      "text/plain": [
       "<Figure size 1080x720 with 1 Axes>"
      ]
     },
     "metadata": {
      "needs_background": "light"
     },
     "output_type": "display_data"
    }
   ],
   "source": [
    "plt.figure(figsize=(15,10))\n",
    "ceterus_paribus(X, 150, rf, \"w6_how_many\")"
   ]
  },
  {
   "cell_type": "markdown",
   "metadata": {},
   "source": [
    "W przypadku zmiennej mówiącej z iloma partnerami wcześniej dana osoba się spotykała dla obserwacji 150 widać relację, gdzie z im więcej osobami dana osoba się spotykała tym ma mniejsze p-stwo bycia osobą zamężną."
   ]
  },
  {
   "cell_type": "code",
   "execution_count": null,
   "metadata": {},
   "outputs": [],
   "source": []
  }
 ],
 "metadata": {
  "kernelspec": {
   "display_name": "Python 3",
   "language": "python",
   "name": "python3"
  },
  "language_info": {
   "codemirror_mode": {
    "name": "ipython",
    "version": 3
   },
   "file_extension": ".py",
   "mimetype": "text/x-python",
   "name": "python",
   "nbconvert_exporter": "python",
   "pygments_lexer": "ipython3",
   "version": "3.6.0"
  },
  "toc": {
   "base_numbering": 1,
   "nav_menu": {},
   "number_sections": true,
   "sideBar": true,
   "skip_h1_title": false,
   "title_cell": "Table of Contents",
   "title_sidebar": "Contents",
   "toc_cell": false,
   "toc_position": {},
   "toc_section_display": true,
   "toc_window_display": true
  }
 },
 "nbformat": 4,
 "nbformat_minor": 2
}
