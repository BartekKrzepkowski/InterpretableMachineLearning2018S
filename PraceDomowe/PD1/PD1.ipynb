{
 "cells": [
  {
   "cell_type": "markdown",
   "metadata": {},
   "source": [
    "Celem zadania było przygotowanie modelu przewidującego, czy dana osoba jest zamężna na podstawie wybranych samodzielnie zmiennych, wykorzystując dane z badania 'How Couples Meet and Stay Together' przeprowadzonego przez Stanford University w 2017 roku. Dla wybranych ciągłych predyktorów należało narysować profile Ceteris Paribus.\n",
    "\n",
    "Jako model wybrano `xgboost` z domyślnymi hiperparametrami."
   ]
  },
  {
   "cell_type": "code",
   "execution_count": 1,
   "metadata": {},
   "outputs": [],
   "source": [
    "import matplotlib.pyplot as plt\n",
    "import numpy as np\n",
    "import pandas as pd\n",
    "\n",
    "from xgboost import XGBClassifier"
   ]
  },
  {
   "cell_type": "code",
   "execution_count": 2,
   "metadata": {},
   "outputs": [],
   "source": [
    "path = r'D:\\Interpretable Machine Learning\\PD1\\HCMST 2017 fresh sample for public sharing draft v1.1.dta'\n",
    "data = pd.read_stata(path)"
   ]
  },
  {
   "cell_type": "code",
   "execution_count": 3,
   "metadata": {},
   "outputs": [
    {
     "data": {
      "text/plain": [
       "(3510, 285)"
      ]
     },
     "execution_count": 3,
     "metadata": {},
     "output_type": "execute_result"
    }
   ],
   "source": [
    "data.shape"
   ]
  },
  {
   "cell_type": "markdown",
   "metadata": {},
   "source": [
    "Wybrane zmienne to:\n",
    "* `ppage` - wiek - zmienna \"ciągła\",\n",
    "* `w6_q24_length` - liczba znaków w odpowiedzi na pytanie o historię znajomości z partnerem - zmienna \"ciągła\",\n",
    "* `w6_sex_frequency` - w ciągu ostatnich 12 miesięcy, mniej więcej jak często uprawiałeś seks z partnerem? - zmienna porządkowa,\n",
    "* `w6_q23` - kto zarabiał więcej w 2016 lub kiedy ostatnio byliście razem? - zmienna jakościowa,\n",
    "* `w6_q27` - czy wraz z partnerem dorastaliście w tej samej miejscowości? - zmienna jakościowa."
   ]
  },
  {
   "cell_type": "markdown",
   "metadata": {},
   "source": [
    "## Eksploracja danych"
   ]
  },
  {
   "cell_type": "markdown",
   "metadata": {},
   "source": [
    "## `S1`"
   ]
  },
  {
   "cell_type": "code",
   "execution_count": 4,
   "metadata": {},
   "outputs": [
    {
     "data": {
      "text/plain": [
       "Yes, I am Married       2085\n",
       "No, I am not Married    1425\n",
       "Name: S1, dtype: int64"
      ]
     },
     "execution_count": 4,
     "metadata": {},
     "output_type": "execute_result"
    }
   ],
   "source": [
    "data.S1.value_counts()"
   ]
  },
  {
   "cell_type": "code",
   "execution_count": 5,
   "metadata": {},
   "outputs": [
    {
     "data": {
      "text/plain": [
       "0"
      ]
     },
     "execution_count": 5,
     "metadata": {},
     "output_type": "execute_result"
    }
   ],
   "source": [
    "data.S1.isna().sum()"
   ]
  },
  {
   "cell_type": "markdown",
   "metadata": {},
   "source": [
    "Klasy są w miarę zbalansowane. Nie ma brakujących wartości w zmiennej objaśnianej."
   ]
  },
  {
   "cell_type": "code",
   "execution_count": 6,
   "metadata": {},
   "outputs": [
    {
     "data": {
      "text/plain": [
       "0    No, I am not Married\n",
       "1       Yes, I am Married\n",
       "2       Yes, I am Married\n",
       "3    No, I am not Married\n",
       "4       Yes, I am Married\n",
       "Name: S1, dtype: category\n",
       "Categories (2, object): [Yes, I am Married < No, I am not Married]"
      ]
     },
     "execution_count": 6,
     "metadata": {},
     "output_type": "execute_result"
    }
   ],
   "source": [
    "data.S1.head()"
   ]
  },
  {
   "cell_type": "code",
   "execution_count": 7,
   "metadata": {},
   "outputs": [
    {
     "data": {
      "text/plain": [
       "0    1\n",
       "1    0\n",
       "2    0\n",
       "3    1\n",
       "4    0\n",
       "dtype: int8"
      ]
     },
     "execution_count": 7,
     "metadata": {},
     "output_type": "execute_result"
    }
   ],
   "source": [
    "data.S1.cat.codes.head()"
   ]
  },
  {
   "cell_type": "markdown",
   "metadata": {},
   "source": [
    "Kodowanie jest \"odwrócone\", raczej wolelibyśmy, żeby 1 pojawiała się dla osób w związku małżeńskim."
   ]
  },
  {
   "cell_type": "markdown",
   "metadata": {},
   "source": [
    "## `ppage`"
   ]
  },
  {
   "cell_type": "code",
   "execution_count": 8,
   "metadata": {},
   "outputs": [
    {
     "data": {
      "text/plain": [
       "count    3510.000000\n",
       "mean       48.793732\n",
       "std        16.942535\n",
       "min        18.000000\n",
       "25%        34.000000\n",
       "50%        50.000000\n",
       "75%        62.000000\n",
       "max        93.000000\n",
       "Name: ppage, dtype: float64"
      ]
     },
     "execution_count": 8,
     "metadata": {},
     "output_type": "execute_result"
    }
   ],
   "source": [
    "data.ppage.astype(float).describe()"
   ]
  },
  {
   "cell_type": "markdown",
   "metadata": {},
   "source": [
    "Po `count` widać, że nie ma brakujących wartości."
   ]
  },
  {
   "cell_type": "code",
   "execution_count": 9,
   "metadata": {},
   "outputs": [
    {
     "data": {
      "text/plain": [
       "<matplotlib.axes._subplots.AxesSubplot at 0x1c79a63b4e0>"
      ]
     },
     "execution_count": 9,
     "metadata": {},
     "output_type": "execute_result"
    },
    {
     "data": {
      "image/png": "[encoded data removed]",
      "text/plain": [
       "<matplotlib.figure.Figure at 0x1c79a63bc18>"
      ]
     },
     "metadata": {
      "needs_background": "light"
     },
     "output_type": "display_data"
    }
   ],
   "source": [
    "data.ppage.astype(float).plot('hist', bins=20)"
   ]
  },
  {
   "cell_type": "markdown",
   "metadata": {},
   "source": [
    "<hr>"
   ]
  },
  {
   "cell_type": "markdown",
   "metadata": {},
   "source": [
    "## `w6_q24_length`"
   ]
  },
  {
   "cell_type": "code",
   "execution_count": 10,
   "metadata": {},
   "outputs": [
    {
     "data": {
      "text/plain": [
       "count    3394.000000\n",
       "mean      182.854449\n",
       "std       236.993300\n",
       "min         0.000000\n",
       "25%        54.000000\n",
       "50%       124.000000\n",
       "75%       222.750000\n",
       "max      3855.000000\n",
       "Name: w6_q24_length, dtype: float64"
      ]
     },
     "execution_count": 10,
     "metadata": {},
     "output_type": "execute_result"
    }
   ],
   "source": [
    "data.w6_q24_length.astype(float).describe()"
   ]
  },
  {
   "cell_type": "code",
   "execution_count": 11,
   "metadata": {},
   "outputs": [
    {
     "data": {
      "text/plain": [
       "116"
      ]
     },
     "execution_count": 11,
     "metadata": {},
     "output_type": "execute_result"
    }
   ],
   "source": [
    "data.w6_q24_length.isna().sum()"
   ]
  },
  {
   "cell_type": "code",
   "execution_count": 12,
   "metadata": {},
   "outputs": [
    {
     "data": {
      "text/plain": [
       "<matplotlib.axes._subplots.AxesSubplot at 0x1c79a630e80>"
      ]
     },
     "execution_count": 12,
     "metadata": {},
     "output_type": "execute_result"
    },
    {
     "data": {
      "image/png": "[encoded data removed]",
      "text/plain": [
       "<matplotlib.figure.Figure at 0x1c79a47e4a8>"
      ]
     },
     "metadata": {
      "needs_background": "light"
     },
     "output_type": "display_data"
    }
   ],
   "source": [
    "data.w6_q24_length.astype(float).plot('hist', bins=20)"
   ]
  },
  {
   "cell_type": "markdown",
   "metadata": {},
   "source": [
    "Mediana równa 124 znaki oznacza, że respondenci raczej nie pisali długich historii. Raczej spodziewalibyśmy się mocno skośnego rozkładu."
   ]
  },
  {
   "cell_type": "markdown",
   "metadata": {},
   "source": [
    "<hr>"
   ]
  },
  {
   "cell_type": "markdown",
   "metadata": {},
   "source": [
    "## `w6_sex_frequency`"
   ]
  },
  {
   "cell_type": "code",
   "execution_count": 13,
   "metadata": {},
   "outputs": [
    {
     "data": {
      "text/plain": [
       "Once a month or less    969\n",
       "Once or twice a week    744\n",
       "2 to 3 times a month    519\n",
       "3 to 6 times a week     368\n",
       "Refused                 170\n",
       "Once a day or more       86\n",
       "Name: w6_sex_frequency, dtype: int64"
      ]
     },
     "execution_count": 13,
     "metadata": {},
     "output_type": "execute_result"
    }
   ],
   "source": [
    "data.w6_sex_frequency.value_counts()"
   ]
  },
  {
   "cell_type": "code",
   "execution_count": 14,
   "metadata": {},
   "outputs": [
    {
     "data": {
      "text/plain": [
       "654"
      ]
     },
     "execution_count": 14,
     "metadata": {},
     "output_type": "execute_result"
    }
   ],
   "source": [
    "data.w6_sex_frequency.isna().sum()"
   ]
  },
  {
   "cell_type": "markdown",
   "metadata": {},
   "source": [
    "Tutaj jest więcej brakujących wartości."
   ]
  },
  {
   "cell_type": "code",
   "execution_count": 15,
   "metadata": {},
   "outputs": [
    {
     "data": {
      "text/plain": [
       "[NaN, Once a month or less, 2 to 3 times a month, 3 to 6 times a week, Once or twice a week, Once a day or more, Refused]\n",
       "Categories (6, object): [Refused < Once a day or more < 3 to 6 times a week < Once or twice a week < 2 to 3 times a month < Once a month or less]"
      ]
     },
     "execution_count": 15,
     "metadata": {},
     "output_type": "execute_result"
    }
   ],
   "source": [
    "data.w6_sex_frequency.unique()"
   ]
  },
  {
   "cell_type": "code",
   "execution_count": 16,
   "metadata": {},
   "outputs": [
    {
     "data": {
      "text/plain": [
       "array([-1,  5,  4,  2,  3,  1,  0], dtype=int8)"
      ]
     },
     "execution_count": 16,
     "metadata": {},
     "output_type": "execute_result"
    }
   ],
   "source": [
    "data.w6_sex_frequency.unique().codes"
   ]
  },
  {
   "cell_type": "markdown",
   "metadata": {},
   "source": [
    "Ta zmienna jest porządkowa, więc można zachować kodowanie za pomocą liczb całkowitych. Algorytmowi opartemu na drzewach to nie przeszkodzi, dopóki kolejność będzie zachowana."
   ]
  },
  {
   "cell_type": "markdown",
   "metadata": {},
   "source": [
    "<hr>"
   ]
  },
  {
   "cell_type": "markdown",
   "metadata": {},
   "source": [
    "## `w6_q23`"
   ]
  },
  {
   "cell_type": "code",
   "execution_count": 17,
   "metadata": {},
   "outputs": [
    {
     "data": {
      "text/plain": [
       "I earned more                             1382\n",
       "[Partner Name] earned more                1328\n",
       "We earned about the same amount            451\n",
       "[Partner Name] was not working for pay     203\n",
       "Refused                                     30\n",
       "Name: w6_q23, dtype: int64"
      ]
     },
     "execution_count": 17,
     "metadata": {},
     "output_type": "execute_result"
    }
   ],
   "source": [
    "data.w6_q23.value_counts()"
   ]
  },
  {
   "cell_type": "code",
   "execution_count": 18,
   "metadata": {},
   "outputs": [
    {
     "data": {
      "text/plain": [
       "116"
      ]
     },
     "execution_count": 18,
     "metadata": {},
     "output_type": "execute_result"
    }
   ],
   "source": [
    "data.w6_q23.isna().sum()"
   ]
  },
  {
   "cell_type": "markdown",
   "metadata": {},
   "source": [
    "<hr>"
   ]
  },
  {
   "cell_type": "markdown",
   "metadata": {},
   "source": [
    "## `w6_q27`"
   ]
  },
  {
   "cell_type": "code",
   "execution_count": 19,
   "metadata": {},
   "outputs": [
    {
     "data": {
      "text/plain": [
       "No         2610\n",
       "Yes         774\n",
       "Refused      10\n",
       "Name: w6_q27, dtype: int64"
      ]
     },
     "execution_count": 19,
     "metadata": {},
     "output_type": "execute_result"
    }
   ],
   "source": [
    "data.w6_q27.value_counts()"
   ]
  },
  {
   "cell_type": "code",
   "execution_count": 20,
   "metadata": {},
   "outputs": [
    {
     "data": {
      "text/plain": [
       "116"
      ]
     },
     "execution_count": 20,
     "metadata": {},
     "output_type": "execute_result"
    }
   ],
   "source": [
    "data.w6_q27.isna().sum()"
   ]
  },
  {
   "cell_type": "markdown",
   "metadata": {},
   "source": [
    "<hr>"
   ]
  },
  {
   "cell_type": "markdown",
   "metadata": {},
   "source": [
    "Czy te 116 brakujących wartości (w zmiennych `w6_q24_length`, `w6_q23` i `w6_q27`) dotyczy tych samych rekordów? Tak!"
   ]
  },
  {
   "cell_type": "code",
   "execution_count": 21,
   "metadata": {},
   "outputs": [
    {
     "data": {
      "text/plain": [
       "0"
      ]
     },
     "execution_count": 21,
     "metadata": {},
     "output_type": "execute_result"
    }
   ],
   "source": [
    "sum(data.w6_q24_length.isna() != data.w6_q23.isna()) + sum(data.w6_q24_length.isna() != data.w6_q27.isna())"
   ]
  },
  {
   "cell_type": "markdown",
   "metadata": {},
   "source": [
    "## Przygotowanie danych"
   ]
  },
  {
   "cell_type": "markdown",
   "metadata": {},
   "source": [
    "Po przyjrzeniu się wybranym zmiennym, postanowiłem dokonać następujących transformacji:\n",
    "* odwrócić kodowanie w zmiennej `S1` - 1 jeśli w związku małżeńskim, 0 jeśli nie,\n",
    "* usunać 116 obserwacji, gdzie brakuje `w6_q24_length`, `w6_q23` i `w6_q27`,\n",
    "* usunąć obserwacje, gdzie w powyższych trzech zmiennych wartość to 'Refused',\n",
    "* dla `w6_sex_frequency` potraktować 'Refused' jako brakującą wartość + imputacja za pomocą najczęstszej wartości - 'Once a month or less',\n",
    "* One Hot Encoding dla zmiennych `w6_q23` i `w6_q27`."
   ]
  },
  {
   "cell_type": "code",
   "execution_count": 22,
   "metadata": {},
   "outputs": [],
   "source": [
    "variables = ['ppage', 'w6_q24_length', 'w6_sex_frequency', 'w6_q23', 'w6_q27']\n",
    "# Selecting variables\n",
    "X = data[variables]\n",
    "# Filtering observations\n",
    "logical_filter = (~data.w6_q23.isna()) & (data.w6_q23 != 'Refused') & (data.w6_q27 != 'Refused')\n",
    "X = X[logical_filter]\n",
    "# Casting types and imputation\n",
    "X.ppage = X.ppage.astype(float)\n",
    "X.w6_q24_length = X.w6_q24_length.astype(float)\n",
    "X.w6_sex_frequency = X.w6_sex_frequency.cat.codes.replace({-1:5, 0:5})\n",
    "X.w6_q23 = X.w6_q23.astype(str)\n",
    "X.w6_q27 = X.w6_q27.astype(str)\n",
    "# One Hot Encoding\n",
    "X = pd.get_dummies(X)\n",
    "X.columns = map(lambda x: x.replace('[Partner Name]', 'PARTNER'), X.columns)\n",
    "\n",
    "y = 1 - data.S1.cat.codes\n",
    "y = y[logical_filter]"
   ]
  },
  {
   "cell_type": "code",
   "execution_count": 23,
   "metadata": {},
   "outputs": [
    {
     "data": {
      "text/html": [
       "<div>\n",
       "<style scoped>\n",
       "    .dataframe tbody tr th:only-of-type {\n",
       "        vertical-align: middle;\n",
       "    }\n",
       "\n",
       "    .dataframe tbody tr th {\n",
       "        vertical-align: top;\n",
       "    }\n",
       "\n",
       "    .dataframe thead th {\n",
       "        text-align: right;\n",
       "    }\n",
       "</style>\n",
       "<table border=\"1\" class=\"dataframe\">\n",
       "  <thead>\n",
       "    <tr style=\"text-align: right;\">\n",
       "      <th></th>\n",
       "      <th>ppage</th>\n",
       "      <th>w6_q24_length</th>\n",
       "      <th>w6_sex_frequency</th>\n",
       "      <th>w6_q23_I earned more</th>\n",
       "      <th>w6_q23_We earned about the same amount</th>\n",
       "      <th>w6_q23_PARTNER earned more</th>\n",
       "      <th>w6_q23_PARTNER was not working for pay</th>\n",
       "      <th>w6_q27_No</th>\n",
       "      <th>w6_q27_Yes</th>\n",
       "    </tr>\n",
       "  </thead>\n",
       "  <tbody>\n",
       "    <tr>\n",
       "      <th>0</th>\n",
       "      <td>30.0</td>\n",
       "      <td>232.0</td>\n",
       "      <td>5</td>\n",
       "      <td>1</td>\n",
       "      <td>0</td>\n",
       "      <td>0</td>\n",
       "      <td>0</td>\n",
       "      <td>1</td>\n",
       "      <td>0</td>\n",
       "    </tr>\n",
       "    <tr>\n",
       "      <th>1</th>\n",
       "      <td>55.0</td>\n",
       "      <td>213.0</td>\n",
       "      <td>5</td>\n",
       "      <td>0</td>\n",
       "      <td>0</td>\n",
       "      <td>1</td>\n",
       "      <td>0</td>\n",
       "      <td>1</td>\n",
       "      <td>0</td>\n",
       "    </tr>\n",
       "    <tr>\n",
       "      <th>2</th>\n",
       "      <td>47.0</td>\n",
       "      <td>87.0</td>\n",
       "      <td>4</td>\n",
       "      <td>1</td>\n",
       "      <td>0</td>\n",
       "      <td>0</td>\n",
       "      <td>0</td>\n",
       "      <td>1</td>\n",
       "      <td>0</td>\n",
       "    </tr>\n",
       "    <tr>\n",
       "      <th>3</th>\n",
       "      <td>28.0</td>\n",
       "      <td>80.0</td>\n",
       "      <td>5</td>\n",
       "      <td>1</td>\n",
       "      <td>0</td>\n",
       "      <td>0</td>\n",
       "      <td>0</td>\n",
       "      <td>1</td>\n",
       "      <td>0</td>\n",
       "    </tr>\n",
       "    <tr>\n",
       "      <th>4</th>\n",
       "      <td>59.0</td>\n",
       "      <td>648.0</td>\n",
       "      <td>2</td>\n",
       "      <td>0</td>\n",
       "      <td>0</td>\n",
       "      <td>1</td>\n",
       "      <td>0</td>\n",
       "      <td>1</td>\n",
       "      <td>0</td>\n",
       "    </tr>\n",
       "  </tbody>\n",
       "</table>\n",
       "</div>"
      ],
      "text/plain": [
       "   ppage  w6_q24_length  w6_sex_frequency  w6_q23_I earned more  \\\n",
       "0   30.0          232.0                 5                     1   \n",
       "1   55.0          213.0                 5                     0   \n",
       "2   47.0           87.0                 4                     1   \n",
       "3   28.0           80.0                 5                     1   \n",
       "4   59.0          648.0                 2                     0   \n",
       "\n",
       "   w6_q23_We earned about the same amount  w6_q23_PARTNER earned more  \\\n",
       "0                                       0                           0   \n",
       "1                                       0                           1   \n",
       "2                                       0                           0   \n",
       "3                                       0                           0   \n",
       "4                                       0                           1   \n",
       "\n",
       "   w6_q23_PARTNER was not working for pay  w6_q27_No  w6_q27_Yes  \n",
       "0                                       0          1           0  \n",
       "1                                       0          1           0  \n",
       "2                                       0          1           0  \n",
       "3                                       0          1           0  \n",
       "4                                       0          1           0  "
      ]
     },
     "execution_count": 23,
     "metadata": {},
     "output_type": "execute_result"
    }
   ],
   "source": [
    "X.head()"
   ]
  },
  {
   "cell_type": "markdown",
   "metadata": {},
   "source": [
    "## Trenowanie modelu"
   ]
  },
  {
   "cell_type": "code",
   "execution_count": 24,
   "metadata": {},
   "outputs": [
    {
     "data": {
      "text/plain": [
       "XGBClassifier(base_score=0.5, booster='gbtree', colsample_bylevel=1,\n",
       "       colsample_bytree=1, gamma=0, learning_rate=0.1, max_delta_step=0,\n",
       "       max_depth=3, min_child_weight=1, missing=None, n_estimators=100,\n",
       "       n_jobs=1, nthread=None, objective='binary:logistic', random_state=0,\n",
       "       reg_alpha=0, reg_lambda=1, scale_pos_weight=1, seed=123,\n",
       "       silent=True, subsample=1)"
      ]
     },
     "execution_count": 24,
     "metadata": {},
     "output_type": "execute_result"
    }
   ],
   "source": [
    "xgb = XGBClassifier(seed=123)\n",
    "xgb.fit(X,y)"
   ]
  },
  {
   "cell_type": "markdown",
   "metadata": {},
   "source": [
    "Nie optymalizowałem hiperparametrów w żaden sposób i nie robiłem żadnej kroswalidacji, ponieważ "
   ]
  },
  {
   "cell_type": "markdown",
   "metadata": {},
   "source": [
    "# Profile Ceteris Paribus"
   ]
  },
  {
   "cell_type": "markdown",
   "metadata": {},
   "source": [
    "Poniższa implementacja rysuje profil Ceteris Paribus dla podanego modelu (`model`), obserwacji (`obs`) i wybranej zmiennej (`var`). Predykcje obliczane są dla zadanej liczby punktów (`no_points`) równorozłożonych w rozstępie zmiennej `var` w podanym zbiorze `X`. Można ograniczyć z góry brany pod uwagę przedział wartości zmiennej. Wartość zanotowana dla wybranej obserwacji jest zaznaczona czerwoną kropką."
   ]
  },
  {
   "cell_type": "code",
   "execution_count": 25,
   "metadata": {},
   "outputs": [],
   "source": [
    "def cp_profile(model, obs, var, X, no_points, xmax=None):\n",
    "    # Prepare dataframe for prediction\n",
    "    obs = pd.DataFrame(obs).transpose()\n",
    "    df = pd.concat([obs]*no_points)\n",
    "    if xmax:\n",
    "        df[var] = np.linspace(X[var].min(), xmax, no_points)\n",
    "    else:\n",
    "        df[var] = np.linspace(X[var].min(), X[var].max(), no_points)\n",
    "    # Produce predictions\n",
    "    preds = model.predict_proba(df)[:,1]\n",
    "    # Create CP profile\n",
    "    plt.plot(df[var], preds, 'grey')\n",
    "    plt.xlabel(var)\n",
    "    plt.ylabel('Probability of being married')\n",
    "    plt.title('Ceteris Paribus profile for variable ' + var)\n",
    "    plt.scatter(obs[var], model.predict_proba(obs)[:,1], c=(0.8,0,0))\n",
    "    \n",
    "    plt.show()"
   ]
  },
  {
   "cell_type": "markdown",
   "metadata": {},
   "source": [
    "Jako przykładową obserwację wybrano 32-letnią osobę, która o poznaniu swojego partnera napisała 348 znaków. Z partnerem uprawiała seks z partnerem 3 do 6 razy w tygodniu; w 2016 roku zarobiła więcej niż partner oraz dorastała z partnerem w tej samej miejscowości. Osoba ta nie była w związku małżeńskim."
   ]
  },
  {
   "cell_type": "code",
   "execution_count": 26,
   "metadata": {},
   "outputs": [
    {
     "name": "stdout",
     "output_type": "stream",
     "text": [
      "ppage                                      32.0\n",
      "w6_q24_length                             348.0\n",
      "w6_sex_frequency                            2.0\n",
      "w6_q23_I earned more                        1.0\n",
      "w6_q23_We earned about the same amount      0.0\n",
      "w6_q23_PARTNER earned more                  0.0\n",
      "w6_q23_PARTNER was not working for pay      0.0\n",
      "w6_q27_No                                   0.0\n",
      "w6_q27_Yes                                  1.0\n",
      "Name: 24, dtype: float64\n",
      "0\n"
     ]
    }
   ],
   "source": [
    "obs = X.iloc[23,]\n",
    "print(obs)\n",
    "print(y[23])"
   ]
  },
  {
   "cell_type": "markdown",
   "metadata": {},
   "source": [
    "## `ppage`"
   ]
  },
  {
   "cell_type": "code",
   "execution_count": 27,
   "metadata": {},
   "outputs": [
    {
     "data": {
      "image/png": "[encoded data removed]",
      "text/plain": [
       "<matplotlib.figure.Figure at 0x1c79a9cea90>"
      ]
     },
     "metadata": {
      "needs_background": "light"
     },
     "output_type": "display_data"
    }
   ],
   "source": [
    "cp_profile(xgb, X.iloc[23, ], 'ppage', X, 1000)"
   ]
  },
  {
   "cell_type": "markdown",
   "metadata": {},
   "source": [
    "Prawdopodobieństwo pozostawania w związku małżeńskim wzrasta wraz z wiekiem. Wydaje się to sensowne - bardziej u starszych niż u młodszych ludzi może dominować tradycyjny model rodziny."
   ]
  },
  {
   "cell_type": "markdown",
   "metadata": {},
   "source": [
    "## `w6_q24_length`"
   ]
  },
  {
   "cell_type": "code",
   "execution_count": 28,
   "metadata": {},
   "outputs": [
    {
     "data": {
      "image/png": "[encoded data removed]",
      "text/plain": [
       "<matplotlib.figure.Figure at 0x1c79aa70cc0>"
      ]
     },
     "metadata": {
      "needs_background": "light"
     },
     "output_type": "display_data"
    }
   ],
   "source": [
    "cp_profile(xgb, X.iloc[23, ], 'w6_q24_length', X, 1000)"
   ]
  },
  {
   "cell_type": "markdown",
   "metadata": {},
   "source": [
    "Największe zróżnicowanie występuje tam, gdzie skoncentrowany był rozkład zmiennej `w6_q24_length` - dla mniejszych wartości. Na powyższym wykresie ciekawą obserwacją jest, że 'optymalna' długość opowieści o znajomości z punktu widzenia pozostawania w związku małżeńskim to nieco ponad 1000 znaków."
   ]
  },
  {
   "cell_type": "code",
   "execution_count": 29,
   "metadata": {},
   "outputs": [
    {
     "data": {
      "image/png": "[encoded data removed]",
      "text/plain": [
       "<matplotlib.figure.Figure at 0x1c7ab663630>"
      ]
     },
     "metadata": {
      "needs_background": "light"
     },
     "output_type": "display_data"
    }
   ],
   "source": [
    "cp_profile(xgb, X.iloc[23, ], 'w6_q24_length', X, 1000, 500)"
   ]
  },
  {
   "cell_type": "markdown",
   "metadata": {},
   "source": [
    "Zmniejszyłem zakres, żeby uwidocznić wahanie profilu CP dla mniejszych wartości. Tutaj widać mocno nieliniową zalezność."
   ]
  }
 ],
 "metadata": {
  "kernelspec": {
   "display_name": "Python 3",
   "language": "python",
   "name": "python3"
  },
  "language_info": {
   "codemirror_mode": {
    "name": "ipython",
    "version": 3
   },
   "file_extension": ".py",
   "mimetype": "text/x-python",
   "name": "python",
   "nbconvert_exporter": "python",
   "pygments_lexer": "ipython3",
   "version": "3.6.4"
  }
 },
 "nbformat": 4,
 "nbformat_minor": 2
}
