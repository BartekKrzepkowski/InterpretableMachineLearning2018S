{
 "cells": [
  {
   "cell_type": "code",
   "execution_count": 1,
   "metadata": {},
   "outputs": [],
   "source": [
    "import pandas as pd\n",
    "import numpy as np\n",
    "import matplotlib.pyplot as plt\n",
    "from tqdm import tqdm\n",
    "\n",
    "from sklearn.model_selection import train_test_split\n",
    "from sklearn.linear_model import LogisticRegression\n",
    "from sklearn.metrics import accuracy_score, mean_absolute_error\n",
    "\n",
    "plt.style.use('fivethirtyeight')"
   ]
  },
  {
   "cell_type": "code",
   "execution_count": 2,
   "metadata": {},
   "outputs": [
    {
     "data": {
      "text/html": [
       "<div>\n",
       "<style scoped>\n",
       "    .dataframe tbody tr th:only-of-type {\n",
       "        vertical-align: middle;\n",
       "    }\n",
       "\n",
       "    .dataframe tbody tr th {\n",
       "        vertical-align: top;\n",
       "    }\n",
       "\n",
       "    .dataframe thead th {\n",
       "        text-align: right;\n",
       "    }\n",
       "</style>\n",
       "<table border=\"1\" class=\"dataframe\">\n",
       "  <thead>\n",
       "    <tr style=\"text-align: right;\">\n",
       "      <th></th>\n",
       "      <th>V1</th>\n",
       "      <th>V2</th>\n",
       "      <th>V3</th>\n",
       "      <th>V4</th>\n",
       "      <th>V5</th>\n",
       "      <th>V6</th>\n",
       "      <th>V7</th>\n",
       "      <th>V8</th>\n",
       "      <th>V9</th>\n",
       "      <th>V10</th>\n",
       "    </tr>\n",
       "  </thead>\n",
       "  <tbody>\n",
       "    <tr>\n",
       "      <th>0</th>\n",
       "      <td>0.397174</td>\n",
       "      <td>0.347518</td>\n",
       "      <td>0.294057</td>\n",
       "      <td>0.506484</td>\n",
       "      <td>0.115967</td>\n",
       "      <td>0.770536</td>\n",
       "      <td>0.659893</td>\n",
       "      <td>0.156747</td>\n",
       "      <td>0.378202</td>\n",
       "      <td>0.139763</td>\n",
       "    </tr>\n",
       "    <tr>\n",
       "      <th>1</th>\n",
       "      <td>0.275030</td>\n",
       "      <td>0.075388</td>\n",
       "      <td>0.610592</td>\n",
       "      <td>0.954931</td>\n",
       "      <td>0.274069</td>\n",
       "      <td>0.190202</td>\n",
       "      <td>0.001299</td>\n",
       "      <td>0.683527</td>\n",
       "      <td>0.486260</td>\n",
       "      <td>0.487515</td>\n",
       "    </tr>\n",
       "    <tr>\n",
       "      <th>2</th>\n",
       "      <td>0.233156</td>\n",
       "      <td>0.889909</td>\n",
       "      <td>0.038327</td>\n",
       "      <td>0.592379</td>\n",
       "      <td>0.655174</td>\n",
       "      <td>0.119839</td>\n",
       "      <td>0.652477</td>\n",
       "      <td>0.984323</td>\n",
       "      <td>0.206738</td>\n",
       "      <td>0.374650</td>\n",
       "    </tr>\n",
       "    <tr>\n",
       "      <th>3</th>\n",
       "      <td>0.277937</td>\n",
       "      <td>0.340915</td>\n",
       "      <td>0.265790</td>\n",
       "      <td>0.116670</td>\n",
       "      <td>0.136830</td>\n",
       "      <td>0.546089</td>\n",
       "      <td>0.494619</td>\n",
       "      <td>0.015384</td>\n",
       "      <td>0.358995</td>\n",
       "      <td>0.242478</td>\n",
       "    </tr>\n",
       "    <tr>\n",
       "      <th>4</th>\n",
       "      <td>0.254909</td>\n",
       "      <td>0.777916</td>\n",
       "      <td>0.225022</td>\n",
       "      <td>0.983103</td>\n",
       "      <td>0.803619</td>\n",
       "      <td>0.836315</td>\n",
       "      <td>0.163104</td>\n",
       "      <td>0.637497</td>\n",
       "      <td>0.008760</td>\n",
       "      <td>0.631190</td>\n",
       "    </tr>\n",
       "  </tbody>\n",
       "</table>\n",
       "</div>"
      ],
      "text/plain": [
       "         V1        V2        V3        V4        V5        V6        V7  \\\n",
       "0  0.397174  0.347518  0.294057  0.506484  0.115967  0.770536  0.659893   \n",
       "1  0.275030  0.075388  0.610592  0.954931  0.274069  0.190202  0.001299   \n",
       "2  0.233156  0.889909  0.038327  0.592379  0.655174  0.119839  0.652477   \n",
       "3  0.277937  0.340915  0.265790  0.116670  0.136830  0.546089  0.494619   \n",
       "4  0.254909  0.777916  0.225022  0.983103  0.803619  0.836315  0.163104   \n",
       "\n",
       "         V8        V9       V10  \n",
       "0  0.156747  0.378202  0.139763  \n",
       "1  0.683527  0.486260  0.487515  \n",
       "2  0.984323  0.206738  0.374650  \n",
       "3  0.015384  0.358995  0.242478  \n",
       "4  0.637497  0.008760  0.631190  "
      ]
     },
     "execution_count": 2,
     "metadata": {},
     "output_type": "execute_result"
    }
   ],
   "source": [
    "data = pd.read_csv(\"hyperplane/rotatingHyperplane.data\", sep=\" \", header=None)\n",
    "data.columns = [\"V{}\".format(i) for i in range(1, 11)]\n",
    "data.head()"
   ]
  },
  {
   "cell_type": "code",
   "execution_count": 3,
   "metadata": {},
   "outputs": [
    {
     "data": {
      "text/plain": [
       "array([0, 0, 1, ..., 1, 0, 1])"
      ]
     },
     "execution_count": 3,
     "metadata": {},
     "output_type": "execute_result"
    }
   ],
   "source": [
    "labels = pd.read_csv(\"hyperplane/rotatingHyperplane.labels\", header=None)[0].values\n",
    "labels"
   ]
  },
  {
   "cell_type": "code",
   "execution_count": 4,
   "metadata": {},
   "outputs": [],
   "source": [
    "n_obs = len(data) // 10\n",
    "data_first = data.iloc[:n_obs]\n",
    "labels_first = labels[:n_obs]\n",
    "data_last = data.iloc[-n_obs:]\n",
    "labels_last = labels[-n_obs:]"
   ]
  },
  {
   "cell_type": "markdown",
   "metadata": {},
   "source": [
    "# Modele regresji logistycznej\n",
    "Stworzymy osobne modele regresji logistycznej na danych z poczatku i końca zbioru danych. Istnieje przypuszczenie, że rozkład zmiennych może się zmieniać w czasie i wobec tego zweryfkujemy czy uzasadnione jest stosowanie modelu stworzonego na początkowych danych do predykcji późniejszych obserwacji.\n",
    "\n",
    "Dane są zrównoważone, zatem do oceny jakości klasyfikatora będziemy używali skuteczności."
   ]
  },
  {
   "cell_type": "code",
   "execution_count": 5,
   "metadata": {},
   "outputs": [
    {
     "name": "stdout",
     "output_type": "stream",
     "text": [
      "Accuracy of a first classifier on first data 0.897\n"
     ]
    }
   ],
   "source": [
    "x_train_first, x_test_first, y_train_first, y_test_first = train_test_split(data_first, labels_first)\n",
    "clf_first = LogisticRegression(solver=\"lbfgs\")\n",
    "clf_first.fit(x_train_first, y_train_first)\n",
    "print(\"Accuracy of a first classifier on first data\", accuracy_score(clf_first.predict(x_test_first), y_test_first))"
   ]
  },
  {
   "cell_type": "code",
   "execution_count": 6,
   "metadata": {},
   "outputs": [
    {
     "name": "stdout",
     "output_type": "stream",
     "text": [
      "Accuracy of first classifier on last data 0.643\n",
      "Accuracy of new classifier on last data 0.8698\n"
     ]
    }
   ],
   "source": [
    "x_train_last, x_test_last, y_train_last, y_test_last = train_test_split(data_last, labels_last)\n",
    "clf_last = LogisticRegression(solver=\"lbfgs\")\n",
    "clf_last.fit(x_train_last, y_train_last)\n",
    "print(\"Accuracy of first classifier on last data\", accuracy_score(clf_first.predict(x_test_last), y_test_last))\n",
    "print(\"Accuracy of new classifier on last data\", accuracy_score(clf_last.predict(x_test_last), y_test_last))"
   ]
  },
  {
   "cell_type": "markdown",
   "metadata": {},
   "source": [
    "Wygląda na to, że występuje zmiana zależności y od x w naszych danych, bo całkiem dobry klasyfikator na wczesnych danych zupełnie nie radzi sobie na danych nowszych."
   ]
  },
  {
   "cell_type": "markdown",
   "metadata": {},
   "source": [
    "# Intersection distance\n",
    "## Różnice w rozkładach zmiennych\n",
    "Zanim zaczniemy badać zachowanie odbydwu modeli zastanowimy się nad różnicą w rozkładzie zmiennych, na których robimy predykcję między początkowymi i końcowymi danymi. W tym celu obliczymy tzw. intersection distance, który oblicza z grubsza na ile rozkłady prawdopodobieństwa zmiennych są od siebie oddalne. Wartość ta jest równa 1, kiedy zmienne mają rozłączne nośniki."
   ]
  },
  {
   "cell_type": "code",
   "execution_count": 85,
   "metadata": {},
   "outputs": [],
   "source": [
    "def intersection_distance(values_1, values_2, n_bins=30, plot=False, rwidth=None, varname=\"\"):\n",
    "    \"\"\"\n",
    "    Calculates intersection distance between two sets of values.\n",
    "    It is close to 0 for variables from the same distribution, close to 1 if distribution are completely differen\"\n",
    "    \"\"\"\n",
    "    n_1, n_2 = len(values_1), len(values_2)\n",
    "    min_value = min(min(values_1), min(values_2))\n",
    "    max_value = max(max(values_1), max(values_2))\n",
    "    heights_first, _ = np.histogram(values_1, bins=n_bins, range=(min_value, max_value))\n",
    "    heights_second, _ = np.histogram(values_2, bins=n_bins, range=(min_value, max_value))\n",
    "    intersection_distances = list()\n",
    "    \n",
    "    if plot:\n",
    "        plt.hist(values_1, bins=n_bins, range=(min_value, max_value), rwidth=rwidth, alpha=0.7, density=True, label=\"first data\")\n",
    "        plt.hist(values_2, bins=n_bins, range=(min_value, max_value), rwidth=rwidth, alpha=0.7, density=True, label=\"last data\")\n",
    "        plt.title(\"Distribution of a variable {}\".format(varname))\n",
    "        plt.ylim((0, 1.5))\n",
    "        plt.legend()\n",
    "        plt.show()\n",
    "        \n",
    "    \n",
    "    for i in range(n_bins):\n",
    "        intersection_distances.append(min(heights_first[i]/n_1, heights_second[i]/n_2))\n",
    "\n",
    "    return 1 - sum(intersection_distances)"
   ]
  },
  {
   "cell_type": "code",
   "execution_count": 86,
   "metadata": {},
   "outputs": [
    {
     "data": {
      "text/plain": [
       "Text(0.5, 0, 'Variable name')"
      ]
     },
     "execution_count": 86,
     "metadata": {},
     "output_type": "execute_result"
    },
    {
     "data": {
      "image/png": "[encoded data removed]",
      "text/plain": [
       "<Figure size 432x288 with 1 Axes>"
      ]
     },
     "metadata": {
      "needs_background": "light"
     },
     "output_type": "display_data"
    }
   ],
   "source": [
    "distances = [intersection_distance(x_train_first[colname].values, x_train_last[colname].values) \n",
    "            for colname in data.columns]\n",
    "plt.bar(data.columns, distances)\n",
    "plt.title(\"Intersection distances\")\n",
    "plt.xlabel(\"Variable name\")"
   ]
  },
  {
   "cell_type": "code",
   "execution_count": 87,
   "metadata": {},
   "outputs": [
    {
     "data": {
      "image/png": "[encoded data removed]",
      "text/plain": [
       "<Figure size 432x288 with 1 Axes>"
      ]
     },
     "metadata": {
      "needs_background": "light"
     },
     "output_type": "display_data"
    },
    {
     "data": {
      "text/plain": [
       "0.026866666666666927"
      ]
     },
     "execution_count": 87,
     "metadata": {},
     "output_type": "execute_result"
    }
   ],
   "source": [
    "intersection_distance(x_train_first[\"V9\"].values, x_train_last[\"V9\"].values, plot=True, varname=\"V9\")"
   ]
  },
  {
   "cell_type": "markdown",
   "metadata": {},
   "source": [
    "Porównując histogramy trudno ocenić skąd duża różnica w rozkładzie zmiennej. Wydaje mi się, że różnica ta może być przypadkowa i statystycznie nieistotna, a rozkład zmiennej dla początkowych i końcowych danych jest jednostajny na przedziale (0, 1)."
   ]
  },
  {
   "cell_type": "code",
   "execution_count": 88,
   "metadata": {},
   "outputs": [
    {
     "data": {
      "image/png": "[encoded data removed]",
      "text/plain": [
       "<Figure size 432x288 with 1 Axes>"
      ]
     },
     "metadata": {
      "needs_background": "light"
     },
     "output_type": "display_data"
    },
    {
     "data": {
      "text/plain": [
       "0.027466666666666528"
      ]
     },
     "execution_count": 88,
     "metadata": {},
     "output_type": "execute_result"
    }
   ],
   "source": [
    "intersection_distance(x_train_first[\"V4\"].values, x_train_last[\"V4\"].values, plot=True, varname=\"V4\")"
   ]
  },
  {
   "cell_type": "markdown",
   "metadata": {},
   "source": [
    "W tym przypadku trend jest bardziej widoczny. Zmienne nadal mają rozkład w przybliżeniu jednostajny, jednak widać że wartości kolumy V4 z poczatku danych są nieco większe niż wartości z końca."
   ]
  },
  {
   "cell_type": "markdown",
   "metadata": {},
   "source": [
    "## Różnice w rozkładzie rezyduów\n",
    "Zobaczmy jak wyglądają różnice w rozkładzie rezyduów pierwszego modelu na pierwszym vs na drugim zbiorze danych."
   ]
  },
  {
   "cell_type": "code",
   "execution_count": 16,
   "metadata": {},
   "outputs": [
    {
     "name": "stdout",
     "output_type": "stream",
     "text": [
      "Distance between residuals: 0.2547999999999998\n"
     ]
    }
   ],
   "source": [
    "res_1 = clf_first.predict_proba(x_test_first)[:, 1] - y_test_first\n",
    "res_2 = clf_first.predict_proba(x_test_last)[:, 1] - y_test_last\n",
    "res_distance = intersection_distance(res_1, res_2)\n",
    "print(\"Distance between residuals:\", res_distance)"
   ]
  },
  {
   "cell_type": "markdown",
   "metadata": {},
   "source": [
    "# Różnice w PDP Plotach\n",
    "Policzymy PDP ploty dla wszystkch zmiennych obydwu modeli i zbadamy jak bardzo różnią się one dla poszczególnych zmiennych."
   ]
  },
  {
   "cell_type": "code",
   "execution_count": 17,
   "metadata": {},
   "outputs": [],
   "source": [
    "def partial_dependency(data, model, colname, k=10, plot=False, min_value=None, max_value=None):\n",
    "    \"\"\"Plots average Ceteris Paribus profile for sample population (k observations) from data\"\"\"\n",
    "    \n",
    "    def get_proba(model, person, colname, colvalue):\n",
    "        new_person = pd.DataFrame([person.values], columns=data.columns)\n",
    "        new_person[colname] = colvalue\n",
    "        return model.predict_proba(new_person)[0][0]\n",
    "\n",
    "    min_value = min_value or np.quantile(data[colname].dropna(), 0.01, interpolation=\"higher\")\n",
    "    max_value = max_value or np.quantile(data[colname].dropna(), 0.99, interpolation=\"lower\")\n",
    "    values = np.linspace(min_value, max_value, 100)\n",
    "\n",
    "    probas_list = [[get_proba(model, person, colname, value) for value in values] \n",
    "                   for _, person in data.sample(k).iterrows()]\n",
    "    mean_probas = [np.mean(values) for values in zip(*probas_list)]\n",
    "    \n",
    "    if plot:\n",
    "        plt.plot(values, mean_probas)\n",
    "        plt.title(\"Partial dependency plot\")\n",
    "        plt.xlabel(colname)\n",
    "        plt.ylabel(\"Marriage probability\")\n",
    "\n",
    "    return mean_probas"
   ]
  },
  {
   "cell_type": "code",
   "execution_count": 18,
   "metadata": {},
   "outputs": [
    {
     "name": "stderr",
     "output_type": "stream",
     "text": [
      "100%|██████████| 10/10 [00:18<00:00,  1.86s/it]\n"
     ]
    }
   ],
   "source": [
    "pdp_distances = list()\n",
    "for colname in tqdm(data.columns):\n",
    "    pdp_1 = partial_dependency(data, clf_first, colname)\n",
    "    pdp_2 = partial_dependency(data, clf_last, colname)\n",
    "    pdp_distances.append(mean_absolute_error(pdp_1, pdp_2))"
   ]
  },
  {
   "cell_type": "code",
   "execution_count": 19,
   "metadata": {},
   "outputs": [
    {
     "data": {
      "text/plain": [
       "Text(0.5, 0, 'Variables')"
      ]
     },
     "execution_count": 19,
     "metadata": {},
     "output_type": "execute_result"
    },
    {
     "data": {
      "image/png": "[encoded data removed]",
      "text/plain": [
       "<Figure size 432x288 with 1 Axes>"
      ]
     },
     "metadata": {
      "needs_background": "light"
     },
     "output_type": "display_data"
    }
   ],
   "source": [
    "plt.bar(data.columns, pdp_distances)\n",
    "plt.title(\"PDP distance between models\")\n",
    "plt.xlabel(\"Variables\")"
   ]
  },
  {
   "cell_type": "markdown",
   "metadata": {},
   "source": [
    "Dzięki tym wartościom możemy być w stanie zdiagnozować to co się dzieje z danymi. Widzimy teraz, dla jakich zmiennych brzegowe zachowanie modeli jest zupełnie inne. Moglibyśmy teraz przyjrzeć się im nieco dokładniej i być może spróbować odpowiedzieć na pytanie dlaczego odpowiedź modelu ze względu na te predyktory zmieniła się dla późniejszych danych. "
   ]
  }
 ],
 "metadata": {
  "kernelspec": {
   "display_name": "Python 3",
   "language": "python",
   "name": "python3"
  },
  "language_info": {
   "codemirror_mode": {
    "name": "ipython",
    "version": 3
   },
   "file_extension": ".py",
   "mimetype": "text/x-python",
   "name": "python",
   "nbconvert_exporter": "python",
   "pygments_lexer": "ipython3",
   "version": "3.7.1"
  }
 },
 "nbformat": 4,
 "nbformat_minor": 2
}
