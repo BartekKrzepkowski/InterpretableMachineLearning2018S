{
 "cells": [
  {
   "cell_type": "markdown",
   "metadata": {},
   "source": [
    "# Praca domowa 8"
   ]
  },
  {
   "cell_type": "code",
   "execution_count": 1,
   "metadata": {},
   "outputs": [],
   "source": [
    "import numpy as np\n",
    "import pandas as pd \n",
    "\n",
    "train = pd.read_csv(\"lowbwt.csv\")"
   ]
  },
  {
   "cell_type": "markdown",
   "metadata": {},
   "source": [
    "Opis zbioru danych:\n",
    "\n",
    "https://www.openml.org/d/203\n",
    "\n",
    "Dane pochodzą z badania przeprowadzonego w celu zidentyfikowania czynników związanych z urodzeniem dziecka o niskiej wadze urodzeniowej (mniej niż 2500 gram). Dane zebrano od 189 kobiet, z których 59 miało dzieci o niskiej wadze urodzeniowej.\n",
    "\n",
    "- LOW Low Birth Weight (0 = Birth Weight > 2500g,  1 = Birth Weight < 2500g)\n",
    "\n",
    "- AGE Age of the Mother in Years \n",
    "\n",
    "- LWT Weight in Pounds at the Last Menstrual Period \n",
    "\n",
    "- RACE Race (1 = White, 2 = Black, 3 = Other) \n",
    "\n",
    "- SMOKE Smoking Status During Pregnancy (1 = Yes, 0 = No) \n",
    "\n",
    "- PTL History of Premature Labor (0 = None, 1 = One, etc.) \n",
    "\n",
    "- HT History of Hypertension (1 = Yes, 0 = No) \n",
    "\n",
    "- UI Presence of Uterine Irritability (1 = Yes, 0 = No) \n",
    "\n",
    "- FTV Number of Physician Visits During the First Trimester  (0 = None, 1 = One, 2 = Two, etc.)\n",
    "\n",
    "- BWT Birth Weight in Grams (class)"
   ]
  },
  {
   "cell_type": "code",
   "execution_count": 2,
   "metadata": {},
   "outputs": [
    {
     "data": {
      "text/html": [
       "<div>\n",
       "<style scoped>\n",
       "    .dataframe tbody tr th:only-of-type {\n",
       "        vertical-align: middle;\n",
       "    }\n",
       "\n",
       "    .dataframe tbody tr th {\n",
       "        vertical-align: top;\n",
       "    }\n",
       "\n",
       "    .dataframe thead th {\n",
       "        text-align: right;\n",
       "    }\n",
       "</style>\n",
       "<table border=\"1\" class=\"dataframe\">\n",
       "  <thead>\n",
       "    <tr style=\"text-align: right;\">\n",
       "      <th></th>\n",
       "      <th>LOW</th>\n",
       "      <th>AGE</th>\n",
       "      <th>LWT</th>\n",
       "      <th>RACE</th>\n",
       "      <th>SMOKE</th>\n",
       "      <th>PTL</th>\n",
       "      <th>HT</th>\n",
       "      <th>UI</th>\n",
       "      <th>FTV</th>\n",
       "      <th>class</th>\n",
       "    </tr>\n",
       "  </thead>\n",
       "  <tbody>\n",
       "    <tr>\n",
       "      <th>0</th>\n",
       "      <td>0</td>\n",
       "      <td>19</td>\n",
       "      <td>182</td>\n",
       "      <td>2</td>\n",
       "      <td>0</td>\n",
       "      <td>0</td>\n",
       "      <td>0</td>\n",
       "      <td>1</td>\n",
       "      <td>0</td>\n",
       "      <td>2523</td>\n",
       "    </tr>\n",
       "    <tr>\n",
       "      <th>1</th>\n",
       "      <td>0</td>\n",
       "      <td>33</td>\n",
       "      <td>155</td>\n",
       "      <td>3</td>\n",
       "      <td>0</td>\n",
       "      <td>0</td>\n",
       "      <td>0</td>\n",
       "      <td>0</td>\n",
       "      <td>3</td>\n",
       "      <td>2551</td>\n",
       "    </tr>\n",
       "    <tr>\n",
       "      <th>2</th>\n",
       "      <td>0</td>\n",
       "      <td>20</td>\n",
       "      <td>105</td>\n",
       "      <td>1</td>\n",
       "      <td>1</td>\n",
       "      <td>0</td>\n",
       "      <td>0</td>\n",
       "      <td>0</td>\n",
       "      <td>1</td>\n",
       "      <td>2557</td>\n",
       "    </tr>\n",
       "    <tr>\n",
       "      <th>3</th>\n",
       "      <td>0</td>\n",
       "      <td>21</td>\n",
       "      <td>108</td>\n",
       "      <td>1</td>\n",
       "      <td>1</td>\n",
       "      <td>0</td>\n",
       "      <td>0</td>\n",
       "      <td>1</td>\n",
       "      <td>2</td>\n",
       "      <td>2594</td>\n",
       "    </tr>\n",
       "    <tr>\n",
       "      <th>4</th>\n",
       "      <td>0</td>\n",
       "      <td>18</td>\n",
       "      <td>107</td>\n",
       "      <td>1</td>\n",
       "      <td>1</td>\n",
       "      <td>0</td>\n",
       "      <td>0</td>\n",
       "      <td>1</td>\n",
       "      <td>0</td>\n",
       "      <td>2600</td>\n",
       "    </tr>\n",
       "  </tbody>\n",
       "</table>\n",
       "</div>"
      ],
      "text/plain": [
       "   LOW  AGE  LWT  RACE  SMOKE  PTL  HT  UI  FTV  class\n",
       "0    0   19  182     2      0    0   0   1    0   2523\n",
       "1    0   33  155     3      0    0   0   0    3   2551\n",
       "2    0   20  105     1      1    0   0   0    1   2557\n",
       "3    0   21  108     1      1    0   0   1    2   2594\n",
       "4    0   18  107     1      1    0   0   1    0   2600"
      ]
     },
     "execution_count": 2,
     "metadata": {},
     "output_type": "execute_result"
    }
   ],
   "source": [
    "train.head(5)"
   ]
  },
  {
   "cell_type": "code",
   "execution_count": 3,
   "metadata": {},
   "outputs": [
    {
     "data": {
      "text/plain": [
       "(189, 10)"
      ]
     },
     "execution_count": 3,
     "metadata": {},
     "output_type": "execute_result"
    }
   ],
   "source": [
    "train.shape"
   ]
  },
  {
   "cell_type": "code",
   "execution_count": 169,
   "metadata": {},
   "outputs": [],
   "source": [
    "from sklearn.model_selection import train_test_split\n",
    "\n",
    "X = train.loc[:, train.columns != 'class']\n",
    "y = train.loc[:,'class']\n",
    "\n",
    "X_train, X_test, y_train, y_test = train_test_split(X, y, test_size=0.33, random_state=42)"
   ]
  },
  {
   "cell_type": "code",
   "execution_count": 202,
   "metadata": {},
   "outputs": [
    {
     "name": "stdout",
     "output_type": "stream",
     "text": [
      "RandomForestRegressor MSE score: 174846.04491389784\n"
     ]
    }
   ],
   "source": [
    "from sklearn.ensemble import RandomForestRegressor\n",
    "from sklearn.metrics import mean_squared_error\n",
    "\n",
    "random_forest = RandomForestRegressor(max_depth=3, random_state=5,n_estimators=150,warm_start=True)\n",
    "random_forest.fit(X_train, y_train)\n",
    "y_pred = random_forest.predict(X_test)\n",
    "\n",
    "mse_rf = mean_squared_error(y_pred,y_test)\n",
    "\n",
    "print(\"RandomForestRegressor MSE score: \" + str(mse_rf))"
   ]
  },
  {
   "cell_type": "code",
   "execution_count": 203,
   "metadata": {},
   "outputs": [
    {
     "data": {
      "text/plain": [
       "0.6401975833777491"
      ]
     },
     "execution_count": 203,
     "metadata": {},
     "output_type": "execute_result"
    }
   ],
   "source": [
    "# wspolczynnik R^2\n",
    "random_forest.score(X_test,y_test)"
   ]
  },
  {
   "cell_type": "code",
   "execution_count": 205,
   "metadata": {},
   "outputs": [
    {
     "name": "stdout",
     "output_type": "stream",
     "text": [
      "CatBoostRegressor MSE score: 195569.88992034175\n"
     ]
    }
   ],
   "source": [
    "from catboost import CatBoostRegressor\n",
    "from sklearn.metrics import mean_squared_error\n",
    "\n",
    "cat = CatBoostRegressor(iterations=500,depth=1,loss_function='RMSE',verbose=False)\n",
    "cat.fit(X_train, y_train)\n",
    "cat_pred = cat.predict(X_test)\n",
    "\n",
    "mse_cat = mean_squared_error(cat_pred,y_test)\n",
    "\n",
    "print(\"CatBoostRegressor MSE score: \" + str(mse_cat))"
   ]
  },
  {
   "cell_type": "markdown",
   "metadata": {},
   "source": [
    "### Funkcje rysujące wykresy"
   ]
  },
  {
   "cell_type": "code",
   "execution_count": 9,
   "metadata": {},
   "outputs": [],
   "source": [
    "import matplotlib.pyplot as plt\n",
    "import ruptures as rpt\n",
    "\n",
    "def ceteris_paribus_plot(data,model,num_feature,n):\n",
    "    X_temp_1 = data.copy().head(n)\n",
    "    \n",
    "    f_min, f_max = data[num_feature].min(), data[num_feature].max()\n",
    "    start, stop = (f_min, f_max)\n",
    "    num_feature_values = np.linspace(start, stop, n, dtype=int)\n",
    "    \n",
    "    X_temp_1[num_feature] = num_feature_values\n",
    "    \n",
    "    y_pred = model.predict(X_temp_1)\n",
    "    \n",
    "    plt.plot(num_feature_values, y_pred)\n",
    "    plt.xlabel(num_feature)\n",
    "    plt.ylabel(\"Prawdopodobieństwo małżeństwa\")\n",
    "    pred_values = pd.DataFrame({'Feature_value':num_feature_values,'Prediction':y_pred})\n",
    "    \n",
    "    return pred_values.drop_duplicates().reset_index(drop=True)"
   ]
  },
  {
   "cell_type": "code",
   "execution_count": 48,
   "metadata": {},
   "outputs": [],
   "source": [
    "def Mplot(m,penalty,model,num_feature, data):\n",
    "    \n",
    "    n=100\n",
    "    sample = data.sample(n).reset_index(drop=True)\n",
    "    results = pd.DataFrame(columns=['Feature_value', 'Prediction'])\n",
    "\n",
    "    for i in range(n):\n",
    "        X_temp = data.copy()\n",
    "        for column_name in X_temp.columns:\n",
    "            X_temp.loc[:,column_name] = int(sample.iloc[i][column_name])\n",
    "    \n",
    "        tmp = ceteris_paribus_plot(X_temp,model,num_feature,100)\n",
    "        results = results.append(tmp, ignore_index=True)\n",
    "    \n",
    "    feature_values = sorted(list(data[num_feature].drop_duplicates()))\n",
    "    mean_values = []\n",
    "\n",
    "    for i in feature_values:\n",
    "        tmp = np.mean(results[results.Feature_value.isin([i-m,i,i+m])])['Prediction']\n",
    "        mean_values.append(tmp)\n",
    "        \n",
    "    plt.plot(feature_values, mean_values,'blue',linewidth=3)\n",
    "    plt.xlabel(num_feature)\n",
    "    plt.ylabel(\"Weight value\")\n",
    "    \n",
    "    algo = rpt.Pelt(model=\"l1\").fit(np.asarray(mean_values).reshape(len(mean_values), -1))\n",
    "    my_bkps = algo.predict(pen=penalty)\n",
    "\n",
    "    breakpoints = []\n",
    "    for i in range(len(my_bkps)-1):\n",
    "        plt.axvline(feature_values[my_bkps[i]-1], color = 'red', linestyle = ':', markersize = 10, zorder = 10)\n",
    "        breakpoints.append(feature_values[my_bkps[i]-1])\n",
    "    plt.show()\n",
    "    \n",
    "    return breakpoints"
   ]
  },
  {
   "cell_type": "markdown",
   "metadata": {},
   "source": [
    "### Wykresy M-plot z zaznaczonymi przełomowymi punktami"
   ]
  },
  {
   "cell_type": "code",
   "execution_count": 49,
   "metadata": {},
   "outputs": [
    {
     "name": "stderr",
     "output_type": "stream",
     "text": [
      "/home/kasia/anaconda3/lib/python3.7/site-packages/numpy/lib/function_base.py:3250: RuntimeWarning: Invalid value encountered in median for 1 results\n",
      "  r = func(a, **kwargs)\n"
     ]
    },
    {
     "data": {
      "image/png": "[encoded data removed]",
      "text/plain": [
       "<Figure size 432x288 with 1 Axes>"
      ]
     },
     "metadata": {
      "needs_background": "light"
     },
     "output_type": "display_data"
    }
   ],
   "source": [
    "LWT_breakpoints = Mplot(5,0.5, random_forest, \"LWT\", X_train)"
   ]
  },
  {
   "cell_type": "code",
   "execution_count": 60,
   "metadata": {},
   "outputs": [
    {
     "data": {
      "image/png": "[encoded data removed]",
      "text/plain": [
       "<Figure size 432x288 with 1 Axes>"
      ]
     },
     "metadata": {
      "needs_background": "light"
     },
     "output_type": "display_data"
    }
   ],
   "source": [
    "AGE_breakpoints = Mplot(2,0.4, random_forest, \"AGE\", X_train)"
   ]
  },
  {
   "cell_type": "code",
   "execution_count": 55,
   "metadata": {},
   "outputs": [
    {
     "data": {
      "image/png": "[encoded data removed]",
      "text/plain": [
       "<Figure size 432x288 with 1 Axes>"
      ]
     },
     "metadata": {
      "needs_background": "light"
     },
     "output_type": "display_data"
    }
   ],
   "source": [
    "PTL_breakpoints = Mplot(1,0.01,random_forest, \"PTL\", X_train)"
   ]
  },
  {
   "cell_type": "code",
   "execution_count": 57,
   "metadata": {},
   "outputs": [
    {
     "data": {
      "image/png": "[encoded data removed]",
      "text/plain": [
       "<Figure size 432x288 with 1 Axes>"
      ]
     },
     "metadata": {
      "needs_background": "light"
     },
     "output_type": "display_data"
    }
   ],
   "source": [
    "FTV_breakpoints = Mplot(1,0.01,random_forest, \"FTV\", X_train)"
   ]
  },
  {
   "cell_type": "code",
   "execution_count": 54,
   "metadata": {},
   "outputs": [
    {
     "data": {
      "image/png": "[encoded data removed]",
      "text/plain": [
       "<Figure size 432x288 with 1 Axes>"
      ]
     },
     "metadata": {
      "needs_background": "light"
     },
     "output_type": "display_data"
    }
   ],
   "source": [
    "SMOKE_breakpoints = Mplot(1,0.01,random_forest, \"SMOKE\", X_train)"
   ]
  },
  {
   "cell_type": "code",
   "execution_count": 56,
   "metadata": {},
   "outputs": [
    {
     "data": {
      "image/png": "[encoded data removed]",
      "text/plain": [
       "<Figure size 432x288 with 1 Axes>"
      ]
     },
     "metadata": {
      "needs_background": "light"
     },
     "output_type": "display_data"
    }
   ],
   "source": [
    "RACE_breakpoints = Mplot(1,0.01,random_forest,\"RACE\",X_train)"
   ]
  },
  {
   "cell_type": "markdown",
   "metadata": {},
   "source": [
    "Ze względu na małą różnorodność pomiędzy wartościami zmiennych PTL, FTV, SMOKE, RACE, nie wykryto w nich żadnych punktów przełomowych. \n",
    "\n",
    "Z tego powodu przekształcono tylko dwie zmienne, które zostaną dodane do modelu: AGE oraz LWT."
   ]
  },
  {
   "cell_type": "code",
   "execution_count": 61,
   "metadata": {},
   "outputs": [
    {
     "data": {
      "text/plain": [
       "[18, 23, 28, 33]"
      ]
     },
     "execution_count": 61,
     "metadata": {},
     "output_type": "execute_result"
    }
   ],
   "source": [
    "AGE_breakpoints"
   ]
  },
  {
   "cell_type": "code",
   "execution_count": 59,
   "metadata": {},
   "outputs": [
    {
     "data": {
      "text/plain": [
       "[94, 102, 109, 122, 130, 135, 160, 170, 186]"
      ]
     },
     "execution_count": 59,
     "metadata": {},
     "output_type": "execute_result"
    }
   ],
   "source": [
    "LWT_breakpoints"
   ]
  },
  {
   "cell_type": "code",
   "execution_count": 154,
   "metadata": {},
   "outputs": [],
   "source": [
    "def func(row,feature,breakpoints):\n",
    "    for i in range(len(breakpoints)):\n",
    "        if row[feature] <= breakpoints[i]:\n",
    "            if i==0:\n",
    "                val = 0\n",
    "                return val\n",
    "            else:\n",
    "                val = breakpoints[i-1]\n",
    "                return val\n",
    "        else:\n",
    "            val = breakpoints[-1]\n",
    "    return val"
   ]
  },
  {
   "cell_type": "code",
   "execution_count": 179,
   "metadata": {},
   "outputs": [],
   "source": [
    "X_train_new = X_train.copy()\n",
    "X_test_new = X_test.copy()"
   ]
  },
  {
   "cell_type": "code",
   "execution_count": 180,
   "metadata": {},
   "outputs": [],
   "source": [
    "X_train_new['AGE_1'] = X_train_new.apply(func, axis=1, args=(\"AGE\",AGE_breakpoints))\n",
    "X_train_new['LWT_1'] = X_train_new.apply(func, axis=1, args=(\"LWT\",LWT_breakpoints))\n",
    "X_test_new['AGE_1'] = X_test_new.apply(func, axis=1, args=(\"AGE\",AGE_breakpoints))\n",
    "X_test_new['LWT_1'] = X_test_new.apply(func, axis=1, args=(\"LWT\",LWT_breakpoints))"
   ]
  },
  {
   "cell_type": "code",
   "execution_count": 181,
   "metadata": {},
   "outputs": [
    {
     "data": {
      "text/html": [
       "<div>\n",
       "<style scoped>\n",
       "    .dataframe tbody tr th:only-of-type {\n",
       "        vertical-align: middle;\n",
       "    }\n",
       "\n",
       "    .dataframe tbody tr th {\n",
       "        vertical-align: top;\n",
       "    }\n",
       "\n",
       "    .dataframe thead th {\n",
       "        text-align: right;\n",
       "    }\n",
       "</style>\n",
       "<table border=\"1\" class=\"dataframe\">\n",
       "  <thead>\n",
       "    <tr style=\"text-align: right;\">\n",
       "      <th></th>\n",
       "      <th>LOW</th>\n",
       "      <th>AGE</th>\n",
       "      <th>LWT</th>\n",
       "      <th>RACE</th>\n",
       "      <th>SMOKE</th>\n",
       "      <th>PTL</th>\n",
       "      <th>HT</th>\n",
       "      <th>UI</th>\n",
       "      <th>FTV</th>\n",
       "      <th>AGE_1</th>\n",
       "      <th>LWT_1</th>\n",
       "    </tr>\n",
       "  </thead>\n",
       "  <tbody>\n",
       "    <tr>\n",
       "      <th>177</th>\n",
       "      <td>1</td>\n",
       "      <td>17</td>\n",
       "      <td>120</td>\n",
       "      <td>1</td>\n",
       "      <td>1</td>\n",
       "      <td>0</td>\n",
       "      <td>0</td>\n",
       "      <td>0</td>\n",
       "      <td>3</td>\n",
       "      <td>0</td>\n",
       "      <td>109</td>\n",
       "    </tr>\n",
       "    <tr>\n",
       "      <th>46</th>\n",
       "      <td>0</td>\n",
       "      <td>32</td>\n",
       "      <td>132</td>\n",
       "      <td>1</td>\n",
       "      <td>0</td>\n",
       "      <td>0</td>\n",
       "      <td>0</td>\n",
       "      <td>0</td>\n",
       "      <td>4</td>\n",
       "      <td>28</td>\n",
       "      <td>130</td>\n",
       "    </tr>\n",
       "    <tr>\n",
       "      <th>95</th>\n",
       "      <td>0</td>\n",
       "      <td>29</td>\n",
       "      <td>135</td>\n",
       "      <td>1</td>\n",
       "      <td>0</td>\n",
       "      <td>0</td>\n",
       "      <td>0</td>\n",
       "      <td>0</td>\n",
       "      <td>1</td>\n",
       "      <td>28</td>\n",
       "      <td>130</td>\n",
       "    </tr>\n",
       "    <tr>\n",
       "      <th>82</th>\n",
       "      <td>0</td>\n",
       "      <td>30</td>\n",
       "      <td>110</td>\n",
       "      <td>3</td>\n",
       "      <td>0</td>\n",
       "      <td>0</td>\n",
       "      <td>0</td>\n",
       "      <td>0</td>\n",
       "      <td>0</td>\n",
       "      <td>28</td>\n",
       "      <td>109</td>\n",
       "    </tr>\n",
       "    <tr>\n",
       "      <th>180</th>\n",
       "      <td>1</td>\n",
       "      <td>26</td>\n",
       "      <td>154</td>\n",
       "      <td>3</td>\n",
       "      <td>0</td>\n",
       "      <td>1</td>\n",
       "      <td>1</td>\n",
       "      <td>0</td>\n",
       "      <td>1</td>\n",
       "      <td>23</td>\n",
       "      <td>135</td>\n",
       "    </tr>\n",
       "    <tr>\n",
       "      <th>36</th>\n",
       "      <td>0</td>\n",
       "      <td>19</td>\n",
       "      <td>138</td>\n",
       "      <td>1</td>\n",
       "      <td>1</td>\n",
       "      <td>0</td>\n",
       "      <td>0</td>\n",
       "      <td>0</td>\n",
       "      <td>2</td>\n",
       "      <td>18</td>\n",
       "      <td>135</td>\n",
       "    </tr>\n",
       "    <tr>\n",
       "      <th>109</th>\n",
       "      <td>0</td>\n",
       "      <td>16</td>\n",
       "      <td>170</td>\n",
       "      <td>2</td>\n",
       "      <td>0</td>\n",
       "      <td>0</td>\n",
       "      <td>0</td>\n",
       "      <td>0</td>\n",
       "      <td>4</td>\n",
       "      <td>0</td>\n",
       "      <td>160</td>\n",
       "    </tr>\n",
       "    <tr>\n",
       "      <th>22</th>\n",
       "      <td>0</td>\n",
       "      <td>36</td>\n",
       "      <td>202</td>\n",
       "      <td>1</td>\n",
       "      <td>0</td>\n",
       "      <td>0</td>\n",
       "      <td>0</td>\n",
       "      <td>0</td>\n",
       "      <td>1</td>\n",
       "      <td>33</td>\n",
       "      <td>186</td>\n",
       "    </tr>\n",
       "    <tr>\n",
       "      <th>114</th>\n",
       "      <td>0</td>\n",
       "      <td>20</td>\n",
       "      <td>170</td>\n",
       "      <td>1</td>\n",
       "      <td>1</td>\n",
       "      <td>0</td>\n",
       "      <td>0</td>\n",
       "      <td>0</td>\n",
       "      <td>0</td>\n",
       "      <td>18</td>\n",
       "      <td>160</td>\n",
       "    </tr>\n",
       "    <tr>\n",
       "      <th>128</th>\n",
       "      <td>0</td>\n",
       "      <td>24</td>\n",
       "      <td>116</td>\n",
       "      <td>1</td>\n",
       "      <td>0</td>\n",
       "      <td>0</td>\n",
       "      <td>0</td>\n",
       "      <td>0</td>\n",
       "      <td>1</td>\n",
       "      <td>23</td>\n",
       "      <td>109</td>\n",
       "    </tr>\n",
       "  </tbody>\n",
       "</table>\n",
       "</div>"
      ],
      "text/plain": [
       "     LOW  AGE  LWT  RACE  SMOKE  PTL  HT  UI  FTV  AGE_1  LWT_1\n",
       "177    1   17  120     1      1    0   0   0    3      0    109\n",
       "46     0   32  132     1      0    0   0   0    4     28    130\n",
       "95     0   29  135     1      0    0   0   0    1     28    130\n",
       "82     0   30  110     3      0    0   0   0    0     28    109\n",
       "180    1   26  154     3      0    1   1   0    1     23    135\n",
       "36     0   19  138     1      1    0   0   0    2     18    135\n",
       "109    0   16  170     2      0    0   0   0    4      0    160\n",
       "22     0   36  202     1      0    0   0   0    1     33    186\n",
       "114    0   20  170     1      1    0   0   0    0     18    160\n",
       "128    0   24  116     1      0    0   0   0    1     23    109"
      ]
     },
     "execution_count": 181,
     "metadata": {},
     "output_type": "execute_result"
    }
   ],
   "source": [
    "X_train_new.head(10)"
   ]
  },
  {
   "cell_type": "markdown",
   "metadata": {},
   "source": [
    "### Prosty model regresji liniowej"
   ]
  },
  {
   "cell_type": "code",
   "execution_count": 207,
   "metadata": {},
   "outputs": [
    {
     "name": "stdout",
     "output_type": "stream",
     "text": [
      "LogisticRegression MSE score: 399655.31746031746\n"
     ]
    },
    {
     "name": "stderr",
     "output_type": "stream",
     "text": [
      "/home/kasia/anaconda3/lib/python3.7/site-packages/sklearn/linear_model/logistic.py:758: ConvergenceWarning: lbfgs failed to converge. Increase the number of iterations.\n",
      "  \"of iterations.\", ConvergenceWarning)\n"
     ]
    }
   ],
   "source": [
    "from sklearn.linear_model import LogisticRegression\n",
    "\n",
    "log_reg = LogisticRegression(random_state=5,max_iter=500,solver='lbfgs',multi_class='multinomial')\n",
    "log_reg.fit(X_train, y_train)\n",
    "\n",
    "y_pred = log_reg.predict(X_test)\n",
    "\n",
    "mse_log_reg = mean_squared_error(y_pred,y_test)\n",
    "\n",
    "print(\"LogisticRegression MSE score: \" + str(mse_log_reg))"
   ]
  },
  {
   "cell_type": "code",
   "execution_count": 208,
   "metadata": {},
   "outputs": [
    {
     "name": "stdout",
     "output_type": "stream",
     "text": [
      "LogisticRegression MSE score: 477780.92063492065\n"
     ]
    },
    {
     "name": "stderr",
     "output_type": "stream",
     "text": [
      "/home/kasia/anaconda3/lib/python3.7/site-packages/sklearn/linear_model/logistic.py:758: ConvergenceWarning: lbfgs failed to converge. Increase the number of iterations.\n",
      "  \"of iterations.\", ConvergenceWarning)\n"
     ]
    }
   ],
   "source": [
    "from sklearn.linear_model import LogisticRegression\n",
    "\n",
    "log_reg = LogisticRegression(random_state=5,max_iter=500,solver='lbfgs',multi_class='multinomial')\n",
    "log_reg.fit(X_train_new, y_train)\n",
    "\n",
    "y_pred = log_reg.predict(X_test_new)\n",
    "\n",
    "mse_log_reg_new = mean_squared_error(y_pred,y_test)\n",
    "\n",
    "print(\"LogisticRegression MSE score: \" + str(mse_log_reg_new))"
   ]
  },
  {
   "cell_type": "markdown",
   "metadata": {},
   "source": [
    "## Ponowne trenowanie modeli czarnych skrzynek na nowych danych "
   ]
  },
  {
   "cell_type": "code",
   "execution_count": 234,
   "metadata": {},
   "outputs": [],
   "source": [
    "random_forest = RandomForestRegressor(max_depth=3, random_state=5,n_estimators=150,warm_start=True)\n",
    "random_forest.fit(X_train_new, y_train)\n",
    "y_pred_new = random_forest.predict(X_test_new)\n",
    "\n",
    "mse_rf_new = mean_squared_error(y_pred_new,y_test)\n",
    "\n",
    "\n",
    "cat = CatBoostRegressor(iterations=500,depth=1,loss_function='RMSE',verbose=False)\n",
    "cat.fit(X_train_new, y_train)\n",
    "cat_pred_new = cat.predict(X_test_new)\n",
    "\n",
    "mse_cat_new = mean_squared_error(cat_pred_new,y_test)"
   ]
  },
  {
   "cell_type": "code",
   "execution_count": 249,
   "metadata": {},
   "outputs": [],
   "source": [
    "error_rates = [mse_rf, mse_rf_new, mse_cat, mse_cat_new, mse_log_reg, mse_log_reg_new]\n",
    "models = [\"Random Forest\",\"Random Forest 2\", \"Catboost\", \"Catboost 2\", \n",
    "          \"Logistic Regression\", \"Logistic Regression 2\"]\n",
    "\n",
    "df = pd.DataFrame(list(zip(models, error_rates)),columns = ['Model', 'MSE'])"
   ]
  },
  {
   "cell_type": "code",
   "execution_count": 252,
   "metadata": {},
   "outputs": [
    {
     "data": {
      "image/png": "[encoded data removed]",
      "text/plain": [
       "<Figure size 432x288 with 1 Axes>"
      ]
     },
     "metadata": {
      "needs_background": "light"
     },
     "output_type": "display_data"
    }
   ],
   "source": [
    "ax = df.plot.bar(x='Model', y='MSE', rot=30)"
   ]
  },
  {
   "cell_type": "code",
   "execution_count": 253,
   "metadata": {},
   "outputs": [
    {
     "data": {
      "text/html": [
       "<div>\n",
       "<style scoped>\n",
       "    .dataframe tbody tr th:only-of-type {\n",
       "        vertical-align: middle;\n",
       "    }\n",
       "\n",
       "    .dataframe tbody tr th {\n",
       "        vertical-align: top;\n",
       "    }\n",
       "\n",
       "    .dataframe thead th {\n",
       "        text-align: right;\n",
       "    }\n",
       "</style>\n",
       "<table border=\"1\" class=\"dataframe\">\n",
       "  <thead>\n",
       "    <tr style=\"text-align: right;\">\n",
       "      <th></th>\n",
       "      <th>Model</th>\n",
       "      <th>MSE</th>\n",
       "    </tr>\n",
       "  </thead>\n",
       "  <tbody>\n",
       "    <tr>\n",
       "      <th>0</th>\n",
       "      <td>Random Forest</td>\n",
       "      <td>174846.044914</td>\n",
       "    </tr>\n",
       "    <tr>\n",
       "      <th>1</th>\n",
       "      <td>Random Forest 2</td>\n",
       "      <td>174026.361302</td>\n",
       "    </tr>\n",
       "    <tr>\n",
       "      <th>2</th>\n",
       "      <td>Catboost</td>\n",
       "      <td>195569.889920</td>\n",
       "    </tr>\n",
       "    <tr>\n",
       "      <th>3</th>\n",
       "      <td>Catboost 2</td>\n",
       "      <td>199485.668726</td>\n",
       "    </tr>\n",
       "    <tr>\n",
       "      <th>4</th>\n",
       "      <td>Logistic Regression</td>\n",
       "      <td>399655.317460</td>\n",
       "    </tr>\n",
       "    <tr>\n",
       "      <th>5</th>\n",
       "      <td>Logistic Regression 2</td>\n",
       "      <td>477780.920635</td>\n",
       "    </tr>\n",
       "  </tbody>\n",
       "</table>\n",
       "</div>"
      ],
      "text/plain": [
       "                   Model            MSE\n",
       "0          Random Forest  174846.044914\n",
       "1        Random Forest 2  174026.361302\n",
       "2               Catboost  195569.889920\n",
       "3             Catboost 2  199485.668726\n",
       "4    Logistic Regression  399655.317460\n",
       "5  Logistic Regression 2  477780.920635"
      ]
     },
     "execution_count": 253,
     "metadata": {},
     "output_type": "execute_result"
    }
   ],
   "source": [
    "df"
   ]
  },
  {
   "cell_type": "markdown",
   "metadata": {},
   "source": [
    "Niestety po dodaniu dodatkowych kolumn błąd prostego modelu zwiększył się znacznie - możliwe, że dodane punkty były zbyt mało szczegółowe i wybrałam zbiór danych który nie jest najlepszym przykładem, ponieważ większość jego zmiennych miała bardzo mało unikalnych wartości. \n",
    "Okazało się jednak, że dla modeli typu czarne skrzynki błąd pozostał właściwie na tym samym poziomie."
   ]
  }
 ],
 "metadata": {
  "kernelspec": {
   "display_name": "Python 3",
   "language": "python",
   "name": "python3"
  },
  "language_info": {
   "codemirror_mode": {
    "name": "ipython",
    "version": 3
   },
   "file_extension": ".py",
   "mimetype": "text/x-python",
   "name": "python",
   "nbconvert_exporter": "python",
   "pygments_lexer": "ipython3",
   "version": "3.7.1"
  }
 },
 "nbformat": 4,
 "nbformat_minor": 2
}
