{
 "cells": [
  {
   "cell_type": "code",
   "execution_count": 36,
   "metadata": {
    "ExecuteTime": {
     "end_time": "2019-05-25T20:57:13.294624Z",
     "start_time": "2019-05-25T20:57:13.291626Z"
    }
   },
   "outputs": [],
   "source": [
    "import pandas as pd\n",
    "import numpy as np"
   ]
  },
  {
   "cell_type": "markdown",
   "metadata": {},
   "source": [
    "## Wczytanie danych"
   ]
  },
  {
   "cell_type": "code",
   "execution_count": 37,
   "metadata": {
    "ExecuteTime": {
     "end_time": "2019-05-25T20:57:13.697548Z",
     "start_time": "2019-05-25T20:57:13.685578Z"
    }
   },
   "outputs": [],
   "source": [
    "df = pd.read_csv(\"file203848872b50.csv\")"
   ]
  },
  {
   "cell_type": "code",
   "execution_count": 38,
   "metadata": {
    "ExecuteTime": {
     "end_time": "2019-05-25T20:57:13.855091Z",
     "start_time": "2019-05-25T20:57:13.851104Z"
    }
   },
   "outputs": [],
   "source": [
    "X = df.drop(\"Compressive_Strength_Mpa\", axis=1)\n",
    "y = df['Compressive_Strength_Mpa']"
   ]
  },
  {
   "cell_type": "code",
   "execution_count": 39,
   "metadata": {
    "ExecuteTime": {
     "end_time": "2019-05-25T20:57:14.056555Z",
     "start_time": "2019-05-25T20:57:14.052565Z"
    }
   },
   "outputs": [],
   "source": [
    "from sklearn.model_selection import train_test_split\n",
    "from sklearn.metrics import mean_squared_error"
   ]
  },
  {
   "cell_type": "markdown",
   "metadata": {},
   "source": [
    "## Podział na zbiór treningowy i testowy"
   ]
  },
  {
   "cell_type": "code",
   "execution_count": 40,
   "metadata": {
    "ExecuteTime": {
     "end_time": "2019-05-25T20:57:14.425573Z",
     "start_time": "2019-05-25T20:57:14.420612Z"
    }
   },
   "outputs": [],
   "source": [
    "X_train, X_test, y_train, y_test = train_test_split(X,y)"
   ]
  },
  {
   "cell_type": "code",
   "execution_count": 41,
   "metadata": {
    "ExecuteTime": {
     "end_time": "2019-05-25T20:57:14.606087Z",
     "start_time": "2019-05-25T20:57:14.603094Z"
    }
   },
   "outputs": [],
   "source": [
    "from xgboost import XGBRegressor\n",
    "from sklearn.ensemble import RandomForestRegressor\n",
    "from sklearn.linear_model import LinearRegression"
   ]
  },
  {
   "cell_type": "markdown",
   "metadata": {},
   "source": [
    "Jako czarne skrzynki wybieram xgboosta i randomForest."
   ]
  },
  {
   "cell_type": "code",
   "execution_count": 42,
   "metadata": {
    "ExecuteTime": {
     "end_time": "2019-05-25T20:57:15.021974Z",
     "start_time": "2019-05-25T20:57:15.017984Z"
    }
   },
   "outputs": [],
   "source": [
    "xgb = XGBRegressor(n_estimators=1000, max_depth=100, learning_rate=1)\n",
    "rf = RandomForestRegressor(n_estimators=1000, max_depth=3)\n",
    "lr = LinearRegression()"
   ]
  },
  {
   "cell_type": "markdown",
   "metadata": {},
   "source": [
    "## Uczenie modeli "
   ]
  },
  {
   "cell_type": "code",
   "execution_count": 43,
   "metadata": {
    "ExecuteTime": {
     "end_time": "2019-05-25T20:57:15.979416Z",
     "start_time": "2019-05-25T20:57:15.521670Z"
    }
   },
   "outputs": [
    {
     "data": {
      "text/plain": [
       "LinearRegression(copy_X=True, fit_intercept=True, n_jobs=None,\n",
       "         normalize=False)"
      ]
     },
     "execution_count": 43,
     "metadata": {},
     "output_type": "execute_result"
    }
   ],
   "source": [
    "xgb.fit(X_train, y_train)\n",
    "rf.fit(X_train, y_train)\n",
    "lr.fit(X_train, y_train)"
   ]
  },
  {
   "cell_type": "markdown",
   "metadata": {
    "ExecuteTime": {
     "end_time": "2019-05-25T20:48:51.746240Z",
     "start_time": "2019-05-25T20:48:51.743216Z"
    }
   },
   "source": [
    "## Wyniki modeli na zbiorze uczącym"
   ]
  },
  {
   "cell_type": "code",
   "execution_count": 44,
   "metadata": {
    "ExecuteTime": {
     "end_time": "2019-05-25T20:57:15.986397Z",
     "start_time": "2019-05-25T20:57:15.981411Z"
    }
   },
   "outputs": [
    {
     "data": {
      "text/plain": [
       "9.299046924558562"
      ]
     },
     "execution_count": 44,
     "metadata": {},
     "output_type": "execute_result"
    }
   ],
   "source": [
    "mean_squared_error(y_test, lr.predict(X_test))"
   ]
  },
  {
   "cell_type": "code",
   "execution_count": 45,
   "metadata": {
    "ExecuteTime": {
     "end_time": "2019-05-25T20:57:16.183901Z",
     "start_time": "2019-05-25T20:57:16.177917Z"
    }
   },
   "outputs": [
    {
     "data": {
      "text/plain": [
       "17.351458993882495"
      ]
     },
     "execution_count": 45,
     "metadata": {},
     "output_type": "execute_result"
    }
   ],
   "source": [
    "mean_squared_error(y_test, xgb.predict(X_test))"
   ]
  },
  {
   "cell_type": "code",
   "execution_count": 46,
   "metadata": {
    "ExecuteTime": {
     "end_time": "2019-05-25T20:57:16.451189Z",
     "start_time": "2019-05-25T20:57:16.409269Z"
    }
   },
   "outputs": [
    {
     "data": {
      "text/plain": [
       "13.968463844788545"
      ]
     },
     "execution_count": 46,
     "metadata": {},
     "output_type": "execute_result"
    }
   ],
   "source": [
    "mean_squared_error(y_test, rf.predict(X_test))"
   ]
  },
  {
   "cell_type": "markdown",
   "metadata": {},
   "source": [
    "Lepiej wypada błąd lasu losowego więc to ten model będę analizował dalej."
   ]
  },
  {
   "cell_type": "markdown",
   "metadata": {},
   "source": [
    "Przekształcam zmienną `cemment`"
   ]
  },
  {
   "cell_type": "code",
   "execution_count": 47,
   "metadata": {
    "ExecuteTime": {
     "end_time": "2019-05-25T20:57:20.969112Z",
     "start_time": "2019-05-25T20:57:17.722789Z"
    }
   },
   "outputs": [],
   "source": [
    "from pdpbox import pdp\n",
    "import matplotlib.pyplot as plt\n",
    "import ruptures as rpt\n",
    "import pdpbox\n",
    "pdp_iso = pdp.pdp_isolate(rf, X_train.join(y_train), X_train.columns, 'Cemment', num_grid_points=100)\n",
    "algo = rpt.Pelt(model=\"rbf\").fit(pdp_iso.pdp)\n",
    "result = algo.predict(pen=3)"
   ]
  },
  {
   "cell_type": "code",
   "execution_count": 48,
   "metadata": {
    "ExecuteTime": {
     "end_time": "2019-05-25T20:57:21.667318Z",
     "start_time": "2019-05-25T20:57:21.661333Z"
    }
   },
   "outputs": [],
   "source": [
    "algo = rpt.Pelt(model=\"rbf\").fit(pdp_iso.pdp)\n",
    "result = algo.predict(pen=3)"
   ]
  },
  {
   "cell_type": "code",
   "execution_count": 49,
   "metadata": {
    "ExecuteTime": {
     "end_time": "2019-05-25T20:57:23.154375Z",
     "start_time": "2019-05-25T20:57:23.151383Z"
    }
   },
   "outputs": [],
   "source": [
    "import matplotlib.pyplot as plt"
   ]
  },
  {
   "cell_type": "code",
   "execution_count": 50,
   "metadata": {
    "ExecuteTime": {
     "end_time": "2019-05-25T20:57:23.579212Z",
     "start_time": "2019-05-25T20:57:23.456538Z"
    }
   },
   "outputs": [
    {
     "data": {
      "image/png": "[encoded data removed]",
      "text/plain": [
       "<Figure size 720x144 with 1 Axes>"
      ]
     },
     "metadata": {
      "needs_background": "light"
     },
     "output_type": "display_data"
    }
   ],
   "source": [
    "rpt.display(pdp_iso.pdp, result)\n",
    "plt.show()"
   ]
  },
  {
   "cell_type": "code",
   "execution_count": 51,
   "metadata": {
    "ExecuteTime": {
     "end_time": "2019-05-25T20:57:24.029006Z",
     "start_time": "2019-05-25T20:57:24.026049Z"
    }
   },
   "outputs": [],
   "source": [
    "split_points = result\n",
    "crosses = [pdp_iso.feature_grids[ress] for ress in result[:-1]]"
   ]
  },
  {
   "cell_type": "code",
   "execution_count": 52,
   "metadata": {
    "ExecuteTime": {
     "end_time": "2019-05-25T20:57:24.262384Z",
     "start_time": "2019-05-25T20:57:24.258428Z"
    }
   },
   "outputs": [
    {
     "data": {
      "text/plain": [
       "[162.17171717171718, 166.0606060606061, 321.32323232323233]"
      ]
     },
     "execution_count": 52,
     "metadata": {},
     "output_type": "execute_result"
    }
   ],
   "source": [
    "crosses"
   ]
  },
  {
   "cell_type": "markdown",
   "metadata": {},
   "source": [
    "## Tworzenie nowych cech"
   ]
  },
  {
   "cell_type": "code",
   "execution_count": 53,
   "metadata": {
    "ExecuteTime": {
     "end_time": "2019-05-25T20:57:49.849557Z",
     "start_time": "2019-05-25T20:57:49.843575Z"
    }
   },
   "outputs": [],
   "source": [
    "df['new_feature'] = np.where(df['Cemment'] < 166, 0, np.where(df['Cemment'] < 321, 1, 2))"
   ]
  },
  {
   "cell_type": "code",
   "execution_count": 54,
   "metadata": {
    "ExecuteTime": {
     "end_time": "2019-05-25T20:57:50.291394Z",
     "start_time": "2019-05-25T20:57:50.282431Z"
    }
   },
   "outputs": [],
   "source": [
    "df = df.join(pd.get_dummies(df['new_feature'], prefix=\"new_cemment\", drop_first=True))"
   ]
  },
  {
   "cell_type": "code",
   "execution_count": 55,
   "metadata": {
    "ExecuteTime": {
     "end_time": "2019-05-25T20:57:50.658397Z",
     "start_time": "2019-05-25T20:57:50.651414Z"
    }
   },
   "outputs": [],
   "source": [
    "X = df.drop([\"Compressive_Strength_Mpa\", \"new_feature\", \"Cemment\"], axis=1)\n",
    "y = df['Compressive_Strength_Mpa']"
   ]
  },
  {
   "cell_type": "code",
   "execution_count": 56,
   "metadata": {
    "ExecuteTime": {
     "end_time": "2019-05-25T20:57:51.015442Z",
     "start_time": "2019-05-25T20:57:51.011486Z"
    }
   },
   "outputs": [],
   "source": [
    "X_train, X_test, y_train, y_test = train_test_split(X,y)"
   ]
  },
  {
   "cell_type": "code",
   "execution_count": 57,
   "metadata": {
    "ExecuteTime": {
     "end_time": "2019-05-25T20:57:52.252136Z",
     "start_time": "2019-05-25T20:57:51.802339Z"
    }
   },
   "outputs": [
    {
     "data": {
      "text/plain": [
       "LinearRegression(copy_X=True, fit_intercept=True, n_jobs=None,\n",
       "         normalize=False)"
      ]
     },
     "execution_count": 57,
     "metadata": {},
     "output_type": "execute_result"
    }
   ],
   "source": [
    "xgb.fit(X_train, y_train)\n",
    "rf.fit(X_train, y_train)\n",
    "lr.fit(X_train, y_train)"
   ]
  },
  {
   "cell_type": "markdown",
   "metadata": {},
   "source": [
    "## Wyniki modelu po przekształceniu zmiennej"
   ]
  },
  {
   "cell_type": "code",
   "execution_count": 60,
   "metadata": {
    "ExecuteTime": {
     "end_time": "2019-05-25T20:58:01.272460Z",
     "start_time": "2019-05-25T20:58:01.232544Z"
    }
   },
   "outputs": [
    {
     "data": {
      "text/plain": [
       "27.15046712065775"
      ]
     },
     "execution_count": 60,
     "metadata": {},
     "output_type": "execute_result"
    }
   ],
   "source": [
    "mean_squared_error(y_test, rf.predict(X_test))"
   ]
  },
  {
   "cell_type": "code",
   "execution_count": 61,
   "metadata": {
    "ExecuteTime": {
     "end_time": "2019-05-25T20:58:01.715272Z",
     "start_time": "2019-05-25T20:58:01.710254Z"
    }
   },
   "outputs": [
    {
     "data": {
      "text/plain": [
       "6.783364999784297"
      ]
     },
     "execution_count": 61,
     "metadata": {},
     "output_type": "execute_result"
    }
   ],
   "source": [
    "mean_squared_error(y_test, lr.predict(X_test))"
   ]
  },
  {
   "cell_type": "markdown",
   "metadata": {},
   "source": [
    "O ile model Lasu Losowego działał gorzej bo zmianie zmiennej, to przekształcenie takie pomogło modeli regresjii liniowej."
   ]
  }
 ],
 "metadata": {
  "kernelspec": {
   "display_name": "Python 3",
   "language": "python",
   "name": "python3"
  },
  "language_info": {
   "codemirror_mode": {
    "name": "ipython",
    "version": 3
   },
   "file_extension": ".py",
   "mimetype": "text/x-python",
   "name": "python",
   "nbconvert_exporter": "python",
   "pygments_lexer": "ipython3",
   "version": "3.6.0"
  }
 },
 "nbformat": 4,
 "nbformat_minor": 2
}
