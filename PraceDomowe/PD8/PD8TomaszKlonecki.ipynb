{
 "cells": [
  {
   "cell_type": "code",
   "execution_count": 12,
   "metadata": {
    "ExecuteTime": {
     "end_time": "2019-05-14T21:10:24.276874Z",
     "start_time": "2019-05-14T21:10:24.273864Z"
    }
   },
   "outputs": [],
   "source": [
    "import pandas as pd"
   ]
  },
  {
   "cell_type": "code",
   "execution_count": 34,
   "metadata": {
    "ExecuteTime": {
     "end_time": "2019-05-14T21:13:55.115948Z",
     "start_time": "2019-05-14T21:13:55.096998Z"
    }
   },
   "outputs": [],
   "source": [
    "df = pd.read_csv('openml_phpmlDSTj.csv')"
   ]
  },
  {
   "cell_type": "code",
   "execution_count": 35,
   "metadata": {
    "ExecuteTime": {
     "end_time": "2019-05-14T21:13:55.413560Z",
     "start_time": "2019-05-14T21:13:55.402635Z"
    }
   },
   "outputs": [
    {
     "data": {
      "text/html": [
       "<div>\n",
       "<style scoped>\n",
       "    .dataframe tbody tr th:only-of-type {\n",
       "        vertical-align: middle;\n",
       "    }\n",
       "\n",
       "    .dataframe tbody tr th {\n",
       "        vertical-align: top;\n",
       "    }\n",
       "\n",
       "    .dataframe thead th {\n",
       "        text-align: right;\n",
       "    }\n",
       "</style>\n",
       "<table border=\"1\" class=\"dataframe\">\n",
       "  <thead>\n",
       "    <tr style=\"text-align: right;\">\n",
       "      <th></th>\n",
       "      <th>climbRate</th>\n",
       "      <th>Altitude</th>\n",
       "      <th>RollRate</th>\n",
       "      <th>curRoll</th>\n",
       "      <th>diffClb</th>\n",
       "      <th>diffDiffClb</th>\n",
       "      <th>Se</th>\n",
       "    </tr>\n",
       "  </thead>\n",
       "  <tbody>\n",
       "    <tr>\n",
       "      <th>0</th>\n",
       "      <td>2.0</td>\n",
       "      <td>-50</td>\n",
       "      <td>-0.0048</td>\n",
       "      <td>-0.001</td>\n",
       "      <td>0.2</td>\n",
       "      <td>0.0</td>\n",
       "      <td>-0.001</td>\n",
       "    </tr>\n",
       "    <tr>\n",
       "      <th>1</th>\n",
       "      <td>6.5</td>\n",
       "      <td>-40</td>\n",
       "      <td>-0.0010</td>\n",
       "      <td>-0.009</td>\n",
       "      <td>0.2</td>\n",
       "      <td>0.0</td>\n",
       "      <td>0.003</td>\n",
       "    </tr>\n",
       "    <tr>\n",
       "      <th>2</th>\n",
       "      <td>-5.9</td>\n",
       "      <td>-10</td>\n",
       "      <td>-0.0033</td>\n",
       "      <td>-0.004</td>\n",
       "      <td>-0.1</td>\n",
       "      <td>0.0</td>\n",
       "      <td>-0.001</td>\n",
       "    </tr>\n",
       "    <tr>\n",
       "      <th>3</th>\n",
       "      <td>-6.2</td>\n",
       "      <td>-30</td>\n",
       "      <td>-0.0022</td>\n",
       "      <td>-0.011</td>\n",
       "      <td>0.1</td>\n",
       "      <td>0.0</td>\n",
       "      <td>-0.002</td>\n",
       "    </tr>\n",
       "    <tr>\n",
       "      <th>4</th>\n",
       "      <td>-0.2</td>\n",
       "      <td>-40</td>\n",
       "      <td>0.0059</td>\n",
       "      <td>-0.005</td>\n",
       "      <td>0.1</td>\n",
       "      <td>0.0</td>\n",
       "      <td>0.001</td>\n",
       "    </tr>\n",
       "  </tbody>\n",
       "</table>\n",
       "</div>"
      ],
      "text/plain": [
       "   climbRate  Altitude  RollRate  curRoll  diffClb  diffDiffClb     Se\n",
       "0        2.0       -50   -0.0048   -0.001      0.2          0.0 -0.001\n",
       "1        6.5       -40   -0.0010   -0.009      0.2          0.0  0.003\n",
       "2       -5.9       -10   -0.0033   -0.004     -0.1          0.0 -0.001\n",
       "3       -6.2       -30   -0.0022   -0.011      0.1          0.0 -0.002\n",
       "4       -0.2       -40    0.0059   -0.005      0.1          0.0  0.001"
      ]
     },
     "execution_count": 35,
     "metadata": {},
     "output_type": "execute_result"
    }
   ],
   "source": [
    "df.head()"
   ]
  },
  {
   "cell_type": "markdown",
   "metadata": {},
   "source": [
    "## Preprocessing danych"
   ]
  },
  {
   "cell_type": "code",
   "execution_count": 36,
   "metadata": {
    "ExecuteTime": {
     "end_time": "2019-05-14T21:13:56.089459Z",
     "start_time": "2019-05-14T21:13:56.082474Z"
    }
   },
   "outputs": [],
   "source": [
    "y = df[['Se']]\n",
    "x = df.drop(columns=['Se'],axis=1,inplace=False)"
   ]
  },
  {
   "cell_type": "code",
   "execution_count": 37,
   "metadata": {
    "ExecuteTime": {
     "end_time": "2019-05-14T21:13:56.438857Z",
     "start_time": "2019-05-14T21:13:56.425891Z"
    }
   },
   "outputs": [],
   "source": [
    "from sklearn import preprocessing\n",
    "le = preprocessing.LabelEncoder()\n",
    "x[['diffDiffClb']] = le.fit_transform(np.array(x[['diffDiffClb']]).ravel())\n",
    "x[['diffClb']] = le.fit_transform(np.array(x[['diffClb']]).ravel())"
   ]
  },
  {
   "cell_type": "code",
   "execution_count": 38,
   "metadata": {
    "ExecuteTime": {
     "end_time": "2019-05-14T21:13:56.891806Z",
     "start_time": "2019-05-14T21:13:56.877841Z"
    }
   },
   "outputs": [
    {
     "data": {
      "text/html": [
       "<div>\n",
       "<style scoped>\n",
       "    .dataframe tbody tr th:only-of-type {\n",
       "        vertical-align: middle;\n",
       "    }\n",
       "\n",
       "    .dataframe tbody tr th {\n",
       "        vertical-align: top;\n",
       "    }\n",
       "\n",
       "    .dataframe thead th {\n",
       "        text-align: right;\n",
       "    }\n",
       "</style>\n",
       "<table border=\"1\" class=\"dataframe\">\n",
       "  <thead>\n",
       "    <tr style=\"text-align: right;\">\n",
       "      <th></th>\n",
       "      <th>climbRate</th>\n",
       "      <th>Altitude</th>\n",
       "      <th>RollRate</th>\n",
       "      <th>curRoll</th>\n",
       "      <th>diffClb</th>\n",
       "      <th>diffDiffClb</th>\n",
       "    </tr>\n",
       "  </thead>\n",
       "  <tbody>\n",
       "    <tr>\n",
       "      <th>0</th>\n",
       "      <td>2.0</td>\n",
       "      <td>-50</td>\n",
       "      <td>-0.0048</td>\n",
       "      <td>-0.001</td>\n",
       "      <td>10</td>\n",
       "      <td>3</td>\n",
       "    </tr>\n",
       "    <tr>\n",
       "      <th>1</th>\n",
       "      <td>6.5</td>\n",
       "      <td>-40</td>\n",
       "      <td>-0.0010</td>\n",
       "      <td>-0.009</td>\n",
       "      <td>10</td>\n",
       "      <td>3</td>\n",
       "    </tr>\n",
       "    <tr>\n",
       "      <th>2</th>\n",
       "      <td>-5.9</td>\n",
       "      <td>-10</td>\n",
       "      <td>-0.0033</td>\n",
       "      <td>-0.004</td>\n",
       "      <td>7</td>\n",
       "      <td>3</td>\n",
       "    </tr>\n",
       "    <tr>\n",
       "      <th>3</th>\n",
       "      <td>-6.2</td>\n",
       "      <td>-30</td>\n",
       "      <td>-0.0022</td>\n",
       "      <td>-0.011</td>\n",
       "      <td>9</td>\n",
       "      <td>3</td>\n",
       "    </tr>\n",
       "    <tr>\n",
       "      <th>4</th>\n",
       "      <td>-0.2</td>\n",
       "      <td>-40</td>\n",
       "      <td>0.0059</td>\n",
       "      <td>-0.005</td>\n",
       "      <td>9</td>\n",
       "      <td>3</td>\n",
       "    </tr>\n",
       "  </tbody>\n",
       "</table>\n",
       "</div>"
      ],
      "text/plain": [
       "   climbRate  Altitude  RollRate  curRoll  diffClb  diffDiffClb\n",
       "0        2.0       -50   -0.0048   -0.001       10            3\n",
       "1        6.5       -40   -0.0010   -0.009       10            3\n",
       "2       -5.9       -10   -0.0033   -0.004        7            3\n",
       "3       -6.2       -30   -0.0022   -0.011        9            3\n",
       "4       -0.2       -40    0.0059   -0.005        9            3"
      ]
     },
     "execution_count": 38,
     "metadata": {},
     "output_type": "execute_result"
    }
   ],
   "source": [
    "x.head()"
   ]
  },
  {
   "cell_type": "markdown",
   "metadata": {},
   "source": [
    "## Testy dla dwóch czarnych skrzynek na danych przed transformacją"
   ]
  },
  {
   "cell_type": "code",
   "execution_count": 39,
   "metadata": {
    "ExecuteTime": {
     "end_time": "2019-05-14T21:13:58.414843Z",
     "start_time": "2019-05-14T21:13:58.406865Z"
    }
   },
   "outputs": [],
   "source": [
    "from sklearn.model_selection import train_test_split\n",
    "X_train, X_test, y_train, y_test = train_test_split(x.values, y , test_size = 0.1, random_state=0)"
   ]
  },
  {
   "cell_type": "code",
   "execution_count": 46,
   "metadata": {
    "ExecuteTime": {
     "end_time": "2019-05-14T21:15:22.126604Z",
     "start_time": "2019-05-14T21:15:19.986781Z"
    }
   },
   "outputs": [
    {
     "name": "stdout",
     "output_type": "stream",
     "text": [
      "MSE XGBoost: 0.00000180\n",
      "MSE Random Forest: 0.00000190\n"
     ]
    }
   ],
   "source": [
    "from xgboost import XGBRegressor\n",
    "model_1 = XGBRegressor()\n",
    "model_1.fit(X_train, np.array(y_train).ravel())\n",
    "\n",
    "from sklearn.ensemble import RandomForestRegressor\n",
    "model_2 = RandomForestRegressor(n_estimators=100)\n",
    "model_2.fit(X_train, np.array(y_train).ravel())\n",
    "\n",
    "from sklearn.metrics import mean_squared_error\n",
    "print('MSE XGBoost: '+'%4.8f' % (mean_squared_error(y_test, model_1.predict(X_test))))\n",
    "print('MSE Random Forest: '+'%4.8f' % (mean_squared_error(y_test, model_2.predict(X_test))))"
   ]
  },
  {
   "cell_type": "code",
   "execution_count": 47,
   "metadata": {
    "ExecuteTime": {
     "end_time": "2019-05-14T21:15:24.125398Z",
     "start_time": "2019-05-14T21:15:24.117419Z"
    }
   },
   "outputs": [],
   "source": [
    "import ruptures as rpt\n",
    "import matplotlib.pyplot as plt\n",
    "\n",
    "def pd_plot(model, features, feature_index, penalty):\n",
    "    '''\n",
    "    features - pandas DF\n",
    "    '''    \n",
    "    colnames = list(features.columns)\n",
    "    features_values = features.values\n",
    "\n",
    "    \n",
    "    # Ceteris Paribus lines for all observations and PD-plot\n",
    "    sorted_features = np.sort(features_values[:,feature_index])\n",
    "    all_proba = []\n",
    "    for j in range(features_values.shape[0]):\n",
    "        x_to_predict = np.tile(features_values[j],(len(sorted_features),1))\n",
    "        x_to_predict[:,feature_index] = sorted_features\n",
    "        y = model.predict(x_to_predict)\n",
    "        all_proba.append(y)\n",
    "        if(len(features) < 1000):\n",
    "            plt.plot(sorted_features,y, color = '0.75', zorder = 5)\n",
    "    if(len(features) < 1000):\n",
    "        plt.scatter(features_values[:,feature_index], model.predict(features_values.tolist()), c = 'black', s = 15, zorder = 10)\n",
    "    plt.plot(sorted_features, np.mean(all_proba, axis = 0), color = 'black',linewidth = 5 , zorder = 15, label = 'PD plot')\n",
    "    \n",
    "    # Breakpoints detection\n",
    "    algo = rpt.Pelt(model=\"l1\").fit(np.mean(all_proba, axis = 0))\n",
    "    result = algo.predict(pen=penalty)\n",
    "    breakpoints = []\n",
    "    for i in range(len(result)-1):\n",
    "        plt.axvline(sorted_features[result[i]-1], color = 'red', linestyle = ':', markersize = 10, zorder = 10)\n",
    "        breakpoints.append(sorted_features[result[i]-1])\n",
    "    plt.show()\n",
    "    \n",
    "    return breakpoints\n",
    "    "
   ]
  },
  {
   "cell_type": "code",
   "execution_count": 48,
   "metadata": {
    "ExecuteTime": {
     "end_time": "2019-05-14T21:32:06.678486Z",
     "start_time": "2019-05-14T21:15:32.175066Z"
    }
   },
   "outputs": [
    {
     "data": {
      "image/png": "[encoded data removed]",
      "text/plain": [
       "<Figure size 432x288 with 1 Axes>"
      ]
     },
     "metadata": {},
     "output_type": "display_data"
    },
    {
     "data": {
      "image/png": "[encoded data removed]",
      "text/plain": [
       "<Figure size 432x288 with 1 Axes>"
      ]
     },
     "metadata": {},
     "output_type": "display_data"
    },
    {
     "data": {
      "image/png": "[encoded data removed]",
      "text/plain": [
       "<Figure size 432x288 with 1 Axes>"
      ]
     },
     "metadata": {},
     "output_type": "display_data"
    },
    {
     "data": {
      "image/png": "[encoded data removed]",
      "text/plain": [
       "<Figure size 432x288 with 1 Axes>"
      ]
     },
     "metadata": {},
     "output_type": "display_data"
    },
    {
     "data": {
      "image/png": "[encoded data removed]",
      "text/plain": [
       "<Figure size 432x288 with 1 Axes>"
      ]
     },
     "metadata": {},
     "output_type": "display_data"
    },
    {
     "data": {
      "image/png": "[encoded data removed]",
      "text/plain": [
       "<Figure size 432x288 with 1 Axes>"
      ]
     },
     "metadata": {},
     "output_type": "display_data"
    }
   ],
   "source": [
    "breakpoints_0 = pd_plot(model_1, x, 0, 0.3)\n",
    "breakpoints_1 = pd_plot(model_1, x, 1, 0.5)\n",
    "breakpoints_2 = pd_plot(model_1, x, 2, 0.1)\n",
    "breakpoints_3 = pd_plot(model_1, x, 3, 0.05)\n",
    "breakpoints_4 = pd_plot(model_1, x, 4, 2)\n",
    "breakpoints_5 = pd_plot(model_1, x, 5, 0.002)"
   ]
  },
  {
   "cell_type": "code",
   "execution_count": 49,
   "metadata": {
    "ExecuteTime": {
     "end_time": "2019-05-14T21:32:06.765246Z",
     "start_time": "2019-05-14T21:32:06.758251Z"
    }
   },
   "outputs": [],
   "source": [
    "def transform_data(features, feature_index, breakpoints):\n",
    "    colnames = features.columns\n",
    "    \n",
    "    # Category 0\n",
    "    mask = features[colnames[feature_index]] < breakpoints[0]\n",
    "    features.loc[mask, colnames[feature_index]] = 0\n",
    "    \n",
    "    # Category 1-(n-1)\n",
    "    if len(breakpoints) > 2:\n",
    "        for i in range(len(breakpoints)-1):\n",
    "            mask = (features[colnames[feature_index]] >= breakpoints[i]) & (features[colnames[feature_index]] < breakpoints[i+1])\n",
    "            features.loc[mask, colnames[feature_index]] = i + 1\n",
    "     \n",
    "    # Category n\n",
    "    mask = features[colnames[feature_index]] >= breakpoints[-1]\n",
    "    features.loc[mask, colnames[feature_index]] = len(breakpoints)\n",
    "\n",
    "    return features"
   ]
  },
  {
   "cell_type": "code",
   "execution_count": 50,
   "metadata": {
    "ExecuteTime": {
     "end_time": "2019-05-14T21:32:06.909863Z",
     "start_time": "2019-05-14T21:32:06.859981Z"
    }
   },
   "outputs": [],
   "source": [
    "x_no_transformed = x.copy()\n",
    "\n",
    "x = transform_data(x, 0, breakpoints_0)\n",
    "x = transform_data(x, 2, breakpoints_2)\n",
    "x = transform_data(x, 3, breakpoints_3)\n",
    "x = transform_data(x, 4, breakpoints_4)\n",
    "x = transform_data(x, 5, breakpoints_5)\n",
    "x_transformed = x"
   ]
  },
  {
   "cell_type": "markdown",
   "metadata": {},
   "source": [
    "## Testy dla 3 grup modeli"
   ]
  },
  {
   "cell_type": "code",
   "execution_count": 51,
   "metadata": {
    "ExecuteTime": {
     "end_time": "2019-05-14T21:32:07.027529Z",
     "start_time": "2019-05-14T21:32:07.018572Z"
    }
   },
   "outputs": [],
   "source": [
    "from sklearn.model_selection import train_test_split\n",
    "X_train, X_test, y_train, y_test = train_test_split(x_no_transformed.values, y , test_size = 0.1, random_state=0)\n",
    "X_t_train, X_t_test, y_t_train, y_t_test = train_test_split(x_transformed.values, y , test_size = 0.1, random_state=0)"
   ]
  },
  {
   "cell_type": "code",
   "execution_count": 52,
   "metadata": {
    "ExecuteTime": {
     "end_time": "2019-05-14T21:32:07.152222Z",
     "start_time": "2019-05-14T21:32:07.147211Z"
    }
   },
   "outputs": [],
   "source": [
    "from sklearn.metrics import mean_squared_error"
   ]
  },
  {
   "cell_type": "markdown",
   "metadata": {},
   "source": [
    "### Regresja liniowa"
   ]
  },
  {
   "cell_type": "code",
   "execution_count": 53,
   "metadata": {
    "ExecuteTime": {
     "end_time": "2019-05-14T21:32:07.705476Z",
     "start_time": "2019-05-14T21:32:07.274870Z"
    }
   },
   "outputs": [
    {
     "name": "stdout",
     "output_type": "stream",
     "text": [
      "LM raw data: 0.00000187\n",
      "LM transformed data: 0.00023197\n"
     ]
    }
   ],
   "source": [
    "from sklearn.linear_model import LinearRegression\n",
    "model_linear = LinearRegression()\n",
    "\n",
    "model_linear.fit(X_train, y_train)\n",
    "print('LM raw data: '+'%4.8f' % (mean_squared_error(y_test,model_linear.predict(X_test))))\n",
    "model_linear.fit(X_t_train, y_t_train)\n",
    "print('LM transformed data: '+'%4.8f' % (mean_squared_error(y_test,model_linear.predict(X_test))))"
   ]
  },
  {
   "cell_type": "markdown",
   "metadata": {
    "ExecuteTime": {
     "end_time": "2019-05-12T17:48:41.836491Z",
     "start_time": "2019-05-12T17:48:41.824274Z"
    }
   },
   "source": [
    "### XGBoost"
   ]
  },
  {
   "cell_type": "code",
   "execution_count": 54,
   "metadata": {
    "ExecuteTime": {
     "end_time": "2019-05-14T21:32:09.377963Z",
     "start_time": "2019-05-14T21:32:07.883002Z"
    }
   },
   "outputs": [
    {
     "name": "stdout",
     "output_type": "stream",
     "text": [
      "XGBoost raw data: 0.00000180\n",
      "XGBoost transformed data: 0.00000504\n"
     ]
    }
   ],
   "source": [
    "from xgboost import XGBRegressor\n",
    "model_xgb = XGBRegressor()\n",
    "\n",
    "model_xgb.fit(X_train, y_train)\n",
    "print('XGBoost raw data: '+'%4.8f' % (mean_squared_error(y_test,model_xgb.predict(X_test))))\n",
    "model_xgb.fit(X_t_train, y_t_train)\n",
    "print('XGBoost transformed data: '+'%4.8f' % (mean_squared_error(y_test,model_xgb.predict(X_test))))"
   ]
  },
  {
   "cell_type": "markdown",
   "metadata": {},
   "source": [
    "### Random Forest"
   ]
  },
  {
   "cell_type": "code",
   "execution_count": 57,
   "metadata": {
    "ExecuteTime": {
     "end_time": "2019-05-14T21:33:54.616206Z",
     "start_time": "2019-05-14T21:33:52.615129Z"
    }
   },
   "outputs": [
    {
     "name": "stdout",
     "output_type": "stream",
     "text": [
      "Random Forest raw data: 0.00000195\n",
      "Random Forest transformed data: 0.00000195\n"
     ]
    }
   ],
   "source": [
    "from sklearn.ensemble import RandomForestRegressor\n",
    "model_rf = RandomForestRegressor(n_estimators=100)\n",
    "\n",
    "model_rf.fit(X_train, np.array(y_train).ravel())\n",
    "print('Random Forest raw data: '+'%4.8f' % (mean_squared_error(y_test,model_rf.predict(X_test))))\n",
    "model_xgb.fit(X_t_train, y_t_train)\n",
    "print('Random Forest transformed data: '+'%4.8f' % (mean_squared_error(y_test,model_rf.predict(X_test))))"
   ]
  },
  {
   "cell_type": "markdown",
   "metadata": {},
   "source": [
    "## Wnioski"
   ]
  },
  {
   "cell_type": "markdown",
   "metadata": {},
   "source": [
    "Zestaw danych, które wybrałem, jest uzyskany z systemu sterowania lotkami samolotu F16. Niestety nie sią do końca opisane, więc atrybuty i zmienne celu pozostają tajemnicą.\n",
    "\n",
    "Poniżej tabelka z wynikami średniego błędu kwadratowego dla poszczególnych modeli.\n",
    "\n",
    "| Model | MSE |\n",
    "|---------------------------------|-----|\n",
    "| **Linear Model** (raw data) |$0.00000187$|\n",
    "| **Linear Model** (transformed data) | $0.00023197$ |\n",
    "| **Random Forest** (raw data) | $0.00000180$|\n",
    "| **Random Forest** (transformed data) |$0.00000504$|\n",
    "| **XGBoost** (raw data) | $0.00000195$ |\n",
    "| **XGBoost** (transformed data) | $0.00000504$ |\n",
    "\n",
    "Można zauważyć, że wszystkie modele są bardzo skuteczne. Nawet regresja liniowa, na nieprzetransformowanych danych, daje błąd rzędu zero. Wydaje się, że może to być powodem tego, że transformacja zmiennych nie polepsza znacznie wyników."
   ]
  },
  {
   "cell_type": "code",
   "execution_count": null,
   "metadata": {},
   "outputs": [],
   "source": []
  }
 ],
 "metadata": {
  "kernelspec": {
   "display_name": "Python 3",
   "language": "python",
   "name": "python3"
  },
  "language_info": {
   "codemirror_mode": {
    "name": "ipython",
    "version": 3
   },
   "file_extension": ".py",
   "mimetype": "text/x-python",
   "name": "python",
   "nbconvert_exporter": "python",
   "pygments_lexer": "ipython3",
   "version": "3.6.5"
  },
  "toc": {
   "base_numbering": 1,
   "nav_menu": {},
   "number_sections": true,
   "sideBar": true,
   "skip_h1_title": false,
   "title_cell": "Table of Contents",
   "title_sidebar": "Contents",
   "toc_cell": false,
   "toc_position": {},
   "toc_section_display": true,
   "toc_window_display": false
  },
  "varInspector": {
   "cols": {
    "lenName": 16,
    "lenType": 16,
    "lenVar": 40
   },
   "kernels_config": {
    "python": {
     "delete_cmd_postfix": "",
     "delete_cmd_prefix": "del ",
     "library": "var_list.py",
     "varRefreshCmd": "print(var_dic_list())"
    },
    "r": {
     "delete_cmd_postfix": ") ",
     "delete_cmd_prefix": "rm(",
     "library": "var_list.r",
     "varRefreshCmd": "cat(var_dic_list()) "
    }
   },
   "types_to_exclude": [
    "module",
    "function",
    "builtin_function_or_method",
    "instance",
    "_Feature"
   ],
   "window_display": false
  }
 },
 "nbformat": 4,
 "nbformat_minor": 2
}
