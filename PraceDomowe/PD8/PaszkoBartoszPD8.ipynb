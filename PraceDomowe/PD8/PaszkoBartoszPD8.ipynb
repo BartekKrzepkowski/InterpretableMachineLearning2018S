{
 "cells": [
  {
   "cell_type": "code",
   "execution_count": 1,
   "metadata": {},
   "outputs": [],
   "source": [
    "%matplotlib inline"
   ]
  },
  {
   "cell_type": "code",
   "execution_count": 2,
   "metadata": {},
   "outputs": [],
   "source": [
    "from sklearn.ensemble import RandomForestRegressor\n",
    "from sklearn.model_selection import train_test_split\n",
    "from sklearn.metrics import accuracy_score, explained_variance_score\n",
    "from sklearn.linear_model import LinearRegression, Lasso\n",
    "from lightgbm.sklearn import LGBMRegressor\n",
    "from catboost import CatBoostRegressor\n",
    "from category_encoders import OneHotEncoder\n",
    "\n",
    "from tqdm import tqdm\n",
    "\n",
    "import matplotlib.pyplot as plt\n",
    "\n",
    "import xgboost as xgb\n",
    "\n",
    "import numpy as np\n",
    "import pandas as pd\n",
    "import ruptures as rpt\n",
    "\n",
    "import os"
   ]
  },
  {
   "cell_type": "markdown",
   "metadata": {},
   "source": [
    "## Wybrany zbiór danych\n",
    "#### house_8L  -   https://www.openml.org/d/218"
   ]
  },
  {
   "cell_type": "code",
   "execution_count": 3,
   "metadata": {},
   "outputs": [
    {
     "data": {
      "text/html": [
       "<div>\n",
       "<style scoped>\n",
       "    .dataframe tbody tr th:only-of-type {\n",
       "        vertical-align: middle;\n",
       "    }\n",
       "\n",
       "    .dataframe tbody tr th {\n",
       "        vertical-align: top;\n",
       "    }\n",
       "\n",
       "    .dataframe thead th {\n",
       "        text-align: right;\n",
       "    }\n",
       "</style>\n",
       "<table border=\"1\" class=\"dataframe\">\n",
       "  <thead>\n",
       "    <tr style=\"text-align: right;\">\n",
       "      <th></th>\n",
       "      <th>P3</th>\n",
       "      <th>P6p4</th>\n",
       "      <th>P11p3</th>\n",
       "      <th>P16p2</th>\n",
       "      <th>P19p2</th>\n",
       "      <th>H5p2</th>\n",
       "      <th>H15p1</th>\n",
       "      <th>H40p4</th>\n",
       "      <th>price</th>\n",
       "    </tr>\n",
       "  </thead>\n",
       "  <tbody>\n",
       "    <tr>\n",
       "      <th>0</th>\n",
       "      <td>7074.0</td>\n",
       "      <td>0.004964</td>\n",
       "      <td>0.507478</td>\n",
       "      <td>0.579729</td>\n",
       "      <td>0.036613</td>\n",
       "      <td>0.020244</td>\n",
       "      <td>6.618785</td>\n",
       "      <td>0.774059</td>\n",
       "      <td>130600.0</td>\n",
       "    </tr>\n",
       "    <tr>\n",
       "      <th>1</th>\n",
       "      <td>597.0</td>\n",
       "      <td>0.003871</td>\n",
       "      <td>0.480000</td>\n",
       "      <td>0.695142</td>\n",
       "      <td>0.003350</td>\n",
       "      <td>0.170732</td>\n",
       "      <td>7.163934</td>\n",
       "      <td>0.142857</td>\n",
       "      <td>40500.0</td>\n",
       "    </tr>\n",
       "    <tr>\n",
       "      <th>2</th>\n",
       "      <td>1931.0</td>\n",
       "      <td>0.002320</td>\n",
       "      <td>0.477747</td>\n",
       "      <td>0.683584</td>\n",
       "      <td>0.000000</td>\n",
       "      <td>0.117647</td>\n",
       "      <td>6.185848</td>\n",
       "      <td>0.687500</td>\n",
       "      <td>28700.0</td>\n",
       "    </tr>\n",
       "    <tr>\n",
       "      <th>3</th>\n",
       "      <td>164.0</td>\n",
       "      <td>0.000000</td>\n",
       "      <td>0.492505</td>\n",
       "      <td>0.780488</td>\n",
       "      <td>0.000000</td>\n",
       "      <td>0.100000</td>\n",
       "      <td>6.619835</td>\n",
       "      <td>1.000000</td>\n",
       "      <td>28500.0</td>\n",
       "    </tr>\n",
       "    <tr>\n",
       "      <th>4</th>\n",
       "      <td>119.0</td>\n",
       "      <td>0.000000</td>\n",
       "      <td>0.480645</td>\n",
       "      <td>0.756302</td>\n",
       "      <td>0.672269</td>\n",
       "      <td>0.000000</td>\n",
       "      <td>6.161616</td>\n",
       "      <td>0.000000</td>\n",
       "      <td>24100.0</td>\n",
       "    </tr>\n",
       "  </tbody>\n",
       "</table>\n",
       "</div>"
      ],
      "text/plain": [
       "       P3      P6p4     P11p3     P16p2     P19p2      H5p2     H15p1  \\\n",
       "0  7074.0  0.004964  0.507478  0.579729  0.036613  0.020244  6.618785   \n",
       "1   597.0  0.003871  0.480000  0.695142  0.003350  0.170732  7.163934   \n",
       "2  1931.0  0.002320  0.477747  0.683584  0.000000  0.117647  6.185848   \n",
       "3   164.0  0.000000  0.492505  0.780488  0.000000  0.100000  6.619835   \n",
       "4   119.0  0.000000  0.480645  0.756302  0.672269  0.000000  6.161616   \n",
       "\n",
       "      H40p4     price  \n",
       "0  0.774059  130600.0  \n",
       "1  0.142857   40500.0  \n",
       "2  0.687500   28700.0  \n",
       "3  1.000000   28500.0  \n",
       "4  0.000000   24100.0  "
      ]
     },
     "execution_count": 3,
     "metadata": {},
     "output_type": "execute_result"
    }
   ],
   "source": [
    "seed = 20\n",
    "df = pd.read_csv('houses.csv')\n",
    "df.head()"
   ]
  },
  {
   "cell_type": "code",
   "execution_count": 4,
   "metadata": {},
   "outputs": [
    {
     "name": "stdout",
     "output_type": "stream",
     "text": [
      "Total NA values: 0\n"
     ]
    },
    {
     "data": {
      "text/html": [
       "<div>\n",
       "<style scoped>\n",
       "    .dataframe tbody tr th:only-of-type {\n",
       "        vertical-align: middle;\n",
       "    }\n",
       "\n",
       "    .dataframe tbody tr th {\n",
       "        vertical-align: top;\n",
       "    }\n",
       "\n",
       "    .dataframe thead th {\n",
       "        text-align: right;\n",
       "    }\n",
       "</style>\n",
       "<table border=\"1\" class=\"dataframe\">\n",
       "  <thead>\n",
       "    <tr style=\"text-align: right;\">\n",
       "      <th></th>\n",
       "      <th>P3</th>\n",
       "      <th>P6p4</th>\n",
       "      <th>P11p3</th>\n",
       "      <th>P16p2</th>\n",
       "      <th>P19p2</th>\n",
       "      <th>H5p2</th>\n",
       "      <th>H15p1</th>\n",
       "      <th>H40p4</th>\n",
       "      <th>price</th>\n",
       "    </tr>\n",
       "  </thead>\n",
       "  <tbody>\n",
       "    <tr>\n",
       "      <th>count</th>\n",
       "      <td>2.278400e+04</td>\n",
       "      <td>22784.000000</td>\n",
       "      <td>22784.000000</td>\n",
       "      <td>22784.000000</td>\n",
       "      <td>22784.000000</td>\n",
       "      <td>22784.000000</td>\n",
       "      <td>22784.000000</td>\n",
       "      <td>22784.000000</td>\n",
       "      <td>22784.000000</td>\n",
       "    </tr>\n",
       "    <tr>\n",
       "      <th>mean</th>\n",
       "      <td>2.935866e+03</td>\n",
       "      <td>0.010330</td>\n",
       "      <td>0.484021</td>\n",
       "      <td>0.716131</td>\n",
       "      <td>0.057437</td>\n",
       "      <td>0.171518</td>\n",
       "      <td>5.978000</td>\n",
       "      <td>0.491626</td>\n",
       "      <td>50074.439782</td>\n",
       "    </tr>\n",
       "    <tr>\n",
       "      <th>std</th>\n",
       "      <td>2.494988e+04</td>\n",
       "      <td>0.042105</td>\n",
       "      <td>0.060334</td>\n",
       "      <td>0.087264</td>\n",
       "      <td>0.139811</td>\n",
       "      <td>0.138987</td>\n",
       "      <td>0.758649</td>\n",
       "      <td>0.331655</td>\n",
       "      <td>52843.475551</td>\n",
       "    </tr>\n",
       "    <tr>\n",
       "      <th>min</th>\n",
       "      <td>1.000000e+00</td>\n",
       "      <td>0.000000</td>\n",
       "      <td>0.079876</td>\n",
       "      <td>0.233702</td>\n",
       "      <td>0.000000</td>\n",
       "      <td>0.000000</td>\n",
       "      <td>0.000000</td>\n",
       "      <td>0.000000</td>\n",
       "      <td>0.000000</td>\n",
       "    </tr>\n",
       "    <tr>\n",
       "      <th>25%</th>\n",
       "      <td>1.630000e+02</td>\n",
       "      <td>0.000000</td>\n",
       "      <td>0.448766</td>\n",
       "      <td>0.662283</td>\n",
       "      <td>0.000000</td>\n",
       "      <td>0.079359</td>\n",
       "      <td>5.548364</td>\n",
       "      <td>0.243243</td>\n",
       "      <td>21000.000000</td>\n",
       "    </tr>\n",
       "    <tr>\n",
       "      <th>50%</th>\n",
       "      <td>5.060000e+02</td>\n",
       "      <td>0.002361</td>\n",
       "      <td>0.483384</td>\n",
       "      <td>0.714286</td>\n",
       "      <td>0.002538</td>\n",
       "      <td>0.147826</td>\n",
       "      <td>5.958333</td>\n",
       "      <td>0.500000</td>\n",
       "      <td>33200.000000</td>\n",
       "    </tr>\n",
       "    <tr>\n",
       "      <th>75%</th>\n",
       "      <td>1.683000e+03</td>\n",
       "      <td>0.007429</td>\n",
       "      <td>0.521739</td>\n",
       "      <td>0.771039</td>\n",
       "      <td>0.029928</td>\n",
       "      <td>0.230769</td>\n",
       "      <td>6.363079</td>\n",
       "      <td>0.750000</td>\n",
       "      <td>56100.000000</td>\n",
       "    </tr>\n",
       "    <tr>\n",
       "      <th>max</th>\n",
       "      <td>2.819401e+06</td>\n",
       "      <td>0.894444</td>\n",
       "      <td>1.000000</td>\n",
       "      <td>1.000000</td>\n",
       "      <td>1.000000</td>\n",
       "      <td>1.000000</td>\n",
       "      <td>10.000000</td>\n",
       "      <td>1.000000</td>\n",
       "      <td>500001.000000</td>\n",
       "    </tr>\n",
       "  </tbody>\n",
       "</table>\n",
       "</div>"
      ],
      "text/plain": [
       "                 P3          P6p4         P11p3         P16p2         P19p2  \\\n",
       "count  2.278400e+04  22784.000000  22784.000000  22784.000000  22784.000000   \n",
       "mean   2.935866e+03      0.010330      0.484021      0.716131      0.057437   \n",
       "std    2.494988e+04      0.042105      0.060334      0.087264      0.139811   \n",
       "min    1.000000e+00      0.000000      0.079876      0.233702      0.000000   \n",
       "25%    1.630000e+02      0.000000      0.448766      0.662283      0.000000   \n",
       "50%    5.060000e+02      0.002361      0.483384      0.714286      0.002538   \n",
       "75%    1.683000e+03      0.007429      0.521739      0.771039      0.029928   \n",
       "max    2.819401e+06      0.894444      1.000000      1.000000      1.000000   \n",
       "\n",
       "               H5p2         H15p1         H40p4          price  \n",
       "count  22784.000000  22784.000000  22784.000000   22784.000000  \n",
       "mean       0.171518      5.978000      0.491626   50074.439782  \n",
       "std        0.138987      0.758649      0.331655   52843.475551  \n",
       "min        0.000000      0.000000      0.000000       0.000000  \n",
       "25%        0.079359      5.548364      0.243243   21000.000000  \n",
       "50%        0.147826      5.958333      0.500000   33200.000000  \n",
       "75%        0.230769      6.363079      0.750000   56100.000000  \n",
       "max        1.000000     10.000000      1.000000  500001.000000  "
      ]
     },
     "execution_count": 4,
     "metadata": {},
     "output_type": "execute_result"
    }
   ],
   "source": [
    "print(f'Total NA values: {sum(df.isna().sum().values)}')\n",
    "df.describe()"
   ]
  },
  {
   "cell_type": "markdown",
   "metadata": {},
   "source": [
    "Wszystkie zmienne są ilościowe. Zbiór nie zawiera brakujących danych. Zmienna celu to **price**\n",
    "\n",
    "#### Podział na zbiory treningowy - testowy"
   ]
  },
  {
   "cell_type": "code",
   "execution_count": 5,
   "metadata": {},
   "outputs": [
    {
     "name": "stdout",
     "output_type": "stream",
     "text": [
      "Train df rows:\t\t15948\n",
      "Train labels rows:\t15948\n",
      "Test df rows:\t\t6836\n",
      "Test labels rows:\t6836\n"
     ]
    }
   ],
   "source": [
    "target = 'price'\n",
    "X, y = df.drop(target, axis=1), df[target]\n",
    "train_X, test_X, train_y, test_y = train_test_split(X, y, test_size=0.3, random_state=seed)\n",
    "print(f'Train df rows:\\t\\t{len(train_X)}')\n",
    "print(f'Train labels rows:\\t{len(train_y)}')\n",
    "print(f'Test df rows:\\t\\t{len(test_X)}')\n",
    "print(f'Test labels rows:\\t{len(test_y)}')"
   ]
  },
  {
   "cell_type": "markdown",
   "metadata": {},
   "source": [
    "## Wybrane modele\n",
    "* czarnoskrzynkowe\n",
    "    * random forest\n",
    "    * lgbm\n",
    "* linear regression"
   ]
  },
  {
   "cell_type": "code",
   "execution_count": 6,
   "metadata": {},
   "outputs": [
    {
     "name": "stdout",
     "output_type": "stream",
     "text": [
      "lgbm - score:\t0.704933932041849\n",
      "random forest - score:\t0.6858461800667444\n",
      "linear regression - score:\t0.39409017295734705\n"
     ]
    }
   ],
   "source": [
    "models = {\n",
    "    'lgbm': LGBMRegressor(learning_rate=0.01, n_estimators=500, reg_lambda=0.5, random_state=seed),\n",
    "    'random forest': RandomForestRegressor(n_estimators=100, n_jobs=-1, random_state=seed),\n",
    "    'linear regression': LinearRegression()\n",
    "}\n",
    "\n",
    "for m_name, model in models.items():\n",
    "    model.fit(train_X, train_y)\n",
    "    preds = model.predict(test_X)\n",
    "    score = explained_variance_score(test_y, preds)\n",
    "    print(f'{m_name} - score:\\t{score}')"
   ]
  },
  {
   "cell_type": "markdown",
   "metadata": {},
   "source": [
    "## Wyliczanie wartości ALE i change pointów\n",
    "#### Funkcje "
   ]
  },
  {
   "cell_type": "code",
   "execution_count": 7,
   "metadata": {},
   "outputs": [],
   "source": [
    "def calculate_ALE(model, df, feature, npoints):\n",
    "    f_min, f_max = df[feature].min(), df[feature].max() \n",
    "    f_idx = df.columns.get_loc(feature)\n",
    "    grid_values = np.linspace(f_min, f_max, npoints)\n",
    "    accumulated_effects = [0]\n",
    "    \n",
    "    for i in range(npoints-1):\n",
    "        val_a, val_b = grid_values[i], grid_values[i+1]\n",
    "        samples = df[(df[feature] >= val_a) & (df[feature] < val_b)].copy()\n",
    "        samples.loc[:, feature] = val_a\n",
    "        if len(samples) == 0:\n",
    "            accumulated_effects.append(accumulated_effects[-1])\n",
    "        else:\n",
    "            preds_a = model.predict(samples)\n",
    "            samples.loc[:, feature] = val_b\n",
    "            preds_b = model.predict(samples)\n",
    "            local_effect = np.mean(preds_b - preds_a)\n",
    "            acc_loc_effect = accumulated_effects[-1] + local_effect\n",
    "            accumulated_effects.append(acc_loc_effect)\n",
    "    \n",
    "    return grid_values, accumulated_effects\n",
    "\n",
    "\n",
    "def plot_ALE(model, df, features, npoints):\n",
    "    if isinstance(npoints, int) and isinstance(features, str):\n",
    "        npoints = [npoints]\n",
    "        features = [features]\n",
    "    assert len(npoints) == len(features)   \n",
    "    \n",
    "    fig, axes = plt.subplots(nrows=1, ncols=len(features), figsize=(20, 6))\n",
    "    for i, (feature, n) in enumerate(zip(features, npoints)):\n",
    "        grid_values, ale_values = calculate_ALE(model, df, feature, n)\n",
    "        axes[i].plot(grid_values, ale_values, linewidth=5)\n",
    "        axes[i].set_title(f'ALE plot for {feature}')\n",
    "        \n",
    "        \n",
    "def get_feature_ale_change_points(model, X, feature, n_points):\n",
    "    x, ale_values = calculate_ALE(model, train_X, feature, n_points)\n",
    "    # noise prevents rupture 0 division error\n",
    "    ale_values = np.array(ale_values) + np.random.normal(loc=0.0, scale=0.01, size=np.array(ale_values).shape)\n",
    "    algo = rpt.Pelt(model=\"rbf\").fit(ale_values)\n",
    "    result = np.array(algo.predict(pen=10))\n",
    "    result = (np.max(x) - np.min(x)) * result / n_points\n",
    "    result += np.min(x)\n",
    "    return x, ale_values, result"
   ]
  },
  {
   "cell_type": "markdown",
   "metadata": {},
   "source": [
    "#### LGBM uzyskał nieco większą dokładność od Random Forest, dlatego został wybrany do dalszej analizy"
   ]
  },
  {
   "cell_type": "code",
   "execution_count": 8,
   "metadata": {},
   "outputs": [],
   "source": [
    "model = models['lgbm']"
   ]
  },
  {
   "cell_type": "markdown",
   "metadata": {},
   "source": [
    "#### Przykładowe wykresy ALE dla 3 zmiennych"
   ]
  },
  {
   "cell_type": "code",
   "execution_count": 9,
   "metadata": {},
   "outputs": [
    {
     "data": {
      "image/png": "[encoded data removed]",
      "text/plain": [
       "<Figure size 1440x432 with 3 Axes>"
      ]
     },
     "metadata": {
      "needs_background": "light"
     },
     "output_type": "display_data"
    }
   ],
   "source": [
    "plot_ALE(model, train_X, ['P3', 'P16p2', 'P6p4'], [400]*3)"
   ]
  },
  {
   "cell_type": "markdown",
   "metadata": {},
   "source": [
    "#### Przykładowe obliczenie change pointów dla 3 zmiennych na ich wartościach ALE\n",
    "\n",
    "W przypadku zmiennej P3 przy podziale na 400 przedziałów (wyliczanie wartości ALE) nie udaje się wykryć żadnego change pointu. Zwiększenie liczby przedziałów pozwala na ich znalezienie. Problemem jest dobór, takiej wartości dla każdej zmiennej. Aby model mógł działać automatycznie dla zmiennych ciągłych przyjąłem arbitralną wartość 400."
   ]
  },
  {
   "cell_type": "code",
   "execution_count": 10,
   "metadata": {},
   "outputs": [
    {
     "data": {
      "image/png": "[encoded data removed]",
      "text/plain": [
       "<Figure size 1440x432 with 3 Axes>"
      ]
     },
     "metadata": {
      "needs_background": "light"
     },
     "output_type": "display_data"
    }
   ],
   "source": [
    "features = ['P3', 'P16p2', 'P6p4']\n",
    "\n",
    "fig, axes = plt.subplots(nrows=1, ncols=len(features), figsize=(20, 6))\n",
    "n_points = [400] * 3\n",
    "for i, (ft, n_p) in enumerate(zip(features, n_points)):\n",
    "    x, ale_values, brkps = get_feature_ale_change_points(model, train_X, ft, n_p)\n",
    "    axes[i].plot(x, ale_values)\n",
    "    for brkp in brkps:\n",
    "        axes[i].plot([brkp, brkp], [min(ale_values), max(ale_values)], 'k--')\n",
    "        axes[i].set_title(ft)\n",
    "\n",
    "plt.show()"
   ]
  },
  {
   "cell_type": "markdown",
   "metadata": {},
   "source": [
    "#### Przekształcenie zmiennych ciągłych na kategoryczne"
   ]
  },
  {
   "cell_type": "code",
   "execution_count": 11,
   "metadata": {},
   "outputs": [],
   "source": [
    "def value_to_interval(x, breaks):\n",
    "    if x <= breaks[0]:\n",
    "        return 0\n",
    "    if x > breaks[-1]:\n",
    "        return len(breaks)\n",
    "    return np.argmax(breaks >= x)\n",
    "\n",
    "old_features = train_X.columns\n",
    "new_train_X = train_X.copy()\n",
    "new_test_X = test_X.copy()\n",
    "for feature in old_features:\n",
    "    _, _, brkps = get_feature_ale_change_points(model, train_X, feature, 400)\n",
    "    new_train_X[f'{feature}_cat'] = new_train_X[feature].apply(lambda x: value_to_interval(x, brkps))\n",
    "    new_test_X[f'{feature}_cat'] = new_test_X[feature].apply(lambda x: value_to_interval(x, brkps))"
   ]
  },
  {
   "cell_type": "markdown",
   "metadata": {},
   "source": [
    "#### Nowe zbiory danych wzbogacone o zmienne kategoryczne"
   ]
  },
  {
   "cell_type": "code",
   "execution_count": 12,
   "metadata": {},
   "outputs": [
    {
     "data": {
      "text/html": [
       "<div>\n",
       "<style scoped>\n",
       "    .dataframe tbody tr th:only-of-type {\n",
       "        vertical-align: middle;\n",
       "    }\n",
       "\n",
       "    .dataframe tbody tr th {\n",
       "        vertical-align: top;\n",
       "    }\n",
       "\n",
       "    .dataframe thead th {\n",
       "        text-align: right;\n",
       "    }\n",
       "</style>\n",
       "<table border=\"1\" class=\"dataframe\">\n",
       "  <thead>\n",
       "    <tr style=\"text-align: right;\">\n",
       "      <th></th>\n",
       "      <th>P3</th>\n",
       "      <th>P6p4</th>\n",
       "      <th>P11p3</th>\n",
       "      <th>P16p2</th>\n",
       "      <th>P19p2</th>\n",
       "      <th>H5p2</th>\n",
       "      <th>H15p1</th>\n",
       "      <th>H40p4</th>\n",
       "      <th>P3_cat</th>\n",
       "      <th>P6p4_cat</th>\n",
       "      <th>P11p3_cat</th>\n",
       "      <th>P16p2_cat</th>\n",
       "      <th>P19p2_cat</th>\n",
       "      <th>H5p2_cat</th>\n",
       "      <th>H15p1_cat</th>\n",
       "      <th>H40p4_cat</th>\n",
       "    </tr>\n",
       "  </thead>\n",
       "  <tbody>\n",
       "    <tr>\n",
       "      <th>6389</th>\n",
       "      <td>2954.0</td>\n",
       "      <td>0.001776</td>\n",
       "      <td>0.482304</td>\n",
       "      <td>0.755247</td>\n",
       "      <td>0.020650</td>\n",
       "      <td>0.265487</td>\n",
       "      <td>5.690363</td>\n",
       "      <td>0.65</td>\n",
       "      <td>0</td>\n",
       "      <td>0</td>\n",
       "      <td>0</td>\n",
       "      <td>1</td>\n",
       "      <td>0</td>\n",
       "      <td>3</td>\n",
       "      <td>0</td>\n",
       "      <td>4</td>\n",
       "    </tr>\n",
       "    <tr>\n",
       "      <th>20883</th>\n",
       "      <td>502.0</td>\n",
       "      <td>0.000000</td>\n",
       "      <td>0.461763</td>\n",
       "      <td>0.735060</td>\n",
       "      <td>0.007968</td>\n",
       "      <td>0.222222</td>\n",
       "      <td>5.401961</td>\n",
       "      <td>0.80</td>\n",
       "      <td>0</td>\n",
       "      <td>0</td>\n",
       "      <td>0</td>\n",
       "      <td>1</td>\n",
       "      <td>0</td>\n",
       "      <td>2</td>\n",
       "      <td>0</td>\n",
       "      <td>4</td>\n",
       "    </tr>\n",
       "    <tr>\n",
       "      <th>17098</th>\n",
       "      <td>123.0</td>\n",
       "      <td>0.000000</td>\n",
       "      <td>0.485437</td>\n",
       "      <td>0.674797</td>\n",
       "      <td>0.000000</td>\n",
       "      <td>0.166667</td>\n",
       "      <td>5.489583</td>\n",
       "      <td>1.00</td>\n",
       "      <td>0</td>\n",
       "      <td>0</td>\n",
       "      <td>0</td>\n",
       "      <td>1</td>\n",
       "      <td>0</td>\n",
       "      <td>2</td>\n",
       "      <td>0</td>\n",
       "      <td>5</td>\n",
       "    </tr>\n",
       "    <tr>\n",
       "      <th>3598</th>\n",
       "      <td>24.0</td>\n",
       "      <td>0.000000</td>\n",
       "      <td>0.379747</td>\n",
       "      <td>0.666667</td>\n",
       "      <td>0.000000</td>\n",
       "      <td>0.666667</td>\n",
       "      <td>6.500000</td>\n",
       "      <td>1.00</td>\n",
       "      <td>0</td>\n",
       "      <td>0</td>\n",
       "      <td>0</td>\n",
       "      <td>1</td>\n",
       "      <td>0</td>\n",
       "      <td>7</td>\n",
       "      <td>1</td>\n",
       "      <td>5</td>\n",
       "    </tr>\n",
       "    <tr>\n",
       "      <th>11596</th>\n",
       "      <td>780.0</td>\n",
       "      <td>0.000000</td>\n",
       "      <td>0.486457</td>\n",
       "      <td>0.655128</td>\n",
       "      <td>0.001282</td>\n",
       "      <td>0.169811</td>\n",
       "      <td>5.944338</td>\n",
       "      <td>1.00</td>\n",
       "      <td>0</td>\n",
       "      <td>0</td>\n",
       "      <td>0</td>\n",
       "      <td>1</td>\n",
       "      <td>0</td>\n",
       "      <td>2</td>\n",
       "      <td>0</td>\n",
       "      <td>5</td>\n",
       "    </tr>\n",
       "  </tbody>\n",
       "</table>\n",
       "</div>"
      ],
      "text/plain": [
       "           P3      P6p4     P11p3     P16p2     P19p2      H5p2     H15p1  \\\n",
       "6389   2954.0  0.001776  0.482304  0.755247  0.020650  0.265487  5.690363   \n",
       "20883   502.0  0.000000  0.461763  0.735060  0.007968  0.222222  5.401961   \n",
       "17098   123.0  0.000000  0.485437  0.674797  0.000000  0.166667  5.489583   \n",
       "3598     24.0  0.000000  0.379747  0.666667  0.000000  0.666667  6.500000   \n",
       "11596   780.0  0.000000  0.486457  0.655128  0.001282  0.169811  5.944338   \n",
       "\n",
       "       H40p4  P3_cat  P6p4_cat  P11p3_cat  P16p2_cat  P19p2_cat  H5p2_cat  \\\n",
       "6389    0.65       0         0          0          1          0         3   \n",
       "20883   0.80       0         0          0          1          0         2   \n",
       "17098   1.00       0         0          0          1          0         2   \n",
       "3598    1.00       0         0          0          1          0         7   \n",
       "11596   1.00       0         0          0          1          0         2   \n",
       "\n",
       "       H15p1_cat  H40p4_cat  \n",
       "6389           0          4  \n",
       "20883          0          4  \n",
       "17098          0          5  \n",
       "3598           1          5  \n",
       "11596          0          5  "
      ]
     },
     "execution_count": 12,
     "metadata": {},
     "output_type": "execute_result"
    }
   ],
   "source": [
    "new_train_X.head()"
   ]
  },
  {
   "cell_type": "code",
   "execution_count": 13,
   "metadata": {},
   "outputs": [
    {
     "data": {
      "text/html": [
       "<div>\n",
       "<style scoped>\n",
       "    .dataframe tbody tr th:only-of-type {\n",
       "        vertical-align: middle;\n",
       "    }\n",
       "\n",
       "    .dataframe tbody tr th {\n",
       "        vertical-align: top;\n",
       "    }\n",
       "\n",
       "    .dataframe thead th {\n",
       "        text-align: right;\n",
       "    }\n",
       "</style>\n",
       "<table border=\"1\" class=\"dataframe\">\n",
       "  <thead>\n",
       "    <tr style=\"text-align: right;\">\n",
       "      <th></th>\n",
       "      <th>P3</th>\n",
       "      <th>P6p4</th>\n",
       "      <th>P11p3</th>\n",
       "      <th>P16p2</th>\n",
       "      <th>P19p2</th>\n",
       "      <th>H5p2</th>\n",
       "      <th>H15p1</th>\n",
       "      <th>H40p4</th>\n",
       "      <th>P3_cat</th>\n",
       "      <th>P6p4_cat</th>\n",
       "      <th>P11p3_cat</th>\n",
       "      <th>P16p2_cat</th>\n",
       "      <th>P19p2_cat</th>\n",
       "      <th>H5p2_cat</th>\n",
       "      <th>H15p1_cat</th>\n",
       "      <th>H40p4_cat</th>\n",
       "    </tr>\n",
       "  </thead>\n",
       "  <tbody>\n",
       "    <tr>\n",
       "      <th>54</th>\n",
       "      <td>1076.0</td>\n",
       "      <td>0.005992</td>\n",
       "      <td>0.555925</td>\n",
       "      <td>0.720260</td>\n",
       "      <td>0.003717</td>\n",
       "      <td>0.441860</td>\n",
       "      <td>6.069421</td>\n",
       "      <td>0.052632</td>\n",
       "      <td>0</td>\n",
       "      <td>0</td>\n",
       "      <td>1</td>\n",
       "      <td>1</td>\n",
       "      <td>0</td>\n",
       "      <td>6</td>\n",
       "      <td>0</td>\n",
       "      <td>0</td>\n",
       "    </tr>\n",
       "    <tr>\n",
       "      <th>11682</th>\n",
       "      <td>164.0</td>\n",
       "      <td>0.000000</td>\n",
       "      <td>0.455497</td>\n",
       "      <td>0.597561</td>\n",
       "      <td>0.000000</td>\n",
       "      <td>0.058824</td>\n",
       "      <td>6.023622</td>\n",
       "      <td>0.500000</td>\n",
       "      <td>0</td>\n",
       "      <td>0</td>\n",
       "      <td>0</td>\n",
       "      <td>1</td>\n",
       "      <td>0</td>\n",
       "      <td>0</td>\n",
       "      <td>0</td>\n",
       "      <td>3</td>\n",
       "    </tr>\n",
       "    <tr>\n",
       "      <th>5901</th>\n",
       "      <td>873.0</td>\n",
       "      <td>0.001786</td>\n",
       "      <td>0.437695</td>\n",
       "      <td>0.681558</td>\n",
       "      <td>0.002291</td>\n",
       "      <td>0.088889</td>\n",
       "      <td>6.112426</td>\n",
       "      <td>0.750000</td>\n",
       "      <td>0</td>\n",
       "      <td>0</td>\n",
       "      <td>0</td>\n",
       "      <td>1</td>\n",
       "      <td>0</td>\n",
       "      <td>1</td>\n",
       "      <td>0</td>\n",
       "      <td>4</td>\n",
       "    </tr>\n",
       "    <tr>\n",
       "      <th>13700</th>\n",
       "      <td>174.0</td>\n",
       "      <td>0.000000</td>\n",
       "      <td>0.450116</td>\n",
       "      <td>0.649425</td>\n",
       "      <td>0.298851</td>\n",
       "      <td>0.000000</td>\n",
       "      <td>5.480000</td>\n",
       "      <td>0.000000</td>\n",
       "      <td>0</td>\n",
       "      <td>0</td>\n",
       "      <td>0</td>\n",
       "      <td>1</td>\n",
       "      <td>3</td>\n",
       "      <td>0</td>\n",
       "      <td>0</td>\n",
       "      <td>0</td>\n",
       "    </tr>\n",
       "    <tr>\n",
       "      <th>14725</th>\n",
       "      <td>402.0</td>\n",
       "      <td>0.000959</td>\n",
       "      <td>0.430489</td>\n",
       "      <td>0.664179</td>\n",
       "      <td>0.156716</td>\n",
       "      <td>0.126984</td>\n",
       "      <td>5.062718</td>\n",
       "      <td>0.625000</td>\n",
       "      <td>0</td>\n",
       "      <td>0</td>\n",
       "      <td>0</td>\n",
       "      <td>1</td>\n",
       "      <td>1</td>\n",
       "      <td>1</td>\n",
       "      <td>0</td>\n",
       "      <td>4</td>\n",
       "    </tr>\n",
       "  </tbody>\n",
       "</table>\n",
       "</div>"
      ],
      "text/plain": [
       "           P3      P6p4     P11p3     P16p2     P19p2      H5p2     H15p1  \\\n",
       "54     1076.0  0.005992  0.555925  0.720260  0.003717  0.441860  6.069421   \n",
       "11682   164.0  0.000000  0.455497  0.597561  0.000000  0.058824  6.023622   \n",
       "5901    873.0  0.001786  0.437695  0.681558  0.002291  0.088889  6.112426   \n",
       "13700   174.0  0.000000  0.450116  0.649425  0.298851  0.000000  5.480000   \n",
       "14725   402.0  0.000959  0.430489  0.664179  0.156716  0.126984  5.062718   \n",
       "\n",
       "          H40p4  P3_cat  P6p4_cat  P11p3_cat  P16p2_cat  P19p2_cat  H5p2_cat  \\\n",
       "54     0.052632       0         0          1          1          0         6   \n",
       "11682  0.500000       0         0          0          1          0         0   \n",
       "5901   0.750000       0         0          0          1          0         1   \n",
       "13700  0.000000       0         0          0          1          3         0   \n",
       "14725  0.625000       0         0          0          1          1         1   \n",
       "\n",
       "       H15p1_cat  H40p4_cat  \n",
       "54             0          0  \n",
       "11682          0          3  \n",
       "5901           0          4  \n",
       "13700          0          0  \n",
       "14725          0          4  "
      ]
     },
     "execution_count": 13,
     "metadata": {},
     "output_type": "execute_result"
    }
   ],
   "source": [
    "new_test_X.head()"
   ]
  },
  {
   "cell_type": "markdown",
   "metadata": {},
   "source": [
    "#### Zakodowanie zmiennych kategorycznych jako onehot"
   ]
  },
  {
   "cell_type": "code",
   "execution_count": 14,
   "metadata": {},
   "outputs": [],
   "source": [
    "enc = OneHotEncoder(cols=[c for c in new_train_X.columns.values if c.endswith('_cat')], drop_invariant=True)\n",
    "onehot_train_X = enc.fit_transform(new_train_X)\n",
    "onehot_test_X = enc.transform(new_test_X)"
   ]
  },
  {
   "cell_type": "markdown",
   "metadata": {},
   "source": [
    "#### Wyniki dla wybranych modeli po treningu na oryginalnym i przekształconym zbiorze "
   ]
  },
  {
   "cell_type": "code",
   "execution_count": 15,
   "metadata": {},
   "outputs": [],
   "source": [
    "scores = {}\n",
    "scores['old'] = {m_name: explained_variance_score(test_y, model.predict(test_X)) for m_name, model in models.items()}\n",
    "scores['ordinal'] = {}\n",
    "scores['onehot'] = {}\n",
    "for m_name, model in models.items():\n",
    "    model.fit(new_train_X, train_y)\n",
    "    preds = model.predict(new_test_X)\n",
    "    scores['ordinal'][m_name] = explained_variance_score(test_y, preds)\n",
    "    \n",
    "    model.fit(onehot_train_X, train_y)\n",
    "    preds = model.predict(onehot_test_X)\n",
    "    scores['onehot'][m_name] = explained_variance_score(test_y, preds)"
   ]
  },
  {
   "cell_type": "code",
   "execution_count": 16,
   "metadata": {},
   "outputs": [
    {
     "name": "stdout",
     "output_type": "stream",
     "text": [
      "Model scores: old / ordinal / onehot\n",
      "lgbm: 0.7049 / 0.7018 / 0.7036\n",
      "random forest: 0.6858 / 0.6855 / 0.6859\n",
      "linear regression: 0.3941 / 0.4878 / 0.5281\n"
     ]
    }
   ],
   "source": [
    "print('Model scores: old / ordinal / onehot')\n",
    "for m_name in scores['old']:\n",
    "    old, ordinal, onehot = np.round(scores['old'][m_name], 4), np.round(scores['ordinal'][m_name], 4), np.round(scores['onehot'][m_name], 4)\n",
    "    print(f'{m_name}: {old} / {ordinal} / {onehot}')"
   ]
  },
  {
   "cell_type": "markdown",
   "metadata": {},
   "source": [
    "## Porównanie na wykresie"
   ]
  },
  {
   "cell_type": "code",
   "execution_count": 17,
   "metadata": {},
   "outputs": [
    {
     "data": {
      "image/png": "[encoded data removed]",
      "text/plain": [
       "<Figure size 1080x432 with 1 Axes>"
      ]
     },
     "metadata": {
      "needs_background": "light"
     },
     "output_type": "display_data"
    }
   ],
   "source": [
    "bar_width = 0.2\n",
    "plt.figure(figsize=(15,6))\n",
    "plt.bar(np.arange(len(scores['old'])), scores['old'].values(), bar_width, label='Original scores')\n",
    "plt.bar(np.arange(len(scores['old']))+bar_width, scores['ordinal'].values(), bar_width, label='Ordinal scores')\n",
    "plt.bar(np.arange(len(scores['old']))+2*bar_width, scores['onehot'].values(), bar_width, label='Onehot scores')\n",
    "\n",
    "plt.xticks(np.array(range(len(scores['old'])))+bar_width*len(scores['old'])/2-bar_width/2, scores['old'].keys())\n",
    "plt.title('Pre/post modification scores')\n",
    "plt.legend()\n",
    "plt.show()"
   ]
  },
  {
   "cell_type": "markdown",
   "metadata": {},
   "source": [
    "## Podsumowanie\n",
    "\n",
    "Jak widać na wykresie zastosowanie przekształceń zmiennych za pomocą wartości ALE ma niewielki wpływ na modele czarnoskrzynkowe. LGBM nie zmienia swoich osiągów, czego można się spodziewać, ponieważ uczymy model na podstawie dodatkowych zależności, które potrafił odkryć wcześniej. Również Random Forest nie wykazuje różnic po ponownym treningu. Zapewne jest to spowodowane faktem, że oba modele są oparte na drzewach i odkrywają podobne zależności. Widoczna jest natomiast znaczna poprawa w przypadku modelu regresji liniowej gdzie wartość wyjaśnionej wariancji wzrosła z 0.394 do 0.488, a po zastosowaniu kodowania OneHot do 0.528. Pokazuje to, że wyraźnie skorzystał na związkach odkrytych przez LGBM, chociaż w tym przypadku wciąż jest daleki do osiągnięcia wyników złożonych modeli.\n",
    "\n",
    "Ostateczny ranking modeli:\n",
    "* 1. LGBM - 0.7049\n",
    "* 2. Random Forest - 0.6858\n",
    "* Regresja liniowa:\n",
    "    * 3. Przekształcone dane (onehot) - 0.5281\n",
    "    * 4. oryginalne dane - 0.3941"
   ]
  },
  {
   "cell_type": "code",
   "execution_count": null,
   "metadata": {},
   "outputs": [],
   "source": []
  }
 ],
 "metadata": {
  "kernelspec": {
   "display_name": "Python 3",
   "language": "python",
   "name": "python3"
  },
  "language_info": {
   "codemirror_mode": {
    "name": "ipython",
    "version": 3
   },
   "file_extension": ".py",
   "mimetype": "text/x-python",
   "name": "python",
   "nbconvert_exporter": "python",
   "pygments_lexer": "ipython3",
   "version": "3.7.3"
  }
 },
 "nbformat": 4,
 "nbformat_minor": 2
}
