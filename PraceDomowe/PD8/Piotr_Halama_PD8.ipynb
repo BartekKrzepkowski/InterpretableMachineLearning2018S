{
 "cells": [
  {
   "cell_type": "markdown",
   "metadata": {},
   "source": [
    "# Praca domowa nr 8\n",
    "Author: Piotr Halama"
   ]
  },
  {
   "cell_type": "code",
   "execution_count": 1,
   "metadata": {
    "hide_input": false
   },
   "outputs": [],
   "source": [
    "import random\n",
    "from copy import copy\n",
    "import bisect\n",
    "\n",
    "import numpy as np\n",
    "import pandas as pd\n",
    "from matplotlib import pyplot as plt\n",
    "\n",
    "from lightgbm import LGBMRegressor\n",
    "\n",
    "from catboost import CatBoostRegressor\n",
    "\n",
    "import ruptures as rpt\n",
    "\n",
    "from sklearn.metrics import mean_squared_error\n",
    "from sklearn.model_selection import train_test_split\n",
    "from sklearn.pipeline import Pipeline\n",
    "from sklearn.preprocessing import LabelBinarizer, Normalizer\n",
    "from sklearn.linear_model import LassoCV\n",
    "from sklearn_pandas import DataFrameMapper"
   ]
  },
  {
   "cell_type": "markdown",
   "metadata": {},
   "source": [
    "## Data"
   ]
  },
  {
   "cell_type": "markdown",
   "metadata": {},
   "source": [
    "__Dataset:__ [Indian Liver Patient Dataset](https://www.openml.org/d/1480)\n",
    "  > This data set contains 416 liver patient records and 167 non liver patient records. The data set was collected from north east of Andhra Pradesh, India. The class label divides the patients into 2 groups (liver patient or not). This data set contains 441 male patient records and 142 female patient records.\n",
    "\n",
    "__Chosen variables:__\n",
    "  - `age` - Age of the patient. Any patient whose age exceeded 89 is listed as being of age \"90\"\n",
    "  - `gender` - Gender of the patient\n",
    "  - `total_bilirubin` - Total Bilirubin\n",
    "  - `direct_bilirubin` - Direct Bilirubin\n",
    "  - `sgpt` - Alanine Aminotransferase\n",
    "  - `sgot` - Aspartate Aminotransferase \n",
    "  - `total_protein` - Total protein\n",
    "  - `alkphos` - Alkaline Phosphatase\n",
    "\n",
    "\n",
    "__Target variable:__ `albumin` - Albumin\n",
    "\n",
    "__Unused variables:__\n",
    "  - `albumin_globulin_ratio` - Albumin and Globulin Ratio\n",
    "  - `liver_patient` - _original target variable_ - Does patient have liver disease?"
   ]
  },
  {
   "cell_type": "code",
   "execution_count": 2,
   "metadata": {},
   "outputs": [],
   "source": [
    "data = pd.read_csv(\"../../../ilpd.csv\")\n",
    "\n",
    "variables = [\"age\", \"gender\", \"total_bilirubin\", \"direct_bilirubin\", \"sgpt\", \"sgot\", \"total_protein\", \"alkphos\"]\n",
    "target = \"albumin\""
   ]
  },
  {
   "cell_type": "code",
   "execution_count": 3,
   "metadata": {},
   "outputs": [
    {
     "data": {
      "text/html": [
       "<div>\n",
       "<style scoped>\n",
       "    .dataframe tbody tr th:only-of-type {\n",
       "        vertical-align: middle;\n",
       "    }\n",
       "\n",
       "    .dataframe tbody tr th {\n",
       "        vertical-align: top;\n",
       "    }\n",
       "\n",
       "    .dataframe thead th {\n",
       "        text-align: right;\n",
       "    }\n",
       "</style>\n",
       "<table border=\"1\" class=\"dataframe\">\n",
       "  <thead>\n",
       "    <tr style=\"text-align: right;\">\n",
       "      <th></th>\n",
       "      <th>age</th>\n",
       "      <th>gender</th>\n",
       "      <th>total_bilirubin</th>\n",
       "      <th>direct_bilirubin</th>\n",
       "      <th>alkphos</th>\n",
       "      <th>sgpt</th>\n",
       "      <th>sgot</th>\n",
       "      <th>total_protein</th>\n",
       "      <th>albumin</th>\n",
       "      <th>albumin_globulin_ratio</th>\n",
       "      <th>liver_patient</th>\n",
       "    </tr>\n",
       "  </thead>\n",
       "  <tbody>\n",
       "    <tr>\n",
       "      <th>0</th>\n",
       "      <td>65</td>\n",
       "      <td>Female</td>\n",
       "      <td>0.7</td>\n",
       "      <td>0.1</td>\n",
       "      <td>187</td>\n",
       "      <td>16</td>\n",
       "      <td>18</td>\n",
       "      <td>6.8</td>\n",
       "      <td>3.3</td>\n",
       "      <td>0.90</td>\n",
       "      <td>1</td>\n",
       "    </tr>\n",
       "    <tr>\n",
       "      <th>1</th>\n",
       "      <td>62</td>\n",
       "      <td>Male</td>\n",
       "      <td>10.9</td>\n",
       "      <td>5.5</td>\n",
       "      <td>699</td>\n",
       "      <td>64</td>\n",
       "      <td>100</td>\n",
       "      <td>7.5</td>\n",
       "      <td>3.2</td>\n",
       "      <td>0.74</td>\n",
       "      <td>1</td>\n",
       "    </tr>\n",
       "    <tr>\n",
       "      <th>2</th>\n",
       "      <td>62</td>\n",
       "      <td>Male</td>\n",
       "      <td>7.3</td>\n",
       "      <td>4.1</td>\n",
       "      <td>490</td>\n",
       "      <td>60</td>\n",
       "      <td>68</td>\n",
       "      <td>7.0</td>\n",
       "      <td>3.3</td>\n",
       "      <td>0.89</td>\n",
       "      <td>1</td>\n",
       "    </tr>\n",
       "    <tr>\n",
       "      <th>3</th>\n",
       "      <td>58</td>\n",
       "      <td>Male</td>\n",
       "      <td>1.0</td>\n",
       "      <td>0.4</td>\n",
       "      <td>182</td>\n",
       "      <td>14</td>\n",
       "      <td>20</td>\n",
       "      <td>6.8</td>\n",
       "      <td>3.4</td>\n",
       "      <td>1.00</td>\n",
       "      <td>1</td>\n",
       "    </tr>\n",
       "    <tr>\n",
       "      <th>4</th>\n",
       "      <td>72</td>\n",
       "      <td>Male</td>\n",
       "      <td>3.9</td>\n",
       "      <td>2.0</td>\n",
       "      <td>195</td>\n",
       "      <td>27</td>\n",
       "      <td>59</td>\n",
       "      <td>7.3</td>\n",
       "      <td>2.4</td>\n",
       "      <td>0.40</td>\n",
       "      <td>1</td>\n",
       "    </tr>\n",
       "  </tbody>\n",
       "</table>\n",
       "</div>"
      ],
      "text/plain": [
       "   age  gender  total_bilirubin  direct_bilirubin  alkphos  sgpt  sgot  \\\n",
       "0   65  Female              0.7               0.1      187    16    18   \n",
       "1   62    Male             10.9               5.5      699    64   100   \n",
       "2   62    Male              7.3               4.1      490    60    68   \n",
       "3   58    Male              1.0               0.4      182    14    20   \n",
       "4   72    Male              3.9               2.0      195    27    59   \n",
       "\n",
       "   total_protein  albumin  albumin_globulin_ratio  liver_patient  \n",
       "0            6.8      3.3                    0.90              1  \n",
       "1            7.5      3.2                    0.74              1  \n",
       "2            7.0      3.3                    0.89              1  \n",
       "3            6.8      3.4                    1.00              1  \n",
       "4            7.3      2.4                    0.40              1  "
      ]
     },
     "execution_count": 3,
     "metadata": {},
     "output_type": "execute_result"
    }
   ],
   "source": [
    "data.head()"
   ]
  },
  {
   "cell_type": "markdown",
   "metadata": {},
   "source": [
    "##### Preprocessing"
   ]
  },
  {
   "cell_type": "code",
   "execution_count": 4,
   "metadata": {},
   "outputs": [],
   "source": [
    "X = data[variables].copy()\n",
    "y = data[target].copy()\n",
    "\n",
    "X[\"gender\"] = (X[\"gender\"] == \"Female\").apply(int)\n",
    "\n",
    "X_train, X_test, y_train, y_test = train_test_split(\n",
    "    X, y, test_size=0.25, random_state=1)"
   ]
  },
  {
   "cell_type": "code",
   "execution_count": 5,
   "metadata": {},
   "outputs": [],
   "source": [
    "models = dict()"
   ]
  },
  {
   "cell_type": "markdown",
   "metadata": {},
   "source": [
    "## Models\n",
    "\n",
    "Two models I have selected to train\n",
    "  - `catboost`\n",
    "  - `lightgbm`"
   ]
  },
  {
   "cell_type": "markdown",
   "metadata": {},
   "source": [
    "###### CatBoost"
   ]
  },
  {
   "cell_type": "code",
   "execution_count": 6,
   "metadata": {},
   "outputs": [
    {
     "data": {
      "text/plain": [
       "<catboost.core.CatBoostRegressor at 0x7f8fba531128>"
      ]
     },
     "execution_count": 6,
     "metadata": {},
     "output_type": "execute_result"
    }
   ],
   "source": [
    "regr_cat = CatBoostRegressor(silent=True, random_state=0)\n",
    "regr_cat.fit(X_train, y_train)"
   ]
  },
  {
   "cell_type": "code",
   "execution_count": 7,
   "metadata": {},
   "outputs": [
    {
     "data": {
      "text/plain": [
       "0.196307752774533"
      ]
     },
     "execution_count": 7,
     "metadata": {},
     "output_type": "execute_result"
    }
   ],
   "source": [
    "y_pred_cat = regr_cat.predict(X_test)\n",
    "\n",
    "mse = mean_squared_error(y_test, y_pred_cat)\n",
    "models['catboost'] = {'MSE': mse}\n",
    "mse"
   ]
  },
  {
   "cell_type": "markdown",
   "metadata": {},
   "source": [
    "###### LightGBM"
   ]
  },
  {
   "cell_type": "code",
   "execution_count": 8,
   "metadata": {},
   "outputs": [
    {
     "data": {
      "text/plain": [
       "LGBMRegressor(boosting_type='gbdt', class_weight=None, colsample_bytree=1.0,\n",
       "       importance_type='split', learning_rate=0.1, max_depth=-1,\n",
       "       min_child_samples=20, min_child_weight=0.001, min_split_gain=0.0,\n",
       "       n_estimators=100, n_jobs=-1, num_leaves=31, objective=None,\n",
       "       random_state=0, reg_alpha=0.0, reg_lambda=0.0, silent=True,\n",
       "       subsample=1.0, subsample_for_bin=200000, subsample_freq=0)"
      ]
     },
     "execution_count": 8,
     "metadata": {},
     "output_type": "execute_result"
    }
   ],
   "source": [
    "regr_lgbm = LGBMRegressor(random_state=0)\n",
    "regr_lgbm.fit(X_train, y_train)"
   ]
  },
  {
   "cell_type": "code",
   "execution_count": 9,
   "metadata": {},
   "outputs": [
    {
     "data": {
      "text/plain": [
       "0.19778480494718084"
      ]
     },
     "execution_count": 9,
     "metadata": {},
     "output_type": "execute_result"
    }
   ],
   "source": [
    "y_pred_lgbm = regr_lgbm.predict(X_test)\n",
    "\n",
    "mse = mean_squared_error(y_test, y_pred_lgbm)\n",
    "models['lightgbm'] = {'MSE': mse}\n",
    "mse"
   ]
  },
  {
   "cell_type": "markdown",
   "metadata": {},
   "source": [
    "`catboost` will be used as surrogate model."
   ]
  },
  {
   "cell_type": "markdown",
   "metadata": {},
   "source": [
    "## Data enrichment"
   ]
  },
  {
   "cell_type": "code",
   "execution_count": 10,
   "metadata": {},
   "outputs": [],
   "source": [
    "def pdp(model, X, var, n_samples=1000):\n",
    "    x_min = X[var].min()\n",
    "    x_max = X[var].max()\n",
    "    space = np.linspace(x_min, x_max, n_samples)\n",
    "    \n",
    "    responses = list()\n",
    "    \n",
    "    for x_subst in space:\n",
    "        X_sub = X.copy()\n",
    "        X_sub[var] = x_subst\n",
    "        \n",
    "        res = np.mean(model.predict(X_sub))\n",
    "        responses.append(res)\n",
    "    \n",
    "    return np.array(responses), space\n",
    "\n",
    "def changepoints(responses, pen=10, model=\"rbf\"):\n",
    "    rpt_model = rpt.Pelt(model=model).fit(res)\n",
    "    chs = rpt_model.predict(pen=pen)\n",
    "    return np.array(chs[:-1])"
   ]
  },
  {
   "cell_type": "code",
   "execution_count": 11,
   "metadata": {},
   "outputs": [],
   "source": [
    "results = dict()\n",
    "\n",
    "for var in variables:\n",
    "    res, xs = pdp(regr_cat, X_train, var)\n",
    "    chs_idx = changepoints(res)\n",
    "    chs = xs[chs_idx]\n",
    "    results[var] = (res, xs, chs, chs_idx)"
   ]
  },
  {
   "cell_type": "code",
   "execution_count": 12,
   "metadata": {},
   "outputs": [
    {
     "data": {
      "image/png": "[encoded data removed]",
      "text/plain": [
       "<Figure size 1440x720 with 8 Axes>"
      ]
     },
     "metadata": {
      "needs_background": "light"
     },
     "output_type": "display_data"
    }
   ],
   "source": [
    "plt.figure(figsize=(20, 10))\n",
    "\n",
    "for i, var in enumerate(variables, start=1):\n",
    "    plt.subplot(2, 4, i)\n",
    "    res, xs, chs, _ = results[var]\n",
    "    plt.plot(xs, res, label='PDP')\n",
    "    for ch in chs:\n",
    "        plt.axvline(ch, c='red', ls='--', label='Breakpoints')\n",
    "    plt.title(var)\n",
    "\n",
    "plt.show()"
   ]
  },
  {
   "cell_type": "markdown",
   "metadata": {},
   "source": [
    "### Creating new categorical features"
   ]
  },
  {
   "cell_type": "code",
   "execution_count": 13,
   "metadata": {},
   "outputs": [],
   "source": [
    "X_train_cat = X_train.copy()\n",
    "X_test_cat = X_test.copy()\n",
    "\n",
    "for X_ in X_train_cat, X_test_cat:\n",
    "    for var in variables:\n",
    "        _, _, chs, _ = results[var]\n",
    "        X_[f'{var}_cat'] = X_[var].apply(lambda x: bisect.bisect(chs, x))"
   ]
  },
  {
   "cell_type": "markdown",
   "metadata": {},
   "source": [
    "## Lasso on enriched dataset"
   ]
  },
  {
   "cell_type": "code",
   "execution_count": 14,
   "metadata": {},
   "outputs": [
    {
     "data": {
      "text/plain": [
       "Pipeline(memory=None,\n",
       "     steps=[('mapper', DataFrameMapper(default=False, df_out=False,\n",
       "        features=[(['age'], Normalizer(copy=True, norm='l2')), (['gender'], Normalizer(copy=True, norm='l2')), (['total_bilirubin'], Normalizer(copy=True, norm='l2')), (['direct_bilirubin'], Normalizer(copy=True, norm='l2')), (['sgpt'], ...itive=False, precompute='auto', random_state=0, selection='cyclic',\n",
       "    tol=0.0001, verbose=False))])"
      ]
     },
     "execution_count": 14,
     "metadata": {},
     "output_type": "execute_result"
    }
   ],
   "source": [
    "regr_lin_enh = Pipeline([\n",
    "    ('mapper', DataFrameMapper(\n",
    "        [([var], Normalizer()) for var in variables] + [(var + '_cat', LabelBinarizer()) for var in variables]\n",
    "    )),\n",
    "    ('regr', LassoCV(cv=3, random_state=0))\n",
    "])\n",
    "\n",
    "regr_lin_enh.fit(X_train_cat, y_train)"
   ]
  },
  {
   "cell_type": "code",
   "execution_count": 15,
   "metadata": {},
   "outputs": [
    {
     "data": {
      "text/plain": [
       "0.22539144740972006"
      ]
     },
     "execution_count": 15,
     "metadata": {},
     "output_type": "execute_result"
    }
   ],
   "source": [
    "y_pred_lin_enh = regr_lin_enh.predict(X_test_cat)\n",
    "\n",
    "mse = mean_squared_error(y_test, y_pred_lin_enh)\n",
    "models['lasso_enriched'] = {'MSE': mse}\n",
    "mse"
   ]
  },
  {
   "cell_type": "markdown",
   "metadata": {},
   "source": [
    "## Linear regression on original dataset"
   ]
  },
  {
   "cell_type": "code",
   "execution_count": 16,
   "metadata": {},
   "outputs": [
    {
     "data": {
      "text/plain": [
       "Pipeline(memory=None,\n",
       "     steps=[('normalizer', Normalizer(copy=True, norm='l2')), ('regr', LassoCV(alphas=None, copy_X=True, cv=3, eps=0.001, fit_intercept=True,\n",
       "    max_iter=1000, n_alphas=100, n_jobs=None, normalize=False,\n",
       "    positive=False, precompute='auto', random_state=0, selection='cyclic',\n",
       "    tol=0.0001, verbose=False))])"
      ]
     },
     "execution_count": 16,
     "metadata": {},
     "output_type": "execute_result"
    }
   ],
   "source": [
    "regr_lin = Pipeline([\n",
    "    ('normalizer', Normalizer()),\n",
    "    ('regr', LassoCV(cv=3, random_state=0))\n",
    "])\n",
    "\n",
    "regr_lin.fit(X_train, y_train)"
   ]
  },
  {
   "cell_type": "code",
   "execution_count": 17,
   "metadata": {},
   "outputs": [
    {
     "data": {
      "text/plain": [
       "0.36008142132500903"
      ]
     },
     "execution_count": 17,
     "metadata": {},
     "output_type": "execute_result"
    }
   ],
   "source": [
    "y_pred_lin = regr_lin.predict(X_test)\n",
    "\n",
    "mse = mean_squared_error(y_test, y_pred_lin)\n",
    "models['lasso'] = {'MSE': mse}\n",
    "mse"
   ]
  },
  {
   "cell_type": "markdown",
   "metadata": {},
   "source": [
    "## Conclusion"
   ]
  },
  {
   "cell_type": "code",
   "execution_count": 18,
   "metadata": {},
   "outputs": [
    {
     "data": {
      "text/html": [
       "<div>\n",
       "<style scoped>\n",
       "    .dataframe tbody tr th:only-of-type {\n",
       "        vertical-align: middle;\n",
       "    }\n",
       "\n",
       "    .dataframe tbody tr th {\n",
       "        vertical-align: top;\n",
       "    }\n",
       "\n",
       "    .dataframe thead th {\n",
       "        text-align: right;\n",
       "    }\n",
       "</style>\n",
       "<table border=\"1\" class=\"dataframe\">\n",
       "  <thead>\n",
       "    <tr style=\"text-align: right;\">\n",
       "      <th></th>\n",
       "      <th>MSE</th>\n",
       "      <th>Difference</th>\n",
       "    </tr>\n",
       "  </thead>\n",
       "  <tbody>\n",
       "    <tr>\n",
       "      <th>catboost</th>\n",
       "      <td>0.196308</td>\n",
       "      <td>NaN</td>\n",
       "    </tr>\n",
       "    <tr>\n",
       "      <th>lightgbm</th>\n",
       "      <td>0.197785</td>\n",
       "      <td>0.001477</td>\n",
       "    </tr>\n",
       "    <tr>\n",
       "      <th>lasso_enriched</th>\n",
       "      <td>0.225391</td>\n",
       "      <td>0.027607</td>\n",
       "    </tr>\n",
       "    <tr>\n",
       "      <th>lasso</th>\n",
       "      <td>0.360081</td>\n",
       "      <td>0.134690</td>\n",
       "    </tr>\n",
       "  </tbody>\n",
       "</table>\n",
       "</div>"
      ],
      "text/plain": [
       "                     MSE  Difference\n",
       "catboost        0.196308         NaN\n",
       "lightgbm        0.197785    0.001477\n",
       "lasso_enriched  0.225391    0.027607\n",
       "lasso           0.360081    0.134690"
      ]
     },
     "execution_count": 18,
     "metadata": {},
     "output_type": "execute_result"
    }
   ],
   "source": [
    "models = pd.DataFrame(models)\n",
    "models = models.transpose().sort_values('MSE')\n",
    "models['Difference'] = models.diff()\n",
    "models"
   ]
  },
  {
   "cell_type": "markdown",
   "metadata": {},
   "source": [
    "Difference in MSE between CatBoost model and LightGBM model are negligible. \n",
    "\n",
    "Lasso on enriched dataset is very close to these two best models.\n",
    "\n",
    "Data enrichment using SAFE method provides large improvement in performance of Lasso model while maintaining interpretability."
   ]
  }
 ],
 "metadata": {
  "hide_input": false,
  "kernelspec": {
   "display_name": "Python (xai)",
   "language": "python",
   "name": "python_xai"
  },
  "language_info": {
   "codemirror_mode": {
    "name": "ipython",
    "version": 3
   },
   "file_extension": ".py",
   "mimetype": "text/x-python",
   "name": "python",
   "nbconvert_exporter": "python",
   "pygments_lexer": "ipython3",
   "version": "3.7.2"
  },
  "latex_envs": {
   "LaTeX_envs_menu_present": true,
   "autoclose": false,
   "autocomplete": true,
   "bibliofile": "biblio.bib",
   "cite_by": "apalike",
   "current_citInitial": 1,
   "eqLabelWithNumbers": true,
   "eqNumInitial": 1,
   "hotkeys": {
    "equation": "Ctrl-E",
    "itemize": "Ctrl-I"
   },
   "labels_anchors": false,
   "latex_user_defs": false,
   "report_style_numbering": false,
   "user_envs_cfg": false
  },
  "toc": {
   "base_numbering": 1,
   "nav_menu": {},
   "number_sections": true,
   "sideBar": true,
   "skip_h1_title": false,
   "title_cell": "Table of Contents",
   "title_sidebar": "Contents",
   "toc_cell": false,
   "toc_position": {},
   "toc_section_display": true,
   "toc_window_display": true
  },
  "varInspector": {
   "cols": {
    "lenName": 16,
    "lenType": 16,
    "lenVar": 40
   },
   "kernels_config": {
    "python": {
     "delete_cmd_postfix": "",
     "delete_cmd_prefix": "del ",
     "library": "var_list.py",
     "varRefreshCmd": "print(var_dic_list())"
    },
    "r": {
     "delete_cmd_postfix": ") ",
     "delete_cmd_prefix": "rm(",
     "library": "var_list.r",
     "varRefreshCmd": "cat(var_dic_list()) "
    }
   },
   "position": {
    "height": "336.85px",
    "left": "6px",
    "right": "20px",
    "top": "395px",
    "width": "455px"
   },
   "types_to_exclude": [
    "module",
    "function",
    "builtin_function_or_method",
    "instance",
    "_Feature"
   ],
   "window_display": false
  }
 },
 "nbformat": 4,
 "nbformat_minor": 2
}
