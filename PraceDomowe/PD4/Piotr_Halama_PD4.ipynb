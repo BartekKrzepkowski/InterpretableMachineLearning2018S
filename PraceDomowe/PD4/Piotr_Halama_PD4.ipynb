{
 "cells": [
  {
   "cell_type": "markdown",
   "metadata": {},
   "source": [
    "# Praca domowa nr 4\n",
    "Author: Piotr Halama"
   ]
  },
  {
   "cell_type": "code",
   "execution_count": 1,
   "metadata": {
    "hide_input": false
   },
   "outputs": [],
   "source": [
    "import random\n",
    "from copy import copy\n",
    "\n",
    "import numpy as np\n",
    "import pandas as pd\n",
    "from matplotlib import pyplot as plt\n",
    "import graphviz\n",
    "\n",
    "from lightgbm import LGBMClassifier\n",
    "\n",
    "from sklearn.impute import SimpleImputer\n",
    "from sklearn.metrics import f1_score\n",
    "from sklearn.model_selection import train_test_split\n",
    "from sklearn.pipeline import Pipeline\n",
    "from sklearn.preprocessing import LabelBinarizer\n",
    "from sklearn.tree import DecisionTreeClassifier, export_graphviz\n",
    "from sklearn_pandas import DataFrameMapper"
   ]
  },
  {
   "cell_type": "markdown",
   "metadata": {},
   "source": [
    "##### Data"
   ]
  },
  {
   "cell_type": "code",
   "execution_count": 2,
   "metadata": {},
   "outputs": [],
   "source": [
    "data = pd.read_stata('../../../HCMST 2017 fresh sample for public sharing draft v1.1.dta')\n",
    "\n",
    "variables = ['w6_q21d_month', 'w6_q21d_year', 'w6_q25', 'w6_q26']"
   ]
  },
  {
   "cell_type": "markdown",
   "metadata": {},
   "source": [
    "Chosen variables:\n",
    "- w6_q21d_month - Month subject married partner\n",
    "- w6_q21d_year - Year subject married partner\n",
    "- w6_q25 - Did subject and partner attend same high school?\n",
    "- w6_q26 - Did subject and partner attend same college?\n",
    "\n",
    "Target variable: S1 - Are you married?"
   ]
  },
  {
   "cell_type": "markdown",
   "metadata": {},
   "source": [
    "##### Preprocessing"
   ]
  },
  {
   "cell_type": "code",
   "execution_count": 3,
   "metadata": {},
   "outputs": [],
   "source": [
    "X = data[variables]\n",
    "y = data['S1']\n",
    "\n",
    "X = X[pd.notnull(y)]\n",
    "y = y[pd.notnull(y)]\n",
    "\n",
    "months = [\n",
    "    'January', 'February', 'March', 'April', 'May', 'June', 'July', 'August',\n",
    "    'September', 'October', 'November', 'December'\n",
    "]\n",
    "\n",
    "X['w6_q21d_month'] = X['w6_q21d_month'].astype('category').cat.set_categories(\n",
    "    months, ordered=True)\n",
    "\n",
    "X['w6_q25'] = X['w6_q25'].astype('category').cat.as_unordered()\n",
    "X['w6_q26'] = X['w6_q26'].astype('category').cat.set_categories(\n",
    "    ['Refused', 'Same College', 'Different College'],\n",
    "    rename=True,\n",
    "    ordered=False)\n",
    "y = y.astype('category')\n",
    "\n",
    "X_train, X_test, y_train, y_test = train_test_split(\n",
    "    X, y, test_size=0.1, random_state=1)"
   ]
  },
  {
   "cell_type": "markdown",
   "metadata": {},
   "source": [
    "##### Model\n",
    "\n",
    "The classifier used here is based on gradient boosting from `LightGBM` package."
   ]
  },
  {
   "cell_type": "code",
   "execution_count": 4,
   "metadata": {},
   "outputs": [
    {
     "data": {
      "text/plain": [
       "LGBMClassifier(boosting_type='gbdt', class_weight=None, colsample_bytree=1.0,\n",
       "        importance_type='split', learning_rate=0.1, max_depth=-1,\n",
       "        min_child_samples=20, min_child_weight=0.001, min_split_gain=0.0,\n",
       "        n_estimators=100, n_jobs=-1, num_leaves=31, objective=None,\n",
       "        random_state=None, reg_alpha=0.5, reg_lambda=0.0, silent=True,\n",
       "        subsample=1.0, subsample_for_bin=200000, subsample_freq=0)"
      ]
     },
     "execution_count": 4,
     "metadata": {},
     "output_type": "execute_result"
    }
   ],
   "source": [
    "clf = LGBMClassifier(reg_alpha=0.5)\n",
    "clf.fit(X_train, y_train)"
   ]
  },
  {
   "cell_type": "code",
   "execution_count": 5,
   "metadata": {},
   "outputs": [
    {
     "data": {
      "text/plain": [
       "0.963855421686747"
      ]
     },
     "execution_count": 5,
     "metadata": {},
     "output_type": "execute_result"
    }
   ],
   "source": [
    "y_pred = clf.predict(X_test)\n",
    "\n",
    "f1_score(y_test, y_pred, pos_label='Yes, I am Married')"
   ]
  },
  {
   "cell_type": "markdown",
   "metadata": {},
   "source": [
    "## Homework solution"
   ]
  },
  {
   "cell_type": "markdown",
   "metadata": {},
   "source": [
    "Selected observation:\n",
    "- Month subject married partner - **July**\n",
    "- Year subject married partner - **1991**\n",
    "- Did subject and partner attend same high school? - **No**\n",
    "- Did subject and partner attend same college? - **No**\n",
    "- Are you married? - **Yes**"
   ]
  },
  {
   "cell_type": "code",
   "execution_count": 6,
   "metadata": {},
   "outputs": [],
   "source": [
    "x = X.iloc[1736].to_dict()"
   ]
  },
  {
   "cell_type": "markdown",
   "metadata": {},
   "source": [
    "### Generation of new dataset"
   ]
  },
  {
   "cell_type": "code",
   "execution_count": 7,
   "metadata": {},
   "outputs": [],
   "source": [
    "N = 1000\n",
    "z = []\n",
    "\n",
    "for i in range(N):\n",
    "    x_prim = copy(x)\n",
    "    \n",
    "    k = random.randrange(1, len(variables))  # How many variables to change\n",
    "    for var in random.sample(variables, k):  # Choose variables\n",
    "        if random.random() > 0.5:  # Clear value\n",
    "            x_prim[var] = None\n",
    "        elif isinstance(x_prim[var], str):  # categorical\n",
    "            x_prim[var] = random.choice(X[var].cat.categories)\n",
    "        else:  # numerical\n",
    "            x_prim[var] += int(random.gauss(0, 3))\n",
    "            \n",
    "    z.append(x_prim)\n",
    "        \n",
    "z = pd.DataFrame(z)\n",
    "z['w6_q21d_month'] = z['w6_q21d_month'].astype('category').cat.set_categories(\n",
    "    months, ordered=True)\n",
    "z['w6_q25'] = z['w6_q25'].astype('category').cat.as_unordered()\n",
    "z['w6_q26'] = z['w6_q26'].astype('category').cat.as_unordered()"
   ]
  },
  {
   "cell_type": "code",
   "execution_count": 8,
   "metadata": {},
   "outputs": [],
   "source": [
    "v = clf.predict(z)"
   ]
  },
  {
   "cell_type": "markdown",
   "metadata": {},
   "source": [
    "### Whitebox model"
   ]
  },
  {
   "cell_type": "code",
   "execution_count": 9,
   "metadata": {},
   "outputs": [],
   "source": [
    "whitebox = DecisionTreeClassifier(max_depth=3)"
   ]
  },
  {
   "cell_type": "code",
   "execution_count": 10,
   "metadata": {},
   "outputs": [],
   "source": [
    "mapper = DataFrameMapper([('w6_q21d_year', None),\n",
    "                          ('w6_q21d_month', LabelBinarizer()),\n",
    "                          ('w6_q25', LabelBinarizer()),\n",
    "                          ('w6_q26', LabelBinarizer())])"
   ]
  },
  {
   "cell_type": "code",
   "execution_count": 11,
   "metadata": {},
   "outputs": [],
   "source": [
    "z.loc[pd.isnull(z['w6_q21d_year']), 'w6_q21d_year'] = x['w6_q21d_year']\n",
    "z['w6_q21d_month'] = z['w6_q21d_month'].astype('str')\n",
    "z['w6_q25'] = z['w6_q25'].astype('str')\n",
    "z['w6_q26'] = z['w6_q26'].astype('str')"
   ]
  },
  {
   "cell_type": "code",
   "execution_count": 12,
   "metadata": {},
   "outputs": [],
   "source": [
    "zm = mapper.fit_transform(z)\n",
    "xm = mapper.transform(pd.DataFrame([x]))\n",
    "vm = (v == 'Yes, I am Married')"
   ]
  },
  {
   "cell_type": "code",
   "execution_count": 13,
   "metadata": {},
   "outputs": [],
   "source": [
    "# Similarity\n",
    "sim = np.linalg.norm(zm - xm, 2, axis=1)\n",
    "sim = max(sim) - sim"
   ]
  },
  {
   "cell_type": "code",
   "execution_count": 14,
   "metadata": {},
   "outputs": [
    {
     "data": {
      "text/plain": [
       "DecisionTreeClassifier(class_weight=None, criterion='gini', max_depth=3,\n",
       "            max_features=None, max_leaf_nodes=None,\n",
       "            min_impurity_decrease=0.0, min_impurity_split=None,\n",
       "            min_samples_leaf=1, min_samples_split=2,\n",
       "            min_weight_fraction_leaf=0.0, presort=False, random_state=None,\n",
       "            splitter='best')"
      ]
     },
     "execution_count": 14,
     "metadata": {},
     "output_type": "execute_result"
    }
   ],
   "source": [
    "whitebox.fit(zm, vm, sample_weight=sim)"
   ]
  },
  {
   "cell_type": "markdown",
   "metadata": {},
   "source": [
    "### Visualization"
   ]
  },
  {
   "cell_type": "code",
   "execution_count": 15,
   "metadata": {
    "scrolled": true
   },
   "outputs": [
    {
     "data": {
      "image/svg+xml": [
       "<?xml version=\"1.0\" encoding=\"UTF-8\" standalone=\"no\"?>\n",
       "<!DOCTYPE svg PUBLIC \"-//W3C//DTD SVG 1.1//EN\"\n",
       " \"http://www.w3.org/Graphics/SVG/1.1/DTD/svg11.dtd\">\n",
       "<!-- Generated by graphviz version 2.40.1 (0)\n",
       " -->\n",
       "<!-- Title: Tree Pages: 1 -->\n",
       "<svg width=\"1558pt\" height=\"433pt\"\n",
       " viewBox=\"0.00 0.00 1558.00 433.00\" xmlns=\"http://www.w3.org/2000/svg\" xmlns:xlink=\"http://www.w3.org/1999/xlink\">\n",
       "<g id=\"graph0\" class=\"graph\" transform=\"scale(1 1) rotate(0) translate(4 429)\">\n",
       "<title>Tree</title>\n",
       "<polygon fill=\"#ffffff\" stroke=\"transparent\" points=\"-4,4 -4,-429 1554,-429 1554,4 -4,4\"/>\n",
       "<!-- 0 -->\n",
       "<g id=\"node1\" class=\"node\">\n",
       "<title>0</title>\n",
       "<path fill=\"#399de5\" fill-opacity=\"0.917647\" stroke=\"#000000\" d=\"M852.5,-425C852.5,-425 673.5,-425 673.5,-425 667.5,-425 661.5,-419 661.5,-413 661.5,-413 661.5,-354 661.5,-354 661.5,-348 667.5,-342 673.5,-342 673.5,-342 852.5,-342 852.5,-342 858.5,-342 864.5,-348 864.5,-354 864.5,-354 864.5,-413 864.5,-413 864.5,-419 858.5,-425 852.5,-425\"/>\n",
       "<text text-anchor=\"middle\" x=\"763\" y=\"-409.8\" font-family=\"helvetica\" font-size=\"14.00\" fill=\"#000000\">w6_q21d_month_nan &lt;= 0.5</text>\n",
       "<text text-anchor=\"middle\" x=\"763\" y=\"-394.8\" font-family=\"helvetica\" font-size=\"14.00\" fill=\"#000000\">gini = 0.14</text>\n",
       "<text text-anchor=\"middle\" x=\"763\" y=\"-379.8\" font-family=\"helvetica\" font-size=\"14.00\" fill=\"#000000\">samples = 999</text>\n",
       "<text text-anchor=\"middle\" x=\"763\" y=\"-364.8\" font-family=\"helvetica\" font-size=\"14.00\" fill=\"#000000\">value = [701.61, 8677.56]</text>\n",
       "<text text-anchor=\"middle\" x=\"763\" y=\"-349.8\" font-family=\"helvetica\" font-size=\"14.00\" fill=\"#000000\">class = Yes, I am Married</text>\n",
       "</g>\n",
       "<!-- 1 -->\n",
       "<g id=\"node2\" class=\"node\">\n",
       "<title>1</title>\n",
       "<path fill=\"#399de5\" fill-opacity=\"0.980392\" stroke=\"#000000\" d=\"M732,-306C732,-306 520,-306 520,-306 514,-306 508,-300 508,-294 508,-294 508,-235 508,-235 508,-229 514,-223 520,-223 520,-223 732,-223 732,-223 738,-223 744,-229 744,-235 744,-235 744,-294 744,-294 744,-300 738,-306 732,-306\"/>\n",
       "<text text-anchor=\"middle\" x=\"626\" y=\"-290.8\" font-family=\"helvetica\" font-size=\"14.00\" fill=\"#000000\">w6_q21d_month_February &lt;= 0.5</text>\n",
       "<text text-anchor=\"middle\" x=\"626\" y=\"-275.8\" font-family=\"helvetica\" font-size=\"14.00\" fill=\"#000000\">gini = 0.04</text>\n",
       "<text text-anchor=\"middle\" x=\"626\" y=\"-260.8\" font-family=\"helvetica\" font-size=\"14.00\" fill=\"#000000\">samples = 760</text>\n",
       "<text text-anchor=\"middle\" x=\"626\" y=\"-245.8\" font-family=\"helvetica\" font-size=\"14.00\" fill=\"#000000\">value = [152.16, 7055.28]</text>\n",
       "<text text-anchor=\"middle\" x=\"626\" y=\"-230.8\" font-family=\"helvetica\" font-size=\"14.00\" fill=\"#000000\">class = Yes, I am Married</text>\n",
       "</g>\n",
       "<!-- 0&#45;&gt;1 -->\n",
       "<g id=\"edge1\" class=\"edge\">\n",
       "<title>0&#45;&gt;1</title>\n",
       "<path fill=\"none\" stroke=\"#000000\" d=\"M715.084,-341.8796C704.3007,-332.513 692.7671,-322.4948 681.6961,-312.8784\"/>\n",
       "<polygon fill=\"#000000\" stroke=\"#000000\" points=\"683.9653,-310.2134 674.1205,-306.2981 679.3749,-315.4982 683.9653,-310.2134\"/>\n",
       "<text text-anchor=\"middle\" x=\"675.874\" y=\"-327.5365\" font-family=\"helvetica\" font-size=\"14.00\" fill=\"#000000\">True</text>\n",
       "</g>\n",
       "<!-- 8 -->\n",
       "<g id=\"node9\" class=\"node\">\n",
       "<title>8</title>\n",
       "<path fill=\"#399de5\" fill-opacity=\"0.662745\" stroke=\"#000000\" d=\"M1025,-306C1025,-306 821,-306 821,-306 815,-306 809,-300 809,-294 809,-294 809,-235 809,-235 809,-229 815,-223 821,-223 821,-223 1025,-223 1025,-223 1031,-223 1037,-229 1037,-235 1037,-235 1037,-294 1037,-294 1037,-300 1031,-306 1025,-306\"/>\n",
       "<text text-anchor=\"middle\" x=\"923\" y=\"-290.8\" font-family=\"helvetica\" font-size=\"14.00\" fill=\"#000000\">w6_q26_Different College &lt;= 0.5</text>\n",
       "<text text-anchor=\"middle\" x=\"923\" y=\"-275.8\" font-family=\"helvetica\" font-size=\"14.00\" fill=\"#000000\">gini = 0.38</text>\n",
       "<text text-anchor=\"middle\" x=\"923\" y=\"-260.8\" font-family=\"helvetica\" font-size=\"14.00\" fill=\"#000000\">samples = 239</text>\n",
       "<text text-anchor=\"middle\" x=\"923\" y=\"-245.8\" font-family=\"helvetica\" font-size=\"14.00\" fill=\"#000000\">value = [549.45, 1622.27]</text>\n",
       "<text text-anchor=\"middle\" x=\"923\" y=\"-230.8\" font-family=\"helvetica\" font-size=\"14.00\" fill=\"#000000\">class = Yes, I am Married</text>\n",
       "</g>\n",
       "<!-- 0&#45;&gt;8 -->\n",
       "<g id=\"edge8\" class=\"edge\">\n",
       "<title>0&#45;&gt;8</title>\n",
       "<path fill=\"none\" stroke=\"#000000\" d=\"M818.9602,-341.8796C831.8708,-332.2774 845.7021,-321.9903 858.9282,-312.1534\"/>\n",
       "<polygon fill=\"#000000\" stroke=\"#000000\" points=\"861.1361,-314.8732 867.0714,-306.0969 856.9586,-309.2564 861.1361,-314.8732\"/>\n",
       "<text text-anchor=\"middle\" x=\"863.4366\" y=\"-327.1313\" font-family=\"helvetica\" font-size=\"14.00\" fill=\"#000000\">False</text>\n",
       "</g>\n",
       "<!-- 2 -->\n",
       "<g id=\"node3\" class=\"node\">\n",
       "<title>2</title>\n",
       "<path fill=\"#399de5\" fill-opacity=\"0.984314\" stroke=\"#000000\" d=\"M395.5,-187C395.5,-187 174.5,-187 174.5,-187 168.5,-187 162.5,-181 162.5,-175 162.5,-175 162.5,-116 162.5,-116 162.5,-110 168.5,-104 174.5,-104 174.5,-104 395.5,-104 395.5,-104 401.5,-104 407.5,-110 407.5,-116 407.5,-116 407.5,-175 407.5,-175 407.5,-181 401.5,-187 395.5,-187\"/>\n",
       "<text text-anchor=\"middle\" x=\"285\" y=\"-171.8\" font-family=\"helvetica\" font-size=\"14.00\" fill=\"#000000\">w6_q21d_month_November &lt;= 0.5</text>\n",
       "<text text-anchor=\"middle\" x=\"285\" y=\"-156.8\" font-family=\"helvetica\" font-size=\"14.00\" fill=\"#000000\">gini = 0.03</text>\n",
       "<text text-anchor=\"middle\" x=\"285\" y=\"-141.8\" font-family=\"helvetica\" font-size=\"14.00\" fill=\"#000000\">samples = 738</text>\n",
       "<text text-anchor=\"middle\" x=\"285\" y=\"-126.8\" font-family=\"helvetica\" font-size=\"14.00\" fill=\"#000000\">value = [95.32, 6911.46]</text>\n",
       "<text text-anchor=\"middle\" x=\"285\" y=\"-111.8\" font-family=\"helvetica\" font-size=\"14.00\" fill=\"#000000\">class = Yes, I am Married</text>\n",
       "</g>\n",
       "<!-- 1&#45;&gt;2 -->\n",
       "<g id=\"edge2\" class=\"edge\">\n",
       "<title>1&#45;&gt;2</title>\n",
       "<path fill=\"none\" stroke=\"#000000\" d=\"M507.6918,-223.2135C477.2716,-212.5977 444.3984,-201.1258 413.4895,-190.3395\"/>\n",
       "<polygon fill=\"#000000\" stroke=\"#000000\" points=\"414.5599,-187.006 403.9651,-187.0157 412.2535,-193.6152 414.5599,-187.006\"/>\n",
       "</g>\n",
       "<!-- 5 -->\n",
       "<g id=\"node6\" class=\"node\">\n",
       "<title>5</title>\n",
       "<path fill=\"#399de5\" fill-opacity=\"0.603922\" stroke=\"#000000\" d=\"M742.5,-187C742.5,-187 509.5,-187 509.5,-187 503.5,-187 497.5,-181 497.5,-175 497.5,-175 497.5,-116 497.5,-116 497.5,-110 503.5,-104 509.5,-104 509.5,-104 742.5,-104 742.5,-104 748.5,-104 754.5,-110 754.5,-116 754.5,-116 754.5,-175 754.5,-175 754.5,-181 748.5,-187 742.5,-187\"/>\n",
       "<text text-anchor=\"middle\" x=\"626\" y=\"-171.8\" font-family=\"helvetica\" font-size=\"14.00\" fill=\"#000000\">w6_q25_Different High School &lt;= 0.5</text>\n",
       "<text text-anchor=\"middle\" x=\"626\" y=\"-156.8\" font-family=\"helvetica\" font-size=\"14.00\" fill=\"#000000\">gini = 0.41</text>\n",
       "<text text-anchor=\"middle\" x=\"626\" y=\"-141.8\" font-family=\"helvetica\" font-size=\"14.00\" fill=\"#000000\">samples = 22</text>\n",
       "<text text-anchor=\"middle\" x=\"626\" y=\"-126.8\" font-family=\"helvetica\" font-size=\"14.00\" fill=\"#000000\">value = [56.84, 143.82]</text>\n",
       "<text text-anchor=\"middle\" x=\"626\" y=\"-111.8\" font-family=\"helvetica\" font-size=\"14.00\" fill=\"#000000\">class = Yes, I am Married</text>\n",
       "</g>\n",
       "<!-- 1&#45;&gt;5 -->\n",
       "<g id=\"edge5\" class=\"edge\">\n",
       "<title>1&#45;&gt;5</title>\n",
       "<path fill=\"none\" stroke=\"#000000\" d=\"M626,-222.8796C626,-214.6838 626,-205.9891 626,-197.5013\"/>\n",
       "<polygon fill=\"#000000\" stroke=\"#000000\" points=\"629.5001,-197.298 626,-187.2981 622.5001,-197.2981 629.5001,-197.298\"/>\n",
       "</g>\n",
       "<!-- 3 -->\n",
       "<g id=\"node4\" class=\"node\">\n",
       "<title>3</title>\n",
       "<path fill=\"#399de5\" fill-opacity=\"0.992157\" stroke=\"#000000\" d=\"M166,-68C166,-68 12,-68 12,-68 6,-68 0,-62 0,-56 0,-56 0,-12 0,-12 0,-6 6,0 12,0 12,0 166,0 166,0 172,0 178,-6 178,-12 178,-12 178,-56 178,-56 178,-62 172,-68 166,-68\"/>\n",
       "<text text-anchor=\"middle\" x=\"89\" y=\"-52.8\" font-family=\"helvetica\" font-size=\"14.00\" fill=\"#000000\">gini = 0.01</text>\n",
       "<text text-anchor=\"middle\" x=\"89\" y=\"-37.8\" font-family=\"helvetica\" font-size=\"14.00\" fill=\"#000000\">samples = 720</text>\n",
       "<text text-anchor=\"middle\" x=\"89\" y=\"-22.8\" font-family=\"helvetica\" font-size=\"14.00\" fill=\"#000000\">value = [47.66, 6792.75]</text>\n",
       "<text text-anchor=\"middle\" x=\"89\" y=\"-7.8\" font-family=\"helvetica\" font-size=\"14.00\" fill=\"#000000\">class = Yes, I am Married</text>\n",
       "</g>\n",
       "<!-- 2&#45;&gt;3 -->\n",
       "<g id=\"edge3\" class=\"edge\">\n",
       "<title>2&#45;&gt;3</title>\n",
       "<path fill=\"none\" stroke=\"#000000\" d=\"M212.0168,-103.9815C194.3143,-93.911 175.4447,-83.1764 157.9359,-73.2161\"/>\n",
       "<polygon fill=\"#000000\" stroke=\"#000000\" points=\"159.34,-69.9881 148.9173,-68.0856 155.8787,-76.0725 159.34,-69.9881\"/>\n",
       "</g>\n",
       "<!-- 4 -->\n",
       "<g id=\"node5\" class=\"node\">\n",
       "<title>4</title>\n",
       "<path fill=\"#399de5\" fill-opacity=\"0.600000\" stroke=\"#000000\" d=\"M362,-68C362,-68 208,-68 208,-68 202,-68 196,-62 196,-56 196,-56 196,-12 196,-12 196,-6 202,0 208,0 208,0 362,0 362,0 368,0 374,-6 374,-12 374,-12 374,-56 374,-56 374,-62 368,-68 362,-68\"/>\n",
       "<text text-anchor=\"middle\" x=\"285\" y=\"-52.8\" font-family=\"helvetica\" font-size=\"14.00\" fill=\"#000000\">gini = 0.41</text>\n",
       "<text text-anchor=\"middle\" x=\"285\" y=\"-37.8\" font-family=\"helvetica\" font-size=\"14.00\" fill=\"#000000\">samples = 18</text>\n",
       "<text text-anchor=\"middle\" x=\"285\" y=\"-22.8\" font-family=\"helvetica\" font-size=\"14.00\" fill=\"#000000\">value = [47.66, 118.71]</text>\n",
       "<text text-anchor=\"middle\" x=\"285\" y=\"-7.8\" font-family=\"helvetica\" font-size=\"14.00\" fill=\"#000000\">class = Yes, I am Married</text>\n",
       "</g>\n",
       "<!-- 2&#45;&gt;4 -->\n",
       "<g id=\"edge4\" class=\"edge\">\n",
       "<title>2&#45;&gt;4</title>\n",
       "<path fill=\"none\" stroke=\"#000000\" d=\"M285,-103.9815C285,-95.618 285,-86.7965 285,-78.3409\"/>\n",
       "<polygon fill=\"#000000\" stroke=\"#000000\" points=\"288.5001,-78.2636 285,-68.2637 281.5001,-78.2637 288.5001,-78.2636\"/>\n",
       "</g>\n",
       "<!-- 6 -->\n",
       "<g id=\"node7\" class=\"node\">\n",
       "<title>6</title>\n",
       "<path fill=\"#399de5\" stroke=\"#000000\" d=\"M558,-68C558,-68 404,-68 404,-68 398,-68 392,-62 392,-56 392,-56 392,-12 392,-12 392,-6 398,0 404,0 404,0 558,0 558,0 564,0 570,-6 570,-12 570,-12 570,-56 570,-56 570,-62 564,-68 558,-68\"/>\n",
       "<text text-anchor=\"middle\" x=\"481\" y=\"-52.8\" font-family=\"helvetica\" font-size=\"14.00\" fill=\"#000000\">gini = 0.0</text>\n",
       "<text text-anchor=\"middle\" x=\"481\" y=\"-37.8\" font-family=\"helvetica\" font-size=\"14.00\" fill=\"#000000\">samples = 9</text>\n",
       "<text text-anchor=\"middle\" x=\"481\" y=\"-22.8\" font-family=\"helvetica\" font-size=\"14.00\" fill=\"#000000\">value = [0.0, 80.59]</text>\n",
       "<text text-anchor=\"middle\" x=\"481\" y=\"-7.8\" font-family=\"helvetica\" font-size=\"14.00\" fill=\"#000000\">class = Yes, I am Married</text>\n",
       "</g>\n",
       "<!-- 5&#45;&gt;6 -->\n",
       "<g id=\"edge6\" class=\"edge\">\n",
       "<title>5&#45;&gt;6</title>\n",
       "<path fill=\"none\" stroke=\"#000000\" d=\"M572.0074,-103.9815C559.4578,-94.3313 546.1153,-84.0714 533.6256,-74.4673\"/>\n",
       "<polygon fill=\"#000000\" stroke=\"#000000\" points=\"535.619,-71.585 525.5581,-68.2637 531.3519,-77.134 535.619,-71.585\"/>\n",
       "</g>\n",
       "<!-- 7 -->\n",
       "<g id=\"node8\" class=\"node\">\n",
       "<title>7</title>\n",
       "<path fill=\"#399de5\" fill-opacity=\"0.101961\" stroke=\"#000000\" d=\"M754,-68C754,-68 600,-68 600,-68 594,-68 588,-62 588,-56 588,-56 588,-12 588,-12 588,-6 594,0 600,0 600,0 754,0 754,0 760,0 766,-6 766,-12 766,-12 766,-56 766,-56 766,-62 760,-68 754,-68\"/>\n",
       "<text text-anchor=\"middle\" x=\"677\" y=\"-52.8\" font-family=\"helvetica\" font-size=\"14.00\" fill=\"#000000\">gini = 0.5</text>\n",
       "<text text-anchor=\"middle\" x=\"677\" y=\"-37.8\" font-family=\"helvetica\" font-size=\"14.00\" fill=\"#000000\">samples = 13</text>\n",
       "<text text-anchor=\"middle\" x=\"677\" y=\"-22.8\" font-family=\"helvetica\" font-size=\"14.00\" fill=\"#000000\">value = [56.84, 63.23]</text>\n",
       "<text text-anchor=\"middle\" x=\"677\" y=\"-7.8\" font-family=\"helvetica\" font-size=\"14.00\" fill=\"#000000\">class = Yes, I am Married</text>\n",
       "</g>\n",
       "<!-- 5&#45;&gt;7 -->\n",
       "<g id=\"edge7\" class=\"edge\">\n",
       "<title>5&#45;&gt;7</title>\n",
       "<path fill=\"none\" stroke=\"#000000\" d=\"M644.9905,-103.9815C648.9421,-95.3423 653.1172,-86.2144 657.1005,-77.5059\"/>\n",
       "<polygon fill=\"#000000\" stroke=\"#000000\" points=\"660.3511,-78.8134 661.3278,-68.2637 653.9854,-75.9017 660.3511,-78.8134\"/>\n",
       "</g>\n",
       "<!-- 9 -->\n",
       "<g id=\"node10\" class=\"node\">\n",
       "<title>9</title>\n",
       "<path fill=\"#399de5\" fill-opacity=\"0.843137\" stroke=\"#000000\" d=\"M1039.5,-187C1039.5,-187 806.5,-187 806.5,-187 800.5,-187 794.5,-181 794.5,-175 794.5,-175 794.5,-116 794.5,-116 794.5,-110 800.5,-104 806.5,-104 806.5,-104 1039.5,-104 1039.5,-104 1045.5,-104 1051.5,-110 1051.5,-116 1051.5,-116 1051.5,-175 1051.5,-175 1051.5,-181 1045.5,-187 1039.5,-187\"/>\n",
       "<text text-anchor=\"middle\" x=\"923\" y=\"-171.8\" font-family=\"helvetica\" font-size=\"14.00\" fill=\"#000000\">w6_q25_Different High School &lt;= 0.5</text>\n",
       "<text text-anchor=\"middle\" x=\"923\" y=\"-156.8\" font-family=\"helvetica\" font-size=\"14.00\" fill=\"#000000\">gini = 0.23</text>\n",
       "<text text-anchor=\"middle\" x=\"923\" y=\"-141.8\" font-family=\"helvetica\" font-size=\"14.00\" fill=\"#000000\">samples = 84</text>\n",
       "<text text-anchor=\"middle\" x=\"923\" y=\"-126.8\" font-family=\"helvetica\" font-size=\"14.00\" fill=\"#000000\">value = [100.98, 644.45]</text>\n",
       "<text text-anchor=\"middle\" x=\"923\" y=\"-111.8\" font-family=\"helvetica\" font-size=\"14.00\" fill=\"#000000\">class = Yes, I am Married</text>\n",
       "</g>\n",
       "<!-- 8&#45;&gt;9 -->\n",
       "<g id=\"edge9\" class=\"edge\">\n",
       "<title>8&#45;&gt;9</title>\n",
       "<path fill=\"none\" stroke=\"#000000\" d=\"M923,-222.8796C923,-214.6838 923,-205.9891 923,-197.5013\"/>\n",
       "<polygon fill=\"#000000\" stroke=\"#000000\" points=\"926.5001,-197.298 923,-187.2981 919.5001,-197.2981 926.5001,-197.298\"/>\n",
       "</g>\n",
       "<!-- 12 -->\n",
       "<g id=\"node13\" class=\"node\">\n",
       "<title>12</title>\n",
       "<path fill=\"#399de5\" fill-opacity=\"0.541176\" stroke=\"#000000\" d=\"M1374,-187C1374,-187 1156,-187 1156,-187 1150,-187 1144,-181 1144,-175 1144,-175 1144,-116 1144,-116 1144,-110 1150,-104 1156,-104 1156,-104 1374,-104 1374,-104 1380,-104 1386,-110 1386,-116 1386,-116 1386,-175 1386,-175 1386,-181 1380,-187 1374,-187\"/>\n",
       "<text text-anchor=\"middle\" x=\"1265\" y=\"-171.8\" font-family=\"helvetica\" font-size=\"14.00\" fill=\"#000000\">w6_q25_Same High School &lt;= 0.5</text>\n",
       "<text text-anchor=\"middle\" x=\"1265\" y=\"-156.8\" font-family=\"helvetica\" font-size=\"14.00\" fill=\"#000000\">gini = 0.43</text>\n",
       "<text text-anchor=\"middle\" x=\"1265\" y=\"-141.8\" font-family=\"helvetica\" font-size=\"14.00\" fill=\"#000000\">samples = 155</text>\n",
       "<text text-anchor=\"middle\" x=\"1265\" y=\"-126.8\" font-family=\"helvetica\" font-size=\"14.00\" fill=\"#000000\">value = [448.46, 977.83]</text>\n",
       "<text text-anchor=\"middle\" x=\"1265\" y=\"-111.8\" font-family=\"helvetica\" font-size=\"14.00\" fill=\"#000000\">class = Yes, I am Married</text>\n",
       "</g>\n",
       "<!-- 8&#45;&gt;12 -->\n",
       "<g id=\"edge12\" class=\"edge\">\n",
       "<title>8&#45;&gt;12</title>\n",
       "<path fill=\"none\" stroke=\"#000000\" d=\"M1037.3565,-224.7093C1068.9925,-213.7014 1103.5444,-201.679 1135.9535,-190.4022\"/>\n",
       "<polygon fill=\"#000000\" stroke=\"#000000\" points=\"1137.1891,-193.6781 1145.4835,-187.0862 1134.8887,-187.0669 1137.1891,-193.6781\"/>\n",
       "</g>\n",
       "<!-- 10 -->\n",
       "<g id=\"node11\" class=\"node\">\n",
       "<title>10</title>\n",
       "<path fill=\"#399de5\" stroke=\"#000000\" d=\"M950,-68C950,-68 796,-68 796,-68 790,-68 784,-62 784,-56 784,-56 784,-12 784,-12 784,-6 790,0 796,0 796,0 950,0 950,0 956,0 962,-6 962,-12 962,-12 962,-56 962,-56 962,-62 956,-68 950,-68\"/>\n",
       "<text text-anchor=\"middle\" x=\"873\" y=\"-52.8\" font-family=\"helvetica\" font-size=\"14.00\" fill=\"#000000\">gini = 0.0</text>\n",
       "<text text-anchor=\"middle\" x=\"873\" y=\"-37.8\" font-family=\"helvetica\" font-size=\"14.00\" fill=\"#000000\">samples = 31</text>\n",
       "<text text-anchor=\"middle\" x=\"873\" y=\"-22.8\" font-family=\"helvetica\" font-size=\"14.00\" fill=\"#000000\">value = [0.0, 270.66]</text>\n",
       "<text text-anchor=\"middle\" x=\"873\" y=\"-7.8\" font-family=\"helvetica\" font-size=\"14.00\" fill=\"#000000\">class = Yes, I am Married</text>\n",
       "</g>\n",
       "<!-- 9&#45;&gt;10 -->\n",
       "<g id=\"edge10\" class=\"edge\">\n",
       "<title>9&#45;&gt;10</title>\n",
       "<path fill=\"none\" stroke=\"#000000\" d=\"M904.3818,-103.9815C900.5078,-95.3423 896.4145,-86.2144 892.5094,-77.5059\"/>\n",
       "<polygon fill=\"#000000\" stroke=\"#000000\" points=\"895.6503,-75.9561 888.3649,-68.2637 889.2631,-78.8204 895.6503,-75.9561\"/>\n",
       "</g>\n",
       "<!-- 11 -->\n",
       "<g id=\"node12\" class=\"node\">\n",
       "<title>11</title>\n",
       "<path fill=\"#399de5\" fill-opacity=\"0.729412\" stroke=\"#000000\" d=\"M1146,-68C1146,-68 992,-68 992,-68 986,-68 980,-62 980,-56 980,-56 980,-12 980,-12 980,-6 986,0 992,0 992,0 1146,0 1146,0 1152,0 1158,-6 1158,-12 1158,-12 1158,-56 1158,-56 1158,-62 1152,-68 1146,-68\"/>\n",
       "<text text-anchor=\"middle\" x=\"1069\" y=\"-52.8\" font-family=\"helvetica\" font-size=\"14.00\" fill=\"#000000\">gini = 0.33</text>\n",
       "<text text-anchor=\"middle\" x=\"1069\" y=\"-37.8\" font-family=\"helvetica\" font-size=\"14.00\" fill=\"#000000\">samples = 53</text>\n",
       "<text text-anchor=\"middle\" x=\"1069\" y=\"-22.8\" font-family=\"helvetica\" font-size=\"14.00\" fill=\"#000000\">value = [100.98, 373.79]</text>\n",
       "<text text-anchor=\"middle\" x=\"1069\" y=\"-7.8\" font-family=\"helvetica\" font-size=\"14.00\" fill=\"#000000\">class = Yes, I am Married</text>\n",
       "</g>\n",
       "<!-- 9&#45;&gt;11 -->\n",
       "<g id=\"edge11\" class=\"edge\">\n",
       "<title>9&#45;&gt;11</title>\n",
       "<path fill=\"none\" stroke=\"#000000\" d=\"M977.365,-103.9815C990.0011,-94.3313 1003.4356,-84.0714 1016.0115,-74.4673\"/>\n",
       "<polygon fill=\"#000000\" stroke=\"#000000\" points=\"1018.3114,-77.1148 1024.1346,-68.2637 1014.0628,-71.5515 1018.3114,-77.1148\"/>\n",
       "</g>\n",
       "<!-- 13 -->\n",
       "<g id=\"node14\" class=\"node\">\n",
       "<title>13</title>\n",
       "<path fill=\"#399de5\" fill-opacity=\"0.466667\" stroke=\"#000000\" d=\"M1342,-68C1342,-68 1188,-68 1188,-68 1182,-68 1176,-62 1176,-56 1176,-56 1176,-12 1176,-12 1176,-6 1182,0 1188,0 1188,0 1342,0 1342,0 1348,0 1354,-6 1354,-12 1354,-12 1354,-56 1354,-56 1354,-62 1348,-68 1342,-68\"/>\n",
       "<text text-anchor=\"middle\" x=\"1265\" y=\"-52.8\" font-family=\"helvetica\" font-size=\"14.00\" fill=\"#000000\">gini = 0.45</text>\n",
       "<text text-anchor=\"middle\" x=\"1265\" y=\"-37.8\" font-family=\"helvetica\" font-size=\"14.00\" fill=\"#000000\">samples = 139</text>\n",
       "<text text-anchor=\"middle\" x=\"1265\" y=\"-22.8\" font-family=\"helvetica\" font-size=\"14.00\" fill=\"#000000\">value = [448.46, 840.46]</text>\n",
       "<text text-anchor=\"middle\" x=\"1265\" y=\"-7.8\" font-family=\"helvetica\" font-size=\"14.00\" fill=\"#000000\">class = Yes, I am Married</text>\n",
       "</g>\n",
       "<!-- 12&#45;&gt;13 -->\n",
       "<g id=\"edge13\" class=\"edge\">\n",
       "<title>12&#45;&gt;13</title>\n",
       "<path fill=\"none\" stroke=\"#000000\" d=\"M1265,-103.9815C1265,-95.618 1265,-86.7965 1265,-78.3409\"/>\n",
       "<polygon fill=\"#000000\" stroke=\"#000000\" points=\"1268.5001,-78.2636 1265,-68.2637 1261.5001,-78.2637 1268.5001,-78.2636\"/>\n",
       "</g>\n",
       "<!-- 14 -->\n",
       "<g id=\"node15\" class=\"node\">\n",
       "<title>14</title>\n",
       "<path fill=\"#399de5\" stroke=\"#000000\" d=\"M1538,-68C1538,-68 1384,-68 1384,-68 1378,-68 1372,-62 1372,-56 1372,-56 1372,-12 1372,-12 1372,-6 1378,0 1384,0 1384,0 1538,0 1538,0 1544,0 1550,-6 1550,-12 1550,-12 1550,-56 1550,-56 1550,-62 1544,-68 1538,-68\"/>\n",
       "<text text-anchor=\"middle\" x=\"1461\" y=\"-52.8\" font-family=\"helvetica\" font-size=\"14.00\" fill=\"#000000\">gini = 0.0</text>\n",
       "<text text-anchor=\"middle\" x=\"1461\" y=\"-37.8\" font-family=\"helvetica\" font-size=\"14.00\" fill=\"#000000\">samples = 16</text>\n",
       "<text text-anchor=\"middle\" x=\"1461\" y=\"-22.8\" font-family=\"helvetica\" font-size=\"14.00\" fill=\"#000000\">value = [0.0, 137.37]</text>\n",
       "<text text-anchor=\"middle\" x=\"1461\" y=\"-7.8\" font-family=\"helvetica\" font-size=\"14.00\" fill=\"#000000\">class = Yes, I am Married</text>\n",
       "</g>\n",
       "<!-- 12&#45;&gt;14 -->\n",
       "<g id=\"edge14\" class=\"edge\">\n",
       "<title>12&#45;&gt;14</title>\n",
       "<path fill=\"none\" stroke=\"#000000\" d=\"M1337.9832,-103.9815C1355.6857,-93.911 1374.5553,-83.1764 1392.0641,-73.2161\"/>\n",
       "<polygon fill=\"#000000\" stroke=\"#000000\" points=\"1394.1213,-76.0725 1401.0827,-68.0856 1390.66,-69.9881 1394.1213,-76.0725\"/>\n",
       "</g>\n",
       "</g>\n",
       "</svg>\n"
      ],
      "text/plain": [
       "<graphviz.files.Source at 0x7fd8852c28d0>"
      ]
     },
     "execution_count": 15,
     "metadata": {},
     "output_type": "execute_result"
    }
   ],
   "source": [
    "graphviz.Source(export_graphviz(\n",
    "    whitebox,\n",
    "    feature_names=mapper.transformed_names_,\n",
    "    class_names=['No, I am not Married', 'Yes, I am Married'],\n",
    "    rounded=True,\n",
    "    proportion=False,\n",
    "    precision=2,\n",
    "    filled=True), format='png')"
   ]
  },
  {
   "cell_type": "markdown",
   "metadata": {},
   "source": [
    "## Conclusion\n",
    "\n",
    "Observations that one could make about the model:\n",
    "  - Marrying in unusual months (February, November) lessens the chances of the subject being married.\n",
    "  - Answer to the question 26 is more important than to the question 25: Have you been going to the same college/high school (respectively)?\n",
    "  - The year of marriage is the least important."
   ]
  }
 ],
 "metadata": {
  "hide_input": false,
  "kernelspec": {
   "display_name": "Python (xai)",
   "language": "python",
   "name": "python_xai"
  },
  "language_info": {
   "codemirror_mode": {
    "name": "ipython",
    "version": 3
   },
   "file_extension": ".py",
   "mimetype": "text/x-python",
   "name": "python",
   "nbconvert_exporter": "python",
   "pygments_lexer": "ipython3",
   "version": "3.7.2"
  },
  "latex_envs": {
   "LaTeX_envs_menu_present": true,
   "autoclose": false,
   "autocomplete": true,
   "bibliofile": "biblio.bib",
   "cite_by": "apalike",
   "current_citInitial": 1,
   "eqLabelWithNumbers": true,
   "eqNumInitial": 1,
   "hotkeys": {
    "equation": "Ctrl-E",
    "itemize": "Ctrl-I"
   },
   "labels_anchors": false,
   "latex_user_defs": false,
   "report_style_numbering": false,
   "user_envs_cfg": false
  },
  "notify_time": "5",
  "toc": {
   "base_numbering": 1,
   "nav_menu": {},
   "number_sections": true,
   "sideBar": true,
   "skip_h1_title": false,
   "title_cell": "Table of Contents",
   "title_sidebar": "Contents",
   "toc_cell": false,
   "toc_position": {},
   "toc_section_display": true,
   "toc_window_display": false
  },
  "varInspector": {
   "cols": {
    "lenName": 16,
    "lenType": 16,
    "lenVar": 40
   },
   "kernels_config": {
    "python": {
     "delete_cmd_postfix": "",
     "delete_cmd_prefix": "del ",
     "library": "var_list.py",
     "varRefreshCmd": "print(var_dic_list())"
    },
    "r": {
     "delete_cmd_postfix": ") ",
     "delete_cmd_prefix": "rm(",
     "library": "var_list.r",
     "varRefreshCmd": "cat(var_dic_list()) "
    }
   },
   "types_to_exclude": [
    "module",
    "function",
    "builtin_function_or_method",
    "instance",
    "_Feature"
   ],
   "window_display": false
  }
 },
 "nbformat": 4,
 "nbformat_minor": 2
}
