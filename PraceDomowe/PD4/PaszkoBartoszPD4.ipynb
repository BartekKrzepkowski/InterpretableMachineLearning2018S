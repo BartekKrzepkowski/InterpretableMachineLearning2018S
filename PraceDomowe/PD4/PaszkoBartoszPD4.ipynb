{
 "cells": [
  {
   "cell_type": "code",
   "execution_count": 1,
   "metadata": {},
   "outputs": [],
   "source": [
    "%matplotlib inline"
   ]
  },
  {
   "cell_type": "code",
   "execution_count": 2,
   "metadata": {},
   "outputs": [],
   "source": [
    "import pandas as pd\n",
    "import numpy as np\n",
    "import xgboost as xgb\n",
    "import matplotlib.pyplot as plt\n",
    "\n",
    "import itertools\n",
    "import waterfall_chart\n",
    "\n",
    "from sklearn.tree import DecisionTreeClassifier, export_graphviz\n",
    "from sklearn.model_selection import train_test_split\n",
    "from sklearn.preprocessing import LabelEncoder\n",
    "from sklearn.metrics import accuracy_score\n",
    "from sklearn.externals.six import StringIO\n",
    "\n",
    "from IPython.display import Image  \n",
    "import pydotplus"
   ]
  },
  {
   "cell_type": "markdown",
   "metadata": {},
   "source": [
    "## Przegląd danych"
   ]
  },
  {
   "cell_type": "code",
   "execution_count": 3,
   "metadata": {},
   "outputs": [
    {
     "data": {
      "text/html": [
       "<div>\n",
       "<style scoped>\n",
       "    .dataframe tbody tr th:only-of-type {\n",
       "        vertical-align: middle;\n",
       "    }\n",
       "\n",
       "    .dataframe tbody tr th {\n",
       "        vertical-align: top;\n",
       "    }\n",
       "\n",
       "    .dataframe thead th {\n",
       "        text-align: right;\n",
       "    }\n",
       "</style>\n",
       "<table border=\"1\" class=\"dataframe\">\n",
       "  <thead>\n",
       "    <tr style=\"text-align: right;\">\n",
       "      <th></th>\n",
       "      <th>CaseID</th>\n",
       "      <th>CASEID_NEW</th>\n",
       "      <th>qflag</th>\n",
       "      <th>weight1</th>\n",
       "      <th>weight1_freqwt</th>\n",
       "      <th>weight2</th>\n",
       "      <th>weight1a</th>\n",
       "      <th>weight1a_freqwt</th>\n",
       "      <th>weight_combo</th>\n",
       "      <th>weight_combo_freqwt</th>\n",
       "      <th>...</th>\n",
       "      <th>hcm2017q24_met_through_family</th>\n",
       "      <th>hcm2017q24_met_through_friend</th>\n",
       "      <th>hcm2017q24_met_through_as_nghbrs</th>\n",
       "      <th>hcm2017q24_met_as_through_cowork</th>\n",
       "      <th>w6_subject_race</th>\n",
       "      <th>interracial_5cat</th>\n",
       "      <th>partner_mother_yrsed</th>\n",
       "      <th>subject_mother_yrsed</th>\n",
       "      <th>partner_yrsed</th>\n",
       "      <th>subject_yrsed</th>\n",
       "    </tr>\n",
       "  </thead>\n",
       "  <tbody>\n",
       "    <tr>\n",
       "      <th>0</th>\n",
       "      <td>2</td>\n",
       "      <td>2014039</td>\n",
       "      <td>Qualified</td>\n",
       "      <td>NaN</td>\n",
       "      <td>NaN</td>\n",
       "      <td>0.8945</td>\n",
       "      <td>NaN</td>\n",
       "      <td>NaN</td>\n",
       "      <td>0.277188</td>\n",
       "      <td>19240.0</td>\n",
       "      <td>...</td>\n",
       "      <td>no</td>\n",
       "      <td>no</td>\n",
       "      <td>no</td>\n",
       "      <td>no</td>\n",
       "      <td>White</td>\n",
       "      <td>no</td>\n",
       "      <td>12.0</td>\n",
       "      <td>14.0</td>\n",
       "      <td>12.0</td>\n",
       "      <td>14.0</td>\n",
       "    </tr>\n",
       "    <tr>\n",
       "      <th>1</th>\n",
       "      <td>3</td>\n",
       "      <td>2019003</td>\n",
       "      <td>Qualified</td>\n",
       "      <td>0.9078</td>\n",
       "      <td>71115.0</td>\n",
       "      <td>NaN</td>\n",
       "      <td>0.9026</td>\n",
       "      <td>70707.0</td>\n",
       "      <td>1.020621</td>\n",
       "      <td>70841.0</td>\n",
       "      <td>...</td>\n",
       "      <td>no</td>\n",
       "      <td>no</td>\n",
       "      <td>no</td>\n",
       "      <td>yes</td>\n",
       "      <td>White</td>\n",
       "      <td>no</td>\n",
       "      <td>12.0</td>\n",
       "      <td>16.0</td>\n",
       "      <td>17.0</td>\n",
       "      <td>17.0</td>\n",
       "    </tr>\n",
       "    <tr>\n",
       "      <th>2</th>\n",
       "      <td>5</td>\n",
       "      <td>2145527</td>\n",
       "      <td>Qualified</td>\n",
       "      <td>0.7205</td>\n",
       "      <td>56442.0</td>\n",
       "      <td>NaN</td>\n",
       "      <td>0.7164</td>\n",
       "      <td>56121.0</td>\n",
       "      <td>0.810074</td>\n",
       "      <td>56227.0</td>\n",
       "      <td>...</td>\n",
       "      <td>no</td>\n",
       "      <td>no</td>\n",
       "      <td>no</td>\n",
       "      <td>no</td>\n",
       "      <td>White</td>\n",
       "      <td>no</td>\n",
       "      <td>9.0</td>\n",
       "      <td>7.5</td>\n",
       "      <td>14.0</td>\n",
       "      <td>17.0</td>\n",
       "    </tr>\n",
       "    <tr>\n",
       "      <th>3</th>\n",
       "      <td>6</td>\n",
       "      <td>2648857</td>\n",
       "      <td>Qualified</td>\n",
       "      <td>1.2597</td>\n",
       "      <td>98682.0</td>\n",
       "      <td>1.3507</td>\n",
       "      <td>1.2524</td>\n",
       "      <td>98110.0</td>\n",
       "      <td>0.418556</td>\n",
       "      <td>29052.0</td>\n",
       "      <td>...</td>\n",
       "      <td>no</td>\n",
       "      <td>no</td>\n",
       "      <td>no</td>\n",
       "      <td>no</td>\n",
       "      <td>White</td>\n",
       "      <td>no</td>\n",
       "      <td>16.0</td>\n",
       "      <td>12.0</td>\n",
       "      <td>12.0</td>\n",
       "      <td>12.0</td>\n",
       "    </tr>\n",
       "    <tr>\n",
       "      <th>4</th>\n",
       "      <td>7</td>\n",
       "      <td>2623465</td>\n",
       "      <td>Qualified</td>\n",
       "      <td>0.8686</td>\n",
       "      <td>68044.0</td>\n",
       "      <td>NaN</td>\n",
       "      <td>0.8636</td>\n",
       "      <td>67652.0</td>\n",
       "      <td>0.976522</td>\n",
       "      <td>67781.0</td>\n",
       "      <td>...</td>\n",
       "      <td>no</td>\n",
       "      <td>no</td>\n",
       "      <td>yes</td>\n",
       "      <td>no</td>\n",
       "      <td>White</td>\n",
       "      <td>no</td>\n",
       "      <td>14.0</td>\n",
       "      <td>17.0</td>\n",
       "      <td>16.0</td>\n",
       "      <td>16.0</td>\n",
       "    </tr>\n",
       "  </tbody>\n",
       "</table>\n",
       "<p>5 rows × 285 columns</p>\n",
       "</div>"
      ],
      "text/plain": [
       "   CaseID  CASEID_NEW      qflag  weight1  weight1_freqwt  weight2  weight1a  \\\n",
       "0       2     2014039  Qualified      NaN             NaN   0.8945       NaN   \n",
       "1       3     2019003  Qualified   0.9078         71115.0      NaN    0.9026   \n",
       "2       5     2145527  Qualified   0.7205         56442.0      NaN    0.7164   \n",
       "3       6     2648857  Qualified   1.2597         98682.0   1.3507    1.2524   \n",
       "4       7     2623465  Qualified   0.8686         68044.0      NaN    0.8636   \n",
       "\n",
       "   weight1a_freqwt  weight_combo  weight_combo_freqwt  ...  \\\n",
       "0              NaN      0.277188              19240.0  ...   \n",
       "1          70707.0      1.020621              70841.0  ...   \n",
       "2          56121.0      0.810074              56227.0  ...   \n",
       "3          98110.0      0.418556              29052.0  ...   \n",
       "4          67652.0      0.976522              67781.0  ...   \n",
       "\n",
       "   hcm2017q24_met_through_family hcm2017q24_met_through_friend  \\\n",
       "0                             no                            no   \n",
       "1                             no                            no   \n",
       "2                             no                            no   \n",
       "3                             no                            no   \n",
       "4                             no                            no   \n",
       "\n",
       "  hcm2017q24_met_through_as_nghbrs hcm2017q24_met_as_through_cowork  \\\n",
       "0                               no                               no   \n",
       "1                               no                              yes   \n",
       "2                               no                               no   \n",
       "3                               no                               no   \n",
       "4                              yes                               no   \n",
       "\n",
       "  w6_subject_race interracial_5cat partner_mother_yrsed subject_mother_yrsed  \\\n",
       "0           White               no                 12.0                 14.0   \n",
       "1           White               no                 12.0                 16.0   \n",
       "2           White               no                  9.0                  7.5   \n",
       "3           White               no                 16.0                 12.0   \n",
       "4           White               no                 14.0                 17.0   \n",
       "\n",
       "  partner_yrsed subject_yrsed  \n",
       "0          12.0          14.0  \n",
       "1          17.0          17.0  \n",
       "2          14.0          17.0  \n",
       "3          12.0          12.0  \n",
       "4          16.0          16.0  \n",
       "\n",
       "[5 rows x 285 columns]"
      ]
     },
     "execution_count": 3,
     "metadata": {},
     "output_type": "execute_result"
    }
   ],
   "source": [
    "seed = 20\n",
    "\n",
    "df = pd.read_stata('../data/HCMST 2017 fresh sample for public sharing draft v1.1.dta')\n",
    "df.head()"
   ]
  },
  {
   "cell_type": "markdown",
   "metadata": {},
   "source": [
    "### Wybrane zmienne\n",
    "\n",
    "* Numeryczne\n",
    "    * age_when_met \n",
    "    * time_from_met_to_rel\n",
    "<br><br>\n",
    "* Kategoryczne\n",
    "    * ppagecat\n",
    "    * ppincimp"
   ]
  },
  {
   "cell_type": "code",
   "execution_count": 4,
   "metadata": {},
   "outputs": [],
   "source": [
    "num_feature1 = 'age_when_met'  # age when met in years,\n",
    "num_feature2 = 'time_from_met_to_rel'  # Time from meeting to relationship\n",
    "cat_feature1 = 'ppagecat'  # Age - 7 Categories\n",
    "cat_feature2 = 'ppincimp'  # Household Income \n",
    "label = 'S1'  # Are you married?"
   ]
  },
  {
   "cell_type": "markdown",
   "metadata": {},
   "source": [
    "#### Zakodowanie danych kategorycznych"
   ]
  },
  {
   "cell_type": "code",
   "execution_count": 5,
   "metadata": {},
   "outputs": [],
   "source": [
    "def encode_cat(column):\n",
    "    le = LabelEncoder()\n",
    "    encoded_col = le.fit_transform(column)\n",
    "    return le, encoded_col"
   ]
  },
  {
   "cell_type": "code",
   "execution_count": 6,
   "metadata": {},
   "outputs": [
    {
     "data": {
      "text/html": [
       "<div>\n",
       "<style scoped>\n",
       "    .dataframe tbody tr th:only-of-type {\n",
       "        vertical-align: middle;\n",
       "    }\n",
       "\n",
       "    .dataframe tbody tr th {\n",
       "        vertical-align: top;\n",
       "    }\n",
       "\n",
       "    .dataframe thead th {\n",
       "        text-align: right;\n",
       "    }\n",
       "</style>\n",
       "<table border=\"1\" class=\"dataframe\">\n",
       "  <thead>\n",
       "    <tr style=\"text-align: right;\">\n",
       "      <th></th>\n",
       "      <th>age_when_met</th>\n",
       "      <th>time_from_met_to_rel</th>\n",
       "      <th>ppagecat</th>\n",
       "      <th>ppincimp</th>\n",
       "      <th>S1</th>\n",
       "    </tr>\n",
       "  </thead>\n",
       "  <tbody>\n",
       "    <tr>\n",
       "      <th>0</th>\n",
       "      <td>30.0</td>\n",
       "      <td>0.000000</td>\n",
       "      <td>1</td>\n",
       "      <td>13</td>\n",
       "      <td>0</td>\n",
       "    </tr>\n",
       "    <tr>\n",
       "      <th>1</th>\n",
       "      <td>21.0</td>\n",
       "      <td>12.250000</td>\n",
       "      <td>4</td>\n",
       "      <td>5</td>\n",
       "      <td>1</td>\n",
       "    </tr>\n",
       "    <tr>\n",
       "      <th>2</th>\n",
       "      <td>36.0</td>\n",
       "      <td>0.416748</td>\n",
       "      <td>3</td>\n",
       "      <td>8</td>\n",
       "      <td>1</td>\n",
       "    </tr>\n",
       "    <tr>\n",
       "      <th>3</th>\n",
       "      <td>23.0</td>\n",
       "      <td>1.083252</td>\n",
       "      <td>1</td>\n",
       "      <td>13</td>\n",
       "      <td>0</td>\n",
       "    </tr>\n",
       "    <tr>\n",
       "      <th>4</th>\n",
       "      <td>25.0</td>\n",
       "      <td>0.083252</td>\n",
       "      <td>4</td>\n",
       "      <td>6</td>\n",
       "      <td>1</td>\n",
       "    </tr>\n",
       "  </tbody>\n",
       "</table>\n",
       "</div>"
      ],
      "text/plain": [
       "   age_when_met  time_from_met_to_rel  ppagecat  ppincimp S1\n",
       "0          30.0              0.000000         1        13  0\n",
       "1          21.0             12.250000         4         5  1\n",
       "2          36.0              0.416748         3         8  1\n",
       "3          23.0              1.083252         1        13  0\n",
       "4          25.0              0.083252         4         6  1"
      ]
     },
     "execution_count": 6,
     "metadata": {},
     "output_type": "execute_result"
    }
   ],
   "source": [
    "df = df[[num_feature1, num_feature2, cat_feature1, cat_feature2, label]]\n",
    "df = df.dropna()\n",
    "\n",
    "le1, encoded_cat1 = encode_cat(df[cat_feature1])\n",
    "le2, encoded_cat2 = encode_cat(df[cat_feature2])\n",
    "df[cat_feature1] = encoded_cat1\n",
    "df[cat_feature2] = encoded_cat2\n",
    "df[label] = df[label].apply(lambda x: 1 if x == 'Yes, I am Married' else 0)\n",
    "df.head()"
   ]
  },
  {
   "cell_type": "markdown",
   "metadata": {},
   "source": [
    "#### Podział na zbiory - treningowy i testowy"
   ]
  },
  {
   "cell_type": "code",
   "execution_count": 7,
   "metadata": {},
   "outputs": [],
   "source": [
    "X = df.drop(label, axis=1)\n",
    "y = df[label]\n",
    "train_X, test_X, train_y, test_y = train_test_split(X, y, random_state=seed)"
   ]
  },
  {
   "cell_type": "markdown",
   "metadata": {},
   "source": [
    "## Trening i walidacja modelu"
   ]
  },
  {
   "cell_type": "code",
   "execution_count": 8,
   "metadata": {},
   "outputs": [
    {
     "data": {
      "text/plain": [
       "XGBClassifier(base_score=0.5, booster='gbtree', colsample_bylevel=1,\n",
       "       colsample_bytree=1, gamma=0, learning_rate=0.1, max_delta_step=0,\n",
       "       max_depth=3, min_child_weight=1, missing=None, n_estimators=100,\n",
       "       n_jobs=1, nthread=None, objective='binary:logistic',\n",
       "       random_state=20, reg_alpha=0, reg_lambda=1.5, scale_pos_weight=1,\n",
       "       seed=None, silent=True, subsample=1)"
      ]
     },
     "execution_count": 8,
     "metadata": {},
     "output_type": "execute_result"
    }
   ],
   "source": [
    "model = xgb.sklearn.XGBClassifier(learning_rate=0.1, n_estimators=100, reg_lambda=1.5, random_state=seed)\n",
    "model.fit(train_X, train_y)"
   ]
  },
  {
   "cell_type": "code",
   "execution_count": 9,
   "metadata": {},
   "outputs": [
    {
     "name": "stdout",
     "output_type": "stream",
     "text": [
      "Accuracy: 77.70%\n"
     ]
    }
   ],
   "source": [
    "pred_y = model.predict(test_X)\n",
    "score = accuracy_score(pred_y, test_y)\n",
    "print(f'Accuracy: {(score*100):.2f}%')"
   ]
  },
  {
   "cell_type": "markdown",
   "metadata": {},
   "source": [
    "## LIME\n",
    "#### Wybrany sample w okolicy, którego będzie użyty LIME"
   ]
  },
  {
   "cell_type": "code",
   "execution_count": 10,
   "metadata": {},
   "outputs": [
    {
     "name": "stdout",
     "output_type": "stream",
     "text": [
      "Married: 0\n"
     ]
    },
    {
     "data": {
      "text/html": [
       "<div>\n",
       "<style scoped>\n",
       "    .dataframe tbody tr th:only-of-type {\n",
       "        vertical-align: middle;\n",
       "    }\n",
       "\n",
       "    .dataframe tbody tr th {\n",
       "        vertical-align: top;\n",
       "    }\n",
       "\n",
       "    .dataframe thead th {\n",
       "        text-align: right;\n",
       "    }\n",
       "</style>\n",
       "<table border=\"1\" class=\"dataframe\">\n",
       "  <thead>\n",
       "    <tr style=\"text-align: right;\">\n",
       "      <th></th>\n",
       "      <th>age_when_met</th>\n",
       "      <th>time_from_met_to_rel</th>\n",
       "      <th>ppagecat</th>\n",
       "      <th>ppincimp</th>\n",
       "    </tr>\n",
       "  </thead>\n",
       "  <tbody>\n",
       "    <tr>\n",
       "      <th>880</th>\n",
       "      <td>44.0</td>\n",
       "      <td>3.25</td>\n",
       "      <td>5</td>\n",
       "      <td>16</td>\n",
       "    </tr>\n",
       "  </tbody>\n",
       "</table>\n",
       "</div>"
      ],
      "text/plain": [
       "     age_when_met  time_from_met_to_rel  ppagecat  ppincimp\n",
       "880          44.0                  3.25         5        16"
      ]
     },
     "execution_count": 10,
     "metadata": {},
     "output_type": "execute_result"
    }
   ],
   "source": [
    "sample = train_X.loc[[880]]\n",
    "lab = train_y.loc[880]\n",
    "print(f'Married: {lab}')\n",
    "sample"
   ]
  },
  {
   "cell_type": "code",
   "execution_count": 11,
   "metadata": {},
   "outputs": [
    {
     "name": "stdout",
     "output_type": "stream",
     "text": [
      "ppagecat=5: 65-74\n",
      "ppincimp=16: $60,000 to $74,999\n"
     ]
    }
   ],
   "source": [
    "print(f'{cat_feature1}={sample[cat_feature1].item()}: {le1.classes_[sample[cat_feature1].item()]}')\n",
    "print(f'{cat_feature2}={sample[cat_feature2].item()}: {le2.classes_[sample[cat_feature2].item()]}')"
   ]
  },
  {
   "cell_type": "markdown",
   "metadata": {},
   "source": [
    "#### Generowanie punktów w sąsiedztwie"
   ]
  },
  {
   "cell_type": "code",
   "execution_count": 12,
   "metadata": {},
   "outputs": [],
   "source": [
    "def generate_random_sample(sample, df, n):\n",
    "    df = df.copy().iloc[:n]\n",
    "    age_std = df['age_when_met'].std() / 5\n",
    "    times_std = df['time_from_met_to_rel'].std() / 5\n",
    "    new_ages = np.random.normal(loc=sample['age_when_met'], scale=age_std, size=(n,))\n",
    "    new_times = np.maximum(np.random.normal(loc=sample['time_from_met_to_rel'], scale=times_std, size=(n,)), 0)\n",
    "    df['age_when_met'] = new_ages\n",
    "    df['time_from_met_to_rel'] = new_times\n",
    "    \n",
    "    ages_range = np.ptp(new_ages)\n",
    "    times_range = np.ptp(new_times)\n",
    "    \n",
    "    weights = df[['age_when_met', 'time_from_met_to_rel']].values - sample[['age_when_met', 'time_from_met_to_rel']].values\n",
    "    weights = weights / np.array(ages_range, times_range)\n",
    "    weights = 1 / np.sqrt(np.sum(weights ** 2, axis=1))\n",
    "    for col in ['ppagecat', 'ppincimp']:\n",
    "        df[col] = sample[col].item()\n",
    "    \n",
    "    return df.reset_index(drop=True), weights"
   ]
  },
  {
   "cell_type": "code",
   "execution_count": 13,
   "metadata": {},
   "outputs": [
    {
     "data": {
      "text/html": [
       "<div>\n",
       "<style scoped>\n",
       "    .dataframe tbody tr th:only-of-type {\n",
       "        vertical-align: middle;\n",
       "    }\n",
       "\n",
       "    .dataframe tbody tr th {\n",
       "        vertical-align: top;\n",
       "    }\n",
       "\n",
       "    .dataframe thead th {\n",
       "        text-align: right;\n",
       "    }\n",
       "</style>\n",
       "<table border=\"1\" class=\"dataframe\">\n",
       "  <thead>\n",
       "    <tr style=\"text-align: right;\">\n",
       "      <th></th>\n",
       "      <th>age_when_met</th>\n",
       "      <th>time_from_met_to_rel</th>\n",
       "      <th>ppagecat</th>\n",
       "      <th>ppincimp</th>\n",
       "    </tr>\n",
       "  </thead>\n",
       "  <tbody>\n",
       "    <tr>\n",
       "      <th>0</th>\n",
       "      <td>44.392230</td>\n",
       "      <td>1.542652</td>\n",
       "      <td>5</td>\n",
       "      <td>16</td>\n",
       "    </tr>\n",
       "    <tr>\n",
       "      <th>1</th>\n",
       "      <td>44.070423</td>\n",
       "      <td>4.455710</td>\n",
       "      <td>5</td>\n",
       "      <td>16</td>\n",
       "    </tr>\n",
       "    <tr>\n",
       "      <th>2</th>\n",
       "      <td>37.689625</td>\n",
       "      <td>3.041455</td>\n",
       "      <td>5</td>\n",
       "      <td>16</td>\n",
       "    </tr>\n",
       "    <tr>\n",
       "      <th>3</th>\n",
       "      <td>43.631697</td>\n",
       "      <td>2.600070</td>\n",
       "      <td>5</td>\n",
       "      <td>16</td>\n",
       "    </tr>\n",
       "    <tr>\n",
       "      <th>4</th>\n",
       "      <td>42.939687</td>\n",
       "      <td>1.686174</td>\n",
       "      <td>5</td>\n",
       "      <td>16</td>\n",
       "    </tr>\n",
       "  </tbody>\n",
       "</table>\n",
       "</div>"
      ],
      "text/plain": [
       "   age_when_met  time_from_met_to_rel  ppagecat  ppincimp\n",
       "0     44.392230              1.542652         5        16\n",
       "1     44.070423              4.455710         5        16\n",
       "2     37.689625              3.041455         5        16\n",
       "3     43.631697              2.600070         5        16\n",
       "4     42.939687              1.686174         5        16"
      ]
     },
     "execution_count": 13,
     "metadata": {},
     "output_type": "execute_result"
    }
   ],
   "source": [
    "sample_df, sample_weights = generate_random_sample(sample, train_X, 1000)\n",
    "sample_df.head()"
   ]
  },
  {
   "cell_type": "markdown",
   "metadata": {},
   "source": [
    "#### Predykcje głównego modelu dla wygenerowanych punktów "
   ]
  },
  {
   "cell_type": "code",
   "execution_count": 14,
   "metadata": {},
   "outputs": [
    {
     "name": "stdout",
     "output_type": "stream",
     "text": [
      "(0, 173)\n",
      "(1, 827)\n"
     ]
    }
   ],
   "source": [
    "sample_preds = model.predict(sample_df)\n",
    "jj = np.bincount(sample_preds)\n",
    "ii = np.nonzero(jj)[0]\n",
    "for p in zip(ii, jj[ii]) : print(p)"
   ]
  },
  {
   "cell_type": "markdown",
   "metadata": {},
   "source": [
    "# Trening lokalnego drzewa decyzyjnego"
   ]
  },
  {
   "cell_type": "code",
   "execution_count": 15,
   "metadata": {},
   "outputs": [
    {
     "data": {
      "text/plain": [
       "DecisionTreeClassifier(class_weight=None, criterion='gini', max_depth=2,\n",
       "            max_features=None, max_leaf_nodes=None,\n",
       "            min_impurity_decrease=0.0, min_impurity_split=None,\n",
       "            min_samples_leaf=1, min_samples_split=2,\n",
       "            min_weight_fraction_leaf=0.0, presort=False, random_state=None,\n",
       "            splitter='best')"
      ]
     },
     "execution_count": 15,
     "metadata": {},
     "output_type": "execute_result"
    }
   ],
   "source": [
    "local_model = DecisionTreeClassifier(max_depth=2)\n",
    "local_model.fit(sample_df, sample_preds, sample_weight=sample_weights)"
   ]
  },
  {
   "cell_type": "code",
   "execution_count": 16,
   "metadata": {},
   "outputs": [
    {
     "name": "stdout",
     "output_type": "stream",
     "text": [
      "Local model accuracy on entire test set: 67.16%\n"
     ]
    }
   ],
   "source": [
    "pred_y = local_model.predict(test_X)\n",
    "score = accuracy_score(pred_y, test_y)\n",
    "print(f'Local model accuracy on entire test set: {(score*100):.2f}%')"
   ]
  },
  {
   "cell_type": "markdown",
   "metadata": {},
   "source": [
    "### Wykresy LIME\n",
    "#### Funkcje do rysowania"
   ]
  },
  {
   "cell_type": "code",
   "execution_count": 17,
   "metadata": {},
   "outputs": [],
   "source": [
    "def plot_lime(local_model, model, sample_df, sample, plot_step=0.1):\n",
    "    x_min, x_max = sample_df['age_when_met'].min() - 1, sample_df['age_when_met'].max() + 1\n",
    "    y_min, y_max = sample_df['time_from_met_to_rel'].min() - 1, sample_df['time_from_met_to_rel'].max() + 1\n",
    "    xx, yy = np.meshgrid(np.arange(x_min, x_max, plot_step),\n",
    "                         np.arange(y_min, y_max, plot_step))\n",
    "\n",
    "    fare = np.zeros(shape=())\n",
    "    points = np.c_[xx.ravel(), yy.ravel()]\n",
    "\n",
    "    img_df = pd.DataFrame(points, columns=['age_when_met', 'time_from_met_to_rel'])\n",
    "    for col in ['ppagecat', 'ppincimp']:\n",
    "        val = sample[col].item()\n",
    "        img_df[col] = val\n",
    "\n",
    "\n",
    "    local_Z = local_model.predict(img_df)\n",
    "    local_Z = local_Z.reshape(xx.shape)\n",
    "    Z = model.predict(img_df)\n",
    "    Z = Z.reshape(xx.shape)\n",
    "    \n",
    "    fig, axes = plt.subplots(nrows=1, ncols=2, figsize=(20, 8))\n",
    "    plot_colors = ['red', 'blue']\n",
    "    cs = axes[0].contourf(xx, yy, local_Z, cmap=plt.cm.RdYlBu)\n",
    "    for i, color in zip(range(2), plot_colors):\n",
    "        n_points = min(100, len(sample_df[sample_preds == i]))\n",
    "        points = sample_df[sample_preds == i].sample(n=n_points)\n",
    "        axes[0].scatter(points['age_when_met'], points['time_from_met_to_rel'], c=color, label=i,\n",
    "                    cmap=plt.cm.RdYlBu, edgecolor='black', s=15)\n",
    "    axes[0].scatter(sample['age_when_met'], sample['time_from_met_to_rel'], c='yellow', marker='D', s=60)\n",
    "    axes[0].set_title('LIME')\n",
    "    axes[0].set_xlabel('age_when_met')\n",
    "    axes[0].set_ylabel('time_from_met_to_rel')\n",
    "\n",
    "    cs = axes[1].contourf(xx, yy, Z, cmap=plt.cm.RdYlBu)\n",
    "    for i, color in zip(range(2), plot_colors):\n",
    "        n_points = min(100, len(sample_df[sample_preds == i]))\n",
    "        points = sample_df[sample_preds == i].sample(n=n_points)\n",
    "        axes[1].scatter(points['age_when_met'], points['time_from_met_to_rel'], c=color, label=i,\n",
    "                    cmap=plt.cm.RdYlBu, edgecolor='black', s=15)\n",
    "    axes[1].scatter(sample['age_when_met'], sample['time_from_met_to_rel'], c='yellow', marker='D', s=60)\n",
    "    axes[1].set_title('Original model')\n",
    "    axes[1].set_xlabel('age_when_met')\n",
    "    axes[1].set_ylabel('time_from_met_to_rel')\n",
    "    plt.show()\n",
    "    \n",
    "    \n",
    "def plot_graph(model):\n",
    "    dot_data = StringIO()\n",
    "    export_graphviz(model, out_file=dot_data,  \n",
    "                    filled=True, rounded=True,\n",
    "                    special_characters=True)\n",
    "    graph = pydotplus.graph_from_dot_data(dot_data.getvalue())  \n",
    "    return Image(graph.create_png())"
   ]
  },
  {
   "cell_type": "markdown",
   "metadata": {},
   "source": [
    "### Wykres klasyfikacji najbliższego otoczenia (po lewej model lokalny, po prawej oryginalny)"
   ]
  },
  {
   "cell_type": "code",
   "execution_count": 20,
   "metadata": {},
   "outputs": [
    {
     "data": {
      "image/png": "[encoded data removed]",
      "text/plain": [
       "<Figure size 1440x576 with 2 Axes>"
      ]
     },
     "metadata": {
      "needs_background": "light"
     },
     "output_type": "display_data"
    }
   ],
   "source": [
    "plot_lime(local_model, model, sample_df, sample, plot_step=0.01)"
   ]
  },
  {
   "cell_type": "markdown",
   "metadata": {},
   "source": [
    "### Graf lokalnego drzewa decyzyjnego"
   ]
  },
  {
   "cell_type": "code",
   "execution_count": 21,
   "metadata": {},
   "outputs": [
    {
     "data": {
      "image/png": "[encoded data removed]",
      "text/plain": [
       "<IPython.core.display.Image object>"
      ]
     },
     "execution_count": 21,
     "metadata": {},
     "output_type": "execute_result"
    }
   ],
   "source": [
    "plot_graph(local_model)"
   ]
  },
  {
   "cell_type": "markdown",
   "metadata": {},
   "source": [
    "## Wykresy (break down, shap)"
   ]
  },
  {
   "cell_type": "markdown",
   "metadata": {},
   "source": [
    "#### Funkcje do tworzenia wykresów "
   ]
  },
  {
   "cell_type": "code",
   "execution_count": 22,
   "metadata": {},
   "outputs": [],
   "source": [
    "def break_down(model, df, sample, order):\n",
    "    df = df.copy()\n",
    "    preds = [np.mean(model.predict_proba(df)[:, 1])]\n",
    "    for var in order:\n",
    "        val = sample[var].item()\n",
    "        df[var] = val\n",
    "        pred = np.mean(model.predict_proba(df)[:, 1])\n",
    "        preds.append(pred)\n",
    "    return [preds[i] - preds[i-1] if i != 0 else preds[i] for i in range(len(preds))]\n",
    "\n",
    "\n",
    "def plot_break_down(model, df, sample, order, cat_cols):\n",
    "    changes = break_down(model, df, sample, order)\n",
    "    labels = ['intercept'] + [f'{o}={sample[o].item():.02f}' if o not in cat_cols else f'{o}={sample[o].item()}' for o in order]\n",
    "    plot = waterfall_chart.plot(labels, changes, net_label='total', formatting='{:,.3f}')\n",
    "    plot.rcParams[\"figure.figsize\"] = (12, 5)\n",
    "    \n",
    "    \n",
    "def shap_values(model, df, sample, features):\n",
    "    all_changes = {f: [] for f in features}\n",
    "    for order in itertools.permutations(features):\n",
    "        changes = break_down(model, df, sample, order)\n",
    "        for f, change in zip(order, changes[1:]):\n",
    "            all_changes[f].append(change)\n",
    "    return {f: np.mean(changes) for f, changes in all_changes.items()}\n",
    "\n",
    "\n",
    "def plot_shap(model, df, sample, features, cat_cols):\n",
    "    shap_dict = shap_values(model, df, sample, features)\n",
    "    plt.figure(figsize=(12,5))\n",
    "    labels, shap_vals = list(shap_dict.keys()), list(shap_dict.values())\n",
    "    labels = [f'{l}={sample[l].item():.02f}' if l not in cat_cols else f'{l}={sample[l].item()}' for l in labels]\n",
    "    plt.bar(range(len(labels)), shap_vals)\n",
    "    plt.xticks(range(len(labels)), labels)"
   ]
  },
  {
   "cell_type": "markdown",
   "metadata": {},
   "source": [
    "#### Break down #1"
   ]
  },
  {
   "cell_type": "code",
   "execution_count": 23,
   "metadata": {},
   "outputs": [],
   "source": [
    "order1 = [num_feature1, num_feature2, cat_feature1, cat_feature2]\n",
    "order2 = order1[::-1]"
   ]
  },
  {
   "cell_type": "code",
   "execution_count": 25,
   "metadata": {},
   "outputs": [
    {
     "data": {
      "image/png": "[encoded data removed]",
      "text/plain": [
       "<Figure size 864x360 with 1 Axes>"
      ]
     },
     "metadata": {
      "needs_background": "light"
     },
     "output_type": "display_data"
    }
   ],
   "source": [
    "plot_break_down(model, train_X, sample, order1, cat_cols=[cat_feature1, cat_feature2])"
   ]
  },
  {
   "cell_type": "markdown",
   "metadata": {},
   "source": [
    "#### Break down #2"
   ]
  },
  {
   "cell_type": "code",
   "execution_count": 26,
   "metadata": {},
   "outputs": [
    {
     "data": {
      "image/png": "[encoded data removed]",
      "text/plain": [
       "<Figure size 864x360 with 1 Axes>"
      ]
     },
     "metadata": {
      "needs_background": "light"
     },
     "output_type": "display_data"
    }
   ],
   "source": [
    "plot_break_down(model, train_X, sample, order2, cat_cols=[cat_feature1, cat_feature2])"
   ]
  },
  {
   "cell_type": "markdown",
   "metadata": {},
   "source": [
    "#### SHAP"
   ]
  },
  {
   "cell_type": "code",
   "execution_count": 27,
   "metadata": {},
   "outputs": [
    {
     "data": {
      "image/png": "[encoded data removed]",
      "text/plain": [
       "<Figure size 864x360 with 1 Axes>"
      ]
     },
     "metadata": {
      "needs_background": "light"
     },
     "output_type": "display_data"
    }
   ],
   "source": [
    "plot_shap(model, train_X, sample, order1, cat_cols=[cat_feature1, cat_feature2])"
   ]
  },
  {
   "cell_type": "markdown",
   "metadata": {},
   "source": [
    "## Wnioski\n",
    "\n",
    "Rozpatrywany przypadek:\n",
    "* age_when_met = 44\n",
    "* time_from_met_to_rel = 3.25\n",
    "* ppagecat = 5: (65-74)\n",
    "* ppincimp = 16: (\\\\$60,000 - \\\\$74,999)\n",
    "\n",
    "Lokalne przybliżenie oryginalnego modelu (xgboost) drzewem decyzyjnym o głębokości 2 (przy ustalonych zmiennych kategorycznych) pozwala twierdzić, że oryginalny model dla ludzi z podobnym wiekiem spotkania (+/- 5 lat) i dla których czas od poznania do związku wynosi 3-3.5 lat przewiduje małe szanse na bycie w związku małżeńskim. Poza podanymm przedziałem drugiej z tych zmiennych szanse się odwracają. Pokrywa się to z wartością shap dla tej zmiennej, która pokazuje, że taka wartość średnio negatywnie wpływa na szansę małżeństwa. Dla zmiennej age_when_met wartość shap pokazuje, że średnio znacząco obniża szansę małżeństwa, natomiast w okolicy wybranego punktu lokalny model nie wskazuje na taką zależność. "
   ]
  },
  {
   "cell_type": "code",
   "execution_count": null,
   "metadata": {},
   "outputs": [],
   "source": []
  }
 ],
 "metadata": {
  "kernelspec": {
   "display_name": "Python 3",
   "language": "python",
   "name": "python3"
  },
  "language_info": {
   "codemirror_mode": {
    "name": "ipython",
    "version": 3
   },
   "file_extension": ".py",
   "mimetype": "text/x-python",
   "name": "python",
   "nbconvert_exporter": "python",
   "pygments_lexer": "ipython3",
   "version": "3.7.3"
  }
 },
 "nbformat": 4,
 "nbformat_minor": 2
}
