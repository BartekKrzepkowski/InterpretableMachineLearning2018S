{
 "cells": [
  {
   "cell_type": "code",
   "execution_count": 1,
   "metadata": {},
   "outputs": [],
   "source": [
    "import os\n",
    "import warnings\n",
    "warnings.filterwarnings(\"ignore\")\n",
    "\n",
    "import pandas as pd\n",
    "import numpy as np\n",
    "import matplotlib.pyplot as plt\n",
    "import xgboost\n",
    "import waterfall_chart"
   ]
  },
  {
   "cell_type": "code",
   "execution_count": 2,
   "metadata": {},
   "outputs": [],
   "source": [
    "file = pd.read_stata('hctms_data.dta')"
   ]
  },
  {
   "cell_type": "markdown",
   "metadata": {},
   "source": [
    "## Wybrane zmienne - preprocessing\n",
    "##### Ilościowe\n",
    "- **Q21A_Year** - w którym roku badany poznał partnera\n",
    "- **w6_q9** - wiek partnera w 2017\n",
    "\n",
    "##### Jakościowe\n",
    "- **Q27** - czy ty i twój partner dorastaliście w tym samym mieście?\n",
    "- **w6_q32**- czy wykorzystałeś internet do poznania partnera?"
   ]
  },
  {
   "cell_type": "code",
   "execution_count": 3,
   "metadata": {},
   "outputs": [],
   "source": [
    "dt = file[['w6_number_people_met','age_when_met','Q9', 'ppage','w6_q32','S1','Q27','w6_q21b_year','w6_q21c_year','Q21A_Year','w6_q9']].dropna().reset_index(drop = True)"
   ]
  },
  {
   "cell_type": "code",
   "execution_count": 4,
   "metadata": {},
   "outputs": [],
   "source": [
    "# S1 - Is married?\n",
    "dt['S1'] = 1 - dt['S1'].cat.codes\n",
    "\n",
    "\n",
    "# w6_q32 - Did you use internet to meet partner?\n",
    "dt['w6_q32'] = dt['w6_q32'].str.replace('No.*','0')\n",
    "dt['w6_q32'] = dt['w6_q32'].str.replace('Yes.*','1')\n",
    "dt = dt.loc[~(dt['w6_q32'] == 'Refused')]\n",
    "dt['w6_q32'] = pd.to_numeric(dt['w6_q32'])\n",
    "\n",
    "# Q27 - The same city with partner?\n",
    "dt['Q27'] = dt['Q27'].str.replace('No.*','0')\n",
    "dt['Q27'] = dt['Q27'].str.replace('Yes.*','1')\n",
    "dt = dt.loc[~(dt['Q27'] == 'Refused')]\n",
    "dt['Q27'] = pd.to_numeric(dt['Q27'])\n",
    "\n",
    "# Q21A_Year - In what Year and Month did you first meet \n",
    "dt = dt.loc[~(dt['Q21A_Year'] == 'Refused')]\n",
    "dt['Q21A_Year'] = pd.to_numeric(dt['Q21A_Year'])\n",
    "\n",
    "# w6_q9 - Partner age in 2017\n",
    "\n",
    "features = dt[['Q21A_Year','w6_q9','Q27','w6_q32']]\n",
    "labels = dt[['S1']]"
   ]
  },
  {
   "cell_type": "code",
   "execution_count": 5,
   "metadata": {},
   "outputs": [
    {
     "data": {
      "text/html": [
       "<div>\n",
       "<style scoped>\n",
       "    .dataframe tbody tr th:only-of-type {\n",
       "        vertical-align: middle;\n",
       "    }\n",
       "\n",
       "    .dataframe tbody tr th {\n",
       "        vertical-align: top;\n",
       "    }\n",
       "\n",
       "    .dataframe thead th {\n",
       "        text-align: right;\n",
       "    }\n",
       "</style>\n",
       "<table border=\"1\" class=\"dataframe\">\n",
       "  <thead>\n",
       "    <tr style=\"text-align: right;\">\n",
       "      <th></th>\n",
       "      <th>Q21A_Year</th>\n",
       "      <th>w6_q9</th>\n",
       "      <th>Q27</th>\n",
       "      <th>w6_q32</th>\n",
       "    </tr>\n",
       "  </thead>\n",
       "  <tbody>\n",
       "    <tr>\n",
       "      <th>0</th>\n",
       "      <td>1983</td>\n",
       "      <td>52.0</td>\n",
       "      <td>0</td>\n",
       "      <td>0</td>\n",
       "    </tr>\n",
       "    <tr>\n",
       "      <th>1</th>\n",
       "      <td>2006</td>\n",
       "      <td>45.0</td>\n",
       "      <td>0</td>\n",
       "      <td>1</td>\n",
       "    </tr>\n",
       "    <tr>\n",
       "      <th>2</th>\n",
       "      <td>1983</td>\n",
       "      <td>59.0</td>\n",
       "      <td>0</td>\n",
       "      <td>0</td>\n",
       "    </tr>\n",
       "    <tr>\n",
       "      <th>3</th>\n",
       "      <td>1981</td>\n",
       "      <td>60.0</td>\n",
       "      <td>0</td>\n",
       "      <td>0</td>\n",
       "    </tr>\n",
       "    <tr>\n",
       "      <th>4</th>\n",
       "      <td>1966</td>\n",
       "      <td>67.0</td>\n",
       "      <td>1</td>\n",
       "      <td>0</td>\n",
       "    </tr>\n",
       "    <tr>\n",
       "      <th>5</th>\n",
       "      <td>1967</td>\n",
       "      <td>65.0</td>\n",
       "      <td>1</td>\n",
       "      <td>0</td>\n",
       "    </tr>\n",
       "    <tr>\n",
       "      <th>6</th>\n",
       "      <td>2008</td>\n",
       "      <td>43.0</td>\n",
       "      <td>0</td>\n",
       "      <td>0</td>\n",
       "    </tr>\n",
       "    <tr>\n",
       "      <th>7</th>\n",
       "      <td>2007</td>\n",
       "      <td>35.0</td>\n",
       "      <td>0</td>\n",
       "      <td>0</td>\n",
       "    </tr>\n",
       "    <tr>\n",
       "      <th>8</th>\n",
       "      <td>2002</td>\n",
       "      <td>42.0</td>\n",
       "      <td>0</td>\n",
       "      <td>0</td>\n",
       "    </tr>\n",
       "    <tr>\n",
       "      <th>9</th>\n",
       "      <td>2007</td>\n",
       "      <td>37.0</td>\n",
       "      <td>0</td>\n",
       "      <td>0</td>\n",
       "    </tr>\n",
       "  </tbody>\n",
       "</table>\n",
       "</div>"
      ],
      "text/plain": [
       "   Q21A_Year  w6_q9  Q27  w6_q32\n",
       "0       1983   52.0    0       0\n",
       "1       2006   45.0    0       1\n",
       "2       1983   59.0    0       0\n",
       "3       1981   60.0    0       0\n",
       "4       1966   67.0    1       0\n",
       "5       1967   65.0    1       0\n",
       "6       2008   43.0    0       0\n",
       "7       2007   35.0    0       0\n",
       "8       2002   42.0    0       0\n",
       "9       2007   37.0    0       0"
      ]
     },
     "execution_count": 5,
     "metadata": {},
     "output_type": "execute_result"
    }
   ],
   "source": [
    "features.head(10)"
   ]
  },
  {
   "cell_type": "code",
   "execution_count": 6,
   "metadata": {},
   "outputs": [
    {
     "name": "stdout",
     "output_type": "stream",
     "text": [
      "Skuteczność modelu to : 84.65 %\n"
     ]
    }
   ],
   "source": [
    "warnings.filterwarnings(\"ignore\")\n",
    "from sklearn.model_selection import train_test_split\n",
    "train_features, test_features, train_labels, test_labels = train_test_split(features, labels, test_size = 0.10, random_state = 0)\n",
    "\n",
    "#XGBoost\n",
    "from xgboost import XGBClassifier\n",
    "model_xgb = XGBClassifier(max_depth=3)\n",
    "model_xgb.fit(train_features,train_labels)\n",
    "predictions = model_xgb.predict(test_features)\n",
    "tested_labels = np.array(test_labels)\n",
    "model_xgb.score(test_features,test_labels)\n",
    "model_xgb.predict(test_features)\n",
    "model_xgb.predict_proba(test_features)\n",
    "\n",
    "# Zbadanie skuteczności modelu\n",
    "from sklearn.model_selection import cross_validate\n",
    "cv_scores = cross_validate(model_xgb, train_features, train_labels, cv = 4)\n",
    "print('Skuteczność modelu to : '+'%2.2f' % (cv_scores['test_score'].mean()*100)+' %')"
   ]
  },
  {
   "cell_type": "markdown",
   "metadata": {},
   "source": [
    "## LIME"
   ]
  },
  {
   "cell_type": "code",
   "execution_count": 166,
   "metadata": {},
   "outputs": [],
   "source": [
    "from sklearn.preprocessing import normalize    \n",
    "from sklearn import tree\n",
    "\n",
    "def perturbate(features, sample_index, cols_to_perturbate, sd_proc, n):\n",
    "    \"\"\"\n",
    "    cols_to_perturbate - list of length 2 with indexes of columns that we want to perturbate\n",
    "    sd_proc - percent of sd we want new data to be perturbated\n",
    "    \"\"\"\n",
    "    \n",
    "    # Sd of selected columns\n",
    "    col_1_sd_proc = float(features.iloc[:,[cols_to_perturbate[0]]].std()) * sd_proc\n",
    "    col_2_sd_proc = float(features.iloc[:,[cols_to_perturbate[1]]].std()) * sd_proc \n",
    "    \n",
    "    # Create new data frame and fill with perturbated data\n",
    "    sample_row=features.iloc[[sample_index],:]\n",
    "    x_prim=sample_row.append([sample_row]*(n-1),ignore_index=True)\n",
    "    x_prim_default = x_prim.copy()\n",
    "    x_prim.iloc[:,[cols_to_perturbate[0]]]=np.random.normal(sample_row.iloc[:,cols_to_perturbate[0]].values , col_1_sd_proc, n)\n",
    "    x_prim.iloc[:,[cols_to_perturbate[1]]]=np.random.normal(sample_row.iloc[:,cols_to_perturbate[1]].values , col_2_sd_proc, n)\n",
    "    \n",
    "    # Weights calculation - normalized euclidean distance\n",
    "    weights=np.sqrt(((x_prim.iloc[:,cols_to_perturbate].values - x_prim_default.iloc[:,cols_to_perturbate].values)**2).sum(axis=1))\n",
    "    normalized_weights=normalize(weights.reshape(-1,1), axis=0).reshape(n,)\n",
    "    \n",
    "    return x_prim, normalized_weights\n",
    "\n",
    "def plot_lime(model, features, row, cols, sd, n):\n",
    "    colnames = features.columns\n",
    "    x_prim, weights = perturbate(features, row, cols, sd, n)\n",
    "    \n",
    "    # Predict perturbated data with Black Box\n",
    "    y_prim = model.predict(x_prim)\n",
    "    \n",
    "    # Fit predicted perturbated data by White Box\n",
    "    clf = tree.DecisionTreeClassifier(max_depth=2)\n",
    "    clf = clf.fit(x_prim, y_prim, sample_weight = weights)\n",
    "    \n",
    "    # Plot\n",
    "    import matplotlib.pyplot as plt\n",
    "    plt.scatter(x_prim.iloc[:,cols[0]],x_prim.iloc[:,cols[1]], c=clf.predict(x_prim))\n",
    "    plt.xlabel(colnames[cols[0]])\n",
    "    plt.ylabel(colnames[cols[1]])\n",
    "    plt.show()\n",
    "    return sum(clf.predict(x_prim))/n"
   ]
  },
  {
   "cell_type": "markdown",
   "metadata": {},
   "source": [
    "## Breakdown"
   ]
  },
  {
   "cell_type": "code",
   "execution_count": 150,
   "metadata": {},
   "outputs": [
    {
     "data": {
      "text/html": [
       "\n",
       "    <div class=\"bk-root\">\n",
       "        <a href=\"https://bokeh.pydata.org\" target=\"_blank\" class=\"bk-logo bk-logo-small bk-logo-notebook\"></a>\n",
       "        <span id=\"1472\">Loading BokehJS ...</span>\n",
       "    </div>"
      ]
     },
     "metadata": {},
     "output_type": "display_data"
    },
    {
     "data": {
      "application/javascript": [
       "\n",
       "(function(root) {\n",
       "  function now() {\n",
       "    return new Date();\n",
       "  }\n",
       "\n",
       "  var force = true;\n",
       "\n",
       "  if (typeof (root._bokeh_onload_callbacks) === \"undefined\" || force === true) {\n",
       "    root._bokeh_onload_callbacks = [];\n",
       "    root._bokeh_is_loading = undefined;\n",
       "  }\n",
       "\n",
       "  var JS_MIME_TYPE = 'application/javascript';\n",
       "  var HTML_MIME_TYPE = 'text/html';\n",
       "  var EXEC_MIME_TYPE = 'application/vnd.bokehjs_exec.v0+json';\n",
       "  var CLASS_NAME = 'output_bokeh rendered_html';\n",
       "\n",
       "  /**\n",
       "   * Render data to the DOM node\n",
       "   */\n",
       "  function render(props, node) {\n",
       "    var script = document.createElement(\"script\");\n",
       "    node.appendChild(script);\n",
       "  }\n",
       "\n",
       "  /**\n",
       "   * Handle when an output is cleared or removed\n",
       "   */\n",
       "  function handleClearOutput(event, handle) {\n",
       "    var cell = handle.cell;\n",
       "\n",
       "    var id = cell.output_area._bokeh_element_id;\n",
       "    var server_id = cell.output_area._bokeh_server_id;\n",
       "    // Clean up Bokeh references\n",
       "    if (id != null && id in Bokeh.index) {\n",
       "      Bokeh.index[id].model.document.clear();\n",
       "      delete Bokeh.index[id];\n",
       "    }\n",
       "\n",
       "    if (server_id !== undefined) {\n",
       "      // Clean up Bokeh references\n",
       "      var cmd = \"from bokeh.io.state import curstate; print(curstate().uuid_to_server['\" + server_id + \"'].get_sessions()[0].document.roots[0]._id)\";\n",
       "      cell.notebook.kernel.execute(cmd, {\n",
       "        iopub: {\n",
       "          output: function(msg) {\n",
       "            var id = msg.content.text.trim();\n",
       "            if (id in Bokeh.index) {\n",
       "              Bokeh.index[id].model.document.clear();\n",
       "              delete Bokeh.index[id];\n",
       "            }\n",
       "          }\n",
       "        }\n",
       "      });\n",
       "      // Destroy server and session\n",
       "      var cmd = \"import bokeh.io.notebook as ion; ion.destroy_server('\" + server_id + \"')\";\n",
       "      cell.notebook.kernel.execute(cmd);\n",
       "    }\n",
       "  }\n",
       "\n",
       "  /**\n",
       "   * Handle when a new output is added\n",
       "   */\n",
       "  function handleAddOutput(event, handle) {\n",
       "    var output_area = handle.output_area;\n",
       "    var output = handle.output;\n",
       "\n",
       "    // limit handleAddOutput to display_data with EXEC_MIME_TYPE content only\n",
       "    if ((output.output_type != \"display_data\") || (!output.data.hasOwnProperty(EXEC_MIME_TYPE))) {\n",
       "      return\n",
       "    }\n",
       "\n",
       "    var toinsert = output_area.element.find(\".\" + CLASS_NAME.split(' ')[0]);\n",
       "\n",
       "    if (output.metadata[EXEC_MIME_TYPE][\"id\"] !== undefined) {\n",
       "      toinsert[toinsert.length - 1].firstChild.textContent = output.data[JS_MIME_TYPE];\n",
       "      // store reference to embed id on output_area\n",
       "      output_area._bokeh_element_id = output.metadata[EXEC_MIME_TYPE][\"id\"];\n",
       "    }\n",
       "    if (output.metadata[EXEC_MIME_TYPE][\"server_id\"] !== undefined) {\n",
       "      var bk_div = document.createElement(\"div\");\n",
       "      bk_div.innerHTML = output.data[HTML_MIME_TYPE];\n",
       "      var script_attrs = bk_div.children[0].attributes;\n",
       "      for (var i = 0; i < script_attrs.length; i++) {\n",
       "        toinsert[toinsert.length - 1].firstChild.setAttribute(script_attrs[i].name, script_attrs[i].value);\n",
       "      }\n",
       "      // store reference to server id on output_area\n",
       "      output_area._bokeh_server_id = output.metadata[EXEC_MIME_TYPE][\"server_id\"];\n",
       "    }\n",
       "  }\n",
       "\n",
       "  function register_renderer(events, OutputArea) {\n",
       "\n",
       "    function append_mime(data, metadata, element) {\n",
       "      // create a DOM node to render to\n",
       "      var toinsert = this.create_output_subarea(\n",
       "        metadata,\n",
       "        CLASS_NAME,\n",
       "        EXEC_MIME_TYPE\n",
       "      );\n",
       "      this.keyboard_manager.register_events(toinsert);\n",
       "      // Render to node\n",
       "      var props = {data: data, metadata: metadata[EXEC_MIME_TYPE]};\n",
       "      render(props, toinsert[toinsert.length - 1]);\n",
       "      element.append(toinsert);\n",
       "      return toinsert\n",
       "    }\n",
       "\n",
       "    /* Handle when an output is cleared or removed */\n",
       "    events.on('clear_output.CodeCell', handleClearOutput);\n",
       "    events.on('delete.Cell', handleClearOutput);\n",
       "\n",
       "    /* Handle when a new output is added */\n",
       "    events.on('output_added.OutputArea', handleAddOutput);\n",
       "\n",
       "    /**\n",
       "     * Register the mime type and append_mime function with output_area\n",
       "     */\n",
       "    OutputArea.prototype.register_mime_type(EXEC_MIME_TYPE, append_mime, {\n",
       "      /* Is output safe? */\n",
       "      safe: true,\n",
       "      /* Index of renderer in `output_area.display_order` */\n",
       "      index: 0\n",
       "    });\n",
       "  }\n",
       "\n",
       "  // register the mime type if in Jupyter Notebook environment and previously unregistered\n",
       "  if (root.Jupyter !== undefined) {\n",
       "    var events = require('base/js/events');\n",
       "    var OutputArea = require('notebook/js/outputarea').OutputArea;\n",
       "\n",
       "    if (OutputArea.prototype.mime_types().indexOf(EXEC_MIME_TYPE) == -1) {\n",
       "      register_renderer(events, OutputArea);\n",
       "    }\n",
       "  }\n",
       "\n",
       "  \n",
       "  if (typeof (root._bokeh_timeout) === \"undefined\" || force === true) {\n",
       "    root._bokeh_timeout = Date.now() + 5000;\n",
       "    root._bokeh_failed_load = false;\n",
       "  }\n",
       "\n",
       "  var NB_LOAD_WARNING = {'data': {'text/html':\n",
       "     \"<div style='background-color: #fdd'>\\n\"+\n",
       "     \"<p>\\n\"+\n",
       "     \"BokehJS does not appear to have successfully loaded. If loading BokehJS from CDN, this \\n\"+\n",
       "     \"may be due to a slow or bad network connection. Possible fixes:\\n\"+\n",
       "     \"</p>\\n\"+\n",
       "     \"<ul>\\n\"+\n",
       "     \"<li>re-rerun `output_notebook()` to attempt to load from CDN again, or</li>\\n\"+\n",
       "     \"<li>use INLINE resources instead, as so:</li>\\n\"+\n",
       "     \"</ul>\\n\"+\n",
       "     \"<code>\\n\"+\n",
       "     \"from bokeh.resources import INLINE\\n\"+\n",
       "     \"output_notebook(resources=INLINE)\\n\"+\n",
       "     \"</code>\\n\"+\n",
       "     \"</div>\"}};\n",
       "\n",
       "  function display_loaded() {\n",
       "    var el = document.getElementById(\"1472\");\n",
       "    if (el != null) {\n",
       "      el.textContent = \"BokehJS is loading...\";\n",
       "    }\n",
       "    if (root.Bokeh !== undefined) {\n",
       "      if (el != null) {\n",
       "        el.textContent = \"BokehJS \" + root.Bokeh.version + \" successfully loaded.\";\n",
       "      }\n",
       "    } else if (Date.now() < root._bokeh_timeout) {\n",
       "      setTimeout(display_loaded, 100)\n",
       "    }\n",
       "  }\n",
       "\n",
       "\n",
       "  function run_callbacks() {\n",
       "    try {\n",
       "      root._bokeh_onload_callbacks.forEach(function(callback) { callback() });\n",
       "    }\n",
       "    finally {\n",
       "      delete root._bokeh_onload_callbacks\n",
       "    }\n",
       "    console.info(\"Bokeh: all callbacks have finished\");\n",
       "  }\n",
       "\n",
       "  function load_libs(js_urls, callback) {\n",
       "    root._bokeh_onload_callbacks.push(callback);\n",
       "    if (root._bokeh_is_loading > 0) {\n",
       "      console.log(\"Bokeh: BokehJS is being loaded, scheduling callback at\", now());\n",
       "      return null;\n",
       "    }\n",
       "    if (js_urls == null || js_urls.length === 0) {\n",
       "      run_callbacks();\n",
       "      return null;\n",
       "    }\n",
       "    console.log(\"Bokeh: BokehJS not loaded, scheduling load and callback at\", now());\n",
       "    root._bokeh_is_loading = js_urls.length;\n",
       "    for (var i = 0; i < js_urls.length; i++) {\n",
       "      var url = js_urls[i];\n",
       "      var s = document.createElement('script');\n",
       "      s.src = url;\n",
       "      s.async = false;\n",
       "      s.onreadystatechange = s.onload = function() {\n",
       "        root._bokeh_is_loading--;\n",
       "        if (root._bokeh_is_loading === 0) {\n",
       "          console.log(\"Bokeh: all BokehJS libraries loaded\");\n",
       "          run_callbacks()\n",
       "        }\n",
       "      };\n",
       "      s.onerror = function() {\n",
       "        console.warn(\"failed to load library \" + url);\n",
       "      };\n",
       "      console.log(\"Bokeh: injecting script tag for BokehJS library: \", url);\n",
       "      document.getElementsByTagName(\"head\")[0].appendChild(s);\n",
       "    }\n",
       "  };var element = document.getElementById(\"1472\");\n",
       "  if (element == null) {\n",
       "    console.log(\"Bokeh: ERROR: autoload.js configured with elementid '1472' but no matching script tag was found. \")\n",
       "    return false;\n",
       "  }\n",
       "\n",
       "  var js_urls = [\"https://cdn.pydata.org/bokeh/release/bokeh-1.0.4.min.js\", \"https://cdn.pydata.org/bokeh/release/bokeh-widgets-1.0.4.min.js\", \"https://cdn.pydata.org/bokeh/release/bokeh-tables-1.0.4.min.js\", \"https://cdn.pydata.org/bokeh/release/bokeh-gl-1.0.4.min.js\"];\n",
       "\n",
       "  var inline_js = [\n",
       "    function(Bokeh) {\n",
       "      Bokeh.set_log_level(\"info\");\n",
       "    },\n",
       "    \n",
       "    function(Bokeh) {\n",
       "      \n",
       "    },\n",
       "    function(Bokeh) {\n",
       "      console.log(\"Bokeh: injecting CSS: https://cdn.pydata.org/bokeh/release/bokeh-1.0.4.min.css\");\n",
       "      Bokeh.embed.inject_css(\"https://cdn.pydata.org/bokeh/release/bokeh-1.0.4.min.css\");\n",
       "      console.log(\"Bokeh: injecting CSS: https://cdn.pydata.org/bokeh/release/bokeh-widgets-1.0.4.min.css\");\n",
       "      Bokeh.embed.inject_css(\"https://cdn.pydata.org/bokeh/release/bokeh-widgets-1.0.4.min.css\");\n",
       "      console.log(\"Bokeh: injecting CSS: https://cdn.pydata.org/bokeh/release/bokeh-tables-1.0.4.min.css\");\n",
       "      Bokeh.embed.inject_css(\"https://cdn.pydata.org/bokeh/release/bokeh-tables-1.0.4.min.css\");\n",
       "    }\n",
       "  ];\n",
       "\n",
       "  function run_inline_js() {\n",
       "    \n",
       "    if ((root.Bokeh !== undefined) || (force === true)) {\n",
       "      for (var i = 0; i < inline_js.length; i++) {\n",
       "        inline_js[i].call(root, root.Bokeh);\n",
       "      }if (force === true) {\n",
       "        display_loaded();\n",
       "      }} else if (Date.now() < root._bokeh_timeout) {\n",
       "      setTimeout(run_inline_js, 100);\n",
       "    } else if (!root._bokeh_failed_load) {\n",
       "      console.log(\"Bokeh: BokehJS failed to load within specified timeout.\");\n",
       "      root._bokeh_failed_load = true;\n",
       "    } else if (force !== true) {\n",
       "      var cell = $(document.getElementById(\"1472\")).parents('.cell').data().cell;\n",
       "      cell.output_area.append_execute_result(NB_LOAD_WARNING)\n",
       "    }\n",
       "\n",
       "  }\n",
       "\n",
       "  if (root._bokeh_is_loading === 0) {\n",
       "    console.log(\"Bokeh: BokehJS loaded, going straight to plotting\");\n",
       "    run_inline_js();\n",
       "  } else {\n",
       "    load_libs(js_urls, function() {\n",
       "      console.log(\"Bokeh: BokehJS plotting callback run at\", now());\n",
       "      run_inline_js();\n",
       "    });\n",
       "  }\n",
       "}(window));"
      ],
      "application/vnd.bokehjs_load.v0+json": "\n(function(root) {\n  function now() {\n    return new Date();\n  }\n\n  var force = true;\n\n  if (typeof (root._bokeh_onload_callbacks) === \"undefined\" || force === true) {\n    root._bokeh_onload_callbacks = [];\n    root._bokeh_is_loading = undefined;\n  }\n\n  \n\n  \n  if (typeof (root._bokeh_timeout) === \"undefined\" || force === true) {\n    root._bokeh_timeout = Date.now() + 5000;\n    root._bokeh_failed_load = false;\n  }\n\n  var NB_LOAD_WARNING = {'data': {'text/html':\n     \"<div style='background-color: #fdd'>\\n\"+\n     \"<p>\\n\"+\n     \"BokehJS does not appear to have successfully loaded. If loading BokehJS from CDN, this \\n\"+\n     \"may be due to a slow or bad network connection. Possible fixes:\\n\"+\n     \"</p>\\n\"+\n     \"<ul>\\n\"+\n     \"<li>re-rerun `output_notebook()` to attempt to load from CDN again, or</li>\\n\"+\n     \"<li>use INLINE resources instead, as so:</li>\\n\"+\n     \"</ul>\\n\"+\n     \"<code>\\n\"+\n     \"from bokeh.resources import INLINE\\n\"+\n     \"output_notebook(resources=INLINE)\\n\"+\n     \"</code>\\n\"+\n     \"</div>\"}};\n\n  function display_loaded() {\n    var el = document.getElementById(\"1472\");\n    if (el != null) {\n      el.textContent = \"BokehJS is loading...\";\n    }\n    if (root.Bokeh !== undefined) {\n      if (el != null) {\n        el.textContent = \"BokehJS \" + root.Bokeh.version + \" successfully loaded.\";\n      }\n    } else if (Date.now() < root._bokeh_timeout) {\n      setTimeout(display_loaded, 100)\n    }\n  }\n\n\n  function run_callbacks() {\n    try {\n      root._bokeh_onload_callbacks.forEach(function(callback) { callback() });\n    }\n    finally {\n      delete root._bokeh_onload_callbacks\n    }\n    console.info(\"Bokeh: all callbacks have finished\");\n  }\n\n  function load_libs(js_urls, callback) {\n    root._bokeh_onload_callbacks.push(callback);\n    if (root._bokeh_is_loading > 0) {\n      console.log(\"Bokeh: BokehJS is being loaded, scheduling callback at\", now());\n      return null;\n    }\n    if (js_urls == null || js_urls.length === 0) {\n      run_callbacks();\n      return null;\n    }\n    console.log(\"Bokeh: BokehJS not loaded, scheduling load and callback at\", now());\n    root._bokeh_is_loading = js_urls.length;\n    for (var i = 0; i < js_urls.length; i++) {\n      var url = js_urls[i];\n      var s = document.createElement('script');\n      s.src = url;\n      s.async = false;\n      s.onreadystatechange = s.onload = function() {\n        root._bokeh_is_loading--;\n        if (root._bokeh_is_loading === 0) {\n          console.log(\"Bokeh: all BokehJS libraries loaded\");\n          run_callbacks()\n        }\n      };\n      s.onerror = function() {\n        console.warn(\"failed to load library \" + url);\n      };\n      console.log(\"Bokeh: injecting script tag for BokehJS library: \", url);\n      document.getElementsByTagName(\"head\")[0].appendChild(s);\n    }\n  };var element = document.getElementById(\"1472\");\n  if (element == null) {\n    console.log(\"Bokeh: ERROR: autoload.js configured with elementid '1472' but no matching script tag was found. \")\n    return false;\n  }\n\n  var js_urls = [\"https://cdn.pydata.org/bokeh/release/bokeh-1.0.4.min.js\", \"https://cdn.pydata.org/bokeh/release/bokeh-widgets-1.0.4.min.js\", \"https://cdn.pydata.org/bokeh/release/bokeh-tables-1.0.4.min.js\", \"https://cdn.pydata.org/bokeh/release/bokeh-gl-1.0.4.min.js\"];\n\n  var inline_js = [\n    function(Bokeh) {\n      Bokeh.set_log_level(\"info\");\n    },\n    \n    function(Bokeh) {\n      \n    },\n    function(Bokeh) {\n      console.log(\"Bokeh: injecting CSS: https://cdn.pydata.org/bokeh/release/bokeh-1.0.4.min.css\");\n      Bokeh.embed.inject_css(\"https://cdn.pydata.org/bokeh/release/bokeh-1.0.4.min.css\");\n      console.log(\"Bokeh: injecting CSS: https://cdn.pydata.org/bokeh/release/bokeh-widgets-1.0.4.min.css\");\n      Bokeh.embed.inject_css(\"https://cdn.pydata.org/bokeh/release/bokeh-widgets-1.0.4.min.css\");\n      console.log(\"Bokeh: injecting CSS: https://cdn.pydata.org/bokeh/release/bokeh-tables-1.0.4.min.css\");\n      Bokeh.embed.inject_css(\"https://cdn.pydata.org/bokeh/release/bokeh-tables-1.0.4.min.css\");\n    }\n  ];\n\n  function run_inline_js() {\n    \n    if ((root.Bokeh !== undefined) || (force === true)) {\n      for (var i = 0; i < inline_js.length; i++) {\n        inline_js[i].call(root, root.Bokeh);\n      }if (force === true) {\n        display_loaded();\n      }} else if (Date.now() < root._bokeh_timeout) {\n      setTimeout(run_inline_js, 100);\n    } else if (!root._bokeh_failed_load) {\n      console.log(\"Bokeh: BokehJS failed to load within specified timeout.\");\n      root._bokeh_failed_load = true;\n    } else if (force !== true) {\n      var cell = $(document.getElementById(\"1472\")).parents('.cell').data().cell;\n      cell.output_area.append_execute_result(NB_LOAD_WARNING)\n    }\n\n  }\n\n  if (root._bokeh_is_loading === 0) {\n    console.log(\"Bokeh: BokehJS loaded, going straight to plotting\");\n    run_inline_js();\n  } else {\n    load_libs(js_urls, function() {\n      console.log(\"Bokeh: BokehJS plotting callback run at\", now());\n      run_inline_js();\n    });\n  }\n}(window));"
     },
     "metadata": {},
     "output_type": "display_data"
    }
   ],
   "source": [
    "from bokeh.plotting import figure, show\n",
    "from bokeh.io import output_notebook\n",
    "from bokeh.models import ColumnDataSource, LabelSet\n",
    "from bokeh.models.formatters import NumeralTickFormatter\n",
    "output_notebook()\n",
    "\n",
    "class Breakdown():\n",
    "    def __init__(self, model, features, row, order):\n",
    "        self.model = model\n",
    "        self.features = features\n",
    "        self.row = row\n",
    "        self.colnames = features.columns\n",
    "        self.order = order\n",
    "        \n",
    "        self.reordered = [self.colnames[i] for i in order]\n",
    "        \n",
    "    def breakdown_calculate(self):   \n",
    "        features = self.features.values\n",
    "        result = [np.mean(self.model.predict_proba(self.features)[:,1])]\n",
    "\n",
    "        row = self.row.values[0]\n",
    "        features_tmp = features.copy()\n",
    "        for i in self.order:\n",
    "            features_tmp[:,[i]] = row[i]\n",
    "            result.append(np.mean(self.model.predict_proba(pd.DataFrame(features_tmp, columns = self.colnames))[:,1]))\n",
    "        result = pd.DataFrame(data={\"var\":['intercept'] + list(self.reordered), \"proba\":result})\n",
    "        result['diff'] = result['proba'].diff().fillna(result['proba'])\n",
    "        return result\n",
    "    \n",
    "    def breakdown_plot(self):\n",
    "        x = self.breakdown_calculate()\n",
    "        \n",
    "        ### Calculate features needed by Bokeh\n",
    "        x['y_start'] = x['proba'] - x['diff']\n",
    "        x['label_pos'] = x['proba']\n",
    "        x['color'] = 'grey'\n",
    "        x.loc[x['diff'] < 0, 'color'] = 'red'\n",
    "        x.loc[x['diff'] >= 0, 'color'] = 'green'\n",
    "        x.loc[x['diff'] < 0, 'label_pos'] = x.label_pos - 0.05\n",
    "        net = x['diff'].sum()\n",
    "        df_net = pd.DataFrame.from_records([('net', net, net, 0, net, 'blue')],\n",
    "                                           columns=['var', 'proba', 'diff', 'y_start', 'label_pos', 'color'],\n",
    "                                           index=[\"net\"])\n",
    "        x = x.append(df_net).reset_index()\n",
    "\n",
    "        x['xrange'] = pd.Series([i +0.5 for i in range(x.shape[0])])\n",
    "        x[\"bar_label\"] = x[\"diff\"].map('{:,.2f}'.format)\n",
    "        source = ColumnDataSource(x)\n",
    "\n",
    "        p = figure(x_range=list(x['var']), y_range=(0, 1.1),\n",
    "                   plot_width=600, plot_height=300)\n",
    "\n",
    "        p.segment(x0='xrange', y0='y_start', x1=\"xrange\", y1='proba',\n",
    "                  source=source, color=\"color\", line_width=90)\n",
    "\n",
    "        p.grid.grid_line_alpha=0.3\n",
    "\n",
    "        labels = LabelSet(x='xrange', y='label_pos', text='bar_label',\n",
    "                          text_font_size=\"8pt\", level='glyph',\n",
    "                          x_offset=-20, y_offset=0, source=source)\n",
    "        p.add_layout(labels)\n",
    "        show(p)"
   ]
  },
  {
   "cell_type": "markdown",
   "metadata": {},
   "source": [
    "## Analiza wyników"
   ]
  },
  {
   "cell_type": "markdown",
   "metadata": {},
   "source": [
    "Dwie zmienne ciągłe które będziemy perturbować:\n",
    "- **Q21A_Year** - w którym roku badany poznał partnera\n",
    "- **w6_q9** - wiek partnera w 2017\n",
    "\n",
    "Model lokalny jaki będzie wykorzystywany w rozwiązaniu to **Drzewo klasyfikacyjne o maksymalnej długości 2**\n",
    "\n",
    "#### Analizowany przypadek:"
   ]
  },
  {
   "cell_type": "code",
   "execution_count": 182,
   "metadata": {},
   "outputs": [
    {
     "data": {
      "text/html": [
       "<div>\n",
       "<style scoped>\n",
       "    .dataframe tbody tr th:only-of-type {\n",
       "        vertical-align: middle;\n",
       "    }\n",
       "\n",
       "    .dataframe tbody tr th {\n",
       "        vertical-align: top;\n",
       "    }\n",
       "\n",
       "    .dataframe thead th {\n",
       "        text-align: right;\n",
       "    }\n",
       "</style>\n",
       "<table border=\"1\" class=\"dataframe\">\n",
       "  <thead>\n",
       "    <tr style=\"text-align: right;\">\n",
       "      <th></th>\n",
       "      <th>Q21A_Year</th>\n",
       "      <th>w6_q9</th>\n",
       "      <th>Q27</th>\n",
       "      <th>w6_q32</th>\n",
       "    </tr>\n",
       "  </thead>\n",
       "  <tbody>\n",
       "    <tr>\n",
       "      <th>12</th>\n",
       "      <td>1973</td>\n",
       "      <td>72.0</td>\n",
       "      <td>0</td>\n",
       "      <td>0</td>\n",
       "    </tr>\n",
       "  </tbody>\n",
       "</table>\n",
       "</div>"
      ],
      "text/plain": [
       "    Q21A_Year  w6_q9  Q27  w6_q32\n",
       "12       1973   72.0    0       0"
      ]
     },
     "execution_count": 182,
     "metadata": {},
     "output_type": "execute_result"
    }
   ],
   "source": [
    "features.iloc[[12],:]"
   ]
  },
  {
   "cell_type": "code",
   "execution_count": 172,
   "metadata": {},
   "outputs": [
    {
     "data": {
      "image/png": "[encoded data removed]",
      "text/plain": [
       "<Figure size 432x288 with 1 Axes>"
      ]
     },
     "metadata": {},
     "output_type": "display_data"
    },
    {
     "data": {
      "text/plain": [
       "0.9768"
      ]
     },
     "execution_count": 172,
     "metadata": {},
     "output_type": "execute_result"
    }
   ],
   "source": [
    "plot_lime(model_xgb, features, 12, [0,1], 1, 10000)"
   ]
  },
  {
   "cell_type": "markdown",
   "metadata": {},
   "source": [
    "Na wykresie Lime widzimy że lokalny model wyznaczył bardzo małą płąszczyznę na której przewiduje niską szansę na związek małżeński dla tego przypadku. Można zauważyć, że jeżeli wybrana osoba poznałaby swojego partnera po roku $2000$ i ten miałby już więcej niż ~60 lat, to szanse na małżeństwo byłyby niskie. Napisałem 60 lat, ponieważ zmienna *w6_q9* opisuje wiek partnera w 2017 roku, więc należy odjąć odpowiednią liczbę lat. Jednak pozostałych przypadkach jest odwrotnie. Wydaje się to naturalne, im partnerzy młodziej się poznali tym większa szansa na małżeństwo.\n",
    "\n",
    "Poniżej na wykresach breakdown dla wybranej obserwacji, możemy zauważyć, że rok $1973$ w którym poznali się partnerzy pozytywnie wpływa na decyzje modelu w obu kolejnościach. Jednak jeżeli najpierw w breakdownie zmieniamy *wiek partnera w 2017 roku* to można zauważyć że przynosi on negatywny efekt dla modelu. Może to być związane z tym że większość ludzi w badaniu poznała się dosyć późno (widać to po średnim roku poznania partnera wyliczonym poniżej)"
   ]
  },
  {
   "cell_type": "code",
   "execution_count": 181,
   "metadata": {},
   "outputs": [
    {
     "data": {
      "text/plain": [
       "1991.6966966966968"
      ]
     },
     "execution_count": 181,
     "metadata": {},
     "output_type": "execute_result"
    }
   ],
   "source": [
    "# Średni rok w którym partnerzy się poznali\n",
    "float(features[['Q21A_Year']].mean())"
   ]
  },
  {
   "cell_type": "code",
   "execution_count": 176,
   "metadata": {},
   "outputs": [
    {
     "data": {
      "text/html": [
       "\n",
       "\n",
       "\n",
       "\n",
       "\n",
       "\n",
       "  <div class=\"bk-root\" id=\"e082bb9f-0e8a-4ded-bc5d-b9d9896d501f\" data-root-id=\"1921\"></div>\n"
      ]
     },
     "metadata": {},
     "output_type": "display_data"
    },
    {
     "data": {
      "application/javascript": [
       "(function(root) {\n",
       "  function embed_document(root) {\n",
       "    \n",
       "  var docs_json = {\"70431efb-7a19-442a-8945-01ad12eddc7e\":{\"roots\":{\"references\":[{\"attributes\":{\"below\":[{\"id\":\"1930\",\"type\":\"CategoricalAxis\"}],\"left\":[{\"id\":\"1934\",\"type\":\"LinearAxis\"}],\"plot_height\":300,\"renderers\":[{\"id\":\"1930\",\"type\":\"CategoricalAxis\"},{\"id\":\"1933\",\"type\":\"Grid\"},{\"id\":\"1934\",\"type\":\"LinearAxis\"},{\"id\":\"1938\",\"type\":\"Grid\"},{\"id\":\"1947\",\"type\":\"BoxAnnotation\"},{\"id\":\"1957\",\"type\":\"GlyphRenderer\"},{\"id\":\"1959\",\"type\":\"LabelSet\"}],\"title\":{\"id\":\"2025\",\"type\":\"Title\"},\"toolbar\":{\"id\":\"1945\",\"type\":\"Toolbar\"},\"x_range\":{\"id\":\"1922\",\"type\":\"FactorRange\"},\"x_scale\":{\"id\":\"1926\",\"type\":\"CategoricalScale\"},\"y_range\":{\"id\":\"1924\",\"type\":\"Range1d\"},\"y_scale\":{\"id\":\"1928\",\"type\":\"LinearScale\"}},\"id\":\"1921\",\"subtype\":\"Figure\",\"type\":\"Plot\"},{\"attributes\":{},\"id\":\"1939\",\"type\":\"PanTool\"},{\"attributes\":{},\"id\":\"2028\",\"type\":\"BasicTickFormatter\"},{\"attributes\":{},\"id\":\"1944\",\"type\":\"HelpTool\"},{\"attributes\":{\"plot\":null,\"text\":\"\"},\"id\":\"2025\",\"type\":\"Title\"},{\"attributes\":{\"line_color\":{\"field\":\"color\"},\"line_width\":{\"value\":90},\"x0\":{\"field\":\"xrange\"},\"x1\":{\"field\":\"xrange\"},\"y0\":{\"field\":\"y_start\"},\"y1\":{\"field\":\"proba\"}},\"id\":\"1955\",\"type\":\"Segment\"},{\"attributes\":{\"dimension\":1,\"grid_line_alpha\":{\"value\":0.3},\"plot\":{\"id\":\"1921\",\"subtype\":\"Figure\",\"type\":\"Plot\"},\"ticker\":{\"id\":\"1935\",\"type\":\"BasicTicker\"}},\"id\":\"1938\",\"type\":\"Grid\"},{\"attributes\":{\"callback\":null,\"factors\":[\"intercept\",\"Q21A_Year\",\"w6_q9\",\"Q27\",\"w6_q32\",\"net\"]},\"id\":\"1922\",\"type\":\"FactorRange\"},{\"attributes\":{\"formatter\":{\"id\":\"2028\",\"type\":\"BasicTickFormatter\"},\"plot\":{\"id\":\"1921\",\"subtype\":\"Figure\",\"type\":\"Plot\"},\"ticker\":{\"id\":\"1935\",\"type\":\"BasicTicker\"}},\"id\":\"1934\",\"type\":\"LinearAxis\"},{\"attributes\":{\"source\":{\"id\":\"1920\",\"type\":\"ColumnDataSource\"}},\"id\":\"1958\",\"type\":\"CDSView\"},{\"attributes\":{\"line_alpha\":{\"value\":0.1},\"line_color\":{\"value\":\"#1f77b4\"},\"line_width\":{\"value\":90},\"x0\":{\"field\":\"xrange\"},\"x1\":{\"field\":\"xrange\"},\"y0\":{\"field\":\"y_start\"},\"y1\":{\"field\":\"proba\"}},\"id\":\"1956\",\"type\":\"Segment\"},{\"attributes\":{\"data_source\":{\"id\":\"1920\",\"type\":\"ColumnDataSource\"},\"glyph\":{\"id\":\"1955\",\"type\":\"Segment\"},\"hover_glyph\":null,\"muted_glyph\":null,\"nonselection_glyph\":{\"id\":\"1956\",\"type\":\"Segment\"},\"selection_glyph\":null,\"view\":{\"id\":\"1958\",\"type\":\"CDSView\"}},\"id\":\"1957\",\"type\":\"GlyphRenderer\"},{\"attributes\":{},\"id\":\"1928\",\"type\":\"LinearScale\"},{\"attributes\":{\"grid_line_alpha\":{\"value\":0.3},\"plot\":{\"id\":\"1921\",\"subtype\":\"Figure\",\"type\":\"Plot\"},\"ticker\":{\"id\":\"1931\",\"type\":\"CategoricalTicker\"}},\"id\":\"1933\",\"type\":\"Grid\"},{\"attributes\":{\"formatter\":{\"id\":\"2026\",\"type\":\"CategoricalTickFormatter\"},\"plot\":{\"id\":\"1921\",\"subtype\":\"Figure\",\"type\":\"Plot\"},\"ticker\":{\"id\":\"1931\",\"type\":\"CategoricalTicker\"}},\"id\":\"1930\",\"type\":\"CategoricalAxis\"},{\"attributes\":{},\"id\":\"1935\",\"type\":\"BasicTicker\"},{\"attributes\":{},\"id\":\"1940\",\"type\":\"WheelZoomTool\"},{\"attributes\":{\"level\":\"glyph\",\"plot\":{\"id\":\"1921\",\"subtype\":\"Figure\",\"type\":\"Plot\"},\"source\":{\"id\":\"1920\",\"type\":\"ColumnDataSource\"},\"text\":{\"field\":\"bar_label\"},\"text_font_size\":{\"value\":\"8pt\"},\"x\":{\"field\":\"xrange\"},\"x_offset\":{\"value\":-20},\"y\":{\"field\":\"label_pos\"}},\"id\":\"1959\",\"type\":\"LabelSet\"},{\"attributes\":{\"active_drag\":\"auto\",\"active_inspect\":\"auto\",\"active_multi\":null,\"active_scroll\":\"auto\",\"active_tap\":\"auto\",\"tools\":[{\"id\":\"1939\",\"type\":\"PanTool\"},{\"id\":\"1940\",\"type\":\"WheelZoomTool\"},{\"id\":\"1941\",\"type\":\"BoxZoomTool\"},{\"id\":\"1942\",\"type\":\"SaveTool\"},{\"id\":\"1943\",\"type\":\"ResetTool\"},{\"id\":\"1944\",\"type\":\"HelpTool\"}]},\"id\":\"1945\",\"type\":\"Toolbar\"},{\"attributes\":{},\"id\":\"2026\",\"type\":\"CategoricalTickFormatter\"},{\"attributes\":{},\"id\":\"2030\",\"type\":\"Selection\"},{\"attributes\":{\"overlay\":{\"id\":\"1947\",\"type\":\"BoxAnnotation\"}},\"id\":\"1941\",\"type\":\"BoxZoomTool\"},{\"attributes\":{},\"id\":\"1931\",\"type\":\"CategoricalTicker\"},{\"attributes\":{},\"id\":\"1942\",\"type\":\"SaveTool\"},{\"attributes\":{},\"id\":\"1926\",\"type\":\"CategoricalScale\"},{\"attributes\":{},\"id\":\"1943\",\"type\":\"ResetTool\"},{\"attributes\":{\"bottom_units\":\"screen\",\"fill_alpha\":{\"value\":0.5},\"fill_color\":{\"value\":\"lightgrey\"},\"left_units\":\"screen\",\"level\":\"overlay\",\"line_alpha\":{\"value\":1.0},\"line_color\":{\"value\":\"black\"},\"line_dash\":[4,4],\"line_width\":{\"value\":2},\"plot\":null,\"render_mode\":\"css\",\"right_units\":\"screen\",\"top_units\":\"screen\"},\"id\":\"1947\",\"type\":\"BoxAnnotation\"},{\"attributes\":{},\"id\":\"2031\",\"type\":\"UnionRenderers\"},{\"attributes\":{\"callback\":null,\"end\":1.1},\"id\":\"1924\",\"type\":\"Range1d\"},{\"attributes\":{\"callback\":null,\"data\":{\"bar_label\":[\"0.83\",\"0.13\",\"0.03\",\"0.00\",\"0.00\",\"0.99\"],\"color\":[\"green\",\"green\",\"green\",\"green\",\"green\",\"blue\"],\"diff\":{\"__ndarray__\":\"AAAAIG2G6j8AAAAAZgbAPwAAAAD+nqA/AAAAAID5Sz8AAAAAAAAAAAAAAOD0mO8/\",\"dtype\":\"float64\",\"shape\":[6]},\"index\":[0,1,2,3,4,\"net\"],\"label_pos\":{\"__ndarray__\":\"AAAAIG2G6j8AAACgBojuPwAAAID2ke8/AAAA4PSY7z8AAADg9JjvPwAAAOD0mO8/\",\"dtype\":\"float64\",\"shape\":[6]},\"level_0\":[0,1,2,3,4,5],\"proba\":{\"__ndarray__\":\"AAAAIG2G6j8AAACgBojuPwAAAID2ke8/AAAA4PSY7z8AAADg9JjvPwAAAOD0mO8/\",\"dtype\":\"float64\",\"shape\":[6]},\"var\":[\"intercept\",\"Q21A_Year\",\"w6_q9\",\"Q27\",\"w6_q32\",\"net\"],\"xrange\":{\"__ndarray__\":\"AAAAAAAA4D8AAAAAAAD4PwAAAAAAAARAAAAAAAAADEAAAAAAAAASQAAAAAAAABZA\",\"dtype\":\"float64\",\"shape\":[6]},\"y_start\":{\"__ndarray__\":\"AAAAAAAAAAAAAAAgbYbqPwAAAKAGiO4/AAAAgPaR7z8AAADg9JjvPwAAAAAAAAAA\",\"dtype\":\"float64\",\"shape\":[6]}},\"selected\":{\"id\":\"2030\",\"type\":\"Selection\"},\"selection_policy\":{\"id\":\"2031\",\"type\":\"UnionRenderers\"}},\"id\":\"1920\",\"type\":\"ColumnDataSource\"}],\"root_ids\":[\"1921\"]},\"title\":\"Bokeh Application\",\"version\":\"1.0.4\"}};\n",
       "  var render_items = [{\"docid\":\"70431efb-7a19-442a-8945-01ad12eddc7e\",\"roots\":{\"1921\":\"e082bb9f-0e8a-4ded-bc5d-b9d9896d501f\"}}];\n",
       "  root.Bokeh.embed.embed_items_notebook(docs_json, render_items);\n",
       "\n",
       "  }\n",
       "  if (root.Bokeh !== undefined) {\n",
       "    embed_document(root);\n",
       "  } else {\n",
       "    var attempts = 0;\n",
       "    var timer = setInterval(function(root) {\n",
       "      if (root.Bokeh !== undefined) {\n",
       "        embed_document(root);\n",
       "        clearInterval(timer);\n",
       "      }\n",
       "      attempts++;\n",
       "      if (attempts > 100) {\n",
       "        console.log(\"Bokeh: ERROR: Unable to run BokehJS code because BokehJS library is missing\");\n",
       "        clearInterval(timer);\n",
       "      }\n",
       "    }, 10, root)\n",
       "  }\n",
       "})(window);"
      ],
      "application/vnd.bokehjs_exec.v0+json": ""
     },
     "metadata": {
      "application/vnd.bokehjs_exec.v0+json": {
       "id": "1921"
      }
     },
     "output_type": "display_data"
    }
   ],
   "source": [
    "row = features.iloc[[12],:]\n",
    "brk = Breakdown(model_xgb, features, row, [0,1,2,3])\n",
    "brk.breakdown_plot()"
   ]
  },
  {
   "cell_type": "markdown",
   "metadata": {},
   "source": [
    "<img src=\"bokeh_plot.png\">"
   ]
  },
  {
   "cell_type": "code",
   "execution_count": 177,
   "metadata": {},
   "outputs": [
    {
     "data": {
      "text/html": [
       "\n",
       "\n",
       "\n",
       "\n",
       "\n",
       "\n",
       "  <div class=\"bk-root\" id=\"e6acf59f-637d-4d7e-aaa7-170b92bbd75b\" data-root-id=\"2088\"></div>\n"
      ]
     },
     "metadata": {},
     "output_type": "display_data"
    },
    {
     "data": {
      "application/javascript": [
       "(function(root) {\n",
       "  function embed_document(root) {\n",
       "    \n",
       "  var docs_json = {\"c2975f1a-c84b-4fc1-b7c0-6c850cd9b76d\":{\"roots\":{\"references\":[{\"attributes\":{\"below\":[{\"id\":\"2097\",\"type\":\"CategoricalAxis\"}],\"left\":[{\"id\":\"2101\",\"type\":\"LinearAxis\"}],\"plot_height\":300,\"renderers\":[{\"id\":\"2097\",\"type\":\"CategoricalAxis\"},{\"id\":\"2100\",\"type\":\"Grid\"},{\"id\":\"2101\",\"type\":\"LinearAxis\"},{\"id\":\"2105\",\"type\":\"Grid\"},{\"id\":\"2114\",\"type\":\"BoxAnnotation\"},{\"id\":\"2124\",\"type\":\"GlyphRenderer\"},{\"id\":\"2126\",\"type\":\"LabelSet\"}],\"title\":{\"id\":\"2201\",\"type\":\"Title\"},\"toolbar\":{\"id\":\"2112\",\"type\":\"Toolbar\"},\"x_range\":{\"id\":\"2089\",\"type\":\"FactorRange\"},\"x_scale\":{\"id\":\"2093\",\"type\":\"CategoricalScale\"},\"y_range\":{\"id\":\"2091\",\"type\":\"Range1d\"},\"y_scale\":{\"id\":\"2095\",\"type\":\"LinearScale\"}},\"id\":\"2088\",\"subtype\":\"Figure\",\"type\":\"Plot\"},{\"attributes\":{\"overlay\":{\"id\":\"2114\",\"type\":\"BoxAnnotation\"}},\"id\":\"2108\",\"type\":\"BoxZoomTool\"},{\"attributes\":{},\"id\":\"2102\",\"type\":\"BasicTicker\"},{\"attributes\":{},\"id\":\"2206\",\"type\":\"Selection\"},{\"attributes\":{},\"id\":\"2093\",\"type\":\"CategoricalScale\"},{\"attributes\":{\"source\":{\"id\":\"2087\",\"type\":\"ColumnDataSource\"}},\"id\":\"2125\",\"type\":\"CDSView\"},{\"attributes\":{\"formatter\":{\"id\":\"2202\",\"type\":\"CategoricalTickFormatter\"},\"plot\":{\"id\":\"2088\",\"subtype\":\"Figure\",\"type\":\"Plot\"},\"ticker\":{\"id\":\"2098\",\"type\":\"CategoricalTicker\"}},\"id\":\"2097\",\"type\":\"CategoricalAxis\"},{\"attributes\":{\"active_drag\":\"auto\",\"active_inspect\":\"auto\",\"active_multi\":null,\"active_scroll\":\"auto\",\"active_tap\":\"auto\",\"tools\":[{\"id\":\"2106\",\"type\":\"PanTool\"},{\"id\":\"2107\",\"type\":\"WheelZoomTool\"},{\"id\":\"2108\",\"type\":\"BoxZoomTool\"},{\"id\":\"2109\",\"type\":\"SaveTool\"},{\"id\":\"2110\",\"type\":\"ResetTool\"},{\"id\":\"2111\",\"type\":\"HelpTool\"}]},\"id\":\"2112\",\"type\":\"Toolbar\"},{\"attributes\":{\"line_color\":{\"field\":\"color\"},\"line_width\":{\"value\":90},\"x0\":{\"field\":\"xrange\"},\"x1\":{\"field\":\"xrange\"},\"y0\":{\"field\":\"y_start\"},\"y1\":{\"field\":\"proba\"}},\"id\":\"2122\",\"type\":\"Segment\"},{\"attributes\":{},\"id\":\"2107\",\"type\":\"WheelZoomTool\"},{\"attributes\":{},\"id\":\"2109\",\"type\":\"SaveTool\"},{\"attributes\":{},\"id\":\"2204\",\"type\":\"BasicTickFormatter\"},{\"attributes\":{\"callback\":null,\"factors\":[\"intercept\",\"w6_q32\",\"Q27\",\"w6_q9\",\"Q21A_Year\",\"net\"]},\"id\":\"2089\",\"type\":\"FactorRange\"},{\"attributes\":{\"data_source\":{\"id\":\"2087\",\"type\":\"ColumnDataSource\"},\"glyph\":{\"id\":\"2122\",\"type\":\"Segment\"},\"hover_glyph\":null,\"muted_glyph\":null,\"nonselection_glyph\":{\"id\":\"2123\",\"type\":\"Segment\"},\"selection_glyph\":null,\"view\":{\"id\":\"2125\",\"type\":\"CDSView\"}},\"id\":\"2124\",\"type\":\"GlyphRenderer\"},{\"attributes\":{\"grid_line_alpha\":{\"value\":0.3},\"plot\":{\"id\":\"2088\",\"subtype\":\"Figure\",\"type\":\"Plot\"},\"ticker\":{\"id\":\"2098\",\"type\":\"CategoricalTicker\"}},\"id\":\"2100\",\"type\":\"Grid\"},{\"attributes\":{},\"id\":\"2098\",\"type\":\"CategoricalTicker\"},{\"attributes\":{},\"id\":\"2111\",\"type\":\"HelpTool\"},{\"attributes\":{\"formatter\":{\"id\":\"2204\",\"type\":\"BasicTickFormatter\"},\"plot\":{\"id\":\"2088\",\"subtype\":\"Figure\",\"type\":\"Plot\"},\"ticker\":{\"id\":\"2102\",\"type\":\"BasicTicker\"}},\"id\":\"2101\",\"type\":\"LinearAxis\"},{\"attributes\":{},\"id\":\"2106\",\"type\":\"PanTool\"},{\"attributes\":{},\"id\":\"2202\",\"type\":\"CategoricalTickFormatter\"},{\"attributes\":{},\"id\":\"2110\",\"type\":\"ResetTool\"},{\"attributes\":{\"dimension\":1,\"grid_line_alpha\":{\"value\":0.3},\"plot\":{\"id\":\"2088\",\"subtype\":\"Figure\",\"type\":\"Plot\"},\"ticker\":{\"id\":\"2102\",\"type\":\"BasicTicker\"}},\"id\":\"2105\",\"type\":\"Grid\"},{\"attributes\":{\"callback\":null,\"end\":1.1},\"id\":\"2091\",\"type\":\"Range1d\"},{\"attributes\":{\"level\":\"glyph\",\"plot\":{\"id\":\"2088\",\"subtype\":\"Figure\",\"type\":\"Plot\"},\"source\":{\"id\":\"2087\",\"type\":\"ColumnDataSource\"},\"text\":{\"field\":\"bar_label\"},\"text_font_size\":{\"value\":\"8pt\"},\"x\":{\"field\":\"xrange\"},\"x_offset\":{\"value\":-20},\"y\":{\"field\":\"label_pos\"}},\"id\":\"2126\",\"type\":\"LabelSet\"},{\"attributes\":{},\"id\":\"2207\",\"type\":\"UnionRenderers\"},{\"attributes\":{},\"id\":\"2095\",\"type\":\"LinearScale\"},{\"attributes\":{\"callback\":null,\"data\":{\"bar_label\":[\"0.83\",\"-0.00\",\"0.01\",\"-0.07\",\"0.22\",\"0.99\"],\"color\":[\"green\",\"red\",\"green\",\"red\",\"green\",\"blue\"],\"diff\":{\"__ndarray__\":\"AAAAIG2G6j8AAAAAgDZFvwAAAADghHs/AAAAAIIzsr8AAACA75zMPwAAAOD0mO8/\",\"dtype\":\"float64\",\"shape\":[6]},\"index\":[0,1,2,3,4,\"net\"],\"label_pos\":{\"__ndarray__\":\"AAAAIG2G6j9mZmbmhefoPwAAAEApuOo/ZmZmZh/Y5j8AAADg9JjvPwAAAOD0mO8/\",\"dtype\":\"float64\",\"shape\":[6]},\"level_0\":[0,1,2,3,4,5],\"proba\":{\"__ndarray__\":\"AAAAIG2G6j8AAACAH4HqPwAAAEApuOo/AAAAALlx6D8AAADg9JjvPwAAAOD0mO8/\",\"dtype\":\"float64\",\"shape\":[6]},\"var\":[\"intercept\",\"w6_q32\",\"Q27\",\"w6_q9\",\"Q21A_Year\",\"net\"],\"xrange\":{\"__ndarray__\":\"AAAAAAAA4D8AAAAAAAD4PwAAAAAAAARAAAAAAAAADEAAAAAAAAASQAAAAAAAABZA\",\"dtype\":\"float64\",\"shape\":[6]},\"y_start\":{\"__ndarray__\":\"AAAAAAAAAAAAAAAgbYbqPwAAAIAfgeo/AAAAQCm46j8AAAAAuXHoPwAAAAAAAAAA\",\"dtype\":\"float64\",\"shape\":[6]}},\"selected\":{\"id\":\"2206\",\"type\":\"Selection\"},\"selection_policy\":{\"id\":\"2207\",\"type\":\"UnionRenderers\"}},\"id\":\"2087\",\"type\":\"ColumnDataSource\"},{\"attributes\":{\"plot\":null,\"text\":\"\"},\"id\":\"2201\",\"type\":\"Title\"},{\"attributes\":{\"bottom_units\":\"screen\",\"fill_alpha\":{\"value\":0.5},\"fill_color\":{\"value\":\"lightgrey\"},\"left_units\":\"screen\",\"level\":\"overlay\",\"line_alpha\":{\"value\":1.0},\"line_color\":{\"value\":\"black\"},\"line_dash\":[4,4],\"line_width\":{\"value\":2},\"plot\":null,\"render_mode\":\"css\",\"right_units\":\"screen\",\"top_units\":\"screen\"},\"id\":\"2114\",\"type\":\"BoxAnnotation\"},{\"attributes\":{\"line_alpha\":{\"value\":0.1},\"line_color\":{\"value\":\"#1f77b4\"},\"line_width\":{\"value\":90},\"x0\":{\"field\":\"xrange\"},\"x1\":{\"field\":\"xrange\"},\"y0\":{\"field\":\"y_start\"},\"y1\":{\"field\":\"proba\"}},\"id\":\"2123\",\"type\":\"Segment\"}],\"root_ids\":[\"2088\"]},\"title\":\"Bokeh Application\",\"version\":\"1.0.4\"}};\n",
       "  var render_items = [{\"docid\":\"c2975f1a-c84b-4fc1-b7c0-6c850cd9b76d\",\"roots\":{\"2088\":\"e6acf59f-637d-4d7e-aaa7-170b92bbd75b\"}}];\n",
       "  root.Bokeh.embed.embed_items_notebook(docs_json, render_items);\n",
       "\n",
       "  }\n",
       "  if (root.Bokeh !== undefined) {\n",
       "    embed_document(root);\n",
       "  } else {\n",
       "    var attempts = 0;\n",
       "    var timer = setInterval(function(root) {\n",
       "      if (root.Bokeh !== undefined) {\n",
       "        embed_document(root);\n",
       "        clearInterval(timer);\n",
       "      }\n",
       "      attempts++;\n",
       "      if (attempts > 100) {\n",
       "        console.log(\"Bokeh: ERROR: Unable to run BokehJS code because BokehJS library is missing\");\n",
       "        clearInterval(timer);\n",
       "      }\n",
       "    }, 10, root)\n",
       "  }\n",
       "})(window);"
      ],
      "application/vnd.bokehjs_exec.v0+json": ""
     },
     "metadata": {
      "application/vnd.bokehjs_exec.v0+json": {
       "id": "2088"
      }
     },
     "output_type": "display_data"
    }
   ],
   "source": [
    "row = features.iloc[[12],:]\n",
    "brk = Breakdown(model_xgb, features, row, [3,2,1,0])\n",
    "brk.breakdown_plot()"
   ]
  },
  {
   "cell_type": "markdown",
   "metadata": {},
   "source": [
    "<img src=\"bokeh_plot (1).png\">"
   ]
  },
  {
   "cell_type": "code",
   "execution_count": null,
   "metadata": {},
   "outputs": [],
   "source": []
  }
 ],
 "metadata": {
  "kernelspec": {
   "display_name": "Python 3",
   "language": "python",
   "name": "python3"
  },
  "language_info": {
   "codemirror_mode": {
    "name": "ipython",
    "version": 3
   },
   "file_extension": ".py",
   "mimetype": "text/x-python",
   "name": "python",
   "nbconvert_exporter": "python",
   "pygments_lexer": "ipython3",
   "version": "3.6.5"
  }
 },
 "nbformat": 4,
 "nbformat_minor": 2
}
