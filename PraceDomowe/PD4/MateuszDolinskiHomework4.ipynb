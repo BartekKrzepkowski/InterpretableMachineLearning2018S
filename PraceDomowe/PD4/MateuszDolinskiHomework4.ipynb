{
 "cells": [
  {
   "cell_type": "code",
   "execution_count": 1,
   "metadata": {},
   "outputs": [],
   "source": [
    "import requests\n",
    "import io\n",
    "import zipfile\n",
    "\n",
    "import numpy as np\n",
    "import pandas as pd\n",
    "import pydotplus\n",
    "\n",
    "from sklearn.tree import DecisionTreeClassifier, export_graphviz\n",
    "from sklearn.preprocessing import LabelEncoder, OneHotEncoder\n",
    "from sklearn.ensemble import RandomForestClassifier\n",
    "from sklearn.metrics import accuracy_score\n",
    "from sklearn.externals.six import StringIO  \n",
    "\n",
    "import matplotlib.pyplot as plt\n",
    "import seaborn as sns\n",
    "import waterfall_chart\n",
    "from IPython.display import Image  "
   ]
  },
  {
   "cell_type": "markdown",
   "metadata": {},
   "source": [
    "# Na początku robimy to samo co w pracy domowej 1\n",
    "\n",
    "tylko tym razem w Pythonie..."
   ]
  },
  {
   "cell_type": "code",
   "execution_count": 2,
   "metadata": {},
   "outputs": [],
   "source": [
    "url = 'https://stacks.stanford.edu/file/druid:hg921sg6829/HCMST_2017_public_data_v1.1_stata.zip'\n",
    "response = requests.get(url)\n",
    "\n",
    "with zipfile.ZipFile(io.BytesIO(response.content)) as tmp_zip:\n",
    "    for zip_file in tmp_zip.infolist():\n",
    "        with tmp_zip.open(zip_file, 'r') as f:\n",
    "            stata_file = io.BytesIO(f.read())"
   ]
  },
  {
   "cell_type": "code",
   "execution_count": 3,
   "metadata": {},
   "outputs": [],
   "source": [
    "stata_file.seek(0)\n",
    "data = pd.read_stata(stata_file)"
   ]
  },
  {
   "cell_type": "markdown",
   "metadata": {},
   "source": [
    "# Obrabiamy dane jak poprzednio\n"
   ]
  },
  {
   "cell_type": "code",
   "execution_count": 4,
   "metadata": {},
   "outputs": [],
   "source": [
    "data = data[['S1', 'Q9', 'Q19', 'Q26', 'ppage']]"
   ]
  },
  {
   "cell_type": "code",
   "execution_count": 5,
   "metadata": {},
   "outputs": [],
   "source": [
    "for column in data.columns:\n",
    "    data = data[data[column] != 'Refused']\n",
    "    data[column].cat.remove_unused_categories()\n",
    "data = data.dropna()\n",
    "data[['Q9', 'ppage']] = data[['Q9', 'ppage']].apply(pd.to_numeric, axis=1)"
   ]
  },
  {
   "cell_type": "code",
   "execution_count": 6,
   "metadata": {},
   "outputs": [
    {
     "data": {
      "text/html": [
       "<div>\n",
       "<style scoped>\n",
       "    .dataframe tbody tr th:only-of-type {\n",
       "        vertical-align: middle;\n",
       "    }\n",
       "\n",
       "    .dataframe tbody tr th {\n",
       "        vertical-align: top;\n",
       "    }\n",
       "\n",
       "    .dataframe thead th {\n",
       "        text-align: right;\n",
       "    }\n",
       "</style>\n",
       "<table border=\"1\" class=\"dataframe\">\n",
       "  <thead>\n",
       "    <tr style=\"text-align: right;\">\n",
       "      <th></th>\n",
       "      <th>S1</th>\n",
       "      <th>Q9</th>\n",
       "      <th>Q19</th>\n",
       "      <th>Q26</th>\n",
       "      <th>ppage</th>\n",
       "    </tr>\n",
       "  </thead>\n",
       "  <tbody>\n",
       "    <tr>\n",
       "      <th>681</th>\n",
       "      <td>Yes, I am Married</td>\n",
       "      <td>51.0</td>\n",
       "      <td>Yes</td>\n",
       "      <td>Did not attend same college or university</td>\n",
       "      <td>56.0</td>\n",
       "    </tr>\n",
       "    <tr>\n",
       "      <th>2983</th>\n",
       "      <td>Yes, I am Married</td>\n",
       "      <td>62.0</td>\n",
       "      <td>Yes</td>\n",
       "      <td>Did not attend same college or university</td>\n",
       "      <td>68.0</td>\n",
       "    </tr>\n",
       "    <tr>\n",
       "      <th>2933</th>\n",
       "      <td>Yes, I am Married</td>\n",
       "      <td>41.0</td>\n",
       "      <td>Yes</td>\n",
       "      <td>Did not attend same college or university</td>\n",
       "      <td>45.0</td>\n",
       "    </tr>\n",
       "    <tr>\n",
       "      <th>247</th>\n",
       "      <td>Yes, I am Married</td>\n",
       "      <td>27.0</td>\n",
       "      <td>Yes</td>\n",
       "      <td>Did not attend same college or university</td>\n",
       "      <td>28.0</td>\n",
       "    </tr>\n",
       "    <tr>\n",
       "      <th>1412</th>\n",
       "      <td>Yes, I am Married</td>\n",
       "      <td>70.0</td>\n",
       "      <td>Yes</td>\n",
       "      <td>Attended same college or university</td>\n",
       "      <td>68.0</td>\n",
       "    </tr>\n",
       "  </tbody>\n",
       "</table>\n",
       "</div>"
      ],
      "text/plain": [
       "                     S1    Q9  Q19                                        Q26  \\\n",
       "681   Yes, I am Married  51.0  Yes  Did not attend same college or university   \n",
       "2983  Yes, I am Married  62.0  Yes  Did not attend same college or university   \n",
       "2933  Yes, I am Married  41.0  Yes  Did not attend same college or university   \n",
       "247   Yes, I am Married  27.0  Yes  Did not attend same college or university   \n",
       "1412  Yes, I am Married  70.0  Yes        Attended same college or university   \n",
       "\n",
       "      ppage  \n",
       "681    56.0  \n",
       "2983   68.0  \n",
       "2933   45.0  \n",
       "247    28.0  \n",
       "1412   68.0  "
      ]
     },
     "execution_count": 6,
     "metadata": {},
     "output_type": "execute_result"
    }
   ],
   "source": [
    "data.sample(5)"
   ]
  },
  {
   "cell_type": "code",
   "execution_count": 7,
   "metadata": {},
   "outputs": [],
   "source": [
    "y = data['S1']\n",
    "x = data.drop('S1', axis=1)"
   ]
  },
  {
   "cell_type": "markdown",
   "metadata": {},
   "source": [
    "# Robimy model"
   ]
  },
  {
   "cell_type": "code",
   "execution_count": 8,
   "metadata": {},
   "outputs": [],
   "source": [
    "le_y = LabelEncoder()\n",
    "y = le_y.fit_transform(y)\n",
    "\n",
    "le_q19 = LabelEncoder()\n",
    "x['Q19'] = le_q19.fit_transform(x['Q19'])\n",
    "\n",
    "le_q26 = LabelEncoder()\n",
    "x['Q26'] = le_q26.fit_transform(x['Q26'])"
   ]
  },
  {
   "cell_type": "code",
   "execution_count": 9,
   "metadata": {},
   "outputs": [],
   "source": [
    "ohe = OneHotEncoder(categorical_features=[1, 2], \n",
    "                    dtype=np.int64,\n",
    "                    sparse=False)\n",
    "x = pd.DataFrame(ohe.fit_transform(x.values))\n",
    "x.columns = ['Q19_0', 'Q19_1', 'Q26_0', 'Q26_1', 'Q9', 'ppage']"
   ]
  },
  {
   "cell_type": "code",
   "execution_count": 10,
   "metadata": {},
   "outputs": [
    {
     "data": {
      "text/html": [
       "<div>\n",
       "<style scoped>\n",
       "    .dataframe tbody tr th:only-of-type {\n",
       "        vertical-align: middle;\n",
       "    }\n",
       "\n",
       "    .dataframe tbody tr th {\n",
       "        vertical-align: top;\n",
       "    }\n",
       "\n",
       "    .dataframe thead th {\n",
       "        text-align: right;\n",
       "    }\n",
       "</style>\n",
       "<table border=\"1\" class=\"dataframe\">\n",
       "  <thead>\n",
       "    <tr style=\"text-align: right;\">\n",
       "      <th></th>\n",
       "      <th>Q19_1</th>\n",
       "      <th>Q26_1</th>\n",
       "      <th>Q9</th>\n",
       "      <th>ppage</th>\n",
       "    </tr>\n",
       "  </thead>\n",
       "  <tbody>\n",
       "    <tr>\n",
       "      <th>0</th>\n",
       "      <td>1.0</td>\n",
       "      <td>1.0</td>\n",
       "      <td>52.0</td>\n",
       "      <td>55.0</td>\n",
       "    </tr>\n",
       "    <tr>\n",
       "      <th>1</th>\n",
       "      <td>1.0</td>\n",
       "      <td>1.0</td>\n",
       "      <td>45.0</td>\n",
       "      <td>47.0</td>\n",
       "    </tr>\n",
       "    <tr>\n",
       "      <th>2</th>\n",
       "      <td>1.0</td>\n",
       "      <td>1.0</td>\n",
       "      <td>59.0</td>\n",
       "      <td>59.0</td>\n",
       "    </tr>\n",
       "    <tr>\n",
       "      <th>3</th>\n",
       "      <td>1.0</td>\n",
       "      <td>1.0</td>\n",
       "      <td>65.0</td>\n",
       "      <td>65.0</td>\n",
       "    </tr>\n",
       "    <tr>\n",
       "      <th>4</th>\n",
       "      <td>1.0</td>\n",
       "      <td>1.0</td>\n",
       "      <td>43.0</td>\n",
       "      <td>33.0</td>\n",
       "    </tr>\n",
       "  </tbody>\n",
       "</table>\n",
       "</div>"
      ],
      "text/plain": [
       "   Q19_1  Q26_1    Q9  ppage\n",
       "0    1.0    1.0  52.0   55.0\n",
       "1    1.0    1.0  45.0   47.0\n",
       "2    1.0    1.0  59.0   59.0\n",
       "3    1.0    1.0  65.0   65.0\n",
       "4    1.0    1.0  43.0   33.0"
      ]
     },
     "execution_count": 10,
     "metadata": {},
     "output_type": "execute_result"
    }
   ],
   "source": [
    "x.drop(['Q19_0', 'Q26_0'], axis=1, inplace=True)\n",
    "x.head()"
   ]
  },
  {
   "cell_type": "code",
   "execution_count": 11,
   "metadata": {},
   "outputs": [
    {
     "data": {
      "text/plain": [
       "0.8761844598862919"
      ]
     },
     "execution_count": 11,
     "metadata": {},
     "output_type": "execute_result"
    }
   ],
   "source": [
    "rfc = RandomForestClassifier(max_depth=4,\n",
    "                             n_estimators=30,\n",
    "                             max_features=None)\n",
    "rfc.fit(x, y)\n",
    "\n",
    "y_pred = rfc.predict(x)\n",
    "accuracy_score(y, y_pred)"
   ]
  },
  {
   "cell_type": "markdown",
   "metadata": {},
   "source": [
    "# Wyjaśniamy model przez variable attribution"
   ]
  },
  {
   "cell_type": "code",
   "execution_count": 12,
   "metadata": {},
   "outputs": [],
   "source": [
    "class MeanPredictionChangePlotter(object):\n",
    "    def __init__(self, clf, x):\n",
    "        self.clf = clf\n",
    "        self.x = x\n",
    "        \n",
    "    def draw_mean_prediction_change_plot(self, observation, *args):\n",
    "        # compute prediction means and differences between them\n",
    "        tmp = self.x.copy()\n",
    "        means = []\n",
    "        names = []\n",
    "        names.append('sample_mean')\n",
    "        mean = self.clf.predict_proba(tmp)[:, 1]\\\n",
    "                       .mean()\n",
    "        means.append(mean)\n",
    "        \n",
    "        for arg in args:\n",
    "            tmp[arg] = observation[arg].values[0]\n",
    "            mean = self.clf.predict_proba(tmp)[:, 1]\\\n",
    "                           .mean()\n",
    "            means.append(mean)\n",
    "            names.append(arg)\n",
    "            \n",
    "        means = np.concatenate((np.array([means[0]]), np.diff(np.array(means))))\n",
    "        \n",
    "        # draw the plot\n",
    "        waterfall_chart.plot(names, \n",
    "                             means,\n",
    "                             formatting='{:,.3f}',\n",
    "                             rotation_value=90)\n",
    "        \n",
    "        return\n"
   ]
  },
  {
   "cell_type": "code",
   "execution_count": 13,
   "metadata": {},
   "outputs": [
    {
     "data": {
      "image/png": "[encoded data removed]",
      "text/plain": [
       "<Figure size 432x288 with 1 Axes>"
      ]
     },
     "metadata": {},
     "output_type": "display_data"
    },
    {
     "data": {
      "image/png": "[encoded data removed]",
      "text/plain": [
       "<Figure size 432x288 with 1 Axes>"
      ]
     },
     "metadata": {},
     "output_type": "display_data"
    }
   ],
   "source": [
    "joe = pd.DataFrame({'Q19_1': [1], 'Q26_1': [0], 'Q9': [40], 'ppage': [41]},\n",
    "                   columns=x.columns)\n",
    "\n",
    "mpcp = MeanPredictionChangePlotter(rfc, x)\n",
    "mpcp.draw_mean_prediction_change_plot(joe, 'Q19_1', 'Q26_1', 'Q9', 'ppage')\n",
    "mpcp.draw_mean_prediction_change_plot(joe,  'ppage', 'Q19_1', 'Q26_1', 'Q9')"
   ]
  },
  {
   "cell_type": "markdown",
   "metadata": {},
   "source": [
    "Rozważono dwie kolejności zmiennych:\n",
    "\n",
    "* Najpierw zmienne jakościowe, następnie ciągłe\n",
    "* Najpierw jedna zmienna ciągła, następnie jakościowe i pozostałe ciągłe\n",
    "\n",
    "Ciekawą obserwacją są kierunki zmian średnich predykcji przy ustalaniu zmiennych ciągłych. Przy ustaleniu zmiennej ppage na samym końcu mamy dość silną dodatnią zmianę. Natomiast przy zamrożeniu zmiennej 'ppage' na samym początku otrzymujemy efekt w kierunku ujemnym! Również druga ze zmiennych zmienia znak w obydwu przypadkach. Może to mieć związek z wysokim skorelowaniem wieku partnerów.\n",
    "\n"
   ]
  },
  {
   "cell_type": "markdown",
   "metadata": {},
   "source": [
    "# Wyjaśniamy model przez LIME"
   ]
  },
  {
   "cell_type": "code",
   "execution_count": 14,
   "metadata": {},
   "outputs": [],
   "source": [
    "class LimePlotter(object):\n",
    "    def __init__(self, clf, x):\n",
    "        self.clf = clf\n",
    "        self.x = x\n",
    "    \n",
    "    def draw_lime_model_approximation(self, \n",
    "                                      observation, \n",
    "                                      sample_num, \n",
    "                                      categorical_columns,\n",
    "                                      numerical_columns,\n",
    "                                      epsilon):\n",
    "        # sample around observation\n",
    "        similar_observations = pd.DataFrame(columns=categorical_columns + numerical_columns)\n",
    "        \n",
    "        for _ in range(sample_num):\n",
    "            similar_observation_cat = dict(((cc, 0 + np.random.randint(0, 2)) \n",
    "                                            for cc in categorical_columns))\n",
    "            similar_observation_num = dict(((nc, observation[nc] + np.random.randint(-epsilon, epsilon)) \n",
    "                                            for nc in numerical_columns))\n",
    "            similar_observation = {**similar_observation_cat, **similar_observation_num}\n",
    "            similar_observation_df = pd.DataFrame(similar_observation,\n",
    "                                                  columns=categorical_columns + numerical_columns,\n",
    "                                                  index=(0,))\n",
    "            similar_observations = similar_observations.append(similar_observation_df, \n",
    "                                                               ignore_index=True)\n",
    "        \n",
    "        # calculate distances from sample to observation\n",
    "        similar_observations_dist = similar_observations.apply(lambda x: np.sum(np.absolute(x.values - observation.values)) + 1,\n",
    "                                                               axis=1)\n",
    "        \n",
    "        # predict on sample\n",
    "        y_sample_pred = self.clf.predict(similar_observations)\n",
    "        \n",
    "        # fit simple classifier\n",
    "        dt = DecisionTreeClassifier(max_depth=2)\n",
    "        dt.fit(similar_observations, \n",
    "                y_sample_pred, \n",
    "                sample_weight=(1 / similar_observations_dist.values))\n",
    "        \n",
    "        # draw the model\n",
    "        dot_data = StringIO()\n",
    "        export_graphviz(dt, \n",
    "                        out_file=dot_data,\n",
    "                        feature_names = similar_observations.columns,\n",
    "                        filled=True, \n",
    "                        rounded=True,\n",
    "                        special_characters=True)\n",
    "\n",
    "        graph = pydotplus.graph_from_dot_data(dot_data.getvalue())  \n",
    "        return graph"
   ]
  },
  {
   "cell_type": "code",
   "execution_count": 15,
   "metadata": {},
   "outputs": [
    {
     "data": {
      "image/png": "[encoded data removed]",
      "text/plain": [
       "<IPython.core.display.Image object>"
      ]
     },
     "execution_count": 15,
     "metadata": {},
     "output_type": "execute_result"
    }
   ],
   "source": [
    "lp = LimePlotter(rfc, x)\n",
    "graph = lp.draw_lime_model_approximation(joe, 100, ('Q19_1', 'Q26_1'), ('Q9', 'ppage'), 3)\n",
    "Image(graph.create_png())"
   ]
  },
  {
   "cell_type": "markdown",
   "metadata": {},
   "source": [
    "W pobliżu naszej obserwacji tj. respondenta Joe, 41-latka, który mieszka ze swoją 40-letnią partnerką partnerką, której nie poznał na studiach, najważniejszym predyktorem jest zmienna odpowiadająca na pytanie, czy partnerzy obecnie ze sobą mieszkają. Odpowiedź pozytywna implikuje, że respondent jest w związku małżeńskim, natomiast negatywna, że nie jest. \n",
    "\n",
    "Wynik ten jest zgodny z poprzednią pracą domową i rzuca nowe światło na model: przynajmniej w otoczeniu naszej obserwacji głównym predyktorem decydującym o wyniku jest zmienna Q19_1. Zmienna ta posiada również najwyższy wynik dodatni w breakdown plotach."
   ]
  },
  {
   "cell_type": "code",
   "execution_count": null,
   "metadata": {},
   "outputs": [],
   "source": []
  }
 ],
 "metadata": {
  "kernelspec": {
   "display_name": "Python 3",
   "language": "python",
   "name": "python3"
  },
  "language_info": {
   "codemirror_mode": {
    "name": "ipython",
    "version": 3
   },
   "file_extension": ".py",
   "mimetype": "text/x-python",
   "name": "python",
   "nbconvert_exporter": "python",
   "pygments_lexer": "ipython3",
   "version": "3.6.5"
  }
 },
 "nbformat": 4,
 "nbformat_minor": 2
}
