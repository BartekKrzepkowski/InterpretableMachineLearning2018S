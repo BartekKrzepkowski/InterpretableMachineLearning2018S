{
 "cells": [
  {
   "cell_type": "markdown",
   "metadata": {},
   "source": [
    "# Interpretable Machine Learning: PD4"
   ]
  },
  {
   "cell_type": "code",
   "execution_count": 1,
   "metadata": {},
   "outputs": [],
   "source": [
    "import matplotlib.pyplot as plt\n",
    "import numpy as np\n",
    "import pandas as pd\n",
    "import statsmodels.api as sm\n",
    "import waterfall_chart\n",
    "\n",
    "from scipy import stats\n",
    "from xgboost import XGBClassifier"
   ]
  },
  {
   "cell_type": "markdown",
   "metadata": {},
   "source": [
    "Przekopiowałem kod do wczytywania i transformacji danych oraz trenowania modelu z PD1."
   ]
  },
  {
   "cell_type": "code",
   "execution_count": 2,
   "metadata": {},
   "outputs": [],
   "source": [
    "path = r'D:\\Interpretable Machine Learning\\PD1\\HCMST 2017 fresh sample for public sharing draft v1.1.dta'\n",
    "data = pd.read_stata(path)"
   ]
  },
  {
   "cell_type": "code",
   "execution_count": 3,
   "metadata": {},
   "outputs": [],
   "source": [
    "variables = ['ppage', 'w6_q24_length', 'w6_sex_frequency', 'w6_q23', 'w6_q27']\n",
    "# Selecting variables\n",
    "X = data[variables]\n",
    "# Filtering observations\n",
    "logical_filter = (~data.w6_q23.isna()) & (data.w6_q23 != 'Refused') & (data.w6_q27 != 'Refused')\n",
    "X = X[logical_filter]\n",
    "# Casting types and imputation\n",
    "X.ppage = X.ppage.astype(float)\n",
    "X.w6_q24_length = X.w6_q24_length.astype(float)\n",
    "X.w6_sex_frequency = X.w6_sex_frequency.cat.codes.replace({-1:5, 0:5})\n",
    "X.w6_q23 = X.w6_q23.astype(str)\n",
    "X.w6_q27 = X.w6_q27.astype(str)\n",
    "# One Hot Encoding\n",
    "X = pd.get_dummies(X)\n",
    "X.columns = map(lambda x: x.replace('[Partner Name]', 'PARTNER'), X.columns)\n",
    "\n",
    "y = 1 - data.S1.cat.codes\n",
    "y = y[logical_filter]"
   ]
  },
  {
   "cell_type": "code",
   "execution_count": 4,
   "metadata": {},
   "outputs": [
    {
     "data": {
      "text/plain": [
       "XGBClassifier(base_score=0.5, booster='gbtree', colsample_bylevel=1,\n",
       "       colsample_bytree=1, gamma=0, learning_rate=0.1, max_delta_step=0,\n",
       "       max_depth=3, min_child_weight=1, missing=None, n_estimators=100,\n",
       "       n_jobs=1, nthread=None, objective='binary:logistic', random_state=0,\n",
       "       reg_alpha=0, reg_lambda=1, scale_pos_weight=1, seed=123,\n",
       "       silent=True, subsample=1)"
      ]
     },
     "execution_count": 4,
     "metadata": {},
     "output_type": "execute_result"
    }
   ],
   "source": [
    "xgb = XGBClassifier(seed=123)\n",
    "xgb.fit(X,y)"
   ]
  },
  {
   "cell_type": "markdown",
   "metadata": {},
   "source": [
    "## Definicja funkcji rysującej wykres do Variable Attribution"
   ]
  },
  {
   "cell_type": "code",
   "execution_count": 5,
   "metadata": {},
   "outputs": [],
   "source": [
    "def VA_plot(model, X, obs, variable_order_list, predict_proba):\n",
    "    obs = pd.DataFrame(obs).transpose()\n",
    "    df = X.copy()\n",
    "    df_to_add = X.copy()\n",
    "    for var in variable_order_list:\n",
    "        df_to_add[var] = obs[var].values[0]\n",
    "        \n",
    "        df = df.append(df_to_add)\n",
    "        \n",
    "    if predict_proba:\n",
    "        preds = model.predict_proba(df)[:,1]\n",
    "    else:\n",
    "        preds = model.predict(df)\n",
    "    to_plot = pd.DataFrame({'label':np.repeat(['pred_mean'] + list(map(lambda x: x[:10],variable_order_list)), X.shape[0]),\n",
    "                            'pred':preds})\n",
    "    to_plot = to_plot.groupby('label', sort=False).agg('mean')\n",
    "    to_plot['pred'] = [to_plot['pred'][0]] + list(np.diff(to_plot['pred']))\n",
    "    waterfall_chart.plot(to_plot.index,\n",
    "                         to_plot['pred'],\n",
    "                            formatting='{:,.3f}',)"
   ]
  },
  {
   "cell_type": "markdown",
   "metadata": {},
   "source": [
    "## Definicja klasy tworzącej model LIME"
   ]
  },
  {
   "cell_type": "markdown",
   "metadata": {},
   "source": [
    "Załóżmy, że wybraliśmy obserwację $X_i = (X_{i1}, ..., X_{ik})$. Dla danej obserwacji jej perturbacje generowane są następująco:\n",
    "\n",
    "* Dla zmiennych ciągłych są losowane z rozkładu normalnego. Dla $j$-tej zmiennej ustalamy średnią jako $X_{ij}$, czyli wartość $j$-tej zmiennej dla wybranej $i$-tej obserwacji. Odchylenie standardowe jest wybierane jako odchylenie standardowe $j$-tej zmiennej w próbce uczącej, podzielone przez 3. Przy założeniu, że ta zmienna ma rozkład normalny, co oczywiście nie musi być prawdą, gwarantowałoby to, że z prawdopodobieństwem 99,7% wylosujemy liczbę odległą od średniej o co najwyżej odchylenie standardowe na próbce uczącej.\n",
    "* Dla zmiennych dyskretnych są losowane z rozkładu dyskretnego z prawdopodobieństwami równymi częstościom na zbiorze treningowym.\n",
    "\n",
    "Wykorzystano pakiet `statsmodels`, żeby podsumowanie modelu zawierało więcej informacji."
   ]
  },
  {
   "cell_type": "code",
   "execution_count": 6,
   "metadata": {},
   "outputs": [],
   "source": [
    "class LIME:\n",
    "    def __init__(self, model, X, obs):\n",
    "        self.model = model\n",
    "        self.X = X\n",
    "        self.obs = obs\n",
    "        return\n",
    "    \n",
    "    def create_z(self, no_samples):\n",
    "        z_dict = {}\n",
    "        for var in self.X.columns:\n",
    "            if self.X[var].dtype == np.float64:\n",
    "                z_dict[var] = stats.norm.rvs(loc=self.obs[var], scale=X[var].std()/3, size=no_samples)\n",
    "            else:\n",
    "                values = X[var].value_counts().index\n",
    "                probs = X[var].value_counts().values / X.shape[0]\n",
    "                z_dict[var] = stats.rv_discrete(values=(values, probs)).rvs(size=no_samples)\n",
    "        self.Z = pd.DataFrame(z_dict)\n",
    "        \n",
    "    def predict_for_z(self):\n",
    "        self.y_Z = self.model.predict_proba(self.Z)[:,1]\n",
    "        \n",
    "    def train_wb_model(self):\n",
    "        self.wb_model = sm.OLS(self.y_Z, self.Z).fit()\n",
    "    \n",
    "    def print_results(self):\n",
    "        print(self.wb_model.summary())"
   ]
  },
  {
   "cell_type": "markdown",
   "metadata": {},
   "source": [
    "## Wyjaśnianie modelu"
   ]
  },
  {
   "cell_type": "markdown",
   "metadata": {},
   "source": [
    "Analogicznie do PD1, jako obserwację wybrano 32-letnią osobę, która o poznaniu swojego partnera napisała 348 znaków. Z partnerem uprawiała seks z partnerem 3 do 6 razy w tygodniu; w 2016 roku zarobiła więcej niż partner oraz dorastała z partnerem w tej samej miejscowości. Osoba ta nie była w związku małżeńskim."
   ]
  },
  {
   "cell_type": "code",
   "execution_count": 7,
   "metadata": {},
   "outputs": [
    {
     "name": "stdout",
     "output_type": "stream",
     "text": [
      "ppage                                      32.0\n",
      "w6_q24_length                             348.0\n",
      "w6_sex_frequency                            2.0\n",
      "w6_q23_I earned more                        1.0\n",
      "w6_q23_We earned about the same amount      0.0\n",
      "w6_q23_PARTNER earned more                  0.0\n",
      "w6_q23_PARTNER was not working for pay      0.0\n",
      "w6_q27_No                                   0.0\n",
      "w6_q27_Yes                                  1.0\n",
      "Name: 24, dtype: float64\n",
      "0\n"
     ]
    }
   ],
   "source": [
    "obs = X.iloc[23,]\n",
    "print(obs)\n",
    "print(y[23])"
   ]
  },
  {
   "cell_type": "markdown",
   "metadata": {},
   "source": [
    "Przyjąłem dwa podejścia. Najpierw rozważyłem zmienne w kolejności: numeryczne, porządkowa, dyskretne. W drugiej wersji odwrotnie - zaczynając od dyskretnych, a potem porządkowa i numeryczne w odwróconej kolejności."
   ]
  },
  {
   "cell_type": "code",
   "execution_count": 8,
   "metadata": {},
   "outputs": [
    {
     "data": {
      "image/png": "[encoded data removed]",
      "text/plain": [
       "<matplotlib.figure.Figure at 0x21263559fd0>"
      ]
     },
     "metadata": {
      "needs_background": "light"
     },
     "output_type": "display_data"
    }
   ],
   "source": [
    "vlist1 = ['ppage', \n",
    "          'w6_q24_length', \n",
    "          'w6_sex_frequency', \n",
    "          'w6_q23_I earned more', \n",
    "          'w6_q23_We earned about the same amount', \n",
    "          'w6_q23_PARTNER earned more',\n",
    "          'w6_q23_PARTNER was not working for pay',\n",
    "          'w6_q27_No',\n",
    "          'w6_q27_Yes']\n",
    "\n",
    "VA_plot(xgb, X, obs, vlist1, True)"
   ]
  },
  {
   "cell_type": "code",
   "execution_count": 9,
   "metadata": {},
   "outputs": [
    {
     "data": {
      "image/png": "[encoded data removed]",
      "text/plain": [
       "<matplotlib.figure.Figure at 0x21264cf4f98>"
      ]
     },
     "metadata": {
      "needs_background": "light"
     },
     "output_type": "display_data"
    }
   ],
   "source": [
    "vlist2 = ['w6_q23_I earned more', \n",
    "          'w6_q23_We earned about the same amount', \n",
    "          'w6_q23_PARTNER earned more',\n",
    "          'w6_q23_PARTNER was not working for pay',\n",
    "          'w6_q27_No',\n",
    "          'w6_q27_Yes',\n",
    "          'w6_sex_frequency', \n",
    "          'w6_q24_length',\n",
    "          'ppage']\n",
    "\n",
    "VA_plot(xgb, X, obs, vlist2, True)"
   ]
  },
  {
   "cell_type": "markdown",
   "metadata": {},
   "source": [
    "## LIME"
   ]
  },
  {
   "cell_type": "code",
   "execution_count": 22,
   "metadata": {},
   "outputs": [
    {
     "data": {
      "image/png": "[encoded data removed]",
      "text/plain": [
       "<matplotlib.figure.Figure at 0x21274a85f98>"
      ]
     },
     "metadata": {
      "needs_background": "light"
     },
     "output_type": "display_data"
    }
   ],
   "source": [
    "l = LIME(xgb, X, obs)\n",
    "l.create_z(1000)\n",
    "l.predict_for_z()\n",
    "l.train_wb_model()\n",
    "VA_plot(l.wb_model, l.Z, obs, vlist1, False)"
   ]
  },
  {
   "cell_type": "markdown",
   "metadata": {},
   "source": [
    "Ciekawa obserwacja jest taka, że dla wszystkich zmiennych poza `w6_q24_len` efekty implikowane przez model białej skrzynki mają taki sam znak jak dla wyjściowego modelu, co pokazuje powyższy wykres Variable Attribution. Biorąc pod uwagę, że wykresy VA zachowywały się podobnie niezależnie od permutacji zmiennych oraz VA dla modelu LIME również były podobne, można uznać, że obie metody dobrze odzwierciedlają zachowanie wyjściowego modelu w pobliżu naszej wybranej obserwacji. Oczywiście predykcja z modelu białej skrzynki niekoniecznie musi mieć sens - dla predykcji prawdopodobieństw model liniowy może wyjść poza przedział [0,1]. Pokazują to poniższe statystyki. Najpierw wyświetliłem kilka predykcji oraz statystyki opisowe dla danych generowanych podczas tworzenia modelu LIME."
   ]
  },
  {
   "cell_type": "code",
   "execution_count": 26,
   "metadata": {},
   "outputs": [
    {
     "data": {
      "text/plain": [
       "0    0.425976\n",
       "1    0.595005\n",
       "2    0.468170\n",
       "3    0.471574\n",
       "4    0.343552\n",
       "dtype: float64"
      ]
     },
     "execution_count": 26,
     "metadata": {},
     "output_type": "execute_result"
    }
   ],
   "source": [
    "l.wb_model.predict(l.Z).head()"
   ]
  },
  {
   "cell_type": "code",
   "execution_count": 28,
   "metadata": {},
   "outputs": [
    {
     "data": {
      "text/plain": [
       "count    1000.000000\n",
       "mean        0.571603\n",
       "std         0.161165\n",
       "min         0.053263\n",
       "25%         0.459990\n",
       "50%         0.572001\n",
       "75%         0.680310\n",
       "max         1.097218\n",
       "dtype: float64"
      ]
     },
     "execution_count": 28,
     "metadata": {},
     "output_type": "execute_result"
    }
   ],
   "source": [
    "l.wb_model.predict(l.Z).describe()"
   ]
  },
  {
   "cell_type": "markdown",
   "metadata": {},
   "source": [
    "Te dane znajdują się w pewnym sensie _w pobliżu_ rozważanej obserwacji i wydają się mieć sens, pomijając maksimum, które wykracza poza [0,1]."
   ]
  },
  {
   "cell_type": "code",
   "execution_count": 24,
   "metadata": {},
   "outputs": [
    {
     "data": {
      "text/plain": [
       "0    0.404358\n",
       "1    1.149350\n",
       "2    0.885898\n",
       "3    0.361057\n",
       "4    1.370899\n",
       "dtype: float64"
      ]
     },
     "execution_count": 24,
     "metadata": {},
     "output_type": "execute_result"
    }
   ],
   "source": [
    "l.wb_model.predict(X).head()"
   ]
  },
  {
   "cell_type": "code",
   "execution_count": 30,
   "metadata": {},
   "outputs": [
    {
     "data": {
      "text/plain": [
       "count    3358.000000\n",
       "mean        1.005311\n",
       "std         0.409866\n",
       "min         0.078600\n",
       "25%         0.662557\n",
       "50%         1.043605\n",
       "75%         1.327309\n",
       "max         2.041629\n",
       "dtype: float64"
      ]
     },
     "execution_count": 30,
     "metadata": {},
     "output_type": "execute_result"
    }
   ],
   "source": [
    "l.wb_model.predict(X).describe()"
   ]
  },
  {
   "cell_type": "markdown",
   "metadata": {},
   "source": [
    "Dla predykcji na całym zbiorze treningowym `X` sytuacja wygląda gorzej, czego można by się spodziewać. Im bardziej oddalamy się od obserwacji, dla której był tworzony model LIME, tym bardziej przestaje działać liniowe przybliżenie. To prowadzi do niespodziewanych predykcji, np. większych niż 2."
   ]
  }
 ],
 "metadata": {
  "kernelspec": {
   "display_name": "Python 3",
   "language": "python",
   "name": "python3"
  },
  "language_info": {
   "codemirror_mode": {
    "name": "ipython",
    "version": 3
   },
   "file_extension": ".py",
   "mimetype": "text/x-python",
   "name": "python",
   "nbconvert_exporter": "python",
   "pygments_lexer": "ipython3",
   "version": "3.6.4"
  }
 },
 "nbformat": 4,
 "nbformat_minor": 2
}
