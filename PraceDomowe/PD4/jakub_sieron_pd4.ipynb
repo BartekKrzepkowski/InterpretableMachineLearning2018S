{
 "cells": [
  {
   "cell_type": "code",
   "execution_count": 1,
   "metadata": {},
   "outputs": [],
   "source": [
    "%matplotlib inline\n",
    "\n",
    "import pandas as pd\n",
    "import numpy as np\n",
    "from sklearn.model_selection import train_test_split, RandomizedSearchCV, GridSearchCV\n",
    "from sklearn.ensemble import RandomForestClassifier\n",
    "import matplotlib.pyplot as plt"
   ]
  },
  {
   "cell_type": "code",
   "execution_count": 2,
   "metadata": {},
   "outputs": [],
   "source": [
    "df = pd.read_stata('../../../HCMST 2017 fresh sample for public sharing draft v1.1.dta')"
   ]
  },
  {
   "cell_type": "code",
   "execution_count": 3,
   "metadata": {},
   "outputs": [
    {
     "data": {
      "text/html": [
       "<div>\n",
       "<style>\n",
       "    .dataframe thead tr:only-child th {\n",
       "        text-align: right;\n",
       "    }\n",
       "\n",
       "    .dataframe thead th {\n",
       "        text-align: left;\n",
       "    }\n",
       "\n",
       "    .dataframe tbody tr th {\n",
       "        vertical-align: top;\n",
       "    }\n",
       "</style>\n",
       "<table border=\"1\" class=\"dataframe\">\n",
       "  <thead>\n",
       "    <tr style=\"text-align: right;\">\n",
       "      <th></th>\n",
       "      <th>time_from_met_to_rel</th>\n",
       "      <th>time_from_rel_to_cohab</th>\n",
       "      <th>Q25</th>\n",
       "      <th>Q12</th>\n",
       "      <th>S1</th>\n",
       "    </tr>\n",
       "  </thead>\n",
       "  <tbody>\n",
       "    <tr>\n",
       "      <th>0</th>\n",
       "      <td>0.000000</td>\n",
       "      <td>NaN</td>\n",
       "      <td>NaN</td>\n",
       "      <td>NaN</td>\n",
       "      <td>No, I am not Married</td>\n",
       "    </tr>\n",
       "    <tr>\n",
       "      <th>1</th>\n",
       "      <td>12.250000</td>\n",
       "      <td>0.500000</td>\n",
       "      <td>Different High School</td>\n",
       "      <td>Leans Republican</td>\n",
       "      <td>Yes, I am Married</td>\n",
       "    </tr>\n",
       "    <tr>\n",
       "      <th>2</th>\n",
       "      <td>0.416748</td>\n",
       "      <td>0.083252</td>\n",
       "      <td>Different High School</td>\n",
       "      <td>Leans Democrat</td>\n",
       "      <td>Yes, I am Married</td>\n",
       "    </tr>\n",
       "    <tr>\n",
       "      <th>3</th>\n",
       "      <td>1.083252</td>\n",
       "      <td>NaN</td>\n",
       "      <td>NaN</td>\n",
       "      <td>NaN</td>\n",
       "      <td>No, I am not Married</td>\n",
       "    </tr>\n",
       "    <tr>\n",
       "      <th>4</th>\n",
       "      <td>0.083252</td>\n",
       "      <td>0.833374</td>\n",
       "      <td>Different High School</td>\n",
       "      <td>Strong Democrat</td>\n",
       "      <td>Yes, I am Married</td>\n",
       "    </tr>\n",
       "  </tbody>\n",
       "</table>\n",
       "</div>"
      ],
      "text/plain": [
       "   time_from_met_to_rel  time_from_rel_to_cohab                    Q25  \\\n",
       "0              0.000000                     NaN                    NaN   \n",
       "1             12.250000                0.500000  Different High School   \n",
       "2              0.416748                0.083252  Different High School   \n",
       "3              1.083252                     NaN                    NaN   \n",
       "4              0.083252                0.833374  Different High School   \n",
       "\n",
       "                Q12                    S1  \n",
       "0               NaN  No, I am not Married  \n",
       "1  Leans Republican     Yes, I am Married  \n",
       "2    Leans Democrat     Yes, I am Married  \n",
       "3               NaN  No, I am not Married  \n",
       "4   Strong Democrat     Yes, I am Married  "
      ]
     },
     "execution_count": 3,
     "metadata": {},
     "output_type": "execute_result"
    }
   ],
   "source": [
    "chosen_cols = [\n",
    "    'time_from_met_to_rel',  # numeryczna - czas (w latach), który upłynął od poznania do wejścia w związek\n",
    "    'time_from_rel_to_cohab', # numeryczna - czas (w latach), który upłynął od wejścia w związek do zamieszkania razem\n",
    "    'Q25',  # jakościowa - czy uczęszczałeś z partnerem do tej samej szkoły średniej\n",
    "    'Q12', # jakościowa - jak partner opisuje swoje poglądy polityczne\n",
    "    'S1',  # output\n",
    "]\n",
    "df[chosen_cols].head()"
   ]
  },
  {
   "cell_type": "code",
   "execution_count": 4,
   "metadata": {},
   "outputs": [
    {
     "name": "stdout",
     "output_type": "stream",
     "text": [
      "time_from_met_to_rel      3263\n",
      "time_from_rel_to_cohab    2578\n",
      "Q25                       2856\n",
      "Q12                       2856\n",
      "S1                        3510\n",
      "dtype: int64\n",
      "==============================\n",
      "before drop: 3510\n",
      "after drop: 2354\n"
     ]
    },
    {
     "data": {
      "text/html": [
       "<div>\n",
       "<style>\n",
       "    .dataframe thead tr:only-child th {\n",
       "        text-align: right;\n",
       "    }\n",
       "\n",
       "    .dataframe thead th {\n",
       "        text-align: left;\n",
       "    }\n",
       "\n",
       "    .dataframe tbody tr th {\n",
       "        vertical-align: top;\n",
       "    }\n",
       "</style>\n",
       "<table border=\"1\" class=\"dataframe\">\n",
       "  <thead>\n",
       "    <tr style=\"text-align: right;\">\n",
       "      <th></th>\n",
       "      <th>time_from_met_to_rel</th>\n",
       "      <th>time_from_rel_to_cohab</th>\n",
       "      <th>Q25</th>\n",
       "      <th>Q12</th>\n",
       "      <th>S1</th>\n",
       "    </tr>\n",
       "  </thead>\n",
       "  <tbody>\n",
       "    <tr>\n",
       "      <th>1</th>\n",
       "      <td>12.250000</td>\n",
       "      <td>0.500000</td>\n",
       "      <td>Different High School</td>\n",
       "      <td>Leans Republican</td>\n",
       "      <td>1.0</td>\n",
       "    </tr>\n",
       "    <tr>\n",
       "      <th>2</th>\n",
       "      <td>0.416748</td>\n",
       "      <td>0.083252</td>\n",
       "      <td>Different High School</td>\n",
       "      <td>Leans Democrat</td>\n",
       "      <td>1.0</td>\n",
       "    </tr>\n",
       "    <tr>\n",
       "      <th>4</th>\n",
       "      <td>0.083252</td>\n",
       "      <td>0.833374</td>\n",
       "      <td>Different High School</td>\n",
       "      <td>Strong Democrat</td>\n",
       "      <td>1.0</td>\n",
       "    </tr>\n",
       "    <tr>\n",
       "      <th>5</th>\n",
       "      <td>0.500000</td>\n",
       "      <td>0.000000</td>\n",
       "      <td>Different High School</td>\n",
       "      <td>Undecided/Independent/Other</td>\n",
       "      <td>1.0</td>\n",
       "    </tr>\n",
       "    <tr>\n",
       "      <th>6</th>\n",
       "      <td>0.250000</td>\n",
       "      <td>2.583374</td>\n",
       "      <td>Different High School</td>\n",
       "      <td>Leans Republican</td>\n",
       "      <td>1.0</td>\n",
       "    </tr>\n",
       "  </tbody>\n",
       "</table>\n",
       "</div>"
      ],
      "text/plain": [
       "   time_from_met_to_rel  time_from_rel_to_cohab                    Q25  \\\n",
       "1             12.250000                0.500000  Different High School   \n",
       "2              0.416748                0.083252  Different High School   \n",
       "4              0.083252                0.833374  Different High School   \n",
       "5              0.500000                0.000000  Different High School   \n",
       "6              0.250000                2.583374  Different High School   \n",
       "\n",
       "                           Q12   S1  \n",
       "1             Leans Republican  1.0  \n",
       "2               Leans Democrat  1.0  \n",
       "4              Strong Democrat  1.0  \n",
       "5  Undecided/Independent/Other  1.0  \n",
       "6             Leans Republican  1.0  "
      ]
     },
     "execution_count": 4,
     "metadata": {},
     "output_type": "execute_result"
    }
   ],
   "source": [
    "# kilka parametrów danych\n",
    "print(df[chosen_cols].count())  # liczba niepustych wartości w każdej kolumnie \n",
    "print('=' * 30)\n",
    "print('before drop:', len(df[chosen_cols]))\n",
    "print('after drop:', len(df[chosen_cols].dropna()))  # liczba wierszy przed i po usunięciu niekompletnych wierszy\n",
    "\n",
    "cleaner_df = df[chosen_cols].dropna()\n",
    "cleaner_df['S1'] = cleaner_df['S1'].apply(lambda x: 1 if x == 'Yes, I am Married' else 0)\n",
    "cleaner_df['S1'] = cleaner_df['S1'].astype('float')  # przekształcenie kolumny wynikowej do postaci 0/1\n",
    "final_df = cleaner_df\n",
    "final_df.head()"
   ]
  },
  {
   "cell_type": "code",
   "execution_count": 5,
   "metadata": {},
   "outputs": [],
   "source": [
    "X = final_df.loc[:, final_df.columns != 'S1']\n",
    "y = final_df.loc[:, 'S1']\n"
   ]
  },
  {
   "cell_type": "code",
   "execution_count": 7,
   "metadata": {},
   "outputs": [
    {
     "data": {
      "text/plain": [
       "RandomForestClassifier(bootstrap=True, class_weight=None, criterion='gini',\n",
       "            max_depth=7, max_features=3, max_leaf_nodes=None,\n",
       "            min_impurity_decrease=0.0, min_impurity_split=None,\n",
       "            min_samples_leaf=1, min_samples_split=2,\n",
       "            min_weight_fraction_leaf=0.0, n_estimators=22, n_jobs=-1,\n",
       "            oob_score=False, random_state=None, verbose=0,\n",
       "            warm_start=False)"
      ]
     },
     "execution_count": 7,
     "metadata": {},
     "output_type": "execute_result"
    }
   ],
   "source": [
    "clf = RandomForestClassifier(**{'max_depth': 7, 'max_features': 3, 'min_samples_split': 2, 'n_estimators': 22},\n",
    "                             n_jobs=-1)\n",
    "X_train = pd.get_dummies(X).sort_index(axis=1)\n",
    "y_train = y\n",
    "clf.fit(X_train, y_train)"
   ]
  },
  {
   "cell_type": "code",
   "execution_count": 45,
   "metadata": {},
   "outputs": [
    {
     "data": {
      "text/plain": [
       "time_from_met_to_rel                          3\n",
       "time_from_rel_to_cohab                     4.25\n",
       "Q25                       Different High School\n",
       "Q12                           Strong Republican\n",
       "Name: 1398, dtype: object"
      ]
     },
     "execution_count": 45,
     "metadata": {},
     "output_type": "execute_result"
    }
   ],
   "source": [
    "chosen_row = X.loc[1398]\n",
    "chosen_row"
   ]
  },
  {
   "cell_type": "code",
   "execution_count": 61,
   "metadata": {},
   "outputs": [],
   "source": [
    "tfmtr_sigma = .5\n",
    "tfrtc_sigma = .5\n",
    "q25_vals = list(X.Q25.unique())\n",
    "q12_vals = list(X.Q12.unique())"
   ]
  },
  {
   "cell_type": "code",
   "execution_count": 62,
   "metadata": {},
   "outputs": [],
   "source": [
    "import random\n",
    "# generowanie 1000 próbek podobnych do wyjściowej i zapisanie ich w dataframie\n",
    "generated_sample = [[np.random.normal(chosen_row.time_from_met_to_rel, tfmtr_sigma),\n",
    "                    np.random.normal(chosen_row.time_from_rel_to_cohab, tfrtc_sigma),\n",
    "                    random.choice(q25_vals),\n",
    "                    random.choice(q12_vals),] for _ in range(1000)]\n",
    "generated_sample_dict = dict(zip(X.columns, list(zip(*generated_sample))))\n",
    "generated_sample_df = pd.DataFrame(generated_sample_dict)"
   ]
  },
  {
   "cell_type": "code",
   "execution_count": 63,
   "metadata": {},
   "outputs": [],
   "source": [
    "# przekształcenie danych do formatu wejściowego do modelu, wyliczenie predykcji modelu i wag\n",
    "generated_sample_df = pd.get_dummies(generated_sample_df)[X_train.columns]\n",
    "gs_preds = clf.predict_proba(generated_sample_df)[:, 1]\n",
    "gs_weights = 1 / np.apply_along_axis(np.linalg.norm, 1, np.array(X_train.loc[1398]) - np.array(generated_sample_df))"
   ]
  },
  {
   "cell_type": "code",
   "execution_count": 71,
   "metadata": {},
   "outputs": [
    {
     "data": {
      "text/plain": [
       "LinearRegression(copy_X=True, fit_intercept=True, n_jobs=1, normalize=False)"
      ]
     },
     "execution_count": 71,
     "metadata": {},
     "output_type": "execute_result"
    }
   ],
   "source": [
    "# wytrenowanie modelu białej skrzynki - ważonej regresji liniowej\n",
    "from sklearn.linear_model import LinearRegression\n",
    "white_box_model = LinearRegression()\n",
    "white_box_model.fit(generated_sample_df, gs_preds, sample_weight=gs_weights)"
   ]
  },
  {
   "cell_type": "code",
   "execution_count": 76,
   "metadata": {},
   "outputs": [
    {
     "name": "stdout",
     "output_type": "stream",
     "text": [
      "Q12_Leans Democrat: -489735419399.629\n",
      "Q12_Leans Republican: -489735419399.59094\n",
      "Q12_Not Strong Democrat: -489735419399.61273\n",
      "Q12_Not Strong Republican: -489735419399.5441\n",
      "Q12_Refused: -489735419399.60516\n",
      "Q12_Strong Democrat: -489735419399.58136\n",
      "Q12_Strong Republican: -489735419399.57733\n",
      "Q12_Undecided/Independent/Other: -489735419399.6792\n",
      "Q25_Different High School: -305647814073.93524\n",
      "Q25_Refused: -305647814073.9081\n",
      "Q25_Same High School: -305647814073.9256\n",
      "time_from_met_to_rel: -0.008701709416007722\n",
      "time_from_rel_to_cohab: -0.0027034284714271134\n",
      "constant term: 795383233474.4426\n"
     ]
    }
   ],
   "source": [
    "# wypisanie wag białej skrzynki dla poszczególnych zmiennych\n",
    "for param, coef in zip(generated_sample_df.columns, white_box_model.coef_):\n",
    "    print(f\"{param}: {coef}\")\n",
    "print(f\"constant term: {white_box_model.intercept_}\")"
   ]
  },
  {
   "cell_type": "code",
   "execution_count": 88,
   "metadata": {},
   "outputs": [],
   "source": [
    "# analogiczne kroki, jednak przy ustalonych zmiennych jakościowych\n",
    "x_train_nonnumeric = dict(X_train.loc[1398, ['Q12_Leans Democrat', 'Q12_Leans Republican', 'Q12_Not Strong Democrat',\n",
    "       'Q12_Not Strong Republican', 'Q12_Refused', 'Q12_Strong Democrat',\n",
    "       'Q12_Strong Republican', 'Q12_Undecided/Independent/Other',\n",
    "       'Q25_Different High School', 'Q25_Refused', 'Q25_Same High School']])\n",
    "new_generated_sample_dict = {x: [x_train_nonnumeric[x] for _ in range(1000)] for x in x_train_nonnumeric}\n",
    "new_generated_sample_dict['time_from_met_to_rel'] = [np.random.normal(chosen_row.time_from_met_to_rel, tfmtr_sigma) for _ in range(1000)]\n",
    "new_generated_sample_dict['time_from_rel_to_cohab'] = [np.random.normal(chosen_row.time_from_rel_to_cohab, tfrtc_sigma) for _ in range(1000)]\n",
    "new_generated_sample_df = pd.DataFrame(new_generated_sample_dict)\n",
    "new_generated_sample_df = new_generated_sample_df[X_train.columns]"
   ]
  },
  {
   "cell_type": "code",
   "execution_count": 89,
   "metadata": {},
   "outputs": [],
   "source": [
    "ngs_preds = clf.predict_proba(new_generated_sample_df)[:, 1]\n",
    "ngs_weights = 1 / np.apply_along_axis(np.linalg.norm, 1, np.array(X_train.loc[1398]) - np.array(new_generated_sample_df))"
   ]
  },
  {
   "cell_type": "code",
   "execution_count": 90,
   "metadata": {},
   "outputs": [
    {
     "data": {
      "text/plain": [
       "LinearRegression(copy_X=True, fit_intercept=True, n_jobs=1, normalize=False)"
      ]
     },
     "execution_count": 90,
     "metadata": {},
     "output_type": "execute_result"
    }
   ],
   "source": [
    "from sklearn.linear_model import LinearRegression\n",
    "new_white_box_model = LinearRegression()\n",
    "new_white_box_model.fit(new_generated_sample_df, ngs_preds, sample_weight=ngs_weights)"
   ]
  },
  {
   "cell_type": "code",
   "execution_count": 91,
   "metadata": {},
   "outputs": [
    {
     "name": "stdout",
     "output_type": "stream",
     "text": [
      "Q12_Leans Democrat: 0.0\n",
      "Q12_Leans Republican: 7.305535042165965e-18\n",
      "Q12_Not Strong Democrat: -1.193151311531375e-17\n",
      "Q12_Not Strong Republican: 1.3147748429207506e-47\n",
      "Q12_Refused: 2.5922646642425427e-48\n",
      "Q12_Strong Democrat: 1.3003784544849074e-63\n",
      "Q12_Strong Republican: -3.4771057059445286e-63\n",
      "Q12_Undecided/Independent/Other: 2.83704352469712e-79\n",
      "Q25_Different High School: -4.957637195972181e-80\n",
      "Q25_Refused: 9.15364443057667e-96\n",
      "Q25_Same High School: 2.944482734352086e-96\n",
      "time_from_met_to_rel: -0.06223550522517227\n",
      "time_from_rel_to_cohab: 0.004079876301359343\n",
      "constant term: 1.0885082621826951\n"
     ]
    }
   ],
   "source": [
    "for param, coef in zip(new_generated_sample_df.columns, new_white_box_model.coef_):\n",
    "    print(f\"{param}: {coef}\")\n",
    "print(f\"constant term: {new_white_box_model.intercept_}\")"
   ]
  },
  {
   "cell_type": "code",
   "execution_count": null,
   "metadata": {},
   "outputs": [],
   "source": []
  }
 ],
 "metadata": {
  "kernelspec": {
   "display_name": "Python 3",
   "language": "python",
   "name": "python3"
  },
  "language_info": {
   "codemirror_mode": {
    "name": "ipython",
    "version": 3
   },
   "file_extension": ".py",
   "mimetype": "text/x-python",
   "name": "python",
   "nbconvert_exporter": "python",
   "pygments_lexer": "ipython3",
   "version": "3.6.2"
  }
 },
 "nbformat": 4,
 "nbformat_minor": 2
}
