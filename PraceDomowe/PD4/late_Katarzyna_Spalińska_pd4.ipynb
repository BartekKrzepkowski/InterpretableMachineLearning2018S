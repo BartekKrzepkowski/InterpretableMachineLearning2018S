{
 "cells": [
  {
   "cell_type": "markdown",
   "metadata": {},
   "source": [
    "# Praca domowa 4"
   ]
  },
  {
   "cell_type": "markdown",
   "metadata": {},
   "source": [
    "## Import i preprocessing danych"
   ]
  },
  {
   "cell_type": "code",
   "execution_count": 1,
   "metadata": {},
   "outputs": [
    {
     "data": {
      "text/html": [
       "<div>\n",
       "<style scoped>\n",
       "    .dataframe tbody tr th:only-of-type {\n",
       "        vertical-align: middle;\n",
       "    }\n",
       "\n",
       "    .dataframe tbody tr th {\n",
       "        vertical-align: top;\n",
       "    }\n",
       "\n",
       "    .dataframe thead th {\n",
       "        text-align: right;\n",
       "    }\n",
       "</style>\n",
       "<table border=\"1\" class=\"dataframe\">\n",
       "  <thead>\n",
       "    <tr style=\"text-align: right;\">\n",
       "      <th></th>\n",
       "      <th>rel_quality</th>\n",
       "      <th>education</th>\n",
       "      <th>living_together</th>\n",
       "      <th>partner_politics</th>\n",
       "      <th>partners_age</th>\n",
       "      <th>S1</th>\n",
       "    </tr>\n",
       "  </thead>\n",
       "  <tbody>\n",
       "    <tr>\n",
       "      <th>1</th>\n",
       "      <td>Excellent</td>\n",
       "      <td>Masters degree</td>\n",
       "      <td>Yes</td>\n",
       "      <td>Leans Republican</td>\n",
       "      <td>52</td>\n",
       "      <td>Yes, I am Married</td>\n",
       "    </tr>\n",
       "    <tr>\n",
       "      <th>2</th>\n",
       "      <td>Good</td>\n",
       "      <td>Masters degree</td>\n",
       "      <td>Yes</td>\n",
       "      <td>Leans Democrat</td>\n",
       "      <td>45</td>\n",
       "      <td>Yes, I am Married</td>\n",
       "    </tr>\n",
       "    <tr>\n",
       "      <th>4</th>\n",
       "      <td>Excellent</td>\n",
       "      <td>Bachelors degree</td>\n",
       "      <td>Yes</td>\n",
       "      <td>Strong Democrat</td>\n",
       "      <td>59</td>\n",
       "      <td>Yes, I am Married</td>\n",
       "    </tr>\n",
       "    <tr>\n",
       "      <th>5</th>\n",
       "      <td>Good</td>\n",
       "      <td>HIGH SCHOOL GRADUATE - high school DIPLOMA or ...</td>\n",
       "      <td>Yes</td>\n",
       "      <td>Undecided/Independent/Other</td>\n",
       "      <td>60</td>\n",
       "      <td>Yes, I am Married</td>\n",
       "    </tr>\n",
       "    <tr>\n",
       "      <th>6</th>\n",
       "      <td>Excellent</td>\n",
       "      <td>HIGH SCHOOL GRADUATE - high school DIPLOMA or ...</td>\n",
       "      <td>Yes</td>\n",
       "      <td>Leans Republican</td>\n",
       "      <td>67</td>\n",
       "      <td>Yes, I am Married</td>\n",
       "    </tr>\n",
       "  </tbody>\n",
       "</table>\n",
       "</div>"
      ],
      "text/plain": [
       "  rel_quality                                          education  \\\n",
       "1   Excellent                                     Masters degree   \n",
       "2        Good                                     Masters degree   \n",
       "4   Excellent                                   Bachelors degree   \n",
       "5        Good  HIGH SCHOOL GRADUATE - high school DIPLOMA or ...   \n",
       "6   Excellent  HIGH SCHOOL GRADUATE - high school DIPLOMA or ...   \n",
       "\n",
       "  living_together             partner_politics partners_age                 S1  \n",
       "1             Yes             Leans Republican           52  Yes, I am Married  \n",
       "2             Yes               Leans Democrat           45  Yes, I am Married  \n",
       "4             Yes              Strong Democrat           59  Yes, I am Married  \n",
       "5             Yes  Undecided/Independent/Other           60  Yes, I am Married  \n",
       "6             Yes             Leans Republican           67  Yes, I am Married  "
      ]
     },
     "execution_count": 1,
     "metadata": {},
     "output_type": "execute_result"
    }
   ],
   "source": [
    "import pandas as pd\n",
    "import numpy as np\n",
    "\n",
    "data = pd.read_stata(\"hcmst.dta\")\n",
    "\n",
    "num1 = \"Q34\"             # Ocena jakości związku\n",
    "num2 = \"ppeduc\"          # Najwyzszy zdobyty poziom edukacji\n",
    "num3 = \"Q9\"              # Wiek partnera\n",
    "cat1 = \"Q19\"             # Czy mieszkacie ze sobą obecnie?\n",
    "cat2 = \"Q12\"             # Polityczne preferencje partnera\n",
    "label = \"S1\"             # Czy jesteście małżeństwem\n",
    "\n",
    "data = data[[num1,num2,cat1,cat2,num3,label]].dropna()\n",
    "data.rename(columns={'Q9':'partners_age','Q34':'rel_quality','ppeduc':'education','Q19':'living_together','Q12':'partner_politics'}, inplace=True)\n",
    "data.head()"
   ]
  },
  {
   "cell_type": "code",
   "execution_count": 2,
   "metadata": {},
   "outputs": [],
   "source": [
    "from sklearn import preprocessing\n",
    "    \n",
    "le = preprocessing.LabelEncoder()\n",
    "\n",
    "for column_name in data.columns:\n",
    "    if column_name == \"rel_quality\":\n",
    "        data[column_name] = data[column_name].map({\n",
    "            'Refused':-1, \n",
    "            'Excellent':5, \n",
    "            \"Good\":4, \n",
    "            \"Fair\":3, \n",
    "            \"Poor\":2, \n",
    "            \"Very poor\":1\n",
    "        })\n",
    "    \n",
    "    if column_name == \"education\":\n",
    "        data[column_name] = data[column_name].map({\n",
    "            'No formal education':1, \n",
    "            '1st, 2nd, 3rd, or 4th grade':2, \n",
    "            '5th or 6th grade':3,\n",
    "            '7th or 8th grade':4,\n",
    "            '9th grade':5,\n",
    "            '10th grade':6,        \n",
    "            '11th grade':7, \n",
    "            '12th grade no diploma':8,\n",
    "            'HIGH SCHOOL GRADUATE - high school DIPLOMA or the equivalent (GED)':9,\n",
    "            'Some college, no degree':10,\n",
    "            'Bachelors degree':11,\n",
    "            'Masters degree':12,\n",
    "            'Associate degree':13,\n",
    "            'Professional or Doctorate degree':14\n",
    "        })\n",
    "        \n",
    "    if column_name == 'partner_politics':\n",
    "         data[column_name] = data[column_name].map({\n",
    "            'Strong Republican' :1,\n",
    "            'Not Strong Republican' :2,\n",
    "            'Leans Republican' :3,\n",
    "            'Undecided/Independent/Other' :4,\n",
    "            'Leans Democrat' :5,\n",
    "            'Not Strong Democrat' :6,   \n",
    "            'Strong Democrat' :7\n",
    "           })\n",
    "    \n",
    "    if column_name == 'living_together':\n",
    "         data[column_name] = data[column_name].map({\n",
    "            'Refused' :-1,\n",
    "            'Yes' :1,\n",
    "            'No' :2\n",
    "         })\n",
    "            \n",
    "    if column_name != 'rel_quality' and column_name != 'education' and column_name != 'partner_politics' and column_name != 'living_together' and hasattr(pd.Series(data[column_name], dtype='category'), 'cat'):\n",
    "        data[column_name] = le.fit_transform(data[column_name].astype(str))\n",
    "             \n",
    "    else:\n",
    "        pass"
   ]
  },
  {
   "cell_type": "code",
   "execution_count": 3,
   "metadata": {},
   "outputs": [
    {
     "data": {
      "text/plain": [
       "((1851, 5), (912, 5), (1851,), (912,))"
      ]
     },
     "execution_count": 3,
     "metadata": {},
     "output_type": "execute_result"
    }
   ],
   "source": [
    "from sklearn.model_selection import train_test_split\n",
    "\n",
    "data = data.dropna()\n",
    "\n",
    "y = data.loc[:,'S1']\n",
    "X = data.loc[:, data.columns != 'S1']\n",
    "\n",
    "X_train, X_test, y_train, y_test = train_test_split(X, y, test_size=0.33, random_state=42)\n",
    "X_train.shape, X_test.shape, y_train.shape, y_test.shape"
   ]
  },
  {
   "cell_type": "markdown",
   "metadata": {},
   "source": [
    "## Wyjaśniany model"
   ]
  },
  {
   "cell_type": "code",
   "execution_count": 4,
   "metadata": {},
   "outputs": [
    {
     "name": "stdout",
     "output_type": "stream",
     "text": [
      "Model accuracy score: 0.8629385964912281\n"
     ]
    }
   ],
   "source": [
    "#from xgboost import XGBClassifier\n",
    "from sklearn.ensemble import RandomForestClassifier\n",
    "from sklearn.metrics import accuracy_score\n",
    "\n",
    "random_forest = RandomForestClassifier(n_estimators=100, max_depth=3,random_state=25)\n",
    "\n",
    "y_pred = random_forest.fit(X_train,y_train).predict(X_test)\n",
    "acc = accuracy_score(y_test,y_pred)\n",
    "print(\"Model accuracy score: \" + str(acc))"
   ]
  },
  {
   "cell_type": "markdown",
   "metadata": {},
   "source": [
    "### Wykres BreakDown"
   ]
  },
  {
   "cell_type": "code",
   "execution_count": 5,
   "metadata": {},
   "outputs": [],
   "source": [
    "import waterfall_chart\n",
    "\n",
    "def plot_breakdown(data, model, sample, feature_list):\n",
    "    \n",
    "    X_temp = data.copy()\n",
    "    probabilities = []\n",
    "    deltas = []\n",
    "\n",
    "    # obliczenie sredniej odpowiedzi dla calego zbioru:\n",
    "    temp_results = []\n",
    "    \n",
    "    for k in range(len(X_temp)):\n",
    "        prob_single_sample = model.predict_proba(X_temp.iloc[[k]])\n",
    "        temp_results.append(prob_single_sample[0][1])\n",
    "        \n",
    "    mean_prob = np.mean(temp_results)\n",
    "    probabilities.append(mean_prob)\n",
    "    deltas.append(probabilities[0])\n",
    "    \n",
    "    # obliczanie sredniej odpowiedzi dla ustalonych kolejnych zmiennych:\n",
    "    \n",
    "    for i in range(len(feature_list)):\n",
    "        X_temp.loc[:,feature_list[i]] = int(sample[feature_list[i]]) \n",
    "        temp_results = []\n",
    "        \n",
    "        for j in range(len(X_temp)):\n",
    "            prob_single_sample = model.predict_proba(X_temp.iloc[[j]])\n",
    "            temp_results.append(prob_single_sample[0][1])\n",
    "        \n",
    "        mean_prob = np.mean(temp_results)\n",
    "        probabilities.append(mean_prob)\n",
    "        \n",
    "        deltas.append(probabilities[i+1]-probabilities[i])\n",
    "    \n",
    "    waterfall_chart.plot(['base'] + feature_list, deltas, Title = \"Models mean response\",\n",
    "                         net_label='End result', formatting='{:,.2f}')\n",
    "\n",
    "    return"
   ]
  },
  {
   "cell_type": "markdown",
   "metadata": {},
   "source": [
    "### Wykres LIME"
   ]
  },
  {
   "cell_type": "code",
   "execution_count": 76,
   "metadata": {},
   "outputs": [],
   "source": [
    "from scipy.stats import truncnorm\n",
    "from sklearn.externals.six import StringIO  \n",
    "from IPython.display import Image  \n",
    "from sklearn.tree import export_graphviz, DecisionTreeRegressor\n",
    "import pydotplus\n",
    "import matplotlib.pyplot as plt\n",
    "from sklearn.linear_model import LogisticRegression\n",
    "\n",
    "\n",
    "def get_truncated_normal(mean=0, sd=1, low=0, upp=10):\n",
    "    return truncnorm(\n",
    "        (low - mean) / sd, (upp - mean) / sd, loc=mean, scale=sd)\n",
    "\n",
    "def generate_local(data,sample,sigma,N):\n",
    "    \n",
    "    features = list(data)\n",
    "    X_temp = pd.DataFrame(columns=features)\n",
    "    \n",
    "    for i in range(len(features)):\n",
    "        minval = np.min(data[features[i]])\n",
    "        maxval = np.max(data[features[i]])\n",
    "        mean = sample[features[i]]\n",
    "        perturbed_values = get_truncated_normal(mean,sigma,minval,maxval).rvs(size=N)\n",
    "        X_temp[features[i]] = list(np.int_(perturbed_values))\n",
    "    \n",
    "    return X_temp\n",
    "\n",
    "\n",
    "# ----------------- \n",
    "\n",
    "def plot_LIME(blackbox_model, data, sample, sg, N):\n",
    "    \n",
    "    X_local = generate_local(data, sample, sg, N)\n",
    "    \n",
    "    Y_pred_local = blackbox_model.predict_proba(X_local)[:,1]\n",
    "    \n",
    "    # WhiteBox model\n",
    "    whitebox_model = DecisionTreeRegressor(max_depth=2)\n",
    "    whitebox_model.fit(X_local, Y_pred_local)\n",
    "    \n",
    "    dot_data = StringIO()\n",
    "    export_graphviz(whitebox_model, out_file=dot_data,  \n",
    "                filled=True, rounded=True,feature_names=list(X_local),\n",
    "                special_characters=True)\n",
    "\n",
    "    graph = pydotplus.graph_from_dot_data(dot_data.getvalue())  \n",
    "    \n",
    "    return Image(graph.create_png())\n"
   ]
  },
  {
   "cell_type": "markdown",
   "metadata": {},
   "source": [
    "## Przykłady"
   ]
  },
  {
   "cell_type": "markdown",
   "metadata": {},
   "source": [
    "## 1."
   ]
  },
  {
   "cell_type": "code",
   "execution_count": 134,
   "metadata": {},
   "outputs": [
    {
     "data": {
      "text/html": [
       "<div>\n",
       "<style scoped>\n",
       "    .dataframe tbody tr th:only-of-type {\n",
       "        vertical-align: middle;\n",
       "    }\n",
       "\n",
       "    .dataframe tbody tr th {\n",
       "        vertical-align: top;\n",
       "    }\n",
       "\n",
       "    .dataframe thead th {\n",
       "        text-align: right;\n",
       "    }\n",
       "</style>\n",
       "<table border=\"1\" class=\"dataframe\">\n",
       "  <thead>\n",
       "    <tr style=\"text-align: right;\">\n",
       "      <th></th>\n",
       "      <th>rel_quality</th>\n",
       "      <th>education</th>\n",
       "      <th>living_together</th>\n",
       "      <th>partner_politics</th>\n",
       "      <th>partners_age</th>\n",
       "    </tr>\n",
       "  </thead>\n",
       "  <tbody>\n",
       "    <tr>\n",
       "      <th>1115</th>\n",
       "      <td>5.0</td>\n",
       "      <td>5.0</td>\n",
       "      <td>1</td>\n",
       "      <td>4.0</td>\n",
       "      <td>20</td>\n",
       "    </tr>\n",
       "  </tbody>\n",
       "</table>\n",
       "</div>"
      ],
      "text/plain": [
       "      rel_quality  education  living_together  partner_politics  partners_age\n",
       "1115          5.0        5.0                1               4.0            20"
      ]
     },
     "execution_count": 134,
     "metadata": {},
     "output_type": "execute_result"
    }
   ],
   "source": [
    "single_couple = X_train.sample()\n",
    "single_couple"
   ]
  },
  {
   "cell_type": "code",
   "execution_count": 135,
   "metadata": {},
   "outputs": [
    {
     "data": {
      "text/html": [
       "<div>\n",
       "<style scoped>\n",
       "    .dataframe tbody tr th:only-of-type {\n",
       "        vertical-align: middle;\n",
       "    }\n",
       "\n",
       "    .dataframe tbody tr th {\n",
       "        vertical-align: top;\n",
       "    }\n",
       "\n",
       "    .dataframe thead th {\n",
       "        text-align: right;\n",
       "    }\n",
       "</style>\n",
       "<table border=\"1\" class=\"dataframe\">\n",
       "  <thead>\n",
       "    <tr style=\"text-align: right;\">\n",
       "      <th></th>\n",
       "      <th>index</th>\n",
       "      <th>1115</th>\n",
       "    </tr>\n",
       "  </thead>\n",
       "  <tbody>\n",
       "    <tr>\n",
       "      <th>0</th>\n",
       "      <td>rel_quality</td>\n",
       "      <td>5.0</td>\n",
       "    </tr>\n",
       "    <tr>\n",
       "      <th>1</th>\n",
       "      <td>education</td>\n",
       "      <td>5.0</td>\n",
       "    </tr>\n",
       "    <tr>\n",
       "      <th>2</th>\n",
       "      <td>living_together</td>\n",
       "      <td>1.0</td>\n",
       "    </tr>\n",
       "    <tr>\n",
       "      <th>3</th>\n",
       "      <td>partner_politics</td>\n",
       "      <td>4.0</td>\n",
       "    </tr>\n",
       "    <tr>\n",
       "      <th>4</th>\n",
       "      <td>partners_age</td>\n",
       "      <td>20.0</td>\n",
       "    </tr>\n",
       "    <tr>\n",
       "      <th>5</th>\n",
       "      <td>S1</td>\n",
       "      <td>0.0</td>\n",
       "    </tr>\n",
       "  </tbody>\n",
       "</table>\n",
       "</div>"
      ],
      "text/plain": [
       "              index  1115\n",
       "0       rel_quality   5.0\n",
       "1         education   5.0\n",
       "2   living_together   1.0\n",
       "3  partner_politics   4.0\n",
       "4      partners_age  20.0\n",
       "5                S1   0.0"
      ]
     },
     "execution_count": 135,
     "metadata": {},
     "output_type": "execute_result"
    }
   ],
   "source": [
    "# sprawdzenie, jaka jest odpowiedź dla danej próbki w zbiorze danych\n",
    "\n",
    "data.loc[single_couple.iloc[0].name].reset_index()"
   ]
  },
  {
   "cell_type": "code",
   "execution_count": 136,
   "metadata": {},
   "outputs": [
    {
     "data": {
      "image/png": "[encoded data removed]",
      "text/plain": [
       "<IPython.core.display.Image object>"
      ]
     },
     "execution_count": 136,
     "metadata": {},
     "output_type": "execute_result"
    }
   ],
   "source": [
    "plot_LIME(random_forest, X_train, single_couple, 20, 1000)"
   ]
  },
  {
   "cell_type": "markdown",
   "metadata": {},
   "source": [
    "### Porównanie z wykresem BreakDown"
   ]
  },
  {
   "cell_type": "code",
   "execution_count": 137,
   "metadata": {},
   "outputs": [
    {
     "data": {
      "image/png": "[encoded data removed]",
      "text/plain": [
       "<Figure size 432x288 with 1 Axes>"
      ]
     },
     "metadata": {
      "needs_background": "light"
     },
     "output_type": "display_data"
    }
   ],
   "source": [
    "plot_breakdown(X_train, random_forest, single_couple, ['partners_age','partner_politics'])"
   ]
  },
  {
   "cell_type": "markdown",
   "metadata": {},
   "source": [
    "----------------------------------"
   ]
  },
  {
   "cell_type": "code",
   "execution_count": 101,
   "metadata": {},
   "outputs": [
    {
     "data": {
      "text/html": [
       "<div>\n",
       "<style scoped>\n",
       "    .dataframe tbody tr th:only-of-type {\n",
       "        vertical-align: middle;\n",
       "    }\n",
       "\n",
       "    .dataframe tbody tr th {\n",
       "        vertical-align: top;\n",
       "    }\n",
       "\n",
       "    .dataframe thead th {\n",
       "        text-align: right;\n",
       "    }\n",
       "</style>\n",
       "<table border=\"1\" class=\"dataframe\">\n",
       "  <thead>\n",
       "    <tr style=\"text-align: right;\">\n",
       "      <th></th>\n",
       "      <th>rel_quality</th>\n",
       "      <th>education</th>\n",
       "      <th>living_together</th>\n",
       "      <th>partner_politics</th>\n",
       "      <th>partners_age</th>\n",
       "    </tr>\n",
       "  </thead>\n",
       "  <tbody>\n",
       "    <tr>\n",
       "      <th>1444</th>\n",
       "      <td>5.0</td>\n",
       "      <td>10.0</td>\n",
       "      <td>1</td>\n",
       "      <td>3.0</td>\n",
       "      <td>58</td>\n",
       "    </tr>\n",
       "  </tbody>\n",
       "</table>\n",
       "</div>"
      ],
      "text/plain": [
       "      rel_quality  education  living_together  partner_politics  partners_age\n",
       "1444          5.0       10.0                1               3.0            58"
      ]
     },
     "execution_count": 101,
     "metadata": {},
     "output_type": "execute_result"
    }
   ],
   "source": [
    "single_couple = X_train.sample()\n",
    "single_couple"
   ]
  },
  {
   "cell_type": "code",
   "execution_count": 102,
   "metadata": {},
   "outputs": [
    {
     "data": {
      "text/html": [
       "<div>\n",
       "<style scoped>\n",
       "    .dataframe tbody tr th:only-of-type {\n",
       "        vertical-align: middle;\n",
       "    }\n",
       "\n",
       "    .dataframe tbody tr th {\n",
       "        vertical-align: top;\n",
       "    }\n",
       "\n",
       "    .dataframe thead th {\n",
       "        text-align: right;\n",
       "    }\n",
       "</style>\n",
       "<table border=\"1\" class=\"dataframe\">\n",
       "  <thead>\n",
       "    <tr style=\"text-align: right;\">\n",
       "      <th></th>\n",
       "      <th>index</th>\n",
       "      <th>1444</th>\n",
       "    </tr>\n",
       "  </thead>\n",
       "  <tbody>\n",
       "    <tr>\n",
       "      <th>0</th>\n",
       "      <td>rel_quality</td>\n",
       "      <td>5.0</td>\n",
       "    </tr>\n",
       "    <tr>\n",
       "      <th>1</th>\n",
       "      <td>education</td>\n",
       "      <td>10.0</td>\n",
       "    </tr>\n",
       "    <tr>\n",
       "      <th>2</th>\n",
       "      <td>living_together</td>\n",
       "      <td>1.0</td>\n",
       "    </tr>\n",
       "    <tr>\n",
       "      <th>3</th>\n",
       "      <td>partner_politics</td>\n",
       "      <td>3.0</td>\n",
       "    </tr>\n",
       "    <tr>\n",
       "      <th>4</th>\n",
       "      <td>partners_age</td>\n",
       "      <td>58.0</td>\n",
       "    </tr>\n",
       "    <tr>\n",
       "      <th>5</th>\n",
       "      <td>S1</td>\n",
       "      <td>1.0</td>\n",
       "    </tr>\n",
       "  </tbody>\n",
       "</table>\n",
       "</div>"
      ],
      "text/plain": [
       "              index  1444\n",
       "0       rel_quality   5.0\n",
       "1         education  10.0\n",
       "2   living_together   1.0\n",
       "3  partner_politics   3.0\n",
       "4      partners_age  58.0\n",
       "5                S1   1.0"
      ]
     },
     "execution_count": 102,
     "metadata": {},
     "output_type": "execute_result"
    }
   ],
   "source": [
    "# sprawdzenie, jaka jest odpowiedź dla danej próbki w zbiorze danych\n",
    "\n",
    "data.loc[single_couple.iloc[0].name].reset_index()"
   ]
  },
  {
   "cell_type": "code",
   "execution_count": 103,
   "metadata": {},
   "outputs": [
    {
     "data": {
      "image/png": "[encoded data removed]",
      "text/plain": [
       "<IPython.core.display.Image object>"
      ]
     },
     "execution_count": 103,
     "metadata": {},
     "output_type": "execute_result"
    }
   ],
   "source": [
    "plot_LIME(random_forest, X_train, single_couple, 20, 1000)"
   ]
  },
  {
   "cell_type": "markdown",
   "metadata": {},
   "source": [
    "### Porównanie z wykresem Break Down"
   ]
  },
  {
   "cell_type": "code",
   "execution_count": 104,
   "metadata": {
    "scrolled": true
   },
   "outputs": [
    {
     "data": {
      "image/png": "[encoded data removed]",
      "text/plain": [
       "<Figure size 432x288 with 1 Axes>"
      ]
     },
     "metadata": {
      "needs_background": "light"
     },
     "output_type": "display_data"
    }
   ],
   "source": [
    "plot_breakdown(X_train, random_forest, single_couple, ['partners_age','partner_politics'])"
   ]
  },
  {
   "cell_type": "markdown",
   "metadata": {},
   "source": [
    "## Wnioski"
   ]
  },
  {
   "cell_type": "markdown",
   "metadata": {},
   "source": [
    "W obu przypadkach wykresy LIME wskazały na te same dwie cechy jako te mające największy wpływ na wynik - również wartości rozdzielające okazały się bardzo podobne.\n",
    "\n",
    "W pierwszym przypadku decydującą cechą okazał się młody wiek, czego nie odzwierciedla wykres Breakdown, który w tym przypadku jest mało interesujący.\n",
    "\n",
    "Za drugim razem już sam wiek sugerował zdecydowaną odpowiedź modelu w kierunku odpowiedzi \"True\". Nie inaczej wygląda to na wykresie Breakdown - tak jak wcześniej, wiek partnera silnie sugeruje odpowiedź pozytywną, a poglądy polityczne dodają jeszcze więcej pewności.\n",
    "\n",
    "Interesujące jest to, że ponieważ ustaliliśmy tak mało podziałów drzewa, ograniczamy się bardzo jeśli chodzi o liczbę cech których wpływ na model badamy. W poprzedniej pracy domowej cechą mającą zazwyczaj istotny wpływ na odpowiedź modelu było wspólne mieszkanie, które na wykresach LIME nie pojawiło się ani razu. "
   ]
  }
 ],
 "metadata": {
  "kernelspec": {
   "display_name": "Python 3",
   "language": "python",
   "name": "python3"
  },
  "language_info": {
   "codemirror_mode": {
    "name": "ipython",
    "version": 3
   },
   "file_extension": ".py",
   "mimetype": "text/x-python",
   "name": "python",
   "nbconvert_exporter": "python",
   "pygments_lexer": "ipython3",
   "version": "3.7.1"
  }
 },
 "nbformat": 4,
 "nbformat_minor": 2
}
