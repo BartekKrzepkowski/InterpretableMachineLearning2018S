{
 "cells": [
  {
   "cell_type": "code",
   "execution_count": 42,
   "metadata": {
    "collapsed": true
   },
   "outputs": [],
   "source": [
    "import pandas as pd\n",
    "from sklearn import svm\n",
    "import numpy as np\n",
    "\n",
    "import matplotlib.pyplot as plt\n",
    "import waterfall_chart\n",
    "\n",
    "from scipy.spatial import distance\n",
    "import itertools\n",
    "\n",
    "from sklearn.linear_model import LinearRegression"
   ]
  },
  {
   "cell_type": "markdown",
   "metadata": {},
   "source": [
    "Wczytywanie danych..."
   ]
  },
  {
   "cell_type": "code",
   "execution_count": 2,
   "metadata": {
    "collapsed": true
   },
   "outputs": [],
   "source": [
    "data = pd.read_stata('data.dta')"
   ]
  },
  {
   "cell_type": "markdown",
   "metadata": {},
   "source": [
    "import pandas as pd\n",
    "from sklearn import svm\n",
    "import numpy as np\n",
    "\n",
    "import matplotlib.pyplot as plt\n",
    "import waterfall_chart"
   ]
  },
  {
   "cell_type": "code",
   "execution_count": 3,
   "metadata": {},
   "outputs": [],
   "source": [
    "prepared_columns = ['S1','ppincimp', 'partyid7', 'ppwork', 'Q6A']\n",
    "data_in = data[prepared_columns]"
   ]
  },
  {
   "cell_type": "markdown",
   "metadata": {},
   "source": [
    "## Tworzenie słownika \n",
    "W związku z dużą liczbą kategorii w niektorych zmiennych utworzony został słownik z kategorami i odpowiadającymi im nazwami."
   ]
  },
  {
   "cell_type": "code",
   "execution_count": 4,
   "metadata": {
    "collapsed": true
   },
   "outputs": [
    {
     "data": {
      "text/plain": [
       "{'S1': {0: 'Yes, I am Married', 1: 'No, I am not Married'},\n",
       " 'ppincimp': {0: 'Less than $5,000',\n",
       "  1: '$5,000 to $7,499',\n",
       "  2: '$7,500 to $9,999',\n",
       "  3: '$10,000 to $12,499',\n",
       "  4: '$12,500 to $14,999',\n",
       "  5: '$15,000 to $19,999',\n",
       "  6: '$20,000 to $24,999',\n",
       "  7: '$25,000 to $29,999',\n",
       "  8: '$30,000 to $34,999',\n",
       "  9: '$35,000 to $39,999',\n",
       "  10: '$40,000 to $49,999',\n",
       "  11: '$50,000 to $59,999',\n",
       "  12: '$60,000 to $74,999',\n",
       "  13: '$75,000 to $84,999',\n",
       "  14: '$85,000 to $99,999',\n",
       "  15: '$100,000 to $124,999',\n",
       "  16: '$125,000 to $149,999',\n",
       "  17: '$150,000 to $174,999',\n",
       "  18: '$175,000 to $199,999',\n",
       "  19: '$200,000 to $249,999',\n",
       "  20: '$250,000 or more'},\n",
       " 'partyid7': {0: 'Strong Republican',\n",
       "  1: 'Not Strong Republican',\n",
       "  2: 'Leans Republican',\n",
       "  3: 'Undecided/Independent/Other',\n",
       "  4: 'Leans Democrat',\n",
       "  5: 'Not Strong Democrat',\n",
       "  6: 'Strong Democrat'},\n",
       " 'ppwork': {0: 'Working - as a paid employee',\n",
       "  1: 'Working - self-employed',\n",
       "  2: 'Not working - on temporary layoff from a job',\n",
       "  3: 'Not working - looking for work',\n",
       "  4: 'Not working - retired',\n",
       "  5: 'Not working - disabled',\n",
       "  6: 'Not working - other'},\n",
       " 'Q6A': {0: 'Refused',\n",
       "  1: 'No (Not Latino or Hispanic)',\n",
       "  2: 'Yes, Mexican, Mexican American, Chicano',\n",
       "  3: 'Yes, Puerto Rican',\n",
       "  4: 'Yes, Cuban',\n",
       "  5: 'Yes, Other Latino/Hispanic'}}"
      ]
     },
     "execution_count": 4,
     "metadata": {},
     "output_type": "execute_result"
    }
   ],
   "source": [
    "categories_dict = {}\n",
    "for col in data_in.columns:\n",
    "    categories_dict[col] = dict(enumerate(data_in.loc[:, col].cat.categories))\n",
    "\n",
    "categories_dict"
   ]
  },
  {
   "cell_type": "code",
   "execution_count": 5,
   "metadata": {},
   "outputs": [
    {
     "data": {
      "text/plain": [
       "(2856, 5)"
      ]
     },
     "execution_count": 5,
     "metadata": {},
     "output_type": "execute_result"
    }
   ],
   "source": [
    "data_in = data_in.dropna()\n",
    "data_in.shape"
   ]
  },
  {
   "cell_type": "markdown",
   "metadata": {},
   "source": [
    "## Transformacja zmiennych"
   ]
  },
  {
   "cell_type": "code",
   "execution_count": 49,
   "metadata": {},
   "outputs": [],
   "source": [
    "y = data_in['S1'].cat.codes\n",
    "X = data_in.iloc[:, 1:].apply(lambda x: x.cat.codes, axis=0)"
   ]
  },
  {
   "cell_type": "markdown",
   "metadata": {},
   "source": [
    "## Utworzenie modelu"
   ]
  },
  {
   "cell_type": "code",
   "execution_count": 7,
   "metadata": {},
   "outputs": [
    {
     "data": {
      "text/plain": [
       "array([[17,  1,  6,  1],\n",
       "       [19,  4,  0,  1],\n",
       "       [18,  6,  0,  1],\n",
       "       ...,\n",
       "       [16,  5,  0,  1],\n",
       "       [12,  4,  0,  1],\n",
       "       [10,  4,  0,  1]], dtype=int8)"
      ]
     },
     "execution_count": 7,
     "metadata": {},
     "output_type": "execute_result"
    }
   ],
   "source": [
    "X.values"
   ]
  },
  {
   "cell_type": "code",
   "execution_count": 8,
   "metadata": {},
   "outputs": [
    {
     "data": {
      "text/plain": [
       "SVC(C=1.0, cache_size=200, class_weight=None, coef0=0.0,\n",
       "  decision_function_shape='ovr', degree=3, gamma=0.01, kernel='rbf',\n",
       "  max_iter=-1, probability=True, random_state=None, shrinking=True,\n",
       "  tol=0.001, verbose=False)"
      ]
     },
     "execution_count": 8,
     "metadata": {},
     "output_type": "execute_result"
    }
   ],
   "source": [
    "svm_model = svm.SVC(gamma=0.01, probability=True)\n",
    "svm_model.fit(X.values, y)"
   ]
  },
  {
   "cell_type": "markdown",
   "metadata": {},
   "source": [
    "Zostały utworzone trzy funkcje w tym jedna główna (<u>ceteris_paribus_plot</u>). \n",
    "\n",
    "Funkcja ceteris_paribus_plot przyjmuje następujące argumenty:\n",
    "1. model - model, który zostanie wyjaśniony\n",
    "1. row - którą obserwację będziemy uznawać za \"bazową\"\n",
    "1. test_x - dane do modelu\n",
    "1. random - zmienna określająca czy wybór obserwacji \"bazowej\" ma nastąpić w sposób losowy\n",
    "1. col - kolumna do wyjaśnienia\n",
    "1. categories_dict - słownik z kategoriami w zmiennych"
   ]
  },
  {
   "cell_type": "code",
   "execution_count": 9,
   "metadata": {},
   "outputs": [],
   "source": [
    "def ceteris_paribus_plot(model, row: int, test_x: pd.DataFrame, random: bool, col: str, categories_dict: dict):\n",
    "    if random:\n",
    "        selected_observation = test_x.iloc[np.random.randint(1, len(test_x)), :]\n",
    "    else:\n",
    "        selected_observation = test_x.iloc[row, :]\n",
    "        \n",
    "    possible_values = sorted(test_x[col].unique())\n",
    "    probabilities = create_probabilities(model, selected_observation, col, possible_values)\n",
    "    \n",
    "    create_plot(possible_values, probabilities, col)\n",
    "    print(categories_dict[col])\n",
    "    \n",
    "    \n",
    "def create_probabilities(model, test_x, col, possible_values):\n",
    "    probas = []\n",
    "    for i in possible_values:\n",
    "        test_x[col] = i\n",
    "        probas.append(model.predict_proba([test_x.values])[0][0])\n",
    "    \n",
    "    return probas\n",
    "\n",
    "\n",
    "def create_plot(possible_values, probabilities, col):\n",
    "    plt.plot(possible_values, probabilities, marker='o', linestyle='--', color='b')\n",
    "    plt.title(f'Ceteris Paribus plot for {col}')\n",
    "    plt.ylabel(\"Probability\")\n",
    "    plt.xlabel(f'{col}')\n",
    "    plt.show()\n",
    "    \n",
    "    \n",
    "def pd_plot(model, test_x, col):\n",
    "    values_range = list(np.sort(test_x[col].unique()))\n",
    "    prob_dict = {}\n",
    "    for value in values_range:\n",
    "        temp = test_x.copy()\n",
    "        temp[col] = value\n",
    "        pred = temp.apply(lambda row: model.predict_proba([row.values])[0][0], axis=1)\n",
    "        prob_dict[value] = np.mean(pred)\n",
    "        \n",
    "    create_pd_plot(prob_dict.keys(), prob_dict.values(), col)\n",
    "\n",
    "def create_pd_plot(possible_values, probabilities, col):\n",
    "    plt.plot(possible_values, probabilities, marker='o', linestyle='--', color='b')\n",
    "    plt.title(f'pd_plot for {col}')\n",
    "    plt.ylabel(\"Probability\")\n",
    "    plt.xlabel(f'{col}')\n",
    "    plt.show()\n",
    "    \n",
    "\n",
    "def m_plot(model, test_x, col):\n",
    "    tt = test_x.copy()\n",
    "    values_range = list(np.sort(test_x[col].unique()))\n",
    "    tt['pred'] = tt.apply(lambda row: model.predict_proba([row.values])[0][0], axis=1)\n",
    "    prob_dict = {}\n",
    "    for value in values_range:\n",
    "        temp = tt[tt[col] == value]\n",
    "        prob_dict[value] = np.mean(temp.pred)\n",
    "        \n",
    "    create_m_plot(prob_dict.keys(), prob_dict.values(), col)\n",
    "\n",
    "    \n",
    "def create_m_plot(possible_values, probabilities, col):\n",
    "    plt.plot(possible_values, probabilities, marker='o', linestyle='--', color='b')\n",
    "    plt.title(f'M_plot for {col}')\n",
    "    plt.ylabel(\"Probability\")\n",
    "    plt.xlabel(f'{col}')\n",
    "    plt.show()"
   ]
  },
  {
   "cell_type": "markdown",
   "metadata": {},
   "source": [
    "Przeanalizowano wpływ zmiennej związanej z dochodem w gospodarstwie. Jak widać im więcej dochodu w gospodastwie tym większe prawdopodobieństwo, że osoba jest w związku małżeńskim.\n",
    "\n",
    "Wariancja zmienne sugeruje, że zmienna ta jest istotna w modelu."
   ]
  },
  {
   "cell_type": "code",
   "execution_count": 10,
   "metadata": {},
   "outputs": [
    {
     "data": {
      "image/png": "[encoded data removed]",
      "text/plain": [
       "<Figure size 432x288 with 1 Axes>"
      ]
     },
     "metadata": {},
     "output_type": "display_data"
    }
   ],
   "source": [
    "pd_plot(svm_model, X, 'ppincimp')"
   ]
  },
  {
   "cell_type": "code",
   "execution_count": 11,
   "metadata": {},
   "outputs": [
    {
     "data": {
      "image/png": "[encoded data removed]",
      "text/plain": [
       "<Figure size 432x288 with 1 Axes>"
      ]
     },
     "metadata": {},
     "output_type": "display_data"
    }
   ],
   "source": [
    "m_plot(svm_model, X, 'ppincimp')"
   ]
  },
  {
   "cell_type": "code",
   "execution_count": 12,
   "metadata": {},
   "outputs": [
    {
     "data": {
      "image/png": "[encoded data removed]",
      "text/plain": [
       "<Figure size 432x288 with 1 Axes>"
      ]
     },
     "metadata": {},
     "output_type": "display_data"
    },
    {
     "name": "stdout",
     "output_type": "stream",
     "text": [
      "{0: 'Less than $5,000', 1: '$5,000 to $7,499', 2: '$7,500 to $9,999', 3: '$10,000 to $12,499', 4: '$12,500 to $14,999', 5: '$15,000 to $19,999', 6: '$20,000 to $24,999', 7: '$25,000 to $29,999', 8: '$30,000 to $34,999', 9: '$35,000 to $39,999', 10: '$40,000 to $49,999', 11: '$50,000 to $59,999', 12: '$60,000 to $74,999', 13: '$75,000 to $84,999', 14: '$85,000 to $99,999', 15: '$100,000 to $124,999', 16: '$125,000 to $149,999', 17: '$150,000 to $174,999', 18: '$175,000 to $199,999', 19: '$200,000 to $249,999', 20: '$250,000 or more'}\n"
     ]
    }
   ],
   "source": [
    "ceteris_paribus_plot(svm_model, 100, X, True, 'ppincimp', categories_dict)"
   ]
  },
  {
   "cell_type": "markdown",
   "metadata": {},
   "source": [
    "Druga zmienna oznacza preferencje polityczne. Zmienna tak - jak wynika z wykresu - prawdopodobnie nie ogrywa znaczącej roli w modelu."
   ]
  },
  {
   "cell_type": "code",
   "execution_count": 13,
   "metadata": {},
   "outputs": [
    {
     "data": {
      "image/png": "[encoded data removed]",
      "text/plain": [
       "<Figure size 432x288 with 1 Axes>"
      ]
     },
     "metadata": {},
     "output_type": "display_data"
    }
   ],
   "source": [
    "pd_plot(svm_model, X, 'partyid7')"
   ]
  },
  {
   "cell_type": "code",
   "execution_count": 14,
   "metadata": {},
   "outputs": [
    {
     "data": {
      "image/png": "[encoded data removed]",
      "text/plain": [
       "<Figure size 432x288 with 1 Axes>"
      ]
     },
     "metadata": {},
     "output_type": "display_data"
    }
   ],
   "source": [
    "m_plot(svm_model, X, 'partyid7')"
   ]
  },
  {
   "cell_type": "code",
   "execution_count": 15,
   "metadata": {},
   "outputs": [
    {
     "data": {
      "image/png": "[encoded data removed]",
      "text/plain": [
       "<Figure size 432x288 with 1 Axes>"
      ]
     },
     "metadata": {},
     "output_type": "display_data"
    },
    {
     "name": "stdout",
     "output_type": "stream",
     "text": [
      "{0: 'Strong Republican', 1: 'Not Strong Republican', 2: 'Leans Republican', 3: 'Undecided/Independent/Other', 4: 'Leans Democrat', 5: 'Not Strong Democrat', 6: 'Strong Democrat'}\n"
     ]
    }
   ],
   "source": [
    "ceteris_paribus_plot(svm_model, 100, X, True, \"partyid7\", categories_dict)"
   ]
  },
  {
   "cell_type": "markdown",
   "metadata": {},
   "source": [
    "Wykresy oparte na metodzie Ceteris Paribus oraz M_plot nie różnią się w wielki sposób, choć wykazują pewne różnice. Marginal Plot biorący pod uwagę lokalne wartości oczekiwane predykcji, są w pewnych obszarach zgoła inne aniżeli Ceteris Paribus Plots czy PD plots. Również są mniej gładkie. Wynikać to może z obliczenia lokalnych, a nie globalnych prawdopodobieństw i rozbicia naszej populacji na mniejsze podpopulacje podobne do siebie w pewnym względzie (w pewnej zmiennej)."
   ]
  },
  {
   "cell_type": "markdown",
   "metadata": {},
   "source": [
    "Teraz zajmiemy się kolejnym sposobem interpretacji modelu."
   ]
  },
  {
   "cell_type": "code",
   "execution_count": 16,
   "metadata": {},
   "outputs": [],
   "source": [
    "def cond_expect(model, df, observation: dict):\n",
    "    prediction_exp = {}\n",
    "    result = {}\n",
    "    pred = model.predict_proba(df.values)\n",
    "    pred = [x[1] for x in pred]\n",
    "    result['all'] = np.mean(pred)\n",
    "    temp = df.copy()\n",
    "    \n",
    "    for k, v in observation.items():    \n",
    "        temp[k] = v\n",
    "        pred = model.predict_proba(temp.values)\n",
    "        pred = [x[1] for x in pred]\n",
    "        prediction_exp[k] = np.mean(pred)\n",
    "        print(np.mean(pred))\n",
    "        \n",
    "    for k, v in prediction_exp.items():\n",
    "        result[k] = v - result['all']\n",
    "    \n",
    "    return result"
   ]
  },
  {
   "cell_type": "code",
   "execution_count": 17,
   "metadata": {},
   "outputs": [],
   "source": [
    "observation1 = {'ppincimp': 12, 'partyid7': 6, 'ppwork': 4, 'Q6A': 1}\n",
    "observation2 = {'partyid7': 6, 'ppincimp': 12, 'Q6A': 1, 'ppwork': 4}"
   ]
  },
  {
   "cell_type": "code",
   "execution_count": 18,
   "metadata": {},
   "outputs": [
    {
     "name": "stdout",
     "output_type": "stream",
     "text": [
      "0.21997037096773114\n",
      "0.23699158049386326\n",
      "0.20782425287718087\n",
      "0.20762649052418422\n",
      "0.31817808979775686\n",
      "0.23699158049386326\n",
      "0.23720515055517039\n",
      "0.20762649052418422\n"
     ]
    }
   ],
   "source": [
    "first = cond_expect(svm_model, X, observation1)\n",
    "second = cond_expect(svm_model, X, observation2)"
   ]
  },
  {
   "cell_type": "code",
   "execution_count": 19,
   "metadata": {},
   "outputs": [
    {
     "data": {
      "text/plain": [
       "{'all': 0.27345161718966526,\n",
       " 'ppincimp': -0.05348124622193412,\n",
       " 'partyid7': -0.036460036695802,\n",
       " 'ppwork': -0.06562736431248439,\n",
       " 'Q6A': -0.06582512666548104}"
      ]
     },
     "execution_count": 19,
     "metadata": {},
     "output_type": "execute_result"
    }
   ],
   "source": [
    "first"
   ]
  },
  {
   "cell_type": "code",
   "execution_count": 20,
   "metadata": {},
   "outputs": [
    {
     "data": {
      "text/plain": [
       "{'all': 0.27345161718966526,\n",
       " 'partyid7': 0.044726472608091594,\n",
       " 'ppincimp': -0.036460036695802,\n",
       " 'Q6A': -0.03624646663449488,\n",
       " 'ppwork': -0.06582512666548104}"
      ]
     },
     "execution_count": 20,
     "metadata": {},
     "output_type": "execute_result"
    }
   ],
   "source": [
    "second"
   ]
  },
  {
   "cell_type": "markdown",
   "metadata": {},
   "source": [
    "Z wyników wynika, że występuje interakcja między zmiennymi ppincimp oraz partyid7. W przypadku warunkowania w pierwszym kroku po 'ppincimp' zmienna 'partyid7' wpływa negatywnie na 'niebycie' w małżeństwie (0 - Yes, I am married; 1 - No, I am not). Jeżeli natomiast zmienimy kolejność warunkowania, zmienna 'partyid7' będzie wpływała poztywnie. Oznacza to, że kolejność warunkowania istotnie wpływa na wyniki metody Break Down. W przypadku pozostałych zmiennych nie widać dużej zmiany, chociaż aby jednoznacznie udzielić odpowiedzi, powinniśmy powtórzyć operację na wszystkich permutacjach zmiennych. Widać jednak, że kończowy rezultat istotnie różni się w obu przypadkach. Wyraźniej pokazują to poniższe wykresy."
   ]
  },
  {
   "cell_type": "code",
   "execution_count": 21,
   "metadata": {},
   "outputs": [
    {
     "data": {
      "text/plain": [
       "<module 'matplotlib.pyplot' from 'C:\\\\Users\\\\LipaM\\\\Anaconda3\\\\lib\\\\site-packages\\\\matplotlib\\\\pyplot.py'>"
      ]
     },
     "execution_count": 21,
     "metadata": {},
     "output_type": "execute_result"
    },
    {
     "data": {
      "image/png": "[encoded data removed]",
      "text/plain": [
       "<Figure size 432x288 with 1 Axes>"
      ]
     },
     "metadata": {},
     "output_type": "display_data"
    }
   ],
   "source": [
    "waterfall_chart.plot(list(first.keys()), list(first.values()), formatting='{:.3f}',\n",
    "                    net_label='end_result', Title='Waterfall plot for Break Down method')"
   ]
  },
  {
   "cell_type": "code",
   "execution_count": 22,
   "metadata": {},
   "outputs": [
    {
     "data": {
      "text/plain": [
       "<module 'matplotlib.pyplot' from 'C:\\\\Users\\\\LipaM\\\\Anaconda3\\\\lib\\\\site-packages\\\\matplotlib\\\\pyplot.py'>"
      ]
     },
     "execution_count": 22,
     "metadata": {},
     "output_type": "execute_result"
    },
    {
     "data": {
      "image/png": "[encoded data removed]",
      "text/plain": [
       "<Figure size 432x288 with 1 Axes>"
      ]
     },
     "metadata": {},
     "output_type": "display_data"
    }
   ],
   "source": [
    "waterfall_chart.plot(list(second.keys()), list(second.values()), formatting='{:.3f}',\n",
    "                    net_label='end_result', Title='Waterfall plot for Break Down method')"
   ]
  },
  {
   "cell_type": "code",
   "execution_count": 111,
   "metadata": {},
   "outputs": [],
   "source": [
    "def cartesian_lime(model, df: pd.DataFrame, observation: list, similarity_perc):\n",
    "    df['distance'] = df.apply(lambda x: distance.euclidean(x, observation), axis=1)\n",
    "    \n",
    "    n = int(np.floor(similarity_perc*len(df)))\n",
    "    data = (df.sort_values('distance').drop_duplicates()).iloc[:n, :-1]\n",
    "    \n",
    "    vals = {}\n",
    "    for i in range(len(data.columns)):\n",
    "        vals[data.columns[i]] = list(data.iloc[:, i].unique())\n",
    "        \n",
    "    cart_df = pd.DataFrame(list(itertools.product(*vals.values())), columns=vals.keys())\n",
    "    \n",
    "    cart_df['pred'] = cart_df.apply(lambda x: model.predict_proba([x.values]), axis=1)\n",
    "    cart_df['pred'] = cart_df.pred.apply(lambda x: x[0][1])\n",
    "    \n",
    "    cart_df['distance'] = cart_df.apply(lambda x: distance.euclidean(x[0:4], observation), axis=1)\n",
    "    \n",
    "    WLS = LinearRegression()\n",
    "    WLS.fit(cart_df.iloc[:, :4], cart_df.loc[:, 'pred'], sample_weight=cart_df.loc[:, 'distance'])\n",
    "    \n",
    "    print(f'Interception: {WLS.intercept_}')\n",
    "    for i in range(len(WLS.coef_)):\n",
    "        print(f'{cart_df.columns[i]}: {WLS.coef_[i]}')\n",
    "    return WLS"
   ]
  },
  {
   "cell_type": "code",
   "execution_count": 112,
   "metadata": {},
   "outputs": [
    {
     "name": "stdout",
     "output_type": "stream",
     "text": [
      "Interception: 0.2925687471017664\n",
      "ppincimp: -0.006187220985055259\n",
      "partyid7: 0.014649031547686518\n",
      "ppwork: -0.010140186524414434\n",
      "Q6A: -0.0011888479157041605\n"
     ]
    }
   ],
   "source": [
    "observation = [12, 6, 4, 1]\n",
    "mm = cartesian_lime(svm_model, X, observation, 0.1)"
   ]
  },
  {
   "cell_type": "code",
   "execution_count": 113,
   "metadata": {},
   "outputs": [
    {
     "data": {
      "text/plain": [
       "{'all': 0.27345161718966526,\n",
       " 'ppincimp': -0.05348124622193412,\n",
       " 'partyid7': -0.036460036695802,\n",
       " 'ppwork': -0.06562736431248439,\n",
       " 'Q6A': -0.06582512666548104}"
      ]
     },
     "execution_count": 113,
     "metadata": {},
     "output_type": "execute_result"
    }
   ],
   "source": [
    "first"
   ]
  },
  {
   "cell_type": "markdown",
   "metadata": {},
   "source": [
    "Teraz możemy porównać metodę LIME z kartezjańską perturbacją oraz metodę Break Dow. Znak we wpływie poszczególnych zmiennych na predykcję różni się tylko w przypadku zmiennej partyid7, chociaż jak pokazuje przykład z zeszłej pracy domowej inna permutacja kolumn wywołała dodatni wpływ tej zmiennej na predykcję w modelu. Jednak same wartości bezwzględne różnią sie znacząco. Nie do końca wiadomo czy jest to spowodowane metodą LIME czy dość niestandardową metodą perturbacji danych polegającą na wzięcie iloczynu kartezjańskiego obserwacji najbardziej podobnych do badanej obserwacji. Aby uzyskać wiarygodniejsze wyniki wypadałoby porównać wynik kartezjańskiego LIME z bardziej standardową wersją perturbacji."
   ]
  },
  {
   "cell_type": "code",
   "execution_count": null,
   "metadata": {},
   "outputs": [],
   "source": []
  }
 ],
 "metadata": {
  "kernelspec": {
   "display_name": "Python 3",
   "language": "python",
   "name": "python3"
  },
  "language_info": {
   "codemirror_mode": {
    "name": "ipython",
    "version": 3
   },
   "file_extension": ".py",
   "mimetype": "text/x-python",
   "name": "python",
   "nbconvert_exporter": "python",
   "pygments_lexer": "ipython3",
   "version": "3.6.5"
  }
 },
 "nbformat": 4,
 "nbformat_minor": 2
}
