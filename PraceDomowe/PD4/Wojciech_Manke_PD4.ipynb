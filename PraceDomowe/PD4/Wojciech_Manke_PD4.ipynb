{
 "cells": [
  {
   "cell_type": "code",
   "execution_count": 1,
   "metadata": {
    "collapsed": false,
    "deletable": true,
    "editable": true
   },
   "outputs": [],
   "source": [
    "import pandas as pd\n",
    "import numpy as np\n",
    "import matplotlib.pyplot as plt\n",
    "from xgboost import XGBClassifier\n",
    "from sklearn.model_selection import train_test_split\n",
    "from sklearn.metrics import accuracy_score"
   ]
  },
  {
   "cell_type": "markdown",
   "metadata": {
    "deletable": true,
    "editable": true
   },
   "source": [
    "## Wczytywanie i inspekcja danych danych"
   ]
  },
  {
   "cell_type": "code",
   "execution_count": 2,
   "metadata": {
    "collapsed": true,
    "deletable": true,
    "editable": true
   },
   "outputs": [],
   "source": [
    "data = pd.read_stata('HCMST 2017 fresh sample for public sharing draft v1.1.dta')"
   ]
  },
  {
   "cell_type": "markdown",
   "metadata": {
    "deletable": true,
    "editable": true
   },
   "source": [
    "### Wybrane cechy\n",
    "\n",
    "#### Ilościowe:\n",
    "* w6_q21c_year - w którym roku po raz pierwszy zamieszkali ze sobą\n",
    "* year_fraction_met - rok poznania z uwzględnieniem miesiąca jako ułamka\n",
    "\n",
    "### Jakościowe:\n",
    "* hcm2017q24_btwn_I_neighbor - czy są sąsiadami\n",
    "* w6_otherdate_all - czy w zeszłym roku poznał(a) kogoś poza partnerem"
   ]
  },
  {
   "cell_type": "code",
   "execution_count": 3,
   "metadata": {
    "collapsed": true,
    "deletable": true,
    "editable": true
   },
   "outputs": [],
   "source": [
    "cat_features = ['hcm2017q24_btwn_I_neighbor', 'w6_otherdate_all']\n",
    "cont_features = ['w6_q21c_year', 'year_fraction_met']\n",
    "label = 'S1'"
   ]
  },
  {
   "cell_type": "markdown",
   "metadata": {
    "deletable": true,
    "editable": true
   },
   "source": [
    "## Transformowanie danych"
   ]
  },
  {
   "cell_type": "markdown",
   "metadata": {
    "deletable": true,
    "editable": true
   },
   "source": [
    "Podstawowe transformowanie danych:\n",
    "* zamiana wektora y na wektor 0/1 (0 - małżeństwo, 1 - brak małżeństwa)\n",
    "* zamiana cech kategorycznych na one hot encoding\n",
    "* usunięcie niedozwolonych przez XGBooost znaków z nazw cech\n",
    "\n",
    "Sprawdzamy też, czy po usunięciu NaN nie zostało za mało danych."
   ]
  },
  {
   "cell_type": "code",
   "execution_count": 4,
   "metadata": {
    "collapsed": false,
    "deletable": true,
    "editable": true
   },
   "outputs": [
    {
     "name": "stdout",
     "output_type": "stream",
     "text": [
      "Data left: 2566\n"
     ]
    }
   ],
   "source": [
    "data = data[cat_features+cont_features+[label]].dropna()\n",
    "print(\"Data left: \" + str(len(data)))\n",
    "X = data[cat_features+cont_features].copy()\n",
    "y = data[label].cat.codes"
   ]
  },
  {
   "cell_type": "code",
   "execution_count": 5,
   "metadata": {
    "collapsed": false,
    "deletable": true,
    "editable": true
   },
   "outputs": [],
   "source": [
    "# Convert continuous features to numerics\n",
    "for cont_feature in cont_features:\n",
    "    X[cont_feature] = pd.to_numeric(X[cont_feature])\n",
    "# One hot encoding\n",
    "X = pd.get_dummies(X)\n",
    "# Delete unwanted characters\n",
    "for character in ['[', ']', '<']:\n",
    "    X.columns = X.columns.str.replace(character, '')"
   ]
  },
  {
   "cell_type": "markdown",
   "metadata": {
    "deletable": true,
    "editable": true
   },
   "source": [
    "## Trening\n",
    "\n",
    "Do treningu używam klasyfikatora XGB z domyślnymi parametrami."
   ]
  },
  {
   "cell_type": "code",
   "execution_count": 6,
   "metadata": {
    "collapsed": false,
    "deletable": true,
    "editable": true
   },
   "outputs": [],
   "source": [
    "X_train, X_test, y_train, y_test = train_test_split(X, y)"
   ]
  },
  {
   "cell_type": "code",
   "execution_count": 7,
   "metadata": {
    "collapsed": false,
    "deletable": true,
    "editable": true
   },
   "outputs": [
    {
     "data": {
      "text/plain": [
       "XGBClassifier(base_score=0.5, booster='gbtree', colsample_bylevel=1,\n",
       "       colsample_bytree=1, gamma=0, learning_rate=0.1, max_delta_step=0,\n",
       "       max_depth=3, min_child_weight=1, missing=None, n_estimators=100,\n",
       "       n_jobs=1, nthread=None, objective='binary:logistic', random_state=0,\n",
       "       reg_alpha=0, reg_lambda=1, scale_pos_weight=1, seed=None,\n",
       "       silent=True, subsample=1)"
      ]
     },
     "execution_count": 7,
     "metadata": {},
     "output_type": "execute_result"
    }
   ],
   "source": [
    "model = XGBClassifier()\n",
    "model.fit(X_train, y_train)"
   ]
  },
  {
   "cell_type": "code",
   "execution_count": 8,
   "metadata": {
    "collapsed": false,
    "deletable": true,
    "editable": true
   },
   "outputs": [
    {
     "name": "stdout",
     "output_type": "stream",
     "text": [
      "Accuracy: 0.7959501557632399\n"
     ]
    },
    {
     "name": "stderr",
     "output_type": "stream",
     "text": [
      "/home/wojtek/Pulpit/IML/env/lib/python3.5/site-packages/sklearn/preprocessing/label.py:151: DeprecationWarning: The truth value of an empty array is ambiguous. Returning False, but in future this will result in an error. Use `array.size > 0` to check that an array is not empty.\n",
      "  if diff:\n"
     ]
    }
   ],
   "source": [
    "print(\"Accuracy: \"+str(accuracy_score(model.predict(X_test), y_test)))"
   ]
  },
  {
   "cell_type": "markdown",
   "metadata": {
    "deletable": true,
    "editable": true
   },
   "source": [
    "## Zmiana w średniej odpowiedzi modelu"
   ]
  },
  {
   "cell_type": "code",
   "execution_count": 9,
   "metadata": {
    "collapsed": true,
    "deletable": true,
    "editable": true
   },
   "outputs": [],
   "source": [
    "def get_averages(model, X, features_order, obs):\n",
    "    averages = []\n",
    "    averages.append(model.predict_proba(X)[:, 1].mean())\n",
    "    \n",
    "    column_names = X.columns.values\n",
    "    \n",
    "    for feature_name in features_order:\n",
    "        names_with_prefix = [column_name for column_name in column_names if column_name.startswith(feature_name)]\n",
    "        for name_with_prefix in names_with_prefix:\n",
    "            X[name_with_prefix] = obs[name_with_prefix]\n",
    "        averages.append(model.predict_proba(X)[:, 1].mean())\n",
    "    \n",
    "    return averages"
   ]
  },
  {
   "cell_type": "code",
   "execution_count": 10,
   "metadata": {
    "collapsed": true,
    "deletable": true,
    "editable": true
   },
   "outputs": [],
   "source": [
    "def draw_diagram(model, X, features_order, obs):\n",
    "    averages = get_averages(model, X, features_order, obs)\n",
    "    print(\"Średnie po ustaleniu kolejnych zmiennych: \" + str(averages))\n",
    "    plot_data = pd.DataFrame(data = averages, index = ['średnia odp.'] + features_order)[0]\n",
    "    bottom = plot_data.shift(1).fillna(0)\n",
    "    plot_data = plot_data-plot_data.shift(1).fillna(0)\n",
    "    colors = ['r' if x < 0 else 'g' for x in plot_data]\n",
    "    colors[0] = 'b' # blue for avg. response\n",
    "    plot = plot_data.plot(kind='bar', stacked = True, bottom = bottom,\n",
    "                          legend = None, title = \"Zmiana w średniej odpowiedzi modelu\", color = colors)\n",
    "    plot.plot()"
   ]
  },
  {
   "cell_type": "code",
   "execution_count": 11,
   "metadata": {
    "collapsed": false,
    "deletable": true,
    "editable": true
   },
   "outputs": [
    {
     "name": "stdout",
     "output_type": "stream",
     "text": [
      "Wyjaśniam obserwację: \n",
      "w6_q21c_year         1996.000\n",
      "year_fraction_met    1983.375\n",
      "Name: 1, dtype: float64\n"
     ]
    }
   ],
   "source": [
    "print(\"Wyjaśniam obserwację: \")\n",
    "print(X.loc[1][['w6_q21c_year', 'year_fraction_met']])"
   ]
  },
  {
   "cell_type": "code",
   "execution_count": 12,
   "metadata": {
    "collapsed": false,
    "deletable": true,
    "editable": true
   },
   "outputs": [
    {
     "name": "stdout",
     "output_type": "stream",
     "text": [
      "Średnie po ustaleniu kolejnych zmiennych: [0.23974124, 0.23929207, 0.13857351, 0.13857351, 0.12466764]\n"
     ]
    },
    {
     "data": {
      "image/png": "[encoded data removed]",
      "text/plain": [
       "<Figure size 432x288 with 1 Axes>"
      ]
     },
     "metadata": {
      "needs_background": "light"
     },
     "output_type": "display_data"
    }
   ],
   "source": [
    "draw_diagram(model, X.copy(), ['w6_q21c_year', 'year_fraction_met', 'hcm2017q24_btwn_I_neighbor', 'w6_otherdate_all'], X.loc[1])"
   ]
  },
  {
   "cell_type": "code",
   "execution_count": 13,
   "metadata": {
    "collapsed": false,
    "deletable": true,
    "editable": true
   },
   "outputs": [
    {
     "name": "stdout",
     "output_type": "stream",
     "text": [
      "Średnie po ustaleniu kolejnych zmiennych: [0.23974124, 0.20360099, 0.13857351, 0.13857351, 0.12466764]\n"
     ]
    },
    {
     "data": {
      "image/png": "[encoded data removed]",
      "text/plain": [
       "<Figure size 432x288 with 1 Axes>"
      ]
     },
     "metadata": {
      "needs_background": "light"
     },
     "output_type": "display_data"
    }
   ],
   "source": [
    "draw_diagram(model, X.copy(), ['year_fraction_met', 'w6_q21c_year', 'hcm2017q24_btwn_I_neighbor', 'w6_otherdate_all'], X.loc[1])"
   ]
  },
  {
   "cell_type": "markdown",
   "metadata": {
    "deletable": true,
    "editable": true
   },
   "source": [
    "### Opis\n",
    "\n",
    "W obu wyjaśnieniach zmienna oznaczająca rok pierwszego zamieszkania ze sobą ma duży wpływ na wynik.\n",
    "\n",
    "W pierwszym wyjaśnieniu zmienna oznaczająca rok poznania ma duży ujemny wpływ na wynik, a w drugim wpływ ten jest praktycznie zerowy. Oznacza to, że  rok poznania (1983) ma znaczenie dopiero jeśli znamy rok pierwszego zamieszkania ze sobą (1996).\n",
    "\n",
    "Praktycznie zerowy wpływ zmiennej 'hcm2017q24_btwn_I_neighbor' wynika najprawdopodobniej z tego, że tylko dla 2 obserwacji jest ona niezerowa."
   ]
  },
  {
   "cell_type": "code",
   "execution_count": 14,
   "metadata": {
    "collapsed": false,
    "deletable": true,
    "editable": true
   },
   "outputs": [
    {
     "data": {
      "text/plain": [
       "2"
      ]
     },
     "execution_count": 14,
     "metadata": {},
     "output_type": "execute_result"
    }
   ],
   "source": [
    "X.hcm2017q24_btwn_I_neighbor_yes.sum()"
   ]
  },
  {
   "cell_type": "markdown",
   "metadata": {
    "deletable": true,
    "editable": true
   },
   "source": [
    "## LIME\n",
    "\n",
    "Będę wyjaśniał zmienne ciągłe (w6_q21c_year, year_fraction_met) tej samej obserwacji co poprzednio. <br />\n",
    "Na raz będę zaburzał tylko jedną ze zmiennych, wybierając losowo którąś inną wartość ze zbioru danych. <br />\n",
    "Jako odległość przyjmuję zwykłą odległość euklidesową. <br />\n",
    "Jako wyjaśnialnego modelu użyję drzew decyzyjnych o głębokości 2."
   ]
  },
  {
   "cell_type": "code",
   "execution_count": 15,
   "metadata": {
    "collapsed": false,
    "deletable": true,
    "editable": true
   },
   "outputs": [
    {
     "name": "stdout",
     "output_type": "stream",
     "text": [
      "Wyjaśniam obserwację: \n",
      "w6_q21c_year         1996.000\n",
      "year_fraction_met    1983.375\n",
      "Name: 1, dtype: float64\n"
     ]
    }
   ],
   "source": [
    "print(\"Wyjaśniam obserwację: \")\n",
    "print(X.loc[1][['w6_q21c_year', 'year_fraction_met']])"
   ]
  },
  {
   "cell_type": "code",
   "execution_count": 47,
   "metadata": {
    "collapsed": true,
    "deletable": true,
    "editable": true
   },
   "outputs": [],
   "source": [
    "from random import randint\n",
    "\n",
    "def generate_data(observation, data, generated_size = 2000):\n",
    "    examples = pd.DataFrame(columns = observation.columns.to_list())\n",
    "    distances = []\n",
    "    \n",
    "    for i in range(generated_size):\n",
    "        new_example = observation.iloc[0].copy()\n",
    "        feature_name = cont_features[randint(0, len(cont_features)-1)]\n",
    "        new_example[feature_name] = data.sample(n = 1)[feature_name]\n",
    "        distances.append(float(abs(new_example[feature_name]-observation[feature_name])))\n",
    "        examples = examples.append(new_example)\n",
    "    \n",
    "    return examples, distances"
   ]
  },
  {
   "cell_type": "code",
   "execution_count": 51,
   "metadata": {
    "collapsed": false,
    "deletable": true,
    "editable": true
   },
   "outputs": [],
   "source": [
    "lime_data, distances = generate_data(X.loc[[1]], X)\n",
    "lime_predictions = model.predict_proba(lime_data)[:, 0]"
   ]
  },
  {
   "cell_type": "code",
   "execution_count": 52,
   "metadata": {
    "collapsed": false,
    "deletable": true,
    "editable": true
   },
   "outputs": [],
   "source": [
    "from sklearn import tree\n",
    "dcr = tree.DecisionTreeRegressor(max_depth = 2)\n",
    "dcr = dcr.fit(lime_data, lime_predictions)"
   ]
  },
  {
   "cell_type": "code",
   "execution_count": 53,
   "metadata": {
    "collapsed": false,
    "deletable": true,
    "editable": true
   },
   "outputs": [
    {
     "data": {
      "image/svg+xml": [
       "<?xml version=\"1.0\" encoding=\"UTF-8\" standalone=\"no\"?>\n",
       "<!DOCTYPE svg PUBLIC \"-//W3C//DTD SVG 1.1//EN\"\n",
       " \"http://www.w3.org/Graphics/SVG/1.1/DTD/svg11.dtd\">\n",
       "<!-- Generated by graphviz version 2.38.0 (20140413.2041)\n",
       " -->\n",
       "<!-- Title: Tree Pages: 1 -->\n",
       "<svg width=\"482pt\" height=\"269pt\"\n",
       " viewBox=\"0.00 0.00 482.00 269.00\" xmlns=\"http://www.w3.org/2000/svg\" xmlns:xlink=\"http://www.w3.org/1999/xlink\">\n",
       "<g id=\"graph0\" class=\"graph\" transform=\"scale(1 1) rotate(0) translate(4 265)\">\n",
       "<title>Tree</title>\n",
       "<polygon fill=\"white\" stroke=\"none\" points=\"-4,4 -4,-265 478,-265 478,4 -4,4\"/>\n",
       "<!-- 0 -->\n",
       "<g id=\"node1\" class=\"node\"><title>0</title>\n",
       "<polygon fill=\"none\" stroke=\"black\" points=\"324,-261 166,-261 166,-193 324,-193 324,-261\"/>\n",
       "<text text-anchor=\"middle\" x=\"245\" y=\"-245.8\" font-family=\"Times,serif\" font-size=\"14.00\">w6_q21c_year &lt;= 2013.5</text>\n",
       "<text text-anchor=\"middle\" x=\"245\" y=\"-230.8\" font-family=\"Times,serif\" font-size=\"14.00\">mse = 0.015</text>\n",
       "<text text-anchor=\"middle\" x=\"245\" y=\"-215.8\" font-family=\"Times,serif\" font-size=\"14.00\">samples = 2000</text>\n",
       "<text text-anchor=\"middle\" x=\"245\" y=\"-200.8\" font-family=\"Times,serif\" font-size=\"14.00\">value = 0.79</text>\n",
       "</g>\n",
       "<!-- 1 -->\n",
       "<g id=\"node2\" class=\"node\"><title>1</title>\n",
       "<polygon fill=\"none\" stroke=\"black\" points=\"241,-157 63,-157 63,-89 241,-89 241,-157\"/>\n",
       "<text text-anchor=\"middle\" x=\"152\" y=\"-141.8\" font-family=\"Times,serif\" font-size=\"14.00\">year_fraction_met &lt;= 2004.0</text>\n",
       "<text text-anchor=\"middle\" x=\"152\" y=\"-126.8\" font-family=\"Times,serif\" font-size=\"14.00\">mse = 0.01</text>\n",
       "<text text-anchor=\"middle\" x=\"152\" y=\"-111.8\" font-family=\"Times,serif\" font-size=\"14.00\">samples = 1898</text>\n",
       "<text text-anchor=\"middle\" x=\"152\" y=\"-96.8\" font-family=\"Times,serif\" font-size=\"14.00\">value = 0.807</text>\n",
       "</g>\n",
       "<!-- 0&#45;&gt;1 -->\n",
       "<g id=\"edge1\" class=\"edge\"><title>0&#45;&gt;1</title>\n",
       "<path fill=\"none\" stroke=\"black\" d=\"M214.806,-192.884C206.684,-183.976 197.803,-174.235 189.343,-164.957\"/>\n",
       "<polygon fill=\"black\" stroke=\"black\" points=\"191.685,-162.331 182.361,-157.299 186.512,-167.047 191.685,-162.331\"/>\n",
       "<text text-anchor=\"middle\" x=\"181.209\" y=\"-178.573\" font-family=\"Times,serif\" font-size=\"14.00\">True</text>\n",
       "</g>\n",
       "<!-- 4 -->\n",
       "<g id=\"node5\" class=\"node\"><title>4</title>\n",
       "<polygon fill=\"none\" stroke=\"black\" points=\"417,-157 259,-157 259,-89 417,-89 417,-157\"/>\n",
       "<text text-anchor=\"middle\" x=\"338\" y=\"-141.8\" font-family=\"Times,serif\" font-size=\"14.00\">w6_q21c_year &lt;= 2014.5</text>\n",
       "<text text-anchor=\"middle\" x=\"338\" y=\"-126.8\" font-family=\"Times,serif\" font-size=\"14.00\">mse = 0.004</text>\n",
       "<text text-anchor=\"middle\" x=\"338\" y=\"-111.8\" font-family=\"Times,serif\" font-size=\"14.00\">samples = 102</text>\n",
       "<text text-anchor=\"middle\" x=\"338\" y=\"-96.8\" font-family=\"Times,serif\" font-size=\"14.00\">value = 0.485</text>\n",
       "</g>\n",
       "<!-- 0&#45;&gt;4 -->\n",
       "<g id=\"edge4\" class=\"edge\"><title>0&#45;&gt;4</title>\n",
       "<path fill=\"none\" stroke=\"black\" d=\"M275.194,-192.884C283.316,-183.976 292.197,-174.235 300.657,-164.957\"/>\n",
       "<polygon fill=\"black\" stroke=\"black\" points=\"303.488,-167.047 307.639,-157.299 298.315,-162.331 303.488,-167.047\"/>\n",
       "<text text-anchor=\"middle\" x=\"308.791\" y=\"-178.573\" font-family=\"Times,serif\" font-size=\"14.00\">False</text>\n",
       "</g>\n",
       "<!-- 2 -->\n",
       "<g id=\"node3\" class=\"node\"><title>2</title>\n",
       "<polygon fill=\"none\" stroke=\"black\" points=\"104,-53 0,-53 0,-0 104,-0 104,-53\"/>\n",
       "<text text-anchor=\"middle\" x=\"52\" y=\"-37.8\" font-family=\"Times,serif\" font-size=\"14.00\">mse = 0.006</text>\n",
       "<text text-anchor=\"middle\" x=\"52\" y=\"-22.8\" font-family=\"Times,serif\" font-size=\"14.00\">samples = 1593</text>\n",
       "<text text-anchor=\"middle\" x=\"52\" y=\"-7.8\" font-family=\"Times,serif\" font-size=\"14.00\">value = 0.835</text>\n",
       "</g>\n",
       "<!-- 1&#45;&gt;2 -->\n",
       "<g id=\"edge2\" class=\"edge\"><title>1&#45;&gt;2</title>\n",
       "<path fill=\"none\" stroke=\"black\" d=\"M117.025,-88.9485C107.151,-79.6175 96.415,-69.4722 86.5652,-60.1641\"/>\n",
       "<polygon fill=\"black\" stroke=\"black\" points=\"88.9067,-57.5613 79.2346,-53.2367 84.0988,-62.649 88.9067,-57.5613\"/>\n",
       "</g>\n",
       "<!-- 3 -->\n",
       "<g id=\"node4\" class=\"node\"><title>3</title>\n",
       "<polygon fill=\"none\" stroke=\"black\" points=\"219.5,-53 122.5,-53 122.5,-0 219.5,-0 219.5,-53\"/>\n",
       "<text text-anchor=\"middle\" x=\"171\" y=\"-37.8\" font-family=\"Times,serif\" font-size=\"14.00\">mse = 0.007</text>\n",
       "<text text-anchor=\"middle\" x=\"171\" y=\"-22.8\" font-family=\"Times,serif\" font-size=\"14.00\">samples = 305</text>\n",
       "<text text-anchor=\"middle\" x=\"171\" y=\"-7.8\" font-family=\"Times,serif\" font-size=\"14.00\">value = 0.661</text>\n",
       "</g>\n",
       "<!-- 1&#45;&gt;3 -->\n",
       "<g id=\"edge3\" class=\"edge\"><title>1&#45;&gt;3</title>\n",
       "<path fill=\"none\" stroke=\"black\" d=\"M158.645,-88.9485C160.319,-80.6238 162.123,-71.6509 163.822,-63.2027\"/>\n",
       "<polygon fill=\"black\" stroke=\"black\" points=\"167.286,-63.7304 165.825,-53.2367 160.423,-62.3506 167.286,-63.7304\"/>\n",
       "</g>\n",
       "<!-- 5 -->\n",
       "<g id=\"node6\" class=\"node\"><title>5</title>\n",
       "<polygon fill=\"none\" stroke=\"black\" points=\"366,-53 274,-53 274,-0 366,-0 366,-53\"/>\n",
       "<text text-anchor=\"middle\" x=\"320\" y=\"-37.8\" font-family=\"Times,serif\" font-size=\"14.00\">mse = 0.0</text>\n",
       "<text text-anchor=\"middle\" x=\"320\" y=\"-22.8\" font-family=\"Times,serif\" font-size=\"14.00\">samples = 23</text>\n",
       "<text text-anchor=\"middle\" x=\"320\" y=\"-7.8\" font-family=\"Times,serif\" font-size=\"14.00\">value = 0.608</text>\n",
       "</g>\n",
       "<!-- 4&#45;&gt;5 -->\n",
       "<g id=\"edge5\" class=\"edge\"><title>4&#45;&gt;5</title>\n",
       "<path fill=\"none\" stroke=\"black\" d=\"M331.704,-88.9485C330.119,-80.6238 328.41,-71.6509 326.801,-63.2027\"/>\n",
       "<polygon fill=\"black\" stroke=\"black\" points=\"330.212,-62.4052 324.902,-53.2367 323.335,-63.715 330.212,-62.4052\"/>\n",
       "</g>\n",
       "<!-- 6 -->\n",
       "<g id=\"node7\" class=\"node\"><title>6</title>\n",
       "<polygon fill=\"none\" stroke=\"black\" points=\"474,-53 384,-53 384,-0 474,-0 474,-53\"/>\n",
       "<text text-anchor=\"middle\" x=\"429\" y=\"-37.8\" font-family=\"Times,serif\" font-size=\"14.00\">mse = 0.0</text>\n",
       "<text text-anchor=\"middle\" x=\"429\" y=\"-22.8\" font-family=\"Times,serif\" font-size=\"14.00\">samples = 79</text>\n",
       "<text text-anchor=\"middle\" x=\"429\" y=\"-7.8\" font-family=\"Times,serif\" font-size=\"14.00\">value = 0.45</text>\n",
       "</g>\n",
       "<!-- 4&#45;&gt;6 -->\n",
       "<g id=\"edge6\" class=\"edge\"><title>4&#45;&gt;6</title>\n",
       "<path fill=\"none\" stroke=\"black\" d=\"M369.827,-88.9485C378.637,-79.8005 388.2,-69.8697 397.018,-60.7126\"/>\n",
       "<polygon fill=\"black\" stroke=\"black\" points=\"399.801,-62.8677 404.217,-53.2367 394.759,-58.0122 399.801,-62.8677\"/>\n",
       "</g>\n",
       "</g>\n",
       "</svg>\n"
      ],
      "text/plain": [
       "<graphviz.files.Source at 0x7fa159d60cc0>"
      ]
     },
     "execution_count": 53,
     "metadata": {},
     "output_type": "execute_result"
    }
   ],
   "source": [
    "# Kod ze strony sklearn\n",
    "import graphviz\n",
    "dot_data = tree.export_graphviz(dcr,\n",
    "                                feature_names = lime_data.columns.to_list(),\n",
    "                                out_file=None) \n",
    "graph = graphviz.Source(dot_data)\n",
    "graph.render(\"marriage\") \n",
    "graph"
   ]
  },
  {
   "cell_type": "markdown",
   "metadata": {
    "deletable": true,
    "editable": true
   },
   "source": [
    "### Opis\n",
    "\n",
    "Wyjaśniana obserwacja \"wpada\" do najbardziej lewego liścia z prawdopodobieństwem małżeństwa równym 0.835. Zgodnie z wyjaśnieniem zwiększenie roku poznania powyżej 2004 obniżyłoby prawdopodobieństwo małżeństwa do 0.661. Podobnie zwiększenie roku zamieszkania powyżej 2013 obniżyłoby to prawdopodobieństwo.\n",
    "\n",
    "Wyjaśnienia różnią się od przedstawionych powyżej, tam wpływ obu wyróżnionych cech był negatywny. Może to wynikać ze zbyt małej ekspresywności drzew decyzyjnych o zadanej głębokości (większość przypadków wpada do pierwszego liścia).\n",
    "\n",
    "Dla pełności spróbujmy zastąpić drzewo decyzyjne regresją liniową:"
   ]
  },
  {
   "cell_type": "code",
   "execution_count": 60,
   "metadata": {
    "collapsed": false
   },
   "outputs": [
    {
     "data": {
      "text/plain": [
       "[]"
      ]
     },
     "execution_count": 60,
     "metadata": {},
     "output_type": "execute_result"
    },
    {
     "data": {
      "image/png": "[encoded data removed]",
      "text/plain": [
       "<Figure size 432x288 with 1 Axes>"
      ]
     },
     "metadata": {
      "needs_background": "light"
     },
     "output_type": "display_data"
    }
   ],
   "source": [
    "from sklearn.linear_model import LinearRegression\n",
    "lin_reg = LinearRegression().fit(lime_data, lime_predictions)\n",
    "plt.bar(X.columns[:2], lin_reg.coef_[:2])\n",
    "plt.plot()"
   ]
  },
  {
   "cell_type": "markdown",
   "metadata": {},
   "source": [
    "Tutaj, podobnie jak w wyjaśnieniu korzystającym ze średniej odpowiedzi modelu, wpływ obu cech jest ujemny."
   ]
  }
 ],
 "metadata": {
  "kernelspec": {
   "display_name": "projectname",
   "language": "python",
   "name": "projectname"
  },
  "language_info": {
   "codemirror_mode": {
    "name": "ipython",
    "version": 3
   },
   "file_extension": ".py",
   "mimetype": "text/x-python",
   "name": "python",
   "nbconvert_exporter": "python",
   "pygments_lexer": "ipython3",
   "version": "3.5.2"
  }
 },
 "nbformat": 4,
 "nbformat_minor": 2
}
