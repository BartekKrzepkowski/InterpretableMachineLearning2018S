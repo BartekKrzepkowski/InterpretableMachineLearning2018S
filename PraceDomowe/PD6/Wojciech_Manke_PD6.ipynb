{
 "cells": [
  {
   "cell_type": "code",
   "execution_count": 40,
   "metadata": {
    "collapsed": false,
    "deletable": true,
    "editable": true
   },
   "outputs": [],
   "source": [
    "import pandas as pd\n",
    "import numpy as np\n",
    "import matplotlib.pyplot as plt\n",
    "from xgboost import XGBClassifier\n",
    "from sklearn.svm import SVC\n",
    "from sklearn.model_selection import train_test_split\n",
    "from sklearn.metrics import accuracy_score\n",
    "from sklearn.metrics import mean_squared_error\n",
    "np.warnings.filterwarnings('ignore')"
   ]
  },
  {
   "cell_type": "markdown",
   "metadata": {
    "deletable": true,
    "editable": true
   },
   "source": [
    "## Wczytywanie i inspekcja danych danych"
   ]
  },
  {
   "cell_type": "code",
   "execution_count": 2,
   "metadata": {
    "collapsed": true,
    "deletable": true,
    "editable": true
   },
   "outputs": [],
   "source": [
    "data = pd.read_stata('HCMST 2017 fresh sample for public sharing draft v1.1.dta')"
   ]
  },
  {
   "cell_type": "markdown",
   "metadata": {
    "deletable": true,
    "editable": true
   },
   "source": [
    "### Wybrane cechy\n",
    "\n",
    "#### Ilościowe:\n",
    "* w6_q21c_year - w którym roku po raz pierwszy zamieszkali ze sobą\n",
    "* year_fraction_met - rok poznania z uwzględnieniem miesiąca jako ułamka\n",
    "\n",
    "### Jakościowe:\n",
    "* hcm2017q24_btwn_I_neighbor - czy są sąsiadami\n",
    "* w6_otherdate_all - czy w zeszłym roku poznał(a) kogoś poza partnerem"
   ]
  },
  {
   "cell_type": "code",
   "execution_count": 3,
   "metadata": {
    "collapsed": true,
    "deletable": true,
    "editable": true
   },
   "outputs": [],
   "source": [
    "cat_features = ['hcm2017q24_btwn_I_neighbor', 'w6_otherdate_all']\n",
    "cont_features = ['w6_q21c_year', 'year_fraction_met']\n",
    "label = 'S1'"
   ]
  },
  {
   "cell_type": "markdown",
   "metadata": {
    "deletable": true,
    "editable": true
   },
   "source": [
    "## Transformowanie danych"
   ]
  },
  {
   "cell_type": "markdown",
   "metadata": {
    "deletable": true,
    "editable": true
   },
   "source": [
    "Podstawowe transformowanie danych:\n",
    "* zamiana wektora y na wektor 0/1 (0 - małżeństwo, 1 - brak małżeństwa)\n",
    "* zamiana cech kategorycznych na one hot encoding\n",
    "* usunięcie niedozwolonych przez XGBooost znaków z nazw cech\n",
    "\n",
    "Sprawdzamy też, czy po usunięciu NaN nie zostało za mało danych."
   ]
  },
  {
   "cell_type": "code",
   "execution_count": 4,
   "metadata": {
    "collapsed": false,
    "deletable": true,
    "editable": true
   },
   "outputs": [
    {
     "name": "stdout",
     "output_type": "stream",
     "text": [
      "Data left: 2566\n"
     ]
    }
   ],
   "source": [
    "data = data[cat_features+cont_features+[label]].dropna()\n",
    "print(\"Data left: \" + str(len(data)))\n",
    "X = data[cat_features+cont_features].copy()\n",
    "y = data[label].cat.codes"
   ]
  },
  {
   "cell_type": "code",
   "execution_count": 5,
   "metadata": {
    "collapsed": false,
    "deletable": true,
    "editable": true
   },
   "outputs": [],
   "source": [
    "# Convert continuous features to numerics\n",
    "for cont_feature in cont_features:\n",
    "    X[cont_feature] = pd.to_numeric(X[cont_feature])\n",
    "\n",
    "def convert_to_dummies(X):\n",
    "    with_dummies = pd.get_dummies(X)\n",
    "    for character in ['[', ']', '<']:\n",
    "        with_dummies.columns = with_dummies.columns.str.replace(character, '')\n",
    "    with_dummies = with_dummies[sorted(with_dummies.columns.to_list())]\n",
    "    return with_dummies\n",
    "\n",
    "X = convert_to_dummies(X)"
   ]
  },
  {
   "cell_type": "markdown",
   "metadata": {
    "deletable": true,
    "editable": true
   },
   "source": [
    "## Trening\n",
    "\n",
    "Do treningu używam klasyfikatora XGB z domyślnymi parametrami."
   ]
  },
  {
   "cell_type": "code",
   "execution_count": 6,
   "metadata": {
    "collapsed": false,
    "deletable": true,
    "editable": true
   },
   "outputs": [
    {
     "data": {
      "text/plain": [
       "XGBClassifier(base_score=0.5, booster='gbtree', colsample_bylevel=1,\n",
       "       colsample_bytree=1, gamma=0, learning_rate=0.1, max_delta_step=0,\n",
       "       max_depth=3, min_child_weight=1, missing=None, n_estimators=100,\n",
       "       n_jobs=1, nthread=None, objective='binary:logistic', random_state=0,\n",
       "       reg_alpha=0, reg_lambda=1, scale_pos_weight=1, seed=None,\n",
       "       silent=True, subsample=1)"
      ]
     },
     "execution_count": 6,
     "metadata": {},
     "output_type": "execute_result"
    }
   ],
   "source": [
    "# XGBoost model\n",
    "xgb_model = XGBClassifier()\n",
    "xgb_model.fit(X, y)"
   ]
  },
  {
   "cell_type": "markdown",
   "metadata": {
    "deletable": true,
    "editable": true
   },
   "source": [
    "## Wykres diagnostyczny"
   ]
  },
  {
   "cell_type": "code",
   "execution_count": 38,
   "metadata": {
    "collapsed": false,
    "deletable": true,
    "editable": true
   },
   "outputs": [
    {
     "data": {
      "image/png": "[encoded data removed]",
      "text/plain": [
       "<Figure size 432x288 with 1 Axes>"
      ]
     },
     "metadata": {
      "needs_background": "light"
     },
     "output_type": "display_data"
    }
   ],
   "source": [
    "from pygam import LinearGAM\n",
    "\n",
    "def get_trend_line(xs, ys):\n",
    "    gam = LinearGAM().fit(xs, ys)\n",
    "    lin = np.linspace(min(xs), max(xs), num=100)\n",
    "    return (lin, \n",
    "            gam.partial_dependence(term = 0, X=lin))\n",
    "\n",
    "# Compute residuals\n",
    "predictions = xgb_model.predict_proba(X)[:, 1]\n",
    "residuals = y-predictions\n",
    "\n",
    "plt.xlabel(\"Fitted values\")\n",
    "plt.ylabel(\"Residuals\")\n",
    "plt.title(\"Fitted values vs. residuals\")\n",
    "plt.scatter(predictions, residuals, facecolors='none', edgecolors='b', label = \"fitted vs. residuals\") # TODO: change style\n",
    "\n",
    "trend_x, trend_y = get_trend_line(predictions, residuals)\n",
    "plt.plot(trend_x, trend_y, label=\"Trend line\")\n",
    "\n",
    "plt.legend()\n",
    "plt.show()"
   ]
  },
  {
   "cell_type": "markdown",
   "metadata": {
    "collapsed": true,
    "deletable": true,
    "editable": true
   },
   "source": [
    "Krzywa lokalnego trendu jest różna od krzywej stale równej zero. <br />\n",
    "W powyższym przykładzie dwie osobne grupy punktów odpowiadają dwóm przewidywanym klasom."
   ]
  },
  {
   "cell_type": "markdown",
   "metadata": {
    "collapsed": true,
    "deletable": true,
    "editable": true
   },
   "source": [
    "## Zmienna zależna"
   ]
  },
  {
   "cell_type": "code",
   "execution_count": 39,
   "metadata": {
    "collapsed": false
   },
   "outputs": [
    {
     "data": {
      "image/png": "[encoded data removed]",
      "text/plain": [
       "<Figure size 432x288 with 1 Axes>"
      ]
     },
     "metadata": {
      "needs_background": "light"
     },
     "output_type": "display_data"
    }
   ],
   "source": [
    "dependent_variable = list(X['w6_q21c_year'])\n",
    "\n",
    "plt.xlabel(\"w6_q21c_year\")\n",
    "plt.ylabel(\"Residuals\")\n",
    "plt.title(\"w6_q21c_year vs. residuals\")\n",
    "plt.scatter(dependent_variable, residuals, label = \"w6_q21c_year vs. residuals\")\n",
    "trend_x, trend_y = get_trend_line(dependent_variable, residuals)\n",
    "plt.plot(trend_x, trend_y, label=\"Trend line\")\n",
    "plt.legend()\n",
    "plt.show()"
   ]
  },
  {
   "cell_type": "markdown",
   "metadata": {},
   "source": [
    "Podobnie jak powyżej mamy dwie grupy punktów odpowiadające obu klasom. <br />\n",
    "Linia trendu nie pokrywa się idealnie z prostą $y=0$, ale jest do niej bardzo zbliżona."
   ]
  },
  {
   "cell_type": "markdown",
   "metadata": {},
   "source": [
    "## Wartości Cooka"
   ]
  },
  {
   "cell_type": "code",
   "execution_count": 71,
   "metadata": {
    "collapsed": false
   },
   "outputs": [],
   "source": [
    "from sklearn.ensemble import RandomForestClassifier\n",
    "\n",
    "def get_cook_value(model_class, X, y, row_id, mse, fitted_values):\n",
    "    X_train = X.copy()\n",
    "    X_train.drop(X.index[row_id])\n",
    "    y.drop(y.index[row_id])\n",
    "    model = model_class()\n",
    "    model.fit(X_train, y)\n",
    "    \n",
    "    return mean_squared_error(fitted_values, model.predict_proba(X)[:, 1])/(len(X.columns)*mse)\n",
    "\n",
    "def cook_values(model_class, X, y):\n",
    "    model = model_class()\n",
    "    model.fit(X, y)\n",
    "    fitted_values = model.predict_proba(X)[:, 1]\n",
    "    original_mse = mean_squared_error(y, fitted_values)\n",
    "    \n",
    "    values = []\n",
    "    for i in range(0, len(X)):\n",
    "        values.append(get_cook_value(model_class, X.copy(), y.copy(), i, original_mse, fitted_values))\n",
    "        \n",
    "    return values\n",
    "\n",
    "values = cook_values(RandomForestClassifier, X[:100], y[:100])"
   ]
  },
  {
   "cell_type": "code",
   "execution_count": 72,
   "metadata": {
    "collapsed": false
   },
   "outputs": [
    {
     "data": {
      "image/png": "[encoded data removed]",
      "text/plain": [
       "<Figure size 432x288 with 1 Axes>"
      ]
     },
     "metadata": {
      "needs_background": "light"
     },
     "output_type": "display_data"
    }
   ],
   "source": [
    "plt.scatter(values, np.zeros(len(values)), facecolors='none', edgecolors='b')\n",
    "plt.show()"
   ]
  },
  {
   "cell_type": "markdown",
   "metadata": {},
   "source": [
    "Wartości Cooka policzyłem dla 100 obserwacji, ponieważ dla wszystich wykres był nieczytelny. <br />\n",
    "W danych nie widać wyraźnych obserwacji odstających."
   ]
  },
  {
   "cell_type": "code",
   "execution_count": null,
   "metadata": {
    "collapsed": true
   },
   "outputs": [],
   "source": []
  }
 ],
 "metadata": {
  "kernelspec": {
   "display_name": "projectname",
   "language": "python",
   "name": "projectname"
  },
  "language_info": {
   "codemirror_mode": {
    "name": "ipython",
    "version": 3
   },
   "file_extension": ".py",
   "mimetype": "text/x-python",
   "name": "python",
   "nbconvert_exporter": "python",
   "pygments_lexer": "ipython3",
   "version": "3.5.2"
  }
 },
 "nbformat": 4,
 "nbformat_minor": 2
}
