{
 "cells": [
  {
   "cell_type": "code",
   "execution_count": 5,
   "metadata": {
    "ExecuteTime": {
     "end_time": "2019-05-17T18:30:04.028613Z",
     "start_time": "2019-05-17T18:30:03.049509Z"
    }
   },
   "outputs": [],
   "source": [
    "import numpy as np\n",
    "import pandas as pd\n",
    "import matplotlib.pyplot as plt\n",
    "import seaborn as sns\n",
    "sns.set_style(\"white\")\n",
    "import waterfall_chart"
   ]
  },
  {
   "cell_type": "markdown",
   "metadata": {},
   "source": [
    "## Wczytanie danych"
   ]
  },
  {
   "cell_type": "code",
   "execution_count": 6,
   "metadata": {
    "ExecuteTime": {
     "end_time": "2019-05-17T18:30:05.025946Z",
     "start_time": "2019-05-17T18:30:04.030582Z"
    }
   },
   "outputs": [],
   "source": [
    "df = pd.read_stata(\"HCMST 2017 fresh sample for public sharing draft v1.1.dta\")"
   ]
  },
  {
   "cell_type": "markdown",
   "metadata": {},
   "source": [
    "## Przygotwanie zmiennych"
   ]
  },
  {
   "cell_type": "markdown",
   "metadata": {},
   "source": [
    "Najpierw konwertujemy odpowiedź `S1` na zmienną binarną, gdzie 1 odpowiada informacji `Yes, I am Married`"
   ]
  },
  {
   "cell_type": "code",
   "execution_count": 7,
   "metadata": {
    "ExecuteTime": {
     "end_time": "2019-05-17T18:30:05.037918Z",
     "start_time": "2019-05-17T18:30:05.026932Z"
    }
   },
   "outputs": [],
   "source": [
    "df['y'] = 1 - df['S1'].cat.codes"
   ]
  },
  {
   "cell_type": "markdown",
   "metadata": {},
   "source": [
    "### Wybrane zmienne"
   ]
  },
  {
   "cell_type": "markdown",
   "metadata": {},
   "source": [
    "Do modelu wybrałem następujące zmienne  \n",
    "1) kategoryczne:  \n",
    "  a) `Q23` - Between you and [Partner name], who earned more income in 2016,  \n",
    "  b) `Q28` - Did your parents know [Partner name]’s parents before you met [Partner name]?,  \n",
    "2) uporządkowane:  \n",
    "  a) `ppp20072` - Q27: How often do you attend religious services?,  \n",
    "  b) `w6_how_many` - How many Different people besides [Partner name] have you met for dating, or rom   "
   ]
  },
  {
   "cell_type": "markdown",
   "metadata": {},
   "source": [
    "Wszystkie zmienne są zakodowane przez kategorię, które odkoduję."
   ]
  },
  {
   "cell_type": "code",
   "execution_count": 8,
   "metadata": {
    "ExecuteTime": {
     "end_time": "2019-05-17T18:30:05.078762Z",
     "start_time": "2019-05-17T18:30:05.039898Z"
    }
   },
   "outputs": [],
   "source": [
    "df = df.dropna(subset=['Q23', 'Q28', 'ppp20072', 'w6_how_many'])"
   ]
  },
  {
   "cell_type": "code",
   "execution_count": 9,
   "metadata": {
    "ExecuteTime": {
     "end_time": "2019-05-17T18:30:05.091744Z",
     "start_time": "2019-05-17T18:30:05.080753Z"
    }
   },
   "outputs": [],
   "source": [
    "X = df[['Q23', 'Q28', 'ppp20072', 'w6_how_many']].apply(lambda x: x.cat.codes, axis=0)\n",
    "y = df['y']"
   ]
  },
  {
   "cell_type": "code",
   "execution_count": 10,
   "metadata": {
    "ExecuteTime": {
     "end_time": "2019-05-17T18:30:05.097718Z",
     "start_time": "2019-05-17T18:30:05.092746Z"
    }
   },
   "outputs": [
    {
     "data": {
      "text/plain": [
       "(225, 4)"
      ]
     },
     "execution_count": 10,
     "metadata": {},
     "output_type": "execute_result"
    }
   ],
   "source": [
    "X.shape"
   ]
  },
  {
   "cell_type": "markdown",
   "metadata": {},
   "source": [
    "Zostało nam 225 obserwacji co oznacza, że nie ma sensu uczyć modelu o dużej pojemności. Z tego powodu wybrałem las losowy o 25 drzewach i maksymalnej głębokości 3."
   ]
  },
  {
   "cell_type": "markdown",
   "metadata": {},
   "source": [
    "Stworzymy dodatkowo słowniki do zmiennych kategorycznych by łatwiej odwikłać potem kategorię."
   ]
  },
  {
   "cell_type": "code",
   "execution_count": 11,
   "metadata": {
    "ExecuteTime": {
     "end_time": "2019-05-17T18:30:05.978586Z",
     "start_time": "2019-05-17T18:30:05.975582Z"
    }
   },
   "outputs": [],
   "source": [
    "d_ppp20072 = dict(enumerate(df['ppp20072'].cat.categories))\n",
    "d_w6_how_many = dict(enumerate([cat.split(\".\")[0] for cat in df['w6_how_many'].cat.categories]))"
   ]
  },
  {
   "cell_type": "code",
   "execution_count": 12,
   "metadata": {
    "ExecuteTime": {
     "end_time": "2019-05-17T18:30:06.592506Z",
     "start_time": "2019-05-17T18:30:06.590533Z"
    }
   },
   "outputs": [],
   "source": [
    "d = {\n",
    "    'ppp20072': d_ppp20072,\n",
    "    'w6_how_many': d_w6_how_many\n",
    "}"
   ]
  },
  {
   "cell_type": "markdown",
   "metadata": {},
   "source": [
    "## Budowa modelu"
   ]
  },
  {
   "cell_type": "code",
   "execution_count": 13,
   "metadata": {
    "ExecuteTime": {
     "end_time": "2019-05-17T18:30:07.193805Z",
     "start_time": "2019-05-17T18:30:07.190814Z"
    }
   },
   "outputs": [],
   "source": [
    "from sklearn.ensemble import RandomForestClassifier\n",
    "from sklearn.svm import SVC"
   ]
  },
  {
   "cell_type": "code",
   "execution_count": 14,
   "metadata": {
    "ExecuteTime": {
     "end_time": "2019-05-17T18:30:07.525926Z",
     "start_time": "2019-05-17T18:30:07.521970Z"
    }
   },
   "outputs": [],
   "source": [
    "rf = RandomForestClassifier(n_estimators=25, max_depth=4)"
   ]
  },
  {
   "cell_type": "code",
   "execution_count": 15,
   "metadata": {
    "ExecuteTime": {
     "end_time": "2019-05-17T18:30:08.849118Z",
     "start_time": "2019-05-17T18:30:08.827146Z"
    }
   },
   "outputs": [
    {
     "data": {
      "text/plain": [
       "RandomForestClassifier(bootstrap=True, class_weight=None, criterion='gini',\n",
       "            max_depth=4, max_features='auto', max_leaf_nodes=None,\n",
       "            min_impurity_decrease=0.0, min_impurity_split=None,\n",
       "            min_samples_leaf=1, min_samples_split=2,\n",
       "            min_weight_fraction_leaf=0.0, n_estimators=25, n_jobs=None,\n",
       "            oob_score=False, random_state=None, verbose=0,\n",
       "            warm_start=False)"
      ]
     },
     "execution_count": 15,
     "metadata": {},
     "output_type": "execute_result"
    }
   ],
   "source": [
    "rf.fit(X, y)"
   ]
  },
  {
   "cell_type": "markdown",
   "metadata": {},
   "source": [
    "## Reszty na zbiorze treningowym"
   ]
  },
  {
   "cell_type": "code",
   "execution_count": 56,
   "metadata": {
    "ExecuteTime": {
     "end_time": "2019-05-17T18:45:24.027568Z",
     "start_time": "2019-05-17T18:45:24.024575Z"
    }
   },
   "outputs": [],
   "source": [
    "from pygam import LinearGAM"
   ]
  },
  {
   "cell_type": "code",
   "execution_count": 58,
   "metadata": {
    "ExecuteTime": {
     "end_time": "2019-05-17T18:45:28.379051Z",
     "start_time": "2019-05-17T18:45:28.358082Z"
    }
   },
   "outputs": [],
   "source": [
    "res = y - rf.predict_proba(X)[:,1]\n",
    "gam = LinearGAM()\n",
    "gam.fit(rf.predict_proba(X)[:,1], res)\n",
    "\n",
    "grid = gam.generate_X_grid(term=0, n=100)\n",
    "\n",
    "smooth_index = grid > 0\n",
    "x_smooth = grid[smooth_index]\n",
    "y_smooth = gam.partial_dependence(term=0, X=grid)[smooth_index.flatten()]"
   ]
  },
  {
   "cell_type": "code",
   "execution_count": 55,
   "metadata": {
    "ExecuteTime": {
     "end_time": "2019-05-17T18:44:51.197399Z",
     "start_time": "2019-05-17T18:44:51.059771Z"
    }
   },
   "outputs": [
    {
     "data": {
      "image/png": "[encoded data removed]",
      "text/plain": [
       "<Figure size 432x288 with 1 Axes>"
      ]
     },
     "metadata": {
      "needs_background": "light"
     },
     "output_type": "display_data"
    }
   ],
   "source": [
    "plt.scatter(x=rf.predict_proba(X)[:,1], y=res, label=\"res\")\n",
    "plt.ylim(-1,1)\n",
    "plt.plot(x_smooth, y_smooth, label=\"trend\")\n",
    "plt.plot(np.linspace(0,1,100), np.zeros(100));\n",
    "plt.legend()\n",
    "plt.xlabel('Predictions');\n",
    "plt.ylabel('Residuals');"
   ]
  },
  {
   "cell_type": "markdown",
   "metadata": {},
   "source": [
    "Krzywa lokalnego trendu jest zdecydowanie różna od zera, wartości o predykcji bliskiej zera mają średnio zdecydowanie mniejsza residua niż wartości o dużym przewidzianym p-stwie. Może to świadczyć o tym że wartości o predykcji bliskiej zera są często zerami, więc residua są częściej ujemne. Analogiczna sytuacja zachodzi dla residuów dla obserwacji z dużym p-stwem. "
   ]
  },
  {
   "cell_type": "markdown",
   "metadata": {},
   "source": [
    "## Residua a wartość zmiennej"
   ]
  },
  {
   "cell_type": "code",
   "execution_count": 65,
   "metadata": {
    "ExecuteTime": {
     "end_time": "2019-05-17T18:47:33.437224Z",
     "start_time": "2019-05-17T18:47:33.419264Z"
    }
   },
   "outputs": [],
   "source": [
    "gam = LinearGAM()\n",
    "gam.fit(X['w6_how_many'], res)\n",
    "\n",
    "grid = gam.generate_X_grid(term=0, n=100)\n",
    "\n",
    "smooth_index = grid > 0\n",
    "x_smooth = grid[smooth_index]\n",
    "y_smooth = gam.partial_dependence(term=0, X=grid)[smooth_index.flatten()]\n",
    "\n",
    "res = y - rf.predict_proba(X)[:,1]"
   ]
  },
  {
   "cell_type": "code",
   "execution_count": 66,
   "metadata": {
    "ExecuteTime": {
     "end_time": "2019-05-17T18:47:33.783169Z",
     "start_time": "2019-05-17T18:47:33.604640Z"
    }
   },
   "outputs": [
    {
     "data": {
      "image/png": "[encoded data removed]",
      "text/plain": [
       "<Figure size 432x288 with 1 Axes>"
      ]
     },
     "metadata": {
      "needs_background": "light"
     },
     "output_type": "display_data"
    }
   ],
   "source": [
    "plt.scatter(x=X['w6_how_many'], y=res, label=\"res\")\n",
    "plt.ylim(-1,1)\n",
    "plt.plot(x_smooth, y_smooth, label=\"trend\")\n",
    "plt.plot(np.linspace(0,5,100), np.zeros(100));\n",
    "plt.legend()\n",
    "plt.xlabel('Predictions');\n",
    "plt.ylabel('Residuals');"
   ]
  },
  {
   "cell_type": "markdown",
   "metadata": {},
   "source": [
    "Jak widać residua nie są równe zera dla każdej wartości zmiennej i możemy stwierdzić, że są znacząco różne. Model ma problemy dla wartości skrajnych 0 i  5 ponieważ zawsze daje tam za wysokie p-stwo. Rónwnież widać, że dla wartości 2 residua nie są symetrycznie rozłożone wobec punktu 0."
   ]
  },
  {
   "cell_type": "markdown",
   "metadata": {},
   "source": [
    "## Wartości Cooka\n"
   ]
  },
  {
   "cell_type": "code",
   "execution_count": 74,
   "metadata": {
    "ExecuteTime": {
     "end_time": "2019-05-17T18:59:09.518471Z",
     "start_time": "2019-05-17T18:59:07.255395Z"
    }
   },
   "outputs": [
    {
     "name": "stderr",
     "output_type": "stream",
     "text": [
      "C:\\Users\\Olaf\\AppData\\Roaming\\Python\\Python36\\site-packages\\sklearn\\ensemble\\forest.py:246: FutureWarning: The default value of n_estimators will change from 10 in version 0.20 to 100 in 0.22.\n",
      "  \"10 in version 0.20 to 100 in 0.22.\", FutureWarning)\n"
     ]
    }
   ],
   "source": [
    "rf_new = RandomForestClassifier()\n",
    "cooks = []\n",
    "for idx in df.index:\n",
    "    X_new = X.drop(idx)\n",
    "    y_new = y.drop(idx)\n",
    "    rf_new.fit(X_new, y_new)\n",
    "    cooks.append(np.mean((rf_new.predict_proba(X)[:,1] - rf.predict_proba(X)[:,1])**2))"
   ]
  },
  {
   "cell_type": "code",
   "execution_count": 75,
   "metadata": {
    "ExecuteTime": {
     "end_time": "2019-05-17T18:59:09.652980Z",
     "start_time": "2019-05-17T18:59:09.520333Z"
    }
   },
   "outputs": [
    {
     "data": {
      "text/plain": [
       "<matplotlib.collections.PathCollection at 0x25aea5b2fd0>"
      ]
     },
     "execution_count": 75,
     "metadata": {},
     "output_type": "execute_result"
    },
    {
     "data": {
      "image/png": "[encoded data removed]",
      "text/plain": [
       "<Figure size 432x288 with 1 Axes>"
      ]
     },
     "metadata": {
      "needs_background": "light"
     },
     "output_type": "display_data"
    }
   ],
   "source": [
    "plt.scatter(df.index, cooks)"
   ]
  },
  {
   "cell_type": "markdown",
   "metadata": {},
   "source": [
    "Odległości Cooka wyglądają bardzo dobrze, żadna obserwacja nie ma znacząco większego wpływu na model niż inne. Wiążę się to z tym, że  metody drzewiaste z reguły są bardziej odporne na outliery niż inne metody, co wynika z ich sposobu budowy."
   ]
  },
  {
   "cell_type": "code",
   "execution_count": null,
   "metadata": {},
   "outputs": [],
   "source": []
  }
 ],
 "metadata": {
  "kernelspec": {
   "display_name": "Python 3",
   "language": "python",
   "name": "python3"
  },
  "language_info": {
   "codemirror_mode": {
    "name": "ipython",
    "version": 3
   },
   "file_extension": ".py",
   "mimetype": "text/x-python",
   "name": "python",
   "nbconvert_exporter": "python",
   "pygments_lexer": "ipython3",
   "version": "3.6.0"
  },
  "toc": {
   "base_numbering": 1,
   "nav_menu": {},
   "number_sections": true,
   "sideBar": true,
   "skip_h1_title": false,
   "title_cell": "Table of Contents",
   "title_sidebar": "Contents",
   "toc_cell": false,
   "toc_position": {},
   "toc_section_display": true,
   "toc_window_display": true
  }
 },
 "nbformat": 4,
 "nbformat_minor": 2
}
