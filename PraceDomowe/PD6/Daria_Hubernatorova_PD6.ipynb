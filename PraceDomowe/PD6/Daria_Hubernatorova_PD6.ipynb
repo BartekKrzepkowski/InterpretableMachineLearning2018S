{
 "cells": [
  {
   "cell_type": "code",
   "execution_count": 1,
   "metadata": {},
   "outputs": [],
   "source": [
    "import pandas as pd\n",
    "import numpy as np\n",
    "import matplotlib.pyplot as plt\n",
    "import xgboost\n",
    "%matplotlib inline\n",
    "from sklearn.model_selection import train_test_split\n",
    "from sklearn.preprocessing import LabelEncoder\n",
    "from sklearn.metrics import accuracy_score\n",
    "from xgboost.sklearn import XGBClassifier\n",
    "from sklearn.ensemble import RandomForestClassifier\n",
    "import warnings"
   ]
  },
  {
   "cell_type": "markdown",
   "metadata": {},
   "source": [
    "# Dane"
   ]
  },
  {
   "cell_type": "code",
   "execution_count": 2,
   "metadata": {},
   "outputs": [],
   "source": [
    "data = pd.read_stata('HCMST 2017 fresh sample for public sharing draft v1.1.dta')"
   ]
  },
  {
   "cell_type": "code",
   "execution_count": 3,
   "metadata": {},
   "outputs": [
    {
     "data": {
      "text/html": [
       "<div>\n",
       "<style>\n",
       "    .dataframe thead tr:only-child th {\n",
       "        text-align: right;\n",
       "    }\n",
       "\n",
       "    .dataframe thead th {\n",
       "        text-align: left;\n",
       "    }\n",
       "\n",
       "    .dataframe tbody tr th {\n",
       "        vertical-align: top;\n",
       "    }\n",
       "</style>\n",
       "<table border=\"1\" class=\"dataframe\">\n",
       "  <thead>\n",
       "    <tr style=\"text-align: right;\">\n",
       "      <th></th>\n",
       "      <th>CaseID</th>\n",
       "      <th>CASEID_NEW</th>\n",
       "      <th>qflag</th>\n",
       "      <th>weight1</th>\n",
       "      <th>weight1_freqwt</th>\n",
       "      <th>weight2</th>\n",
       "      <th>weight1a</th>\n",
       "      <th>weight1a_freqwt</th>\n",
       "      <th>weight_combo</th>\n",
       "      <th>weight_combo_freqwt</th>\n",
       "      <th>...</th>\n",
       "      <th>hcm2017q24_met_through_family</th>\n",
       "      <th>hcm2017q24_met_through_friend</th>\n",
       "      <th>hcm2017q24_met_through_as_nghbrs</th>\n",
       "      <th>hcm2017q24_met_as_through_cowork</th>\n",
       "      <th>w6_subject_race</th>\n",
       "      <th>interracial_5cat</th>\n",
       "      <th>partner_mother_yrsed</th>\n",
       "      <th>subject_mother_yrsed</th>\n",
       "      <th>partner_yrsed</th>\n",
       "      <th>subject_yrsed</th>\n",
       "    </tr>\n",
       "  </thead>\n",
       "  <tbody>\n",
       "    <tr>\n",
       "      <th>0</th>\n",
       "      <td>2</td>\n",
       "      <td>2014039</td>\n",
       "      <td>Qualified</td>\n",
       "      <td>NaN</td>\n",
       "      <td>NaN</td>\n",
       "      <td>0.8945</td>\n",
       "      <td>NaN</td>\n",
       "      <td>NaN</td>\n",
       "      <td>0.277188</td>\n",
       "      <td>19240.0</td>\n",
       "      <td>...</td>\n",
       "      <td>no</td>\n",
       "      <td>no</td>\n",
       "      <td>no</td>\n",
       "      <td>no</td>\n",
       "      <td>White</td>\n",
       "      <td>no</td>\n",
       "      <td>12.0</td>\n",
       "      <td>14.0</td>\n",
       "      <td>12.0</td>\n",
       "      <td>14.0</td>\n",
       "    </tr>\n",
       "    <tr>\n",
       "      <th>1</th>\n",
       "      <td>3</td>\n",
       "      <td>2019003</td>\n",
       "      <td>Qualified</td>\n",
       "      <td>0.9078</td>\n",
       "      <td>71115.0</td>\n",
       "      <td>NaN</td>\n",
       "      <td>0.9026</td>\n",
       "      <td>70707.0</td>\n",
       "      <td>1.020621</td>\n",
       "      <td>70841.0</td>\n",
       "      <td>...</td>\n",
       "      <td>no</td>\n",
       "      <td>no</td>\n",
       "      <td>no</td>\n",
       "      <td>yes</td>\n",
       "      <td>White</td>\n",
       "      <td>no</td>\n",
       "      <td>12.0</td>\n",
       "      <td>16.0</td>\n",
       "      <td>17.0</td>\n",
       "      <td>17.0</td>\n",
       "    </tr>\n",
       "    <tr>\n",
       "      <th>2</th>\n",
       "      <td>5</td>\n",
       "      <td>2145527</td>\n",
       "      <td>Qualified</td>\n",
       "      <td>0.7205</td>\n",
       "      <td>56442.0</td>\n",
       "      <td>NaN</td>\n",
       "      <td>0.7164</td>\n",
       "      <td>56121.0</td>\n",
       "      <td>0.810074</td>\n",
       "      <td>56227.0</td>\n",
       "      <td>...</td>\n",
       "      <td>no</td>\n",
       "      <td>no</td>\n",
       "      <td>no</td>\n",
       "      <td>no</td>\n",
       "      <td>White</td>\n",
       "      <td>no</td>\n",
       "      <td>9.0</td>\n",
       "      <td>7.5</td>\n",
       "      <td>14.0</td>\n",
       "      <td>17.0</td>\n",
       "    </tr>\n",
       "    <tr>\n",
       "      <th>3</th>\n",
       "      <td>6</td>\n",
       "      <td>2648857</td>\n",
       "      <td>Qualified</td>\n",
       "      <td>1.2597</td>\n",
       "      <td>98682.0</td>\n",
       "      <td>1.3507</td>\n",
       "      <td>1.2524</td>\n",
       "      <td>98110.0</td>\n",
       "      <td>0.418556</td>\n",
       "      <td>29052.0</td>\n",
       "      <td>...</td>\n",
       "      <td>no</td>\n",
       "      <td>no</td>\n",
       "      <td>no</td>\n",
       "      <td>no</td>\n",
       "      <td>White</td>\n",
       "      <td>no</td>\n",
       "      <td>16.0</td>\n",
       "      <td>12.0</td>\n",
       "      <td>12.0</td>\n",
       "      <td>12.0</td>\n",
       "    </tr>\n",
       "    <tr>\n",
       "      <th>4</th>\n",
       "      <td>7</td>\n",
       "      <td>2623465</td>\n",
       "      <td>Qualified</td>\n",
       "      <td>0.8686</td>\n",
       "      <td>68044.0</td>\n",
       "      <td>NaN</td>\n",
       "      <td>0.8636</td>\n",
       "      <td>67652.0</td>\n",
       "      <td>0.976522</td>\n",
       "      <td>67781.0</td>\n",
       "      <td>...</td>\n",
       "      <td>no</td>\n",
       "      <td>no</td>\n",
       "      <td>yes</td>\n",
       "      <td>no</td>\n",
       "      <td>White</td>\n",
       "      <td>no</td>\n",
       "      <td>14.0</td>\n",
       "      <td>17.0</td>\n",
       "      <td>16.0</td>\n",
       "      <td>16.0</td>\n",
       "    </tr>\n",
       "  </tbody>\n",
       "</table>\n",
       "<p>5 rows × 285 columns</p>\n",
       "</div>"
      ],
      "text/plain": [
       "   CaseID  CASEID_NEW      qflag  weight1  weight1_freqwt  weight2  weight1a  \\\n",
       "0       2     2014039  Qualified      NaN             NaN   0.8945       NaN   \n",
       "1       3     2019003  Qualified   0.9078         71115.0      NaN    0.9026   \n",
       "2       5     2145527  Qualified   0.7205         56442.0      NaN    0.7164   \n",
       "3       6     2648857  Qualified   1.2597         98682.0   1.3507    1.2524   \n",
       "4       7     2623465  Qualified   0.8686         68044.0      NaN    0.8636   \n",
       "\n",
       "   weight1a_freqwt  weight_combo  weight_combo_freqwt      ...       \\\n",
       "0              NaN      0.277188              19240.0      ...        \n",
       "1          70707.0      1.020621              70841.0      ...        \n",
       "2          56121.0      0.810074              56227.0      ...        \n",
       "3          98110.0      0.418556              29052.0      ...        \n",
       "4          67652.0      0.976522              67781.0      ...        \n",
       "\n",
       "   hcm2017q24_met_through_family hcm2017q24_met_through_friend  \\\n",
       "0                             no                            no   \n",
       "1                             no                            no   \n",
       "2                             no                            no   \n",
       "3                             no                            no   \n",
       "4                             no                            no   \n",
       "\n",
       "  hcm2017q24_met_through_as_nghbrs hcm2017q24_met_as_through_cowork  \\\n",
       "0                               no                               no   \n",
       "1                               no                              yes   \n",
       "2                               no                               no   \n",
       "3                               no                               no   \n",
       "4                              yes                               no   \n",
       "\n",
       "  w6_subject_race interracial_5cat partner_mother_yrsed subject_mother_yrsed  \\\n",
       "0           White               no                 12.0                 14.0   \n",
       "1           White               no                 12.0                 16.0   \n",
       "2           White               no                  9.0                  7.5   \n",
       "3           White               no                 16.0                 12.0   \n",
       "4           White               no                 14.0                 17.0   \n",
       "\n",
       "  partner_yrsed subject_yrsed  \n",
       "0          12.0          14.0  \n",
       "1          17.0          17.0  \n",
       "2          14.0          17.0  \n",
       "3          12.0          12.0  \n",
       "4          16.0          16.0  \n",
       "\n",
       "[5 rows x 285 columns]"
      ]
     },
     "execution_count": 3,
     "metadata": {},
     "output_type": "execute_result"
    }
   ],
   "source": [
    "data.head()"
   ]
  },
  {
   "cell_type": "code",
   "execution_count": 4,
   "metadata": {},
   "outputs": [],
   "source": [
    "num_feature1 = 'subject_yrsed'  # RECODE of ppeduc (Education (Highest Degree Received))\n",
    "num_feature2 = 'w6_q21b_year'  # year subject began romantic relationship with partner\n",
    "cat_feature1 = 'w6_q34'  # how would you describe the quality of your relationship with partner?\n",
    "cat_feature2 = 'w6_otherdate_dichotomous'  # did subject meet someone last year (other than current partner)?\n",
    "label = 'S1'  # Are you married?"
   ]
  },
  {
   "cell_type": "code",
   "execution_count": 5,
   "metadata": {},
   "outputs": [
    {
     "data": {
      "text/plain": [
       "count    3510.000000\n",
       "mean       13.945868\n",
       "std         2.546054\n",
       "min         0.000000\n",
       "25%        12.000000\n",
       "50%        13.000000\n",
       "75%        16.000000\n",
       "max        20.000000\n",
       "Name: subject_yrsed, dtype: float64"
      ]
     },
     "execution_count": 5,
     "metadata": {},
     "output_type": "execute_result"
    }
   ],
   "source": [
    "data[num_feature1].describe()"
   ]
  },
  {
   "cell_type": "code",
   "execution_count": 6,
   "metadata": {},
   "outputs": [
    {
     "data": {
      "text/plain": [
       "count    3276.000000\n",
       "mean     1995.875153\n",
       "std        16.741519\n",
       "min      1942.000000\n",
       "25%      1983.000000\n",
       "50%      2000.000000\n",
       "75%      2010.000000\n",
       "max      2017.000000\n",
       "Name: w6_q21b_year, dtype: float64"
      ]
     },
     "execution_count": 6,
     "metadata": {},
     "output_type": "execute_result"
    }
   ],
   "source": [
    "data[num_feature2].describe()"
   ]
  },
  {
   "cell_type": "code",
   "execution_count": 7,
   "metadata": {},
   "outputs": [
    {
     "data": {
      "text/plain": [
       "count          2856\n",
       "unique            6\n",
       "top       Excellent\n",
       "freq           1706\n",
       "Name: w6_q34, dtype: object"
      ]
     },
     "execution_count": 7,
     "metadata": {},
     "output_type": "execute_result"
    }
   ],
   "source": [
    "data[cat_feature1].describe()"
   ]
  },
  {
   "cell_type": "code",
   "execution_count": 8,
   "metadata": {},
   "outputs": [
    {
     "data": {
      "text/plain": [
       "count     3363\n",
       "unique       2\n",
       "top         no\n",
       "freq      3034\n",
       "Name: w6_otherdate_dichotomous, dtype: object"
      ]
     },
     "execution_count": 8,
     "metadata": {},
     "output_type": "execute_result"
    }
   ],
   "source": [
    "data[cat_feature2].describe()"
   ]
  },
  {
   "cell_type": "code",
   "execution_count": 9,
   "metadata": {},
   "outputs": [
    {
     "data": {
      "text/plain": [
       "[NaN, Excellent, Good, Fair, Very Poor, Poor, Refused]\n",
       "Categories (6, object): [Refused < Excellent < Good < Fair < Poor < Very Poor]"
      ]
     },
     "execution_count": 9,
     "metadata": {},
     "output_type": "execute_result"
    }
   ],
   "source": [
    "data[cat_feature1].unique()"
   ]
  },
  {
   "cell_type": "code",
   "execution_count": 10,
   "metadata": {},
   "outputs": [
    {
     "data": {
      "text/plain": [
       "[yes, no, NaN]\n",
       "Categories (2, object): [no < yes]"
      ]
     },
     "execution_count": 10,
     "metadata": {},
     "output_type": "execute_result"
    }
   ],
   "source": [
    "data[cat_feature2].unique()"
   ]
  },
  {
   "cell_type": "code",
   "execution_count": 11,
   "metadata": {},
   "outputs": [
    {
     "data": {
      "text/plain": [
       "count                  3510\n",
       "unique                    2\n",
       "top       Yes, I am Married\n",
       "freq                   2085\n",
       "Name: S1, dtype: object"
      ]
     },
     "execution_count": 11,
     "metadata": {},
     "output_type": "execute_result"
    }
   ],
   "source": [
    "data[label].describe()"
   ]
  },
  {
   "cell_type": "code",
   "execution_count": 12,
   "metadata": {},
   "outputs": [
    {
     "data": {
      "text/plain": [
       "[No, I am not Married, Yes, I am Married]\n",
       "Categories (2, object): [Yes, I am Married < No, I am not Married]"
      ]
     },
     "execution_count": 12,
     "metadata": {},
     "output_type": "execute_result"
    }
   ],
   "source": [
    "data[label].unique()"
   ]
  },
  {
   "cell_type": "code",
   "execution_count": 13,
   "metadata": {},
   "outputs": [
    {
     "data": {
      "text/html": [
       "<div>\n",
       "<style>\n",
       "    .dataframe thead tr:only-child th {\n",
       "        text-align: right;\n",
       "    }\n",
       "\n",
       "    .dataframe thead th {\n",
       "        text-align: left;\n",
       "    }\n",
       "\n",
       "    .dataframe tbody tr th {\n",
       "        vertical-align: top;\n",
       "    }\n",
       "</style>\n",
       "<table border=\"1\" class=\"dataframe\">\n",
       "  <thead>\n",
       "    <tr style=\"text-align: right;\">\n",
       "      <th></th>\n",
       "      <th>subject_yrsed</th>\n",
       "      <th>w6_q21b_year</th>\n",
       "      <th>w6_q34</th>\n",
       "      <th>w6_otherdate_dichotomous</th>\n",
       "      <th>S1</th>\n",
       "    </tr>\n",
       "  </thead>\n",
       "  <tbody>\n",
       "    <tr>\n",
       "      <th>1</th>\n",
       "      <td>17.0</td>\n",
       "      <td>1995.0</td>\n",
       "      <td>0</td>\n",
       "      <td>0</td>\n",
       "      <td>1</td>\n",
       "    </tr>\n",
       "    <tr>\n",
       "      <th>2</th>\n",
       "      <td>17.0</td>\n",
       "      <td>2006.0</td>\n",
       "      <td>2</td>\n",
       "      <td>0</td>\n",
       "      <td>1</td>\n",
       "    </tr>\n",
       "    <tr>\n",
       "      <th>4</th>\n",
       "      <td>16.0</td>\n",
       "      <td>1983.0</td>\n",
       "      <td>0</td>\n",
       "      <td>0</td>\n",
       "      <td>1</td>\n",
       "    </tr>\n",
       "    <tr>\n",
       "      <th>5</th>\n",
       "      <td>12.0</td>\n",
       "      <td>1982.0</td>\n",
       "      <td>2</td>\n",
       "      <td>0</td>\n",
       "      <td>1</td>\n",
       "    </tr>\n",
       "    <tr>\n",
       "      <th>6</th>\n",
       "      <td>12.0</td>\n",
       "      <td>1967.0</td>\n",
       "      <td>0</td>\n",
       "      <td>0</td>\n",
       "      <td>1</td>\n",
       "    </tr>\n",
       "  </tbody>\n",
       "</table>\n",
       "</div>"
      ],
      "text/plain": [
       "   subject_yrsed  w6_q21b_year  w6_q34  w6_otherdate_dichotomous S1\n",
       "1           17.0        1995.0       0                         0  1\n",
       "2           17.0        2006.0       2                         0  1\n",
       "4           16.0        1983.0       0                         0  1\n",
       "5           12.0        1982.0       2                         0  1\n",
       "6           12.0        1967.0       0                         0  1"
      ]
     },
     "execution_count": 13,
     "metadata": {},
     "output_type": "execute_result"
    }
   ],
   "source": [
    "le1 = LabelEncoder()\n",
    "le2 = LabelEncoder()\n",
    "df = data[[num_feature1, num_feature2, cat_feature1, cat_feature2, label]]\n",
    "df = df.dropna()\n",
    "encoded_cat1 = le1.fit_transform(df[cat_feature1])\n",
    "encoded_cat2 = le2.fit_transform(df[cat_feature2])\n",
    "df[cat_feature1] = encoded_cat1\n",
    "df[cat_feature2] = encoded_cat2\n",
    "df[label] = df[label].apply(lambda x: 1 if x == 'Yes, I am Married' else 0)\n",
    "df.head()"
   ]
  },
  {
   "cell_type": "code",
   "execution_count": 14,
   "metadata": {},
   "outputs": [
    {
     "data": {
      "text/html": [
       "<div>\n",
       "<style>\n",
       "    .dataframe thead tr:only-child th {\n",
       "        text-align: right;\n",
       "    }\n",
       "\n",
       "    .dataframe thead th {\n",
       "        text-align: left;\n",
       "    }\n",
       "\n",
       "    .dataframe tbody tr th {\n",
       "        vertical-align: top;\n",
       "    }\n",
       "</style>\n",
       "<table border=\"1\" class=\"dataframe\">\n",
       "  <thead>\n",
       "    <tr style=\"text-align: right;\">\n",
       "      <th></th>\n",
       "      <th>subject_yrsed</th>\n",
       "      <th>w6_q21b_year</th>\n",
       "      <th>w6_q34</th>\n",
       "      <th>w6_otherdate_dichotomous</th>\n",
       "    </tr>\n",
       "  </thead>\n",
       "  <tbody>\n",
       "    <tr>\n",
       "      <th>count</th>\n",
       "      <td>2745.000000</td>\n",
       "      <td>2745.000000</td>\n",
       "      <td>2745.000000</td>\n",
       "      <td>2745.000000</td>\n",
       "    </tr>\n",
       "    <tr>\n",
       "      <th>mean</th>\n",
       "      <td>14.074499</td>\n",
       "      <td>1995.526047</td>\n",
       "      <td>0.767942</td>\n",
       "      <td>0.079781</td>\n",
       "    </tr>\n",
       "    <tr>\n",
       "      <th>std</th>\n",
       "      <td>2.524083</td>\n",
       "      <td>16.638284</td>\n",
       "      <td>1.019343</td>\n",
       "      <td>0.271004</td>\n",
       "    </tr>\n",
       "    <tr>\n",
       "      <th>min</th>\n",
       "      <td>0.000000</td>\n",
       "      <td>1942.000000</td>\n",
       "      <td>0.000000</td>\n",
       "      <td>0.000000</td>\n",
       "    </tr>\n",
       "    <tr>\n",
       "      <th>25%</th>\n",
       "      <td>12.000000</td>\n",
       "      <td>1983.000000</td>\n",
       "      <td>0.000000</td>\n",
       "      <td>0.000000</td>\n",
       "    </tr>\n",
       "    <tr>\n",
       "      <th>50%</th>\n",
       "      <td>13.000000</td>\n",
       "      <td>1999.000000</td>\n",
       "      <td>0.000000</td>\n",
       "      <td>0.000000</td>\n",
       "    </tr>\n",
       "    <tr>\n",
       "      <th>75%</th>\n",
       "      <td>16.000000</td>\n",
       "      <td>2010.000000</td>\n",
       "      <td>2.000000</td>\n",
       "      <td>0.000000</td>\n",
       "    </tr>\n",
       "    <tr>\n",
       "      <th>max</th>\n",
       "      <td>20.000000</td>\n",
       "      <td>2017.000000</td>\n",
       "      <td>5.000000</td>\n",
       "      <td>1.000000</td>\n",
       "    </tr>\n",
       "  </tbody>\n",
       "</table>\n",
       "</div>"
      ],
      "text/plain": [
       "       subject_yrsed  w6_q21b_year       w6_q34  w6_otherdate_dichotomous\n",
       "count    2745.000000   2745.000000  2745.000000               2745.000000\n",
       "mean       14.074499   1995.526047     0.767942                  0.079781\n",
       "std         2.524083     16.638284     1.019343                  0.271004\n",
       "min         0.000000   1942.000000     0.000000                  0.000000\n",
       "25%        12.000000   1983.000000     0.000000                  0.000000\n",
       "50%        13.000000   1999.000000     0.000000                  0.000000\n",
       "75%        16.000000   2010.000000     2.000000                  0.000000\n",
       "max        20.000000   2017.000000     5.000000                  1.000000"
      ]
     },
     "execution_count": 14,
     "metadata": {},
     "output_type": "execute_result"
    }
   ],
   "source": [
    "df.describe()"
   ]
  },
  {
   "cell_type": "markdown",
   "metadata": {},
   "source": [
    "# Model"
   ]
  },
  {
   "cell_type": "code",
   "execution_count": 15,
   "metadata": {},
   "outputs": [
    {
     "name": "stdout",
     "output_type": "stream",
     "text": [
      "Accuracy: 0.8355167394468704\n"
     ]
    }
   ],
   "source": [
    "X = df.drop(label, axis=1)\n",
    "y = df[label]\n",
    "X_train, X_test, y_train, y_test = train_test_split(X, y, random_state=123)\n",
    "model = XGBClassifier()\n",
    "model.fit(X_train, y_train)\n",
    "pred_y = model.predict(X_test)\n",
    "score = accuracy_score(pred_y, y_test)\n",
    "print(f'Accuracy: {score}')"
   ]
  },
  {
   "cell_type": "markdown",
   "metadata": {},
   "source": [
    "# Reszty modelu dla danych treningowych"
   ]
  },
  {
   "cell_type": "code",
   "execution_count": 50,
   "metadata": {},
   "outputs": [],
   "source": [
    "def plot_residuals(model, train_features, train_labels):\n",
    "    predictions = model.predict_proba(train_features)[:,1]\n",
    "    train_labels = np.array(train_labels)\n",
    "    # Residuals\n",
    "    residuals = train_labels - predictions\n",
    "\n",
    "    # Local trend smooth line\n",
    "    from pygam import LinearGAM\n",
    "    gam = LinearGAM().fit(residuals,predictions)\n",
    "    XX = gam.generate_X_grid(term=0, n = 1000)\n",
    "    smooth_index = XX > 0\n",
    "    x_smooth = XX[smooth_index]\n",
    "    y_smooth = gam.partial_dependence(term=0, X=XX)[smooth_index.flatten()]\n",
    "\n",
    "    # Zero line\n",
    "    zeros = np.repeat(0,len(predictions))\n",
    "\n",
    "    plt.scatter(predictions, residuals)\n",
    "    plt.plot(x_smooth,y_smooth, 'r:')\n",
    "    plt.plot(predictions, zeros, 'black')\n",
    "    plt.title('Residuals vs Fitted')\n",
    "    plt.xlabel('Fitted values')\n",
    "    plt.ylabel('Residuals')\n",
    "    plt.show()"
   ]
  },
  {
   "cell_type": "code",
   "execution_count": 51,
   "metadata": {},
   "outputs": [
    {
     "data": {
      "image/png": "[encoded data removed]",
      "text/plain": [
       "<matplotlib.figure.Figure at 0x114f7ac88>"
      ]
     },
     "metadata": {},
     "output_type": "display_data"
    }
   ],
   "source": [
    "plot_residuals(model, X_train, y_train)"
   ]
  },
  {
   "cell_type": "markdown",
   "metadata": {},
   "source": [
    "# Reszty modelu dla zmiennej"
   ]
  },
  {
   "cell_type": "code",
   "execution_count": 54,
   "metadata": {},
   "outputs": [],
   "source": [
    "def plot_residuals_for_variable(model, train_features, train_labels, variable_name):\n",
    "    predictions = model.predict_proba(train_features)[:,1]\n",
    "    tested_labels = np.array(train_labels)\n",
    "    # Residuals\n",
    "    residuals = tested_labels - predictions\n",
    "\n",
    "    # Dependent variable\n",
    "    dep_var = np.array(train_features[variable_name])\n",
    "\n",
    "    # Local trend smooth line\n",
    "    from pygam import LinearGAM\n",
    "    gam = LinearGAM().fit(dep_var,residuals)\n",
    "    XX = gam.generate_X_grid(term=0, n = 1000)\n",
    "    smooth_index = XX > 0\n",
    "    x_smooth = XX[smooth_index]\n",
    "    y_smooth = gam.partial_dependence(term=0, X=XX)[smooth_index.flatten()]\n",
    "\n",
    "    # Zero line\n",
    "    zeros = np.repeat(0,len(predictions))\n",
    "\n",
    "    plt.scatter(dep_var, residuals)\n",
    "    plt.plot(dep_var, zeros, 'black')\n",
    "    plt.plot(x_smooth,y_smooth,'r:')\n",
    "    plt.xlabel('Dependent variable')\n",
    "    plt.ylabel('Residuals')\n",
    "    plt.title('Residuals vs '+str(variable_name))\n",
    "    plt.show()"
   ]
  },
  {
   "cell_type": "code",
   "execution_count": 60,
   "metadata": {},
   "outputs": [
    {
     "data": {
      "image/png": "[encoded data removed]",
      "text/plain": [
       "<matplotlib.figure.Figure at 0x116bc78d0>"
      ]
     },
     "metadata": {},
     "output_type": "display_data"
    }
   ],
   "source": [
    "plot_residuals_for_variable(model, X_train, y_train, 'w6_q21b_year')"
   ]
  },
  {
   "cell_type": "markdown",
   "metadata": {},
   "source": [
    "# Wartości Cooka"
   ]
  },
  {
   "cell_type": "code",
   "execution_count": 58,
   "metadata": {},
   "outputs": [],
   "source": [
    "def one_cooks_value(model,features, labels, indx, predictions_all_features):\n",
    "    features_without_indx = features.drop(indx, axis=0)\n",
    "    labels_without_indx = labels.drop(indx, axis=0)\n",
    "    \n",
    "    model.fit(features_without_indx, labels_without_indx)\n",
    "\n",
    "    predictions_without_indx = model.predict_proba(features)[:,1]\n",
    "    cook = np.sqrt(np.mean(pow(predictions_all_features - predictions_without_indx,2)))\n",
    "\n",
    "    return cook\n",
    "\n",
    "def cooks_value(model, features, labels):\n",
    "    predictions_all_features = model.predict_proba(features)[:,1]\n",
    "    \n",
    "    cooks_values = []\n",
    "    for i in range(len(labels)):\n",
    "        cooks_values.append(one_cooks_value(model, features, labels, i, predictions_all_features))\n",
    "    return cooks_values"
   ]
  },
  {
   "cell_type": "code",
   "execution_count": 59,
   "metadata": {},
   "outputs": [
    {
     "data": {
      "image/png": "[encoded data removed]",
      "text/plain": [
       "<matplotlib.figure.Figure at 0x11712f7b8>"
      ]
     },
     "metadata": {},
     "output_type": "display_data"
    }
   ],
   "source": [
    "warnings.filterwarnings(\"ignore\")\n",
    "X_train = X_train.reset_index(drop=True)\n",
    "y_train = y_train.reset_index(drop=True)\n",
    "\n",
    "cooks_values_xgb = cooks_value(model, X_train, y_train)\n",
    "\n",
    "plt.scatter(np.arange(0,X_train.shape[0]), cooks_values_xgb)\n",
    "plt.xlabel('Observation index')\n",
    "plt.ylabel('Cook\\'s value' )\n",
    "plt.title('Cook\\'s value vs observation index')\n",
    "plt.show()"
   ]
  },
  {
   "cell_type": "code",
   "execution_count": 61,
   "metadata": {},
   "outputs": [
    {
     "data": {
      "text/plain": [
       "(array([572]),)"
      ]
     },
     "execution_count": 61,
     "metadata": {},
     "output_type": "execute_result"
    }
   ],
   "source": [
    "np.where(cooks_values_xgb==np.max(cooks_values_xgb))"
   ]
  },
  {
   "cell_type": "markdown",
   "metadata": {},
   "source": [
    "# Wnioski\n",
    "Wykres Residuals vs Fitted values dla całego zbioru danych nie pokazuje takiego samego rozproszenia wokół 0, co powinno być dla takiego typu wykresu. Dla zmiennej w6_q21b_year wykres układa się wokół prostej dla <1990 roku (licząc kilka obserwacji odstających). Wartości Cooka pokazują że obserwacja z indeksem 572 potencjalnie jest odstającą. Ale wszystkie wartości są bliskie 0."
   ]
  },
  {
   "cell_type": "code",
   "execution_count": null,
   "metadata": {},
   "outputs": [],
   "source": []
  }
 ],
 "metadata": {
  "kernelspec": {
   "display_name": "Python 3",
   "language": "python",
   "name": "python3"
  },
  "language_info": {
   "codemirror_mode": {
    "name": "ipython",
    "version": 3
   },
   "file_extension": ".py",
   "mimetype": "text/x-python",
   "name": "python",
   "nbconvert_exporter": "python",
   "pygments_lexer": "ipython3",
   "version": "3.6.1"
  }
 },
 "nbformat": 4,
 "nbformat_minor": 2
}
